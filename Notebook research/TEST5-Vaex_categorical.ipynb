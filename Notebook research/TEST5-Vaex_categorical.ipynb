{
 "cells": [
  {
   "cell_type": "markdown",
   "id": "8d55cbf0-ffc4-48fd-bea4-46c2c1d3b471",
   "metadata": {},
   "source": [
    "# Categorical arrays in Vaex\n",
    "28-07. - 30.7.2021\n",
    "\n",
    "In Vaex there are two possibilities for constructing categorical columns:\n",
    "- from Arrow Dictionary via `from_arrays` (leave it for now)\n",
    "- using `categorize()` on a column in the dataframe\n",
    "\n",
    "The dtype of a column is checked on the dataframe level that is whay metadata constructor was added to the `_Column` and `_DataFrame` class.\n",
    "\n",
    "There are also two possibilities when constructing categorical columns with `categorize()`:\n",
    "- with min & max\n",
    "- with labels\n",
    "\n",
    "The difference becomes important when defining codes, values and categories. The variables are not consistent:\n",
    "- **min & max:**\n",
    "codes need to be calculated, values are a subset of categories\n",
    "- **labels:** \n",
    "codes = values, categories can be string or numeric\n",
    "\n",
    "the code for codes calculation is added into `get_data_buffer()`.\n",
    "\n",
    "There is also a bool check `bool_c` added to see if data type calculated with `dtype_from_vaexdtype` is needed for _VaexColumn definition or for from_data_frame calculacion where we need specifications of the buffer with the calling of the function `get_data_buffer()`. The difference?\n",
    "- for _VaexColumn: categorical data must be labeled categorical\n",
    "- for `get_data_buffer()` data must be labeled by the dtype of the values in the column\n",
    "\n",
    "The categorization of the data is done on the dataframe level. That is why when getting data back from the buffers, information about the category must be saved and categorize method is called in  _from_dataframe(). Check needed to be added to get the correct format of the columns (values or categories, depending on the type of categorize() function used at construction - min & max, or labels). The check was added at _from_dataframe()."
   ]
  },
  {
   "cell_type": "markdown",
   "id": "82d97814-c991-4803-8856-b3c7b8229295",
   "metadata": {},
   "source": [
    "# Implementation change for categorical dtypes"
   ]
  },
  {
   "cell_type": "code",
   "execution_count": 1,
   "id": "2a389ad4-3a93-446e-ba9f-02b3eb315606",
   "metadata": {
    "tags": []
   },
   "outputs": [],
   "source": [
    "%run vaex_implementation_v1.py"
   ]
  },
  {
   "cell_type": "markdown",
   "id": "93f1cd73-3d20-4878-9c87-c420143cfc2d",
   "metadata": {
    "tags": []
   },
   "source": [
    "## Research: categorize()\n",
    "First I have to do some research on the Vaex dataframe and categorical variables"
   ]
  },
  {
   "cell_type": "code",
   "execution_count": 2,
   "id": "7d223587-48f4-41e5-b025-cfb5c65a89bf",
   "metadata": {},
   "outputs": [
    {
     "data": {
      "text/html": [
       "<table>\n",
       "<thead>\n",
       "<tr><th>#                            </th><th style=\"text-align: right;\">  year</th><th style=\"text-align: right;\">  weekday</th></tr>\n",
       "</thead>\n",
       "<tbody>\n",
       "<tr><td><i style='opacity: 0.6'>0</i></td><td style=\"text-align: right;\">  2012</td><td style=\"text-align: right;\">        0</td></tr>\n",
       "<tr><td><i style='opacity: 0.6'>1</i></td><td style=\"text-align: right;\">  2015</td><td style=\"text-align: right;\">        4</td></tr>\n",
       "<tr><td><i style='opacity: 0.6'>2</i></td><td style=\"text-align: right;\">  2019</td><td style=\"text-align: right;\">        6</td></tr>\n",
       "</tbody>\n",
       "</table>"
      ],
      "text/plain": [
       "  #    year    weekday\n",
       "  0    2012          0\n",
       "  1    2015          4\n",
       "  2    2019          6"
      ]
     },
     "execution_count": 2,
     "metadata": {},
     "output_type": "execute_result"
    }
   ],
   "source": [
    "# test data\n",
    "df = vaex.from_arrays(year=[2012, 2015, 2019], weekday=[0, 4, 6])\n",
    "df = df.categorize('year', min_value=2012, max_value=2019)\n",
    "df = df.categorize('weekday', labels=['Mon', 'Tue', 'Wed', 'Thu', 'Fri', 'Sat', 'Sun'])\n",
    "df"
   ]
  },
  {
   "cell_type": "code",
   "execution_count": 3,
   "id": "6c47054d-0354-4c58-8b2e-83a3648f89fc",
   "metadata": {},
   "outputs": [
    {
     "data": {
      "text/plain": [
       "True"
      ]
     },
     "execution_count": 3,
     "metadata": {},
     "output_type": "execute_result"
    }
   ],
   "source": [
    "df.is_category('year')"
   ]
  },
  {
   "cell_type": "markdown",
   "id": "2f18d0db-96a7-46ce-9d39-12c1889e3a2b",
   "metadata": {},
   "source": [
    "## Testing from_dataframe method"
   ]
  },
  {
   "cell_type": "code",
   "execution_count": 4,
   "id": "02a0d317-a3b3-40d7-b0dd-df8a5136c3be",
   "metadata": {},
   "outputs": [
    {
     "data": {
      "text/html": [
       "<table>\n",
       "<thead>\n",
       "<tr><th>#                            </th><th style=\"text-align: right;\">  year</th><th style=\"text-align: right;\">  weekday</th></tr>\n",
       "</thead>\n",
       "<tbody>\n",
       "<tr><td><i style='opacity: 0.6'>0</i></td><td style=\"text-align: right;\">  2012</td><td style=\"text-align: right;\">        0</td></tr>\n",
       "<tr><td><i style='opacity: 0.6'>1</i></td><td style=\"text-align: right;\">  2015</td><td style=\"text-align: right;\">        4</td></tr>\n",
       "<tr><td><i style='opacity: 0.6'>2</i></td><td style=\"text-align: right;\">  2019</td><td style=\"text-align: right;\">        6</td></tr>\n",
       "</tbody>\n",
       "</table>"
      ],
      "text/plain": [
       "  #    year    weekday\n",
       "  0    2012          0\n",
       "  1    2015          4\n",
       "  2    2019          6"
      ]
     },
     "execution_count": 4,
     "metadata": {},
     "output_type": "execute_result"
    }
   ],
   "source": [
    "df_test = from_dataframe_to_vaex(df)\n",
    "df_test"
   ]
  },
  {
   "cell_type": "code",
   "execution_count": 5,
   "id": "df883113-397c-4acd-a427-05dd1acf2983",
   "metadata": {},
   "outputs": [
    {
     "data": {
      "text/plain": [
       "False"
      ]
     },
     "execution_count": 5,
     "metadata": {},
     "output_type": "execute_result"
    }
   ],
   "source": [
    "df_test.is_category('year')"
   ]
  },
  {
   "cell_type": "markdown",
   "id": "16fd2d2c-1d39-408b-94c6-78105d8b4ece",
   "metadata": {},
   "source": [
    "## Researching data types and categories"
   ]
  },
  {
   "cell_type": "code",
   "execution_count": 6,
   "id": "7926ec10-f66a-4595-9473-d5d6a2aa6e61",
   "metadata": {},
   "outputs": [
    {
     "data": {
      "text/plain": [
       "int32"
      ]
     },
     "execution_count": 6,
     "metadata": {},
     "output_type": "execute_result"
    }
   ],
   "source": [
    "df['year'].dtype"
   ]
  },
  {
   "cell_type": "code",
   "execution_count": 7,
   "id": "17adbd2f-fd59-4999-9da6-5df57270026e",
   "metadata": {},
   "outputs": [
    {
     "data": {
      "text/plain": [
       "True"
      ]
     },
     "execution_count": 7,
     "metadata": {},
     "output_type": "execute_result"
    }
   ],
   "source": [
    "df.is_category('year')"
   ]
  },
  {
   "cell_type": "code",
   "execution_count": 8,
   "id": "78b24627-fbcc-4c87-9ccd-1cbf1b3b7036",
   "metadata": {},
   "outputs": [
    {
     "data": {
      "text/plain": [
       "Expression = year\n",
       "Length: 3 dtype: int32 (column)\n",
       "-------------------------------\n",
       "0  2012\n",
       "1  2015\n",
       "2  2019"
      ]
     },
     "execution_count": 8,
     "metadata": {},
     "output_type": "execute_result"
    }
   ],
   "source": [
    "df.year"
   ]
  },
  {
   "cell_type": "code",
   "execution_count": 9,
   "id": "f20a2a85-8696-4cec-abb4-52ea45684cb5",
   "metadata": {},
   "outputs": [],
   "source": [
    "from vaex.utils import _ensure_string_from_expression\n",
    "column = _ensure_string_from_expression(df.year)"
   ]
  },
  {
   "cell_type": "code",
   "execution_count": 10,
   "id": "039b7f41-82e5-435e-ab2c-36bed29c5f27",
   "metadata": {},
   "outputs": [
    {
     "data": {
      "text/plain": [
       "array([2012, 2015, 2019])"
      ]
     },
     "execution_count": 10,
     "metadata": {},
     "output_type": "execute_result"
    }
   ],
   "source": [
    "df.columns[column]"
   ]
  },
  {
   "cell_type": "code",
   "execution_count": 11,
   "id": "bcd8f22b-e7a2-4517-9620-2a51cdb3a455",
   "metadata": {},
   "outputs": [
    {
     "data": {
      "text/plain": [
       "{'year': {'labels': [2012, 2013, 2014, 2015, 2016, 2017, 2018, 2019],\n",
       "  'N': 8,\n",
       "  'min_value': 2012},\n",
       " 'weekday': {'labels': ['Mon', 'Tue', 'Wed', 'Thu', 'Fri', 'Sat', 'Sun'],\n",
       "  'N': 7,\n",
       "  'min_value': 0}}"
      ]
     },
     "execution_count": 11,
     "metadata": {},
     "output_type": "execute_result"
    }
   ],
   "source": [
    "df._categories"
   ]
  },
  {
   "cell_type": "code",
   "execution_count": 12,
   "id": "ef86e180-83a3-4306-9b8c-443d05f978fc",
   "metadata": {},
   "outputs": [
    {
     "data": {
      "text/plain": [
       "{'labels': [2012, 2013, 2014, 2015, 2016, 2017, 2018, 2019],\n",
       " 'N': 8,\n",
       " 'min_value': 2012}"
      ]
     },
     "execution_count": 12,
     "metadata": {},
     "output_type": "execute_result"
    }
   ],
   "source": [
    "df._categories[column]"
   ]
  },
  {
   "cell_type": "code",
   "execution_count": 13,
   "id": "3010bcb4-78c5-4ad9-b09c-59a6efbf141c",
   "metadata": {},
   "outputs": [
    {
     "data": {
      "text/plain": [
       "True"
      ]
     },
     "execution_count": 13,
     "metadata": {},
     "output_type": "execute_result"
    }
   ],
   "source": [
    "column in df._categories"
   ]
  },
  {
   "cell_type": "code",
   "execution_count": 14,
   "id": "44dac63b-b9e6-4b4d-87d3-6d080d0f675f",
   "metadata": {},
   "outputs": [
    {
     "data": {
      "text/plain": [
       "True"
      ]
     },
     "execution_count": 14,
     "metadata": {},
     "output_type": "execute_result"
    }
   ],
   "source": [
    "df.is_local()"
   ]
  },
  {
   "cell_type": "code",
   "execution_count": 15,
   "id": "4d18529d-127b-43e5-8ef7-1d8aec388e67",
   "metadata": {},
   "outputs": [
    {
     "data": {
      "text/plain": [
       "True"
      ]
     },
     "execution_count": 15,
     "metadata": {},
     "output_type": "execute_result"
    }
   ],
   "source": [
    "column in df.columns"
   ]
  },
  {
   "cell_type": "code",
   "execution_count": 16,
   "id": "ab88e919-c841-4d29-b1a9-7a1abd428411",
   "metadata": {},
   "outputs": [
    {
     "data": {
      "text/plain": [
       "[2012, 2013, 2014, 2015, 2016, 2017, 2018, 2019]"
      ]
     },
     "execution_count": 16,
     "metadata": {},
     "output_type": "execute_result"
    }
   ],
   "source": [
    "df.category_labels(column)"
   ]
  },
  {
   "cell_type": "code",
   "execution_count": 17,
   "id": "13ab632a-9fdd-4441-9eaa-c0765ed4b3be",
   "metadata": {},
   "outputs": [
    {
     "data": {
      "text/plain": [
       "[2012, 2013, 2014, 2015, 2016, 2017, 2018, 2019]"
      ]
     },
     "execution_count": 17,
     "metadata": {},
     "output_type": "execute_result"
    }
   ],
   "source": [
    "df._categories[column]['labels']"
   ]
  },
  {
   "cell_type": "code",
   "execution_count": 18,
   "id": "0ea34d29-e4a5-4a12-96be-2aceb52b065a",
   "metadata": {},
   "outputs": [
    {
     "data": {
      "text/plain": [
       "8"
      ]
     },
     "execution_count": 18,
     "metadata": {},
     "output_type": "execute_result"
    }
   ],
   "source": [
    "df.category_count(column)"
   ]
  },
  {
   "cell_type": "code",
   "execution_count": 19,
   "id": "5b519c0a-5769-41db-86e1-bc2e9d0d8266",
   "metadata": {},
   "outputs": [
    {
     "data": {
      "text/plain": [
       "'weekday'"
      ]
     },
     "execution_count": 19,
     "metadata": {},
     "output_type": "execute_result"
    }
   ],
   "source": [
    "column2 = _ensure_string_from_expression(df.weekday)\n",
    "column2"
   ]
  },
  {
   "cell_type": "code",
   "execution_count": 20,
   "id": "38da5e5a-d0f7-4073-b5b6-12d9981fb95e",
   "metadata": {},
   "outputs": [
    {
     "data": {
      "text/plain": [
       "['Mon', 'Tue', 'Wed', 'Thu', 'Fri', 'Sat', 'Sun']"
      ]
     },
     "execution_count": 20,
     "metadata": {},
     "output_type": "execute_result"
    }
   ],
   "source": [
    "df.category_labels(column2)"
   ]
  },
  {
   "cell_type": "code",
   "execution_count": 21,
   "id": "593774c1-1e8c-4f9e-82ce-a26a85c337b0",
   "metadata": {},
   "outputs": [
    {
     "data": {
      "text/plain": [
       "array([0, 4, 6])"
      ]
     },
     "execution_count": 21,
     "metadata": {},
     "output_type": "execute_result"
    }
   ],
   "source": [
    "df[column2].values"
   ]
  },
  {
   "cell_type": "code",
   "execution_count": 22,
   "id": "9d82fdea-9d43-487b-bd0a-e36267bc0ba1",
   "metadata": {},
   "outputs": [
    {
     "data": {
      "text/plain": [
       "{0: 0, 1: 4, 2: 6}"
      ]
     },
     "execution_count": 22,
     "metadata": {},
     "output_type": "execute_result"
    }
   ],
   "source": [
    "mapping = {ix: val for ix, val in enumerate(df[column2].values)}\n",
    "mapping"
   ]
  },
  {
   "cell_type": "code",
   "execution_count": 23,
   "id": "8b83128c-a937-4f0a-8faf-b669015cbf3b",
   "metadata": {},
   "outputs": [
    {
     "data": {
      "text/plain": [
       "{'vaex-core': '4.3.0.post1',\n",
       " 'vaex-viz': '0.5.0',\n",
       " 'vaex-hdf5': '0.8.0',\n",
       " 'vaex-server': '0.5.0',\n",
       " 'vaex-astro': '0.8.2',\n",
       " 'vaex-jupyter': '0.6.0',\n",
       " 'vaex-ml': '0.12.0'}"
      ]
     },
     "execution_count": 23,
     "metadata": {},
     "output_type": "execute_result"
    }
   ],
   "source": [
    "vaex.__version__"
   ]
  },
  {
   "cell_type": "code",
   "execution_count": 24,
   "id": "200ec592-4ec8-4e2b-b6be-1f65f5f3cfa4",
   "metadata": {},
   "outputs": [
    {
     "ename": "KeyError",
     "evalue": "'values'",
     "output_type": "error",
     "traceback": [
      "\u001b[1;31m---------------------------------------------------------------------------\u001b[0m",
      "\u001b[1;31mKeyError\u001b[0m                                  Traceback (most recent call last)",
      "\u001b[1;32m<ipython-input-24-d50f24c9f559>\u001b[0m in \u001b[0;36m<module>\u001b[1;34m\u001b[0m\n\u001b[1;32m----> 1\u001b[1;33m \u001b[0mdf\u001b[0m\u001b[1;33m.\u001b[0m\u001b[0mcategory_values\u001b[0m\u001b[1;33m(\u001b[0m\u001b[0mcolumn\u001b[0m\u001b[1;33m)\u001b[0m\u001b[1;33m\u001b[0m\u001b[1;33m\u001b[0m\u001b[0m\n\u001b[0m",
      "\u001b[1;32m~\\anaconda3\\envs\\df_protocol\\lib\\site-packages\\vaex\\dataframe.py\u001b[0m in \u001b[0;36mcategory_values\u001b[1;34m(self, column)\u001b[0m\n\u001b[0;32m    348\u001b[0m     \u001b[1;32mdef\u001b[0m \u001b[0mcategory_values\u001b[0m\u001b[1;33m(\u001b[0m\u001b[0mself\u001b[0m\u001b[1;33m,\u001b[0m \u001b[0mcolumn\u001b[0m\u001b[1;33m)\u001b[0m\u001b[1;33m:\u001b[0m\u001b[1;33m\u001b[0m\u001b[1;33m\u001b[0m\u001b[0m\n\u001b[0;32m    349\u001b[0m         \u001b[0mcolumn\u001b[0m \u001b[1;33m=\u001b[0m \u001b[0m_ensure_string_from_expression\u001b[0m\u001b[1;33m(\u001b[0m\u001b[0mcolumn\u001b[0m\u001b[1;33m)\u001b[0m\u001b[1;33m\u001b[0m\u001b[1;33m\u001b[0m\u001b[0m\n\u001b[1;32m--> 350\u001b[1;33m         \u001b[1;32mreturn\u001b[0m \u001b[0mself\u001b[0m\u001b[1;33m.\u001b[0m\u001b[0m_categories\u001b[0m\u001b[1;33m[\u001b[0m\u001b[0mcolumn\u001b[0m\u001b[1;33m]\u001b[0m\u001b[1;33m[\u001b[0m\u001b[1;34m'values'\u001b[0m\u001b[1;33m]\u001b[0m\u001b[1;33m\u001b[0m\u001b[1;33m\u001b[0m\u001b[0m\n\u001b[0m\u001b[0;32m    351\u001b[0m \u001b[1;33m\u001b[0m\u001b[0m\n\u001b[0;32m    352\u001b[0m     \u001b[1;32mdef\u001b[0m \u001b[0mcategory_count\u001b[0m\u001b[1;33m(\u001b[0m\u001b[0mself\u001b[0m\u001b[1;33m,\u001b[0m \u001b[0mcolumn\u001b[0m\u001b[1;33m)\u001b[0m\u001b[1;33m:\u001b[0m\u001b[1;33m\u001b[0m\u001b[1;33m\u001b[0m\u001b[0m\n",
      "\u001b[1;31mKeyError\u001b[0m: 'values'"
     ]
    }
   ],
   "source": [
    "df.category_values(column)"
   ]
  },
  {
   "cell_type": "markdown",
   "id": "8dbc7a12-4fbb-4800-9d2f-31cc25c29664",
   "metadata": {},
   "source": [
    "## Researching pyarrow dictionaries"
   ]
  },
  {
   "cell_type": "code",
   "execution_count": 59,
   "id": "2f4c92bc-87ae-4448-8349-5b2683f7d7d4",
   "metadata": {},
   "outputs": [
    {
     "data": {
      "text/plain": [
       "Expression = year\n",
       "Length: 3 dtype: int32 (column)\n",
       "-------------------------------\n",
       "0  2012\n",
       "1  2015\n",
       "2  2019"
      ]
     },
     "execution_count": 59,
     "metadata": {},
     "output_type": "execute_result"
    }
   ],
   "source": [
    "df[column]"
   ]
  },
  {
   "cell_type": "code",
   "execution_count": 60,
   "id": "8ffbedf6-7bdf-47c2-bcaa-b95a3d69a171",
   "metadata": {},
   "outputs": [
    {
     "data": {
      "text/plain": [
       "int32"
      ]
     },
     "execution_count": 60,
     "metadata": {},
     "output_type": "execute_result"
    }
   ],
   "source": [
    "df[column].dtype"
   ]
  },
  {
   "cell_type": "code",
   "execution_count": 61,
   "id": "2333051e-38df-4c83-b7ec-accf7f095692",
   "metadata": {},
   "outputs": [
    {
     "data": {
      "text/plain": [
       "False"
      ]
     },
     "execution_count": 61,
     "metadata": {},
     "output_type": "execute_result"
    }
   ],
   "source": [
    "# Checking connection between categorize and pa.DicionaryType\n",
    "# --> there is no connection\n",
    "\n",
    "isinstance(df[column].dtype, pa.DictionaryType)"
   ]
  },
  {
   "cell_type": "code",
   "execution_count": 62,
   "id": "ee6e1909-7777-47b3-847a-0855084718eb",
   "metadata": {},
   "outputs": [
    {
     "data": {
      "text/plain": [
       "True"
      ]
     },
     "execution_count": 62,
     "metadata": {},
     "output_type": "execute_result"
    }
   ],
   "source": [
    "df.is_category(column)"
   ]
  },
  {
   "cell_type": "markdown",
   "id": "98fa7bf1-9ae0-461c-87e5-1c313b36241c",
   "metadata": {},
   "source": [
    "**Constructing category from arrow dictionary and see how to get it into Vaex**"
   ]
  },
  {
   "cell_type": "code",
   "execution_count": 63,
   "id": "fafd2ebb-88ca-41e6-a549-2f961aeff9ef",
   "metadata": {},
   "outputs": [],
   "source": [
    "indices = pa.array([0, 1, 0, 1, 2, 0, None, 2])\n",
    "dictionary = pa.array(['foo', 'bar', 'baz'])\n",
    "dict_array = pa.DictionaryArray.from_arrays(indices, dictionary)"
   ]
  },
  {
   "cell_type": "code",
   "execution_count": 64,
   "id": "c5620905-6798-4152-b210-9685d8303d87",
   "metadata": {},
   "outputs": [
    {
     "data": {
      "text/plain": [
       "DictionaryType(dictionary<values=string, indices=int64, ordered=0>)"
      ]
     },
     "execution_count": 64,
     "metadata": {},
     "output_type": "execute_result"
    }
   ],
   "source": [
    "dict_array.type"
   ]
  },
  {
   "cell_type": "code",
   "execution_count": 65,
   "id": "b926d21a-7bb0-4e43-95ea-e050e9265756",
   "metadata": {},
   "outputs": [
    {
     "data": {
      "text/plain": [
       "<pyarrow.lib.DictionaryArray object at 0x00000189FCB37F20>\n",
       "\n",
       "-- dictionary:\n",
       "  [\n",
       "    \"foo\",\n",
       "    \"bar\",\n",
       "    \"baz\"\n",
       "  ]\n",
       "-- indices:\n",
       "  [\n",
       "    0,\n",
       "    1,\n",
       "    0,\n",
       "    1,\n",
       "    2,\n",
       "    0,\n",
       "    null,\n",
       "    2\n",
       "  ]"
      ]
     },
     "execution_count": 65,
     "metadata": {},
     "output_type": "execute_result"
    }
   ],
   "source": [
    "dict_array"
   ]
  },
  {
   "cell_type": "code",
   "execution_count": 66,
   "id": "f16c4f84-21dc-4d66-af47-2f909f86ca07",
   "metadata": {},
   "outputs": [
    {
     "data": {
      "text/plain": [
       "True"
      ]
     },
     "execution_count": 66,
     "metadata": {},
     "output_type": "execute_result"
    }
   ],
   "source": [
    "# Is this kind pa.Dictionary type?\n",
    "isinstance(dict_array.type, pa.DictionaryType)"
   ]
  },
  {
   "cell_type": "code",
   "execution_count": 67,
   "id": "d94d8775-3d4c-400f-b5de-88816365bb55",
   "metadata": {},
   "outputs": [
    {
     "data": {
      "text/plain": [
       "True"
      ]
     },
     "execution_count": 67,
     "metadata": {},
     "output_type": "execute_result"
    }
   ],
   "source": [
    "# Can I get it into Vaex with from_arrays? - Yes\n",
    "# If yes, does it stay categorical? - Yes\n",
    "vaex.from_arrays(x = dict_array, y = [1,2,3,4,5,6,7,8]).is_category('x')"
   ]
  },
  {
   "cell_type": "code",
   "execution_count": 68,
   "id": "54691873-1cd4-48f0-a499-c5a0a67688d7",
   "metadata": {},
   "outputs": [
    {
     "data": {
      "text/plain": [
       "x    dictionary<values=string, indices=int64, order...\n",
       "y                                                int32\n",
       "dtype: object"
      ]
     },
     "execution_count": 68,
     "metadata": {},
     "output_type": "execute_result"
    }
   ],
   "source": [
    "vaex.from_arrays(x = dict_array, y = [1,2,3,4,5,6,7,8]).dtypes"
   ]
  },
  {
   "cell_type": "code",
   "execution_count": 69,
   "id": "bc615b1c-b21a-415e-8b17-b51f342a4fcf",
   "metadata": {},
   "outputs": [
    {
     "data": {
      "text/html": [
       "<table>\n",
       "<thead>\n",
       "<tr><th>#                            </th><th>x  </th><th style=\"text-align: right;\">  y</th></tr>\n",
       "</thead>\n",
       "<tbody>\n",
       "<tr><td><i style='opacity: 0.6'>0</i></td><td>foo</td><td style=\"text-align: right;\">  1</td></tr>\n",
       "<tr><td><i style='opacity: 0.6'>1</i></td><td>bar</td><td style=\"text-align: right;\">  2</td></tr>\n",
       "<tr><td><i style='opacity: 0.6'>2</i></td><td>foo</td><td style=\"text-align: right;\">  3</td></tr>\n",
       "<tr><td><i style='opacity: 0.6'>3</i></td><td>bar</td><td style=\"text-align: right;\">  4</td></tr>\n",
       "<tr><td><i style='opacity: 0.6'>4</i></td><td>baz</td><td style=\"text-align: right;\">  5</td></tr>\n",
       "<tr><td><i style='opacity: 0.6'>5</i></td><td>foo</td><td style=\"text-align: right;\">  6</td></tr>\n",
       "<tr><td><i style='opacity: 0.6'>6</i></td><td>-- </td><td style=\"text-align: right;\">  7</td></tr>\n",
       "<tr><td><i style='opacity: 0.6'>7</i></td><td>baz</td><td style=\"text-align: right;\">  8</td></tr>\n",
       "</tbody>\n",
       "</table>"
      ],
      "text/plain": [
       "  #  x      y\n",
       "  0  foo    1\n",
       "  1  bar    2\n",
       "  2  foo    3\n",
       "  3  bar    4\n",
       "  4  baz    5\n",
       "  5  foo    6\n",
       "  6  --     7\n",
       "  7  baz    8"
      ]
     },
     "execution_count": 69,
     "metadata": {},
     "output_type": "execute_result"
    }
   ],
   "source": [
    "vaex.from_arrays(x = dict_array, y = [1,2,3,4,5,6,7,8])"
   ]
  },
  {
   "cell_type": "code",
   "execution_count": 70,
   "id": "4c4e9bc6-7803-41c4-97ac-c4d087a69704",
   "metadata": {},
   "outputs": [
    {
     "data": {
      "text/plain": [
       "{}"
      ]
     },
     "execution_count": 70,
     "metadata": {},
     "output_type": "execute_result"
    }
   ],
   "source": [
    "# But the _categories list is empty!\n",
    "vaex.from_arrays(x = dict_array, y = [1,2,3,4,5,6,7,8])._categories"
   ]
  },
  {
   "cell_type": "code",
   "execution_count": 71,
   "id": "46c9d12a-1ed9-49c5-a434-fa8f409ab260",
   "metadata": {},
   "outputs": [
    {
     "data": {
      "text/plain": [
       "{}"
      ]
     },
     "execution_count": 71,
     "metadata": {},
     "output_type": "execute_result"
    }
   ],
   "source": [
    "# Same for non numpy array dataframe\n",
    "x = np.array([1.5, 2.5, 3.5])\n",
    "y = np.array([9.2, 10.5, 11.8])\n",
    "vaex.from_arrays(x=x, y=y)._categories"
   ]
  },
  {
   "cell_type": "code",
   "execution_count": 72,
   "id": "db48ac0d-bed5-4ee2-957f-f390354b2ebc",
   "metadata": {},
   "outputs": [
    {
     "data": {
      "text/plain": [
       "False"
      ]
     },
     "execution_count": 72,
     "metadata": {},
     "output_type": "execute_result"
    }
   ],
   "source": [
    "vaex.from_arrays(x=x, y=y).is_category('x')"
   ]
  },
  {
   "cell_type": "code",
   "execution_count": 73,
   "id": "2265ae35-7117-4c55-a4ad-ac3e94d2e024",
   "metadata": {},
   "outputs": [
    {
     "data": {
      "text/plain": [
       "<pyarrow.lib.StringArray object at 0x00000189FCB4A400>\n",
       "[\n",
       "  \"foo\",\n",
       "  \"bar\",\n",
       "  \"baz\"\n",
       "]"
      ]
     },
     "execution_count": 73,
     "metadata": {},
     "output_type": "execute_result"
    }
   ],
   "source": [
    "# Try .dictionary function\n",
    "# Gives labels for arrow dictionary array\n",
    "vaex.from_arrays(x = dict_array, y = [1,2,3,4,5,6,7,8]).columns['x'].dictionary"
   ]
  },
  {
   "cell_type": "code",
   "execution_count": 74,
   "id": "6c0718ab-a23a-4854-8315-e0fa407a008e",
   "metadata": {},
   "outputs": [
    {
     "data": {
      "text/plain": [
       "<pyarrow.lib.Int64Array object at 0x00000189FCB4A280>\n",
       "[\n",
       "  0,\n",
       "  1,\n",
       "  0,\n",
       "  1,\n",
       "  2,\n",
       "  0,\n",
       "  null,\n",
       "  2\n",
       "]"
      ]
     },
     "execution_count": 74,
     "metadata": {},
     "output_type": "execute_result"
    }
   ],
   "source": [
    "# How about indeces?\n",
    "# Returns values of the dictionary\n",
    "vaex.from_arrays(x = dict_array, y = [1,2,3,4,5,6,7,8]).columns['x'].indices"
   ]
  },
  {
   "cell_type": "markdown",
   "id": "60546d34-66f4-4cdf-bdde-c6729a81e80d",
   "metadata": {},
   "source": [
    "## How to construct metadata dict for the implementation"
   ]
  },
  {
   "cell_type": "code",
   "execution_count": 75,
   "id": "696efca8-ac71-4c91-bd97-d5b53eed51ab",
   "metadata": {},
   "outputs": [],
   "source": [
    "# test data\n",
    "dfa = vaex.from_arrays(xt = dict_array, yt = [1,2,3,4,5,6,7,8], zt = [1.5,2.5,3.5,4.5,5.5,6.5,7.5,8.5])\n",
    "dfa = dfa.categorize('yt', labels=['Mon', 'Tue', 'Wed', 'Thu', 'Fri', 'Sat', 'Sun','None'])\n",
    "\n",
    "# Start with empty dict\n",
    "dict_is_cat = {}\n",
    "# for every column write down if the column is categorical or not\n",
    "for i in dfa.get_names():\n",
    "    dict_is_cat[i] = dfa.is_category(i)"
   ]
  },
  {
   "cell_type": "code",
   "execution_count": 76,
   "id": "db4f0340-d916-4731-857a-56ead6fc7d37",
   "metadata": {},
   "outputs": [
    {
     "data": {
      "text/plain": [
       "{'xt': True, 'yt': True, 'zt': False}"
      ]
     },
     "execution_count": 76,
     "metadata": {},
     "output_type": "execute_result"
    }
   ],
   "source": [
    "dict_is_cat"
   ]
  },
  {
   "cell_type": "code",
   "execution_count": 77,
   "id": "c78551d5-442c-4e87-baf5-8953de8d8f07",
   "metadata": {},
   "outputs": [
    {
     "data": {
      "text/plain": [
       "'xt'"
      ]
     },
     "execution_count": 77,
     "metadata": {},
     "output_type": "execute_result"
    }
   ],
   "source": [
    "# How to access the name of the expression\n",
    "dfa['xt'].expression"
   ]
  },
  {
   "cell_type": "code",
   "execution_count": 78,
   "id": "90033036-3534-48f9-859d-fc5aa680c01c",
   "metadata": {},
   "outputs": [
    {
     "data": {
      "text/plain": [
       "False"
      ]
     },
     "execution_count": 78,
     "metadata": {},
     "output_type": "execute_result"
    }
   ],
   "source": [
    "# Accessing the bool of the column (is it categorical or not)\n",
    "dict_is_cat[dfa['zt'].expression]"
   ]
  },
  {
   "cell_type": "code",
   "execution_count": 79,
   "id": "4f86314a-96ed-4005-9a18-d2ad045a1eda",
   "metadata": {},
   "outputs": [
    {
     "data": {
      "text/plain": [
       "True"
      ]
     },
     "execution_count": 79,
     "metadata": {},
     "output_type": "execute_result"
    }
   ],
   "source": [
    "dict_is_cat[dfa['xt'].expression]"
   ]
  },
  {
   "cell_type": "code",
   "execution_count": 80,
   "id": "2351968a-0397-4687-bfa6-0ccbcb0ff96e",
   "metadata": {},
   "outputs": [
    {
     "data": {
      "text/plain": [
       "True"
      ]
     },
     "execution_count": 80,
     "metadata": {},
     "output_type": "execute_result"
    }
   ],
   "source": [
    "dict_is_cat[dfa['yt'].expression]"
   ]
  },
  {
   "cell_type": "markdown",
   "id": "c2847e0c-35fe-477a-bf92-886276e8cd35",
   "metadata": {},
   "source": [
    "## How does Pandas work with categories?"
   ]
  },
  {
   "cell_type": "code",
   "execution_count": 81,
   "id": "5b501b11-8ac7-4ec1-9323-e2048a9cb154",
   "metadata": {},
   "outputs": [],
   "source": [
    "import pandas as pd"
   ]
  },
  {
   "cell_type": "code",
   "execution_count": 82,
   "id": "35ab0b0d-815d-4716-8457-dd0d50fbf976",
   "metadata": {},
   "outputs": [
    {
     "data": {
      "text/plain": [
       "[1, 2, 3, 1, 2, 3]\n",
       "Categories (3, int64): [1, 2, 3]"
      ]
     },
     "execution_count": 82,
     "metadata": {},
     "output_type": "execute_result"
    }
   ],
   "source": [
    "# First the implementation constructs Categorical array\n",
    "pdf = pd.Categorical([1, 2, 3, 1, 2, 3])\n",
    "pdf"
   ]
  },
  {
   "cell_type": "code",
   "execution_count": 83,
   "id": "26d5c091-fc13-42c4-8f16-5f57d1ac972f",
   "metadata": {},
   "outputs": [
    {
     "data": {
      "text/plain": [
       "0    1\n",
       "1    2\n",
       "2    3\n",
       "3    1\n",
       "4    2\n",
       "5    3\n",
       "dtype: category\n",
       "Categories (3, int64): [1, 2, 3]"
      ]
     },
     "execution_count": 83,
     "metadata": {},
     "output_type": "execute_result"
    }
   ],
   "source": [
    "# Then it turns it inro a series\n",
    "series = pd.Series(pdf)\n",
    "series"
   ]
  },
  {
   "cell_type": "markdown",
   "id": "08028cfe-7338-4719-8492-d185b7f3cf56",
   "metadata": {},
   "source": [
    "**Checking datatypes and attributes used in the implementation (codes, categories.values)**"
   ]
  },
  {
   "cell_type": "code",
   "execution_count": 84,
   "id": "54e7f433-b945-4880-a035-cdc03c9cd1ff",
   "metadata": {},
   "outputs": [
    {
     "data": {
      "text/plain": [
       "CategoricalDtype(categories=[1, 2, 3], ordered=False)"
      ]
     },
     "execution_count": 84,
     "metadata": {},
     "output_type": "execute_result"
    }
   ],
   "source": [
    "series.dtype"
   ]
  },
  {
   "cell_type": "code",
   "execution_count": 85,
   "id": "7fe6d2af-c2c0-4c4a-b796-1c2abcfdbc88",
   "metadata": {},
   "outputs": [
    {
     "data": {
      "text/plain": [
       "CategoricalDtype(categories=[1, 2, 3], ordered=False)"
      ]
     },
     "execution_count": 85,
     "metadata": {},
     "output_type": "execute_result"
    }
   ],
   "source": [
    "pdf.dtype"
   ]
  },
  {
   "cell_type": "code",
   "execution_count": 86,
   "id": "9bb3f043-4e39-4121-b0e0-736e3b26ff33",
   "metadata": {},
   "outputs": [
    {
     "data": {
      "text/plain": [
       "array([0, 1, 2, 0, 1, 2], dtype=int8)"
      ]
     },
     "execution_count": 86,
     "metadata": {},
     "output_type": "execute_result"
    }
   ],
   "source": [
    "pdf.codes"
   ]
  },
  {
   "cell_type": "code",
   "execution_count": 87,
   "id": "da25d016-7f41-452f-b0a1-d6a2387cb749",
   "metadata": {},
   "outputs": [
    {
     "data": {
      "text/plain": [
       "Int64Index([1, 2, 3], dtype='int64')"
      ]
     },
     "execution_count": 87,
     "metadata": {},
     "output_type": "execute_result"
    }
   ],
   "source": [
    "pdf.categories"
   ]
  },
  {
   "cell_type": "code",
   "execution_count": 88,
   "id": "114ff494-aed8-426b-978a-d4adf144a017",
   "metadata": {},
   "outputs": [
    {
     "data": {
      "text/plain": [
       "array([1, 2, 3], dtype=int64)"
      ]
     },
     "execution_count": 88,
     "metadata": {},
     "output_type": "execute_result"
    }
   ],
   "source": [
    "pdf.categories.values"
   ]
  },
  {
   "cell_type": "code",
   "execution_count": 89,
   "id": "55a0d847-0bff-4a7d-b57c-4e85d7df2778",
   "metadata": {},
   "outputs": [
    {
     "data": {
      "text/plain": [
       "[1, 2, 3, 1, 2, 3]\n",
       "Categories (3, int64): [1, 2, 3]"
      ]
     },
     "execution_count": 89,
     "metadata": {},
     "output_type": "execute_result"
    }
   ],
   "source": [
    "series.values"
   ]
  },
  {
   "cell_type": "code",
   "execution_count": 90,
   "id": "bd153202-a54b-4f01-b034-e19c11923fdd",
   "metadata": {},
   "outputs": [
    {
     "data": {
      "text/plain": [
       "array([0, 1, 2, 0, 1, 2], dtype=int8)"
      ]
     },
     "execution_count": 90,
     "metadata": {},
     "output_type": "execute_result"
    }
   ],
   "source": [
    "series.values.codes"
   ]
  },
  {
   "cell_type": "code",
   "execution_count": 91,
   "id": "8d321213-938b-40e8-a665-6e78fc00689a",
   "metadata": {},
   "outputs": [
    {
     "data": {
      "text/plain": [
       "{0: 1, 1: 2, 2: 3}"
      ]
     },
     "execution_count": 91,
     "metadata": {},
     "output_type": "execute_result"
    }
   ],
   "source": [
    "# In the implementation we construct a mapping of the categories\n",
    "categories = pdf.categories.values\n",
    "mapping = {ix: val for ix, val in enumerate(categories)}\n",
    "mapping"
   ]
  },
  {
   "cell_type": "markdown",
   "id": "4c100c94-c91d-482c-bbe1-29821793f008",
   "metadata": {},
   "source": [
    "## Research metadata PR for Pandas and implementation"
   ]
  },
  {
   "cell_type": "code",
   "execution_count": 92,
   "id": "d0dacfd2-647b-4fe4-a551-16d9a5726bb9",
   "metadata": {},
   "outputs": [
    {
     "name": "stdout",
     "output_type": "stream",
     "text": [
      "pandas.index\n",
      "RangeIndex(start=0, stop=4, step=1)\n"
     ]
    }
   ],
   "source": [
    "pdf2 = pd.DataFrame({'A': [1, 2, 3, 4],'B': [1, 2, 3, 4]})\n",
    "\n",
    "# Check the metadata from the dataframe\n",
    "expected = {\"pandas.index\": pdf2.index}\n",
    "for key in expected:\n",
    "    print(key)\n",
    "    print(expected[key])"
   ]
  },
  {
   "cell_type": "markdown",
   "id": "f8da56ef-deaf-445e-8cd7-4151f7901659",
   "metadata": {},
   "source": [
    "## Workflow for categories implementation\n",
    "Going through the errors after metadata implementation and correcting them 1-by-1. Working only with Vaex categorized data first. Try with Arrow dict later. Topics:\n",
    "- _VaexDataFrame metadata\n",
    "- get_data_buffer"
   ]
  },
  {
   "cell_type": "code",
   "execution_count": 93,
   "id": "c515253b-41f2-4b90-9e26-d5007753854b",
   "metadata": {},
   "outputs": [],
   "source": [
    "%run vaex_implementation_v2.py"
   ]
  },
  {
   "cell_type": "code",
   "execution_count": 94,
   "id": "191a6a17-fb6e-4a4a-aff5-2c6a19b09023",
   "metadata": {},
   "outputs": [
    {
     "data": {
      "text/plain": [
       "{'vaex.cetagories_bool': {'xt': True, 'yt': True, 'zt': False},\n",
       " 'vaex.cetagories': {'xt': ['foo', 'bar', 'baz'],\n",
       "  'yt': ['Mon', 'Tue', 'Wed', 'Thu', 'Fri', 'Sat', 'Sun', 'None']}}"
      ]
     },
     "execution_count": 94,
     "metadata": {},
     "output_type": "execute_result"
    }
   ],
   "source": [
    "# How to call metadata from _DataFrame\n",
    "_VaexDataFrame(dfa).metadata"
   ]
  },
  {
   "cell_type": "code",
   "execution_count": 95,
   "id": "84a62bae-5075-4e72-8bfe-c13f6c62f10b",
   "metadata": {},
   "outputs": [
    {
     "data": {
      "text/html": [
       "<table>\n",
       "<thead>\n",
       "<tr><th>#                            </th><th style=\"text-align: right;\">  year</th><th style=\"text-align: right;\">  weekday</th></tr>\n",
       "</thead>\n",
       "<tbody>\n",
       "<tr><td><i style='opacity: 0.6'>0</i></td><td style=\"text-align: right;\">  2012</td><td style=\"text-align: right;\">        0</td></tr>\n",
       "<tr><td><i style='opacity: 0.6'>1</i></td><td style=\"text-align: right;\">  2015</td><td style=\"text-align: right;\">        4</td></tr>\n",
       "<tr><td><i style='opacity: 0.6'>2</i></td><td style=\"text-align: right;\">  2019</td><td style=\"text-align: right;\">        6</td></tr>\n",
       "</tbody>\n",
       "</table>"
      ],
      "text/plain": [
       "  #    year    weekday\n",
       "  0    2012          0\n",
       "  1    2015          4\n",
       "  2    2019          6"
      ]
     },
     "execution_count": 95,
     "metadata": {},
     "output_type": "execute_result"
    }
   ],
   "source": [
    "df"
   ]
  },
  {
   "cell_type": "code",
   "execution_count": 96,
   "id": "c4d94329-a36f-40de-8118-6ea30a5a5a6a",
   "metadata": {},
   "outputs": [],
   "source": [
    "# Kind vs type"
   ]
  },
  {
   "cell_type": "code",
   "execution_count": 97,
   "id": "e4e63d1b-8bea-4a85-9d76-ca8e2b074501",
   "metadata": {},
   "outputs": [
    {
     "data": {
      "text/plain": [
       "int32"
      ]
     },
     "execution_count": 97,
     "metadata": {},
     "output_type": "execute_result"
    }
   ],
   "source": [
    "df.weekday.dtype"
   ]
  },
  {
   "cell_type": "code",
   "execution_count": 98,
   "id": "f51af3f9-2f67-4131-8401-c21e493521e3",
   "metadata": {},
   "outputs": [
    {
     "data": {
      "text/plain": [
       "'i'"
      ]
     },
     "execution_count": 98,
     "metadata": {},
     "output_type": "execute_result"
    }
   ],
   "source": [
    "df.weekday.dtype.kind"
   ]
  },
  {
   "cell_type": "code",
   "execution_count": 99,
   "id": "24be7b0a-aac6-4184-a7ab-b0e26445a572",
   "metadata": {},
   "outputs": [
    {
     "data": {
      "text/plain": [
       "4"
      ]
     },
     "execution_count": 99,
     "metadata": {},
     "output_type": "execute_result"
    }
   ],
   "source": [
    "df.year.dtype.numpy.itemsize"
   ]
  },
  {
   "cell_type": "code",
   "execution_count": 100,
   "id": "734899bc-2e8c-40d8-bb62-e5d3361049e8",
   "metadata": {},
   "outputs": [
    {
     "data": {
      "text/plain": [
       "4"
      ]
     },
     "execution_count": 100,
     "metadata": {},
     "output_type": "execute_result"
    }
   ],
   "source": [
    "df['year'].dtype.numpy.itemsize"
   ]
  },
  {
   "cell_type": "code",
   "execution_count": 101,
   "id": "709109a1-7f2c-4d93-a1b6-6afb30a92e38",
   "metadata": {},
   "outputs": [],
   "source": [
    "%run pandas_implementation.py"
   ]
  },
  {
   "cell_type": "code",
   "execution_count": 102,
   "id": "a713b83c-cf6e-451a-8ae5-590a8351dc2c",
   "metadata": {},
   "outputs": [
    {
     "data": {
      "text/plain": [
       "0    1\n",
       "1    2\n",
       "2    3\n",
       "3    1\n",
       "4    2\n",
       "5    3\n",
       "dtype: category\n",
       "Categories (3, int64): [1, 2, 3]"
      ]
     },
     "execution_count": 102,
     "metadata": {},
     "output_type": "execute_result"
    }
   ],
   "source": [
    "series"
   ]
  },
  {
   "cell_type": "code",
   "execution_count": 103,
   "id": "be32a4ef-bccc-4031-ab85-b22e7985af59",
   "metadata": {},
   "outputs": [
    {
     "data": {
      "text/plain": [
       "(PandasBuffer({'bufsize': 6, 'ptr': 1692090374288, 'device': 'CPU'}),\n",
       " (<_DtypeKind.INT: 0>, 8, '|i1', '|'))"
      ]
     },
     "execution_count": 103,
     "metadata": {},
     "output_type": "execute_result"
    }
   ],
   "source": [
    "# Checking to see the output of _PandasColumn().get_data_buffer\n",
    "# and then matching _VaexColumn().get_data_buffer\n",
    "_PandasColumn(series).get_data_buffer()"
   ]
  },
  {
   "cell_type": "code",
   "execution_count": 104,
   "id": "908b949d-8984-4938-b709-fb33b2a4cc3e",
   "metadata": {},
   "outputs": [
    {
     "data": {
      "text/plain": [
       "(23, 64, '|O08', '=')"
      ]
     },
     "execution_count": 104,
     "metadata": {},
     "output_type": "execute_result"
    }
   ],
   "source": [
    "# But the dtype in the _PandasColumn() is different - implement in Vaex also!\n",
    "# <_DtypeKind.INT: 0> in buffer vs 23 in _PandasColumn class\n",
    "\n",
    "_PandasColumn(series).dtype"
   ]
  },
  {
   "cell_type": "code",
   "execution_count": 105,
   "id": "d8106471-65a0-4197-949c-1907fe96ac00",
   "metadata": {},
   "outputs": [],
   "source": [
    "%run vaex_implementation_v2.py"
   ]
  },
  {
   "cell_type": "code",
   "execution_count": 106,
   "id": "e10db4fa-4e0f-423a-bb81-46adcb191187",
   "metadata": {},
   "outputs": [
    {
     "data": {
      "text/plain": [
       "{'vaex.cetagories_bool': {'year': True, 'weekday': True},\n",
       " 'vaex.cetagories': {'year': [2012, 2013, 2014, 2015, 2016, 2017, 2018, 2019],\n",
       "  'weekday': ['Mon', 'Tue', 'Wed', 'Thu', 'Fri', 'Sat', 'Sun']}}"
      ]
     },
     "execution_count": 106,
     "metadata": {},
     "output_type": "execute_result"
    }
   ],
   "source": [
    "# Making it work the same for Vaex\n",
    "# Changes neede to be made in _VaexBuffer and in _VaexColumn (dtype and _dtype_from_vaexdtype)\n",
    "\n",
    "a = _VaexDataFrame(df).metadata\n",
    "a"
   ]
  },
  {
   "cell_type": "code",
   "execution_count": 107,
   "id": "fda2b148-7aaf-4da1-a6c3-30150f71936c",
   "metadata": {},
   "outputs": [
    {
     "data": {
      "text/plain": [
       "True"
      ]
     },
     "execution_count": 107,
     "metadata": {},
     "output_type": "execute_result"
    }
   ],
   "source": [
    "_VaexColumn(df.year, a).is_cat"
   ]
  },
  {
   "cell_type": "code",
   "execution_count": 108,
   "id": "4a7b929a-0a6a-47d2-a79a-e1088f8acad0",
   "metadata": {},
   "outputs": [
    {
     "data": {
      "text/plain": [
       "(VaexBuffer({'bufsize': 12, 'ptr': 1692088539872, 'device': 'CPU'}),\n",
       " (<_DtypeKind.INT: 0>, 32, '<i4', '='))"
      ]
     },
     "execution_count": 108,
     "metadata": {},
     "output_type": "execute_result"
    }
   ],
   "source": [
    "_VaexColumn(df.year, a).get_data_buffer()"
   ]
  },
  {
   "cell_type": "code",
   "execution_count": 109,
   "id": "405ad5d9-2930-437a-afa7-dd68f612b529",
   "metadata": {},
   "outputs": [
    {
     "data": {
      "text/plain": [
       "(23, 32, '<i4', '=')"
      ]
     },
     "execution_count": 109,
     "metadata": {},
     "output_type": "execute_result"
    }
   ],
   "source": [
    "_VaexColumn(df.year, a).dtype"
   ]
  },
  {
   "cell_type": "code",
   "execution_count": 110,
   "id": "15eecb70-dfca-4ba6-b626-d6425107df75",
   "metadata": {},
   "outputs": [],
   "source": [
    "%run pandas_implementation.py"
   ]
  },
  {
   "cell_type": "code",
   "execution_count": 111,
   "id": "ff419c38-1d86-41ed-a784-95e9348f2c3d",
   "metadata": {},
   "outputs": [],
   "source": [
    "# What kinf of input should be given to buffer_to_ndarray?\n",
    "# Compare to _PandasColumn\n",
    "\n",
    "cp1, cp2 = _PandasColumn(series).get_data_buffer()"
   ]
  },
  {
   "cell_type": "code",
   "execution_count": 112,
   "id": "c1615690-70cf-48b9-8f6c-ca2c30bf46fa",
   "metadata": {},
   "outputs": [
    {
     "data": {
      "text/plain": [
       "(PandasBuffer({'bufsize': 6, 'ptr': 1692090374288, 'device': 'CPU'}),\n",
       " (<_DtypeKind.INT: 0>, 8, '|i1', '|'))"
      ]
     },
     "execution_count": 112,
     "metadata": {},
     "output_type": "execute_result"
    }
   ],
   "source": [
    "cp1, cp2"
   ]
  },
  {
   "cell_type": "code",
   "execution_count": 113,
   "id": "3559ed48-a188-4d2d-a8d2-cad8d51a6387",
   "metadata": {},
   "outputs": [
    {
     "data": {
      "text/plain": [
       "array([0, 1, 2, 0, 1, 2], dtype=int8)"
      ]
     },
     "execution_count": 113,
     "metadata": {},
     "output_type": "execute_result"
    }
   ],
   "source": [
    "buffer_to_ndarray(cp1, cp2)"
   ]
  },
  {
   "cell_type": "code",
   "execution_count": 114,
   "id": "10af56c3-e7f5-4b8a-8577-5a8f44156014",
   "metadata": {},
   "outputs": [],
   "source": [
    "#Lets compare to Vaex\n",
    "%run vaex_implementation_v2.py"
   ]
  },
  {
   "cell_type": "code",
   "execution_count": 115,
   "id": "283141c1-3fbc-477f-bc75-9e26b78ba230",
   "metadata": {},
   "outputs": [],
   "source": [
    "cv1, cv2 = _VaexColumn(df.year, a).get_data_buffer()"
   ]
  },
  {
   "cell_type": "code",
   "execution_count": 116,
   "id": "655a5224-30cc-4224-8c71-9577858fd20f",
   "metadata": {},
   "outputs": [
    {
     "data": {
      "text/plain": [
       "(VaexBuffer({'bufsize': 12, 'ptr': 1692088539872, 'device': 'CPU'}),\n",
       " (<_DtypeKind.INT: 0>, 32, '<i4', '='))"
      ]
     },
     "execution_count": 116,
     "metadata": {},
     "output_type": "execute_result"
    }
   ],
   "source": [
    "cv1, cv2 # Works yeeey!"
   ]
  },
  {
   "cell_type": "code",
   "execution_count": 117,
   "id": "714a91f6-1cb5-4995-bced-b1a4325ecdfc",
   "metadata": {},
   "outputs": [
    {
     "data": {
      "text/plain": [
       "array([2012, 2015, 2019])"
      ]
     },
     "execution_count": 117,
     "metadata": {},
     "output_type": "execute_result"
    }
   ],
   "source": [
    "buffer_to_ndarray(cv1, cv2)"
   ]
  },
  {
   "cell_type": "code",
   "execution_count": 118,
   "id": "a51f29de-c330-4c0a-8f95-6549009fe326",
   "metadata": {},
   "outputs": [
    {
     "data": {
      "text/plain": [
       "dtype('<i4')"
      ]
     },
     "execution_count": 118,
     "metadata": {},
     "output_type": "execute_result"
    }
   ],
   "source": [
    "buffer_to_ndarray(cv1, cv2).dtype"
   ]
  },
  {
   "cell_type": "code",
   "execution_count": 119,
   "id": "09a2925c-f83e-4d1c-8bf4-f1364bcfda1f",
   "metadata": {},
   "outputs": [],
   "source": [
    "# How to construct data frame from columns and keep categorical info"
   ]
  },
  {
   "cell_type": "code",
   "execution_count": 120,
   "id": "18053d06-38b4-4ab4-a1dd-5158f1e62e05",
   "metadata": {},
   "outputs": [
    {
     "data": {
      "text/plain": [
       "<__main__._VaexDataFrame at 0x189fcbb9a30>"
      ]
     },
     "execution_count": 120,
     "metadata": {},
     "output_type": "execute_result"
    }
   ],
   "source": [
    "dfv = _VaexDataFrame(df)\n",
    "dfv"
   ]
  },
  {
   "cell_type": "code",
   "execution_count": 121,
   "id": "5fced3b5-3ecd-482d-9d90-4e15f6dbd8fe",
   "metadata": {},
   "outputs": [
    {
     "data": {
      "text/plain": [
       "['year', 'weekday']"
      ]
     },
     "execution_count": 121,
     "metadata": {},
     "output_type": "execute_result"
    }
   ],
   "source": [
    "dfv.column_names()"
   ]
  },
  {
   "cell_type": "code",
   "execution_count": 122,
   "id": "2b453a2f-163f-444a-b3a9-cf12129cde37",
   "metadata": {},
   "outputs": [],
   "source": [
    "# Check what kind of an output we get for columns and labels in _from_dataframe()\n",
    "\n",
    "columns = dict()\n",
    "lable = dict()\n",
    "_k = _DtypeKind\n",
    "for name in dfv.column_names():\n",
    "    col = dfv.get_column_by_name(name)\n",
    "    if col.dtype[0] in (_k.INT, _k.UINT, _k.FLOAT, _k.BOOL):\n",
    "        # Simple numerical or bool dtype, turn into numpy array\n",
    "        columns[name] = convert_column_to_ndarray(col)\n",
    "    elif col.dtype[0] == _k.CATEGORICAL:\n",
    "        values, categories = convert_categorical_column(col)\n",
    "        columns[name] = values\n",
    "        lable[name] = categories\n",
    "    else:\n",
    "        raise NotImplementedError(f\"Data type {col.dtype[0]} not handled yet\")"
   ]
  },
  {
   "cell_type": "code",
   "execution_count": 123,
   "id": "771a2cd0-cedd-451c-b86d-72c9d1091f3e",
   "metadata": {},
   "outputs": [
    {
     "data": {
      "text/plain": [
       "{'year': array([2012, 2015, 2019]), 'weekday': array([0, 4, 6])}"
      ]
     },
     "execution_count": 123,
     "metadata": {},
     "output_type": "execute_result"
    }
   ],
   "source": [
    "columns"
   ]
  },
  {
   "cell_type": "code",
   "execution_count": 124,
   "id": "701094cb-4c6a-47d5-9d62-b57cc9e91781",
   "metadata": {},
   "outputs": [
    {
     "data": {
      "text/plain": [
       "{'year': array([2012, 2013, 2014, 2015, 2016, 2017, 2018, 2019]),\n",
       " 'weekday': array(['Mon', 'Tue', 'Wed', 'Thu', 'Fri', 'Sat', 'Sun'], dtype='<U3')}"
      ]
     },
     "execution_count": 124,
     "metadata": {},
     "output_type": "execute_result"
    }
   ],
   "source": [
    "lable"
   ]
  },
  {
   "cell_type": "code",
   "execution_count": 125,
   "id": "08b0c23d-c0b4-4b66-8727-710efb05d5da",
   "metadata": {},
   "outputs": [
    {
     "data": {
      "text/html": [
       "<table>\n",
       "<thead>\n",
       "<tr><th>#                            </th><th style=\"text-align: right;\">  year</th><th style=\"text-align: right;\">  weekday</th></tr>\n",
       "</thead>\n",
       "<tbody>\n",
       "<tr><td><i style='opacity: 0.6'>0</i></td><td style=\"text-align: right;\">  2012</td><td style=\"text-align: right;\">        0</td></tr>\n",
       "<tr><td><i style='opacity: 0.6'>1</i></td><td style=\"text-align: right;\">  2015</td><td style=\"text-align: right;\">        4</td></tr>\n",
       "<tr><td><i style='opacity: 0.6'>2</i></td><td style=\"text-align: right;\">  2019</td><td style=\"text-align: right;\">        6</td></tr>\n",
       "</tbody>\n",
       "</table>"
      ],
      "text/plain": [
       "  #    year    weekday\n",
       "  0    2012          0\n",
       "  1    2015          4\n",
       "  2    2019          6"
      ]
     },
     "execution_count": 125,
     "metadata": {},
     "output_type": "execute_result"
    }
   ],
   "source": [
    "dataframe = vaex.from_dict(columns)\n",
    "dataframe"
   ]
  },
  {
   "cell_type": "code",
   "execution_count": 126,
   "id": "4701077f-23cf-4f3e-81aa-450a854835cb",
   "metadata": {},
   "outputs": [
    {
     "name": "stdout",
     "output_type": "stream",
     "text": [
      "year\n",
      "[2012 2013 2014 2015 2016 2017 2018 2019]\n",
      "weekday\n",
      "['Mon' 'Tue' 'Wed' 'Thu' 'Fri' 'Sat' 'Sun']\n"
     ]
    }
   ],
   "source": [
    "for cat in lable:\n",
    "    dataframe = dataframe.categorize(cat, labels = lable[cat])\n",
    "    print(cat)\n",
    "    print(lable[cat])"
   ]
  },
  {
   "cell_type": "code",
   "execution_count": 127,
   "id": "e0172739-e46c-4c44-bbb4-18a7710cf41c",
   "metadata": {},
   "outputs": [
    {
     "data": {
      "text/html": [
       "<table>\n",
       "<thead>\n",
       "<tr><th>#                            </th><th style=\"text-align: right;\">  year</th><th style=\"text-align: right;\">  weekday</th></tr>\n",
       "</thead>\n",
       "<tbody>\n",
       "<tr><td><i style='opacity: 0.6'>0</i></td><td style=\"text-align: right;\">  2012</td><td style=\"text-align: right;\">        0</td></tr>\n",
       "<tr><td><i style='opacity: 0.6'>1</i></td><td style=\"text-align: right;\">  2015</td><td style=\"text-align: right;\">        4</td></tr>\n",
       "<tr><td><i style='opacity: 0.6'>2</i></td><td style=\"text-align: right;\">  2019</td><td style=\"text-align: right;\">        6</td></tr>\n",
       "</tbody>\n",
       "</table>"
      ],
      "text/plain": [
       "  #    year    weekday\n",
       "  0    2012          0\n",
       "  1    2015          4\n",
       "  2    2019          6"
      ]
     },
     "execution_count": 127,
     "metadata": {},
     "output_type": "execute_result"
    }
   ],
   "source": [
    "dataframe"
   ]
  },
  {
   "cell_type": "code",
   "execution_count": 128,
   "id": "a9b6f464-b719-438b-9e42-2b7a18fb34c7",
   "metadata": {},
   "outputs": [
    {
     "data": {
      "text/plain": [
       "True"
      ]
     },
     "execution_count": 128,
     "metadata": {},
     "output_type": "execute_result"
    }
   ],
   "source": [
    "dataframe.is_category('year')"
   ]
  },
  {
   "cell_type": "code",
   "execution_count": 129,
   "id": "43ec3918-fb0e-41e3-ab31-ff88a4f66d74",
   "metadata": {},
   "outputs": [
    {
     "data": {
      "text/html": [
       "<table>\n",
       "<thead>\n",
       "<tr><th>#                            </th><th style=\"text-align: right;\">  year</th><th style=\"text-align: right;\">  weekday</th></tr>\n",
       "</thead>\n",
       "<tbody>\n",
       "<tr><td><i style='opacity: 0.6'>0</i></td><td style=\"text-align: right;\">  2012</td><td style=\"text-align: right;\">        0</td></tr>\n",
       "<tr><td><i style='opacity: 0.6'>1</i></td><td style=\"text-align: right;\">  2015</td><td style=\"text-align: right;\">        4</td></tr>\n",
       "<tr><td><i style='opacity: 0.6'>2</i></td><td style=\"text-align: right;\">  2019</td><td style=\"text-align: right;\">        6</td></tr>\n",
       "</tbody>\n",
       "</table>"
      ],
      "text/plain": [
       "  #    year    weekday\n",
       "  0    2012          0\n",
       "  1    2015          4\n",
       "  2    2019          6"
      ]
     },
     "execution_count": 129,
     "metadata": {},
     "output_type": "execute_result"
    }
   ],
   "source": [
    "# LOOKS GOOD =)\n",
    "# Lets try THE method\n",
    "df_vaex = from_dataframe_to_vaex(df)\n",
    "df_vaex"
   ]
  },
  {
   "cell_type": "code",
   "execution_count": 130,
   "id": "d9cfd68a-fc5e-441f-9538-76cba8a312fb",
   "metadata": {},
   "outputs": [],
   "source": [
    "# And lets check the properties (categorical)"
   ]
  },
  {
   "cell_type": "code",
   "execution_count": 131,
   "id": "9832a93d-d2df-4920-8150-79f7b4e4829a",
   "metadata": {},
   "outputs": [
    {
     "data": {
      "text/html": [
       "<table>\n",
       "<thead>\n",
       "<tr><th>#                            </th><th style=\"text-align: right;\">  year</th><th style=\"text-align: right;\">  weekday</th></tr>\n",
       "</thead>\n",
       "<tbody>\n",
       "<tr><td><i style='opacity: 0.6'>0</i></td><td style=\"text-align: right;\">  2012</td><td style=\"text-align: right;\">        0</td></tr>\n",
       "<tr><td><i style='opacity: 0.6'>1</i></td><td style=\"text-align: right;\">  2015</td><td style=\"text-align: right;\">        4</td></tr>\n",
       "<tr><td><i style='opacity: 0.6'>2</i></td><td style=\"text-align: right;\">  2019</td><td style=\"text-align: right;\">        6</td></tr>\n",
       "</tbody>\n",
       "</table>"
      ],
      "text/plain": [
       "  #    year    weekday\n",
       "  0    2012          0\n",
       "  1    2015          4\n",
       "  2    2019          6"
      ]
     },
     "execution_count": 131,
     "metadata": {},
     "output_type": "execute_result"
    }
   ],
   "source": [
    "df"
   ]
  },
  {
   "cell_type": "code",
   "execution_count": 132,
   "id": "2af40d8a-11a3-4c32-940f-3aeb78545a78",
   "metadata": {},
   "outputs": [
    {
     "data": {
      "text/plain": [
       "True"
      ]
     },
     "execution_count": 132,
     "metadata": {},
     "output_type": "execute_result"
    }
   ],
   "source": [
    "df_vaex.is_category('year')"
   ]
  },
  {
   "cell_type": "code",
   "execution_count": 133,
   "id": "db207669-b03a-40b7-864a-63665b606bd1",
   "metadata": {},
   "outputs": [
    {
     "data": {
      "text/plain": [
       "True"
      ]
     },
     "execution_count": 133,
     "metadata": {},
     "output_type": "execute_result"
    }
   ],
   "source": [
    "df_vaex.is_category('weekday')"
   ]
  },
  {
   "cell_type": "code",
   "execution_count": 134,
   "id": "8d9ced0e-e2e5-4a93-bc96-e4089a8209d8",
   "metadata": {},
   "outputs": [
    {
     "data": {
      "text/plain": [
       "array(['Mon', 'Tue', 'Wed', 'Thu', 'Fri', 'Sat', 'Sun'], dtype='<U3')"
      ]
     },
     "execution_count": 134,
     "metadata": {},
     "output_type": "execute_result"
    }
   ],
   "source": [
    "df_vaex.category_labels('weekday')"
   ]
  },
  {
   "cell_type": "code",
   "execution_count": 135,
   "id": "20bf20ab-873d-46be-a6d0-a0cbb2817e5b",
   "metadata": {},
   "outputs": [],
   "source": [
    "# IT WOOORKS! =)"
   ]
  },
  {
   "cell_type": "code",
   "execution_count": 136,
   "id": "97ab3d97-fdf7-4fe4-8520-d47efc59025e",
   "metadata": {},
   "outputs": [],
   "source": [
    "# Arrow dicts:\n",
    "# Doesn't work yet. There is a trouble with arrow coversion to_pandas_dtype!"
   ]
  },
  {
   "cell_type": "markdown",
   "id": "19608252-4d13-4208-b86d-c017b035ebad",
   "metadata": {},
   "source": [
    "## Roundtrip Pandas - Vaex"
   ]
  },
  {
   "cell_type": "code",
   "execution_count": 137,
   "id": "720e2916-1e00-4a7f-9fc6-a90e8643fa17",
   "metadata": {},
   "outputs": [
    {
     "data": {
      "text/html": [
       "<table>\n",
       "<thead>\n",
       "<tr><th>#                            </th><th style=\"text-align: right;\">  year</th><th style=\"text-align: right;\">  weekday</th></tr>\n",
       "</thead>\n",
       "<tbody>\n",
       "<tr><td><i style='opacity: 0.6'>0</i></td><td style=\"text-align: right;\">  2012</td><td style=\"text-align: right;\">        0</td></tr>\n",
       "<tr><td><i style='opacity: 0.6'>1</i></td><td style=\"text-align: right;\">  2015</td><td style=\"text-align: right;\">        4</td></tr>\n",
       "<tr><td><i style='opacity: 0.6'>2</i></td><td style=\"text-align: right;\">  2019</td><td style=\"text-align: right;\">        6</td></tr>\n",
       "</tbody>\n",
       "</table>"
      ],
      "text/plain": [
       "  #    year    weekday\n",
       "  0    2012          0\n",
       "  1    2015          4\n",
       "  2    2019          6"
      ]
     },
     "execution_count": 137,
     "metadata": {},
     "output_type": "execute_result"
    }
   ],
   "source": [
    "%run vaex_implementation_v2.py\n",
    "df"
   ]
  },
  {
   "cell_type": "code",
   "execution_count": 138,
   "id": "4ebcaa23-9cdb-4375-8cd4-5de73185befc",
   "metadata": {},
   "outputs": [
    {
     "data": {
      "text/html": [
       "<table>\n",
       "<thead>\n",
       "<tr><th>#                            </th><th style=\"text-align: right;\">  year</th><th style=\"text-align: right;\">  weekday</th></tr>\n",
       "</thead>\n",
       "<tbody>\n",
       "<tr><td><i style='opacity: 0.6'>0</i></td><td style=\"text-align: right;\">  2012</td><td style=\"text-align: right;\">        0</td></tr>\n",
       "<tr><td><i style='opacity: 0.6'>1</i></td><td style=\"text-align: right;\">  2015</td><td style=\"text-align: right;\">        4</td></tr>\n",
       "<tr><td><i style='opacity: 0.6'>2</i></td><td style=\"text-align: right;\">  2019</td><td style=\"text-align: right;\">        6</td></tr>\n",
       "</tbody>\n",
       "</table>"
      ],
      "text/plain": [
       "  #    year    weekday\n",
       "  0    2012          0\n",
       "  1    2015          4\n",
       "  2    2019          6"
      ]
     },
     "execution_count": 138,
     "metadata": {},
     "output_type": "execute_result"
    }
   ],
   "source": [
    "df1 = from_dataframe_to_vaex(df)\n",
    "df1"
   ]
  },
  {
   "cell_type": "code",
   "execution_count": 139,
   "id": "db6e43f3-fb16-4195-8ad9-305e8029bee1",
   "metadata": {},
   "outputs": [
    {
     "ename": "IndexError",
     "evalue": "index 2012 is out of bounds for axis 0 with size 8",
     "output_type": "error",
     "traceback": [
      "\u001b[1;31m---------------------------------------------------------------------------\u001b[0m",
      "\u001b[1;31mIndexError\u001b[0m                                Traceback (most recent call last)",
      "\u001b[1;32m<ipython-input-139-478118acabb9>\u001b[0m in \u001b[0;36m<module>\u001b[1;34m\u001b[0m\n\u001b[0;32m      1\u001b[0m \u001b[0mget_ipython\u001b[0m\u001b[1;33m(\u001b[0m\u001b[1;33m)\u001b[0m\u001b[1;33m.\u001b[0m\u001b[0mrun_line_magic\u001b[0m\u001b[1;33m(\u001b[0m\u001b[1;34m'run'\u001b[0m\u001b[1;33m,\u001b[0m \u001b[1;34m'pandas_implementation.py'\u001b[0m\u001b[1;33m)\u001b[0m\u001b[1;33m\u001b[0m\u001b[1;33m\u001b[0m\u001b[0m\n\u001b[1;32m----> 2\u001b[1;33m \u001b[0mdf2\u001b[0m \u001b[1;33m=\u001b[0m \u001b[0mfrom_dataframe\u001b[0m\u001b[1;33m(\u001b[0m\u001b[0mdf1\u001b[0m\u001b[1;33m)\u001b[0m\u001b[1;33m\u001b[0m\u001b[1;33m\u001b[0m\u001b[0m\n\u001b[0m\u001b[0;32m      3\u001b[0m \u001b[0mdf2\u001b[0m\u001b[1;33m\u001b[0m\u001b[1;33m\u001b[0m\u001b[0m\n\u001b[0;32m      4\u001b[0m \u001b[1;33m\u001b[0m\u001b[0m\n\u001b[0;32m      5\u001b[0m \u001b[1;31m# There is a probem in convert_categorical_column\u001b[0m\u001b[1;33m\u001b[0m\u001b[1;33m\u001b[0m\u001b[1;33m\u001b[0m\u001b[0m\n",
      "\u001b[1;32m~\\Documents\\Python Scripts\\pandas_implementation.py\u001b[0m in \u001b[0;36mfrom_dataframe\u001b[1;34m(df)\u001b[0m\n\u001b[0;32m     47\u001b[0m         \u001b[1;32mraise\u001b[0m \u001b[0mValueError\u001b[0m\u001b[1;33m(\u001b[0m\u001b[1;34m\"`df` does not support __dataframe__\"\u001b[0m\u001b[1;33m)\u001b[0m\u001b[1;33m\u001b[0m\u001b[1;33m\u001b[0m\u001b[0m\n\u001b[0;32m     48\u001b[0m \u001b[1;33m\u001b[0m\u001b[0m\n\u001b[1;32m---> 49\u001b[1;33m     \u001b[1;32mreturn\u001b[0m \u001b[0m_from_dataframe\u001b[0m\u001b[1;33m(\u001b[0m\u001b[0mdf\u001b[0m\u001b[1;33m.\u001b[0m\u001b[0m__dataframe__\u001b[0m\u001b[1;33m(\u001b[0m\u001b[1;33m)\u001b[0m\u001b[1;33m)\u001b[0m\u001b[1;33m\u001b[0m\u001b[1;33m\u001b[0m\u001b[0m\n\u001b[0m\u001b[0;32m     50\u001b[0m \u001b[1;33m\u001b[0m\u001b[0m\n\u001b[0;32m     51\u001b[0m \u001b[1;33m\u001b[0m\u001b[0m\n",
      "\u001b[1;32m~\\Documents\\Python Scripts\\pandas_implementation.py\u001b[0m in \u001b[0;36m_from_dataframe\u001b[1;34m(df)\u001b[0m\n\u001b[0;32m     70\u001b[0m             \u001b[0mcolumns\u001b[0m\u001b[1;33m[\u001b[0m\u001b[0mname\u001b[0m\u001b[1;33m]\u001b[0m \u001b[1;33m=\u001b[0m \u001b[0mconvert_column_to_ndarray\u001b[0m\u001b[1;33m(\u001b[0m\u001b[0mcol\u001b[0m\u001b[1;33m)\u001b[0m\u001b[1;33m\u001b[0m\u001b[1;33m\u001b[0m\u001b[0m\n\u001b[0;32m     71\u001b[0m         \u001b[1;32melif\u001b[0m \u001b[0mcol\u001b[0m\u001b[1;33m.\u001b[0m\u001b[0mdtype\u001b[0m\u001b[1;33m[\u001b[0m\u001b[1;36m0\u001b[0m\u001b[1;33m]\u001b[0m \u001b[1;33m==\u001b[0m \u001b[0m_k\u001b[0m\u001b[1;33m.\u001b[0m\u001b[0mCATEGORICAL\u001b[0m\u001b[1;33m:\u001b[0m\u001b[1;33m\u001b[0m\u001b[1;33m\u001b[0m\u001b[0m\n\u001b[1;32m---> 72\u001b[1;33m             \u001b[0mcolumns\u001b[0m\u001b[1;33m[\u001b[0m\u001b[0mname\u001b[0m\u001b[1;33m]\u001b[0m \u001b[1;33m=\u001b[0m \u001b[0mconvert_categorical_column\u001b[0m\u001b[1;33m(\u001b[0m\u001b[0mcol\u001b[0m\u001b[1;33m)\u001b[0m\u001b[1;33m\u001b[0m\u001b[1;33m\u001b[0m\u001b[0m\n\u001b[0m\u001b[0;32m     73\u001b[0m         \u001b[1;32melse\u001b[0m\u001b[1;33m:\u001b[0m\u001b[1;33m\u001b[0m\u001b[1;33m\u001b[0m\u001b[0m\n\u001b[0;32m     74\u001b[0m             \u001b[1;32mraise\u001b[0m \u001b[0mNotImplementedError\u001b[0m\u001b[1;33m(\u001b[0m\u001b[1;34mf\"Data type {col.dtype[0]} not handled yet\"\u001b[0m\u001b[1;33m)\u001b[0m\u001b[1;33m\u001b[0m\u001b[1;33m\u001b[0m\u001b[0m\n",
      "\u001b[1;32m~\\Documents\\Python Scripts\\pandas_implementation.py\u001b[0m in \u001b[0;36mconvert_categorical_column\u001b[1;34m(col)\u001b[0m\n\u001b[0;32m    144\u001b[0m     \u001b[0mcodes_buffer\u001b[0m\u001b[1;33m,\u001b[0m \u001b[0mcodes_dtype\u001b[0m \u001b[1;33m=\u001b[0m \u001b[0mcol\u001b[0m\u001b[1;33m.\u001b[0m\u001b[0mget_data_buffer\u001b[0m\u001b[1;33m(\u001b[0m\u001b[1;33m)\u001b[0m\u001b[1;33m\u001b[0m\u001b[1;33m\u001b[0m\u001b[0m\n\u001b[0;32m    145\u001b[0m     \u001b[0mcodes\u001b[0m \u001b[1;33m=\u001b[0m \u001b[0mbuffer_to_ndarray\u001b[0m\u001b[1;33m(\u001b[0m\u001b[0mcodes_buffer\u001b[0m\u001b[1;33m,\u001b[0m \u001b[0mcodes_dtype\u001b[0m\u001b[1;33m)\u001b[0m\u001b[1;33m\u001b[0m\u001b[1;33m\u001b[0m\u001b[0m\n\u001b[1;32m--> 146\u001b[1;33m     \u001b[0mvalues\u001b[0m \u001b[1;33m=\u001b[0m \u001b[0mcategories\u001b[0m\u001b[1;33m[\u001b[0m\u001b[0mcodes\u001b[0m\u001b[1;33m]\u001b[0m\u001b[1;33m\u001b[0m\u001b[1;33m\u001b[0m\u001b[0m\n\u001b[0m\u001b[0;32m    147\u001b[0m \u001b[1;33m\u001b[0m\u001b[0m\n\u001b[0;32m    148\u001b[0m     \u001b[1;31m# Seems like Pandas can only construct with non-null values, so need to\u001b[0m\u001b[1;33m\u001b[0m\u001b[1;33m\u001b[0m\u001b[1;33m\u001b[0m\u001b[0m\n",
      "\u001b[1;31mIndexError\u001b[0m: index 2012 is out of bounds for axis 0 with size 8"
     ]
    }
   ],
   "source": [
    "%run pandas_implementation.py\n",
    "df2 = from_dataframe(df1)\n",
    "df2\n",
    "\n",
    "# There is a probem in convert_categorical_column\n",
    "# I changed the method for Vaex so much it isn't compatible with Pandas anymore\n",
    "# Have to correct it so it understands the codes!\n",
    "\n",
    "# INFO\n",
    "# categories = lables in Vaex\n",
    "# values vs codes = not clear in Vaex\n",
    "## categorize wih labels -> codes are the values, labels are the categories\n",
    "## categorize wih min & max -> values are equal to categories and codes need to be constructed!\n",
    "### done in the get_data_buffer"
   ]
  },
  {
   "cell_type": "code",
   "execution_count": 140,
   "id": "917b7e48-49eb-4645-8bca-518eb7768195",
   "metadata": {},
   "outputs": [],
   "source": [
    "# Lets research mapping of _VaexDataFrame"
   ]
  },
  {
   "cell_type": "code",
   "execution_count": 141,
   "id": "653e276b-0df3-402c-817c-df522d0713e0",
   "metadata": {},
   "outputs": [],
   "source": [
    "%run vaex_implementation_v2.py"
   ]
  },
  {
   "cell_type": "code",
   "execution_count": 142,
   "id": "58568da8-23d6-4775-9007-e962f9aedfbf",
   "metadata": {},
   "outputs": [],
   "source": [
    "# What is the ouput of .describe_categorical\n",
    "# No codes passed here\n",
    "o, i, m = _VaexColumn(df.weekday, a).describe_categorical"
   ]
  },
  {
   "cell_type": "code",
   "execution_count": 143,
   "id": "52a40d0c-5d47-4863-a5b1-c6c4564c1c15",
   "metadata": {},
   "outputs": [
    {
     "data": {
      "text/plain": [
       "(False,\n",
       " True,\n",
       " {0: 'Mon', 1: 'Tue', 2: 'Wed', 3: 'Thu', 4: 'Fri', 5: 'Sat', 6: 'Sun'})"
      ]
     },
     "execution_count": 143,
     "metadata": {},
     "output_type": "execute_result"
    }
   ],
   "source": [
    "o, i, m"
   ]
  },
  {
   "cell_type": "code",
   "execution_count": 144,
   "id": "25f267cd-f16d-4d2b-92e7-a277711aaa1d",
   "metadata": {},
   "outputs": [
    {
     "data": {
      "text/plain": [
       "VaexBuffer({'bufsize': 12, 'ptr': 1692088539872, 'device': 'CPU'})"
      ]
     },
     "execution_count": 144,
     "metadata": {},
     "output_type": "execute_result"
    }
   ],
   "source": [
    "# cv1, cv2 = _VaexColumn(df.year, a).get_data_buffer()\n",
    "cv1"
   ]
  },
  {
   "cell_type": "code",
   "execution_count": 145,
   "id": "0a2c2df7-7994-4821-9b52-8ad4a82c396e",
   "metadata": {},
   "outputs": [
    {
     "data": {
      "text/plain": [
       "(<_DtypeKind.INT: 0>, 32, '<i4', '=')"
      ]
     },
     "execution_count": 145,
     "metadata": {},
     "output_type": "execute_result"
    }
   ],
   "source": [
    "cv2"
   ]
  },
  {
   "cell_type": "code",
   "execution_count": 146,
   "id": "92498b9e-cb40-4d2e-bb4f-eba8e50f3ed0",
   "metadata": {},
   "outputs": [
    {
     "data": {
      "text/plain": [
       "array([2012, 2015, 2019])"
      ]
     },
     "execution_count": 146,
     "metadata": {},
     "output_type": "execute_result"
    }
   ],
   "source": [
    "# This should pass codes not values!\n",
    "buffer_to_ndarray(cv1, cv2)"
   ]
  },
  {
   "cell_type": "code",
   "execution_count": 147,
   "id": "cb853ba6-e577-4158-9a3f-cbae679e6edf",
   "metadata": {},
   "outputs": [],
   "source": [
    "# Check the data I have again"
   ]
  },
  {
   "cell_type": "code",
   "execution_count": 148,
   "id": "c12182c6-da57-45fa-a33e-0aa52ce194d5",
   "metadata": {},
   "outputs": [
    {
     "data": {
      "text/plain": [
       "['Mon', 'Tue', 'Wed', 'Thu', 'Fri', 'Sat', 'Sun']"
      ]
     },
     "execution_count": 148,
     "metadata": {},
     "output_type": "execute_result"
    }
   ],
   "source": [
    "df.category_labels(column2)"
   ]
  },
  {
   "cell_type": "code",
   "execution_count": 149,
   "id": "e87bfa3c-402f-4d29-a062-aa74a749c385",
   "metadata": {},
   "outputs": [
    {
     "data": {
      "text/plain": [
       "[2012, 2013, 2014, 2015, 2016, 2017, 2018, 2019]"
      ]
     },
     "execution_count": 149,
     "metadata": {},
     "output_type": "execute_result"
    }
   ],
   "source": [
    "df.category_labels(column)"
   ]
  },
  {
   "cell_type": "code",
   "execution_count": 150,
   "id": "dd1b5c1f-801f-4e70-82c6-ece42bd7ec4d",
   "metadata": {},
   "outputs": [
    {
     "data": {
      "text/plain": [
       "array([0, 4, 6])"
      ]
     },
     "execution_count": 150,
     "metadata": {},
     "output_type": "execute_result"
    }
   ],
   "source": [
    "df[column2].values"
   ]
  },
  {
   "cell_type": "code",
   "execution_count": 151,
   "id": "3bb9ee35-c950-425d-bad2-79644b298816",
   "metadata": {},
   "outputs": [
    {
     "data": {
      "text/plain": [
       "array([2012, 2015, 2019])"
      ]
     },
     "execution_count": 151,
     "metadata": {},
     "output_type": "execute_result"
    }
   ],
   "source": [
    "df[column].values"
   ]
  },
  {
   "cell_type": "code",
   "execution_count": 152,
   "id": "70ab0518-f6f0-4098-b0e3-518dc14dabce",
   "metadata": {},
   "outputs": [
    {
     "data": {
      "text/plain": [
       "True"
      ]
     },
     "execution_count": 152,
     "metadata": {},
     "output_type": "execute_result"
    }
   ],
   "source": [
    "df[column].values[1] in df.category_labels(column)"
   ]
  },
  {
   "cell_type": "code",
   "execution_count": 153,
   "id": "1413e85b-d90f-4086-b30b-62c0fdd1f3ca",
   "metadata": {},
   "outputs": [
    {
     "data": {
      "text/plain": [
       "False"
      ]
     },
     "execution_count": 153,
     "metadata": {},
     "output_type": "execute_result"
    }
   ],
   "source": [
    "df[column2].values[1] in df.category_labels(column2)"
   ]
  },
  {
   "cell_type": "code",
   "execution_count": 154,
   "id": "19e71a12-ba0b-4ec9-93eb-70a8d0ff1b96",
   "metadata": {},
   "outputs": [
    {
     "name": "stdout",
     "output_type": "stream",
     "text": [
      "(array([0], dtype=int64),)\n",
      "(array([3], dtype=int64),)\n",
      "(array([7], dtype=int64),)\n"
     ]
    }
   ],
   "source": [
    "# Maybe I can define which option needs code calculation with checking\n",
    "# if value of the categorical column is in the list of categories (categorize with boundaries) -> then I need to calculate code\n",
    "# if value is not found in the list of the categories (categorize with labels list) -> that means it is already a code\n",
    "\n",
    "codes = df[column].values\n",
    "for i in df[column].values:\n",
    "    print(np.where(df.category_labels(column) == i)) # if values are same as labels"
   ]
  },
  {
   "cell_type": "code",
   "execution_count": 155,
   "id": "e06b3dd8-ad3e-4846-b2d3-58db8f469efc",
   "metadata": {},
   "outputs": [
    {
     "data": {
      "text/plain": [
       "array([2012, 2015, 2019])"
      ]
     },
     "execution_count": 155,
     "metadata": {},
     "output_type": "execute_result"
    }
   ],
   "source": [
    "codes"
   ]
  },
  {
   "cell_type": "code",
   "execution_count": 156,
   "id": "7458d05d-bc23-4192-ba2d-8b155eb069e4",
   "metadata": {},
   "outputs": [
    {
     "data": {
      "text/html": [
       "<table>\n",
       "<thead>\n",
       "<tr><th>#                            </th><th style=\"text-align: right;\">  year</th><th style=\"text-align: right;\">  weekday</th></tr>\n",
       "</thead>\n",
       "<tbody>\n",
       "<tr><td><i style='opacity: 0.6'>0</i></td><td style=\"text-align: right;\">  2012</td><td style=\"text-align: right;\">        0</td></tr>\n",
       "<tr><td><i style='opacity: 0.6'>1</i></td><td style=\"text-align: right;\">  2015</td><td style=\"text-align: right;\">        4</td></tr>\n",
       "<tr><td><i style='opacity: 0.6'>2</i></td><td style=\"text-align: right;\">  2019</td><td style=\"text-align: right;\">        6</td></tr>\n",
       "</tbody>\n",
       "</table>"
      ],
      "text/plain": [
       "  #    year    weekday\n",
       "  0    2012          0\n",
       "  1    2015          4\n",
       "  2    2019          6"
      ]
     },
     "execution_count": 156,
     "metadata": {},
     "output_type": "execute_result"
    }
   ],
   "source": [
    "df"
   ]
  },
  {
   "cell_type": "code",
   "execution_count": 157,
   "id": "cc44e41e-2082-4de1-8e86-5b80c5a068bd",
   "metadata": {},
   "outputs": [],
   "source": [
    "# There were a problem with joining the columns back to the Vaex Dataframe at _from_dataframe_to_vaex\n",
    "# I need to check again which kind of values I get\n",
    "## numeric when categorize was made with boundaries/values care not of string type.\n",
    "## string when catwgorize was done with labels"
   ]
  },
  {
   "cell_type": "code",
   "execution_count": 158,
   "id": "bc8bdc98-6c4d-4079-9904-e638a53549ce",
   "metadata": {},
   "outputs": [
    {
     "data": {
      "text/html": [
       "<table>\n",
       "<thead>\n",
       "<tr><th>#                            </th><th style=\"text-align: right;\">  year</th><th style=\"text-align: right;\">  weekday</th></tr>\n",
       "</thead>\n",
       "<tbody>\n",
       "<tr><td><i style='opacity: 0.6'>0</i></td><td style=\"text-align: right;\">  2012</td><td style=\"text-align: right;\">        0</td></tr>\n",
       "<tr><td><i style='opacity: 0.6'>1</i></td><td style=\"text-align: right;\">  2015</td><td style=\"text-align: right;\">        4</td></tr>\n",
       "<tr><td><i style='opacity: 0.6'>2</i></td><td style=\"text-align: right;\">  2019</td><td style=\"text-align: right;\">        6</td></tr>\n",
       "</tbody>\n",
       "</table>"
      ],
      "text/plain": [
       "  #    year    weekday\n",
       "  0    2012          0\n",
       "  1    2015          4\n",
       "  2    2019          6"
      ]
     },
     "execution_count": 158,
     "metadata": {},
     "output_type": "execute_result"
    }
   ],
   "source": [
    "# Checking if I can male labels numeric also! - Yes\n",
    "df5 = vaex.from_arrays(year=[2012, 2015, 2019], weekday=[0, 4, 6])\n",
    "df5 = df5.categorize('weekday', labels=['Mon', 'Tue', 'Wed', 'Thu', 'Fri', 'Sat', 'Sun'])\n",
    "df5"
   ]
  },
  {
   "cell_type": "code",
   "execution_count": 159,
   "id": "294294c3-85cb-47ea-b485-cd35e914a208",
   "metadata": {},
   "outputs": [],
   "source": [
    "df5 = df5.categorize('year', labels=[2012, 2013, 2014, 2015, 2016, 2017, 2018, 2019])"
   ]
  },
  {
   "cell_type": "code",
   "execution_count": 160,
   "id": "b9dff380-60f2-4960-950f-fc315001a94e",
   "metadata": {},
   "outputs": [
    {
     "data": {
      "text/html": [
       "<table>\n",
       "<thead>\n",
       "<tr><th>#                            </th><th style=\"text-align: right;\">  year</th><th style=\"text-align: right;\">  weekday</th></tr>\n",
       "</thead>\n",
       "<tbody>\n",
       "<tr><td><i style='opacity: 0.6'>0</i></td><td style=\"text-align: right;\">  2012</td><td style=\"text-align: right;\">        0</td></tr>\n",
       "<tr><td><i style='opacity: 0.6'>1</i></td><td style=\"text-align: right;\">  2015</td><td style=\"text-align: right;\">        4</td></tr>\n",
       "<tr><td><i style='opacity: 0.6'>2</i></td><td style=\"text-align: right;\">  2019</td><td style=\"text-align: right;\">        6</td></tr>\n",
       "</tbody>\n",
       "</table>"
      ],
      "text/plain": [
       "  #    year    weekday\n",
       "  0    2012          0\n",
       "  1    2015          4\n",
       "  2    2019          6"
      ]
     },
     "execution_count": 160,
     "metadata": {},
     "output_type": "execute_result"
    }
   ],
   "source": [
    "df5"
   ]
  },
  {
   "cell_type": "code",
   "execution_count": 161,
   "id": "830c5ad5-7337-4d0b-b253-206324ae3457",
   "metadata": {},
   "outputs": [
    {
     "data": {
      "text/plain": [
       "True"
      ]
     },
     "execution_count": 161,
     "metadata": {},
     "output_type": "execute_result"
    }
   ],
   "source": [
    "df5.is_category('weekday')"
   ]
  },
  {
   "cell_type": "code",
   "execution_count": 162,
   "id": "876d2790-c1d4-463f-a76f-e12f2ce58eeb",
   "metadata": {},
   "outputs": [
    {
     "data": {
      "text/plain": [
       "True"
      ]
     },
     "execution_count": 162,
     "metadata": {},
     "output_type": "execute_result"
    }
   ],
   "source": [
    "df5.is_category('year')"
   ]
  },
  {
   "cell_type": "code",
   "execution_count": 163,
   "id": "1523971f-c9f8-4024-b300-bac89837f90e",
   "metadata": {},
   "outputs": [],
   "source": [
    "# I will need codes, values and categories to be in output!"
   ]
  },
  {
   "cell_type": "code",
   "execution_count": 164,
   "id": "d574f1e8-1d30-4a18-b311-73c006a496ce",
   "metadata": {},
   "outputs": [
    {
     "data": {
      "text/plain": [
       "(array([2012, 2015, 2019]),\n",
       " array([2012, 2013, 2014, 2015, 2016, 2017, 2018, 2019]))"
      ]
     },
     "execution_count": 164,
     "metadata": {},
     "output_type": "execute_result"
    }
   ],
   "source": [
    "convert_categorical_column(_VaexColumn(df.year, a))"
   ]
  },
  {
   "cell_type": "code",
   "execution_count": 165,
   "id": "f85f1795-3b7f-451a-b1c3-03783e13285c",
   "metadata": {},
   "outputs": [
    {
     "data": {
      "text/plain": [
       "(array([0, 4, 6]),\n",
       " array(['Mon', 'Tue', 'Wed', 'Thu', 'Fri', 'Sat', 'Sun'], dtype='<U3'))"
      ]
     },
     "execution_count": 165,
     "metadata": {},
     "output_type": "execute_result"
    }
   ],
   "source": [
    "convert_categorical_column(_VaexColumn(df.weekday, a))"
   ]
  },
  {
   "cell_type": "code",
   "execution_count": 166,
   "id": "54da2a71-3b67-4593-922c-c23068677b30",
   "metadata": {},
   "outputs": [],
   "source": [
    "%run vaex_implementation_v3.py"
   ]
  },
  {
   "cell_type": "code",
   "execution_count": 167,
   "id": "fa3a4eda-5727-46c8-ae9c-4eb50119189b",
   "metadata": {},
   "outputs": [
    {
     "data": {
      "text/plain": [
       "(array([0, 3, 7]),\n",
       " array([2012, 2015, 2019]),\n",
       " array([2012, 2013, 2014, 2015, 2016, 2017, 2018, 2019]))"
      ]
     },
     "execution_count": 167,
     "metadata": {},
     "output_type": "execute_result"
    }
   ],
   "source": [
    "convert_categorical_column(_VaexColumn(df.year, a))"
   ]
  },
  {
   "cell_type": "code",
   "execution_count": 168,
   "id": "26b986e1-85b0-4142-9f07-157d44f50a86",
   "metadata": {},
   "outputs": [
    {
     "data": {
      "text/plain": [
       "(array([0, 4, 6]),\n",
       " array(['Mon', 'Fri', 'Sun'], dtype='<U3'),\n",
       " array(['Mon', 'Tue', 'Wed', 'Thu', 'Fri', 'Sat', 'Sun'], dtype='<U3'))"
      ]
     },
     "execution_count": 168,
     "metadata": {},
     "output_type": "execute_result"
    }
   ],
   "source": [
    "convert_categorical_column(_VaexColumn(df.weekday, a))"
   ]
  },
  {
   "cell_type": "code",
   "execution_count": 169,
   "id": "bd0e786b-a489-4d1c-b75b-3aeba5b59581",
   "metadata": {},
   "outputs": [],
   "source": [
    "# Better! =)"
   ]
  },
  {
   "cell_type": "markdown",
   "id": "86008487-aa86-4faf-8d90-8c9980d723f3",
   "metadata": {},
   "source": [
    "# Now it should work!"
   ]
  },
  {
   "cell_type": "code",
   "execution_count": 242,
   "id": "abf78d3e-1cab-4814-a3fc-45949f6270dc",
   "metadata": {},
   "outputs": [
    {
     "data": {
      "text/html": [
       "<table>\n",
       "<thead>\n",
       "<tr><th>#                            </th><th style=\"text-align: right;\">  year</th><th style=\"text-align: right;\">  weekday</th></tr>\n",
       "</thead>\n",
       "<tbody>\n",
       "<tr><td><i style='opacity: 0.6'>0</i></td><td style=\"text-align: right;\">  2012</td><td style=\"text-align: right;\">        0</td></tr>\n",
       "<tr><td><i style='opacity: 0.6'>1</i></td><td style=\"text-align: right;\">  2015</td><td style=\"text-align: right;\">        4</td></tr>\n",
       "<tr><td><i style='opacity: 0.6'>2</i></td><td style=\"text-align: right;\">  2019</td><td style=\"text-align: right;\">        6</td></tr>\n",
       "</tbody>\n",
       "</table>"
      ],
      "text/plain": [
       "  #    year    weekday\n",
       "  0    2012          0\n",
       "  1    2015          4\n",
       "  2    2019          6"
      ]
     },
     "execution_count": 242,
     "metadata": {},
     "output_type": "execute_result"
    }
   ],
   "source": [
    "%run vaex_implementation_v3.py\n",
    "\n",
    "# test data\n",
    "df = vaex.from_arrays(year=[2012, 2015, 2019], weekday=[0, 4, 6])\n",
    "df = df.categorize('year', min_value=2012, max_value=2019)\n",
    "df = df.categorize('weekday', labels=['Mon', 'Tue', 'Wed', 'Thu', 'Fri', 'Sat', 'Sun'])\n",
    "df"
   ]
  },
  {
   "cell_type": "code",
   "execution_count": 243,
   "id": "3aa6f014-a468-4bfd-aa37-16450944241d",
   "metadata": {},
   "outputs": [
    {
     "data": {
      "text/html": [
       "<table>\n",
       "<thead>\n",
       "<tr><th>#                            </th><th style=\"text-align: right;\">  year</th><th style=\"text-align: right;\">  weekday</th></tr>\n",
       "</thead>\n",
       "<tbody>\n",
       "<tr><td><i style='opacity: 0.6'>0</i></td><td style=\"text-align: right;\">  2012</td><td style=\"text-align: right;\">        0</td></tr>\n",
       "<tr><td><i style='opacity: 0.6'>1</i></td><td style=\"text-align: right;\">  2015</td><td style=\"text-align: right;\">        4</td></tr>\n",
       "<tr><td><i style='opacity: 0.6'>2</i></td><td style=\"text-align: right;\">  2019</td><td style=\"text-align: right;\">        6</td></tr>\n",
       "</tbody>\n",
       "</table>"
      ],
      "text/plain": [
       "  #    year    weekday\n",
       "  0    2012          0\n",
       "  1    2015          4\n",
       "  2    2019          6"
      ]
     },
     "execution_count": 243,
     "metadata": {},
     "output_type": "execute_result"
    }
   ],
   "source": [
    "df_vaex = from_dataframe_to_vaex(df)\n",
    "df_vaex"
   ]
  },
  {
   "cell_type": "code",
   "execution_count": 244,
   "id": "1fd5e159-2833-486f-a97f-c9cc7e2806e9",
   "metadata": {},
   "outputs": [
    {
     "data": {
      "text/plain": [
       "True"
      ]
     },
     "execution_count": 244,
     "metadata": {},
     "output_type": "execute_result"
    }
   ],
   "source": [
    "df_vaex.is_category('year')"
   ]
  },
  {
   "cell_type": "code",
   "execution_count": 245,
   "id": "7fdb2141-1df3-4dd9-98c4-4e61649936da",
   "metadata": {},
   "outputs": [
    {
     "data": {
      "text/plain": [
       "True"
      ]
     },
     "execution_count": 245,
     "metadata": {},
     "output_type": "execute_result"
    }
   ],
   "source": [
    "df_vaex.is_category('weekday')"
   ]
  },
  {
   "cell_type": "markdown",
   "id": "9daca992-a556-4e59-b796-fd3dd2505681",
   "metadata": {},
   "source": [
    "## Huray!\n",
    "Now all we need to do is to check the roundtrip Vaex -> Pandas, Pandas -> Vaex"
   ]
  },
  {
   "cell_type": "code",
   "execution_count": 260,
   "id": "76ad71d7-73f8-457a-acdc-14e67c6abf5d",
   "metadata": {},
   "outputs": [
    {
     "data": {
      "text/html": [
       "<div>\n",
       "<style scoped>\n",
       "    .dataframe tbody tr th:only-of-type {\n",
       "        vertical-align: middle;\n",
       "    }\n",
       "\n",
       "    .dataframe tbody tr th {\n",
       "        vertical-align: top;\n",
       "    }\n",
       "\n",
       "    .dataframe thead th {\n",
       "        text-align: right;\n",
       "    }\n",
       "</style>\n",
       "<table border=\"1\" class=\"dataframe\">\n",
       "  <thead>\n",
       "    <tr style=\"text-align: right;\">\n",
       "      <th></th>\n",
       "      <th>year</th>\n",
       "      <th>weekday</th>\n",
       "    </tr>\n",
       "  </thead>\n",
       "  <tbody>\n",
       "    <tr>\n",
       "      <th>0</th>\n",
       "      <td>2012</td>\n",
       "      <td>Mon</td>\n",
       "    </tr>\n",
       "    <tr>\n",
       "      <th>1</th>\n",
       "      <td>2015</td>\n",
       "      <td>Fri</td>\n",
       "    </tr>\n",
       "    <tr>\n",
       "      <th>2</th>\n",
       "      <td>2019</td>\n",
       "      <td>Sun</td>\n",
       "    </tr>\n",
       "  </tbody>\n",
       "</table>\n",
       "</div>"
      ],
      "text/plain": [
       "   year weekday\n",
       "0  2012     Mon\n",
       "1  2015     Fri\n",
       "2  2019     Sun"
      ]
     },
     "execution_count": 260,
     "metadata": {},
     "output_type": "execute_result"
    }
   ],
   "source": [
    "# Vaex -> Pandas\n",
    "\n",
    "df_pandas = from_dataframe(df_vaex)\n",
    "df_pandas"
   ]
  },
  {
   "cell_type": "code",
   "execution_count": 250,
   "id": "b32ca00c-6ca5-4740-873a-e031f2e6db04",
   "metadata": {},
   "outputs": [
    {
     "data": {
      "text/plain": [
       "year       category\n",
       "weekday    category\n",
       "dtype: object"
      ]
     },
     "execution_count": 250,
     "metadata": {},
     "output_type": "execute_result"
    }
   ],
   "source": [
    "df_pandas.dtypes"
   ]
  },
  {
   "cell_type": "code",
   "execution_count": 259,
   "id": "2c6ae8f1-0ea3-4213-96a4-44093e3d3c70",
   "metadata": {},
   "outputs": [
    {
     "data": {
      "text/plain": [
       "year       int64\n",
       "weekday     int8\n",
       "dtype: object"
      ]
     },
     "execution_count": 259,
     "metadata": {},
     "output_type": "execute_result"
    }
   ],
   "source": [
    "# Pandas -> Vaex\n",
    "\n",
    "dfp_vaex = from_dataframe_to_vaex(df_pandas)\n",
    "dfp_vaex.dtypes"
   ]
  },
  {
   "cell_type": "code",
   "execution_count": 254,
   "id": "5c28df69-34df-4cd3-9539-b5eb7531048e",
   "metadata": {},
   "outputs": [
    {
     "data": {
      "text/html": [
       "<table>\n",
       "<thead>\n",
       "<tr><th>#                            </th><th style=\"text-align: right;\">  year</th><th style=\"text-align: right;\">  weekday</th></tr>\n",
       "</thead>\n",
       "<tbody>\n",
       "<tr><td><i style='opacity: 0.6'>0</i></td><td style=\"text-align: right;\">  2012</td><td style=\"text-align: right;\">        0</td></tr>\n",
       "<tr><td><i style='opacity: 0.6'>1</i></td><td style=\"text-align: right;\">  2015</td><td style=\"text-align: right;\">        4</td></tr>\n",
       "<tr><td><i style='opacity: 0.6'>2</i></td><td style=\"text-align: right;\">  2019</td><td style=\"text-align: right;\">        6</td></tr>\n",
       "</tbody>\n",
       "</table>"
      ],
      "text/plain": [
       "  #    year    weekday\n",
       "  0    2012          0\n",
       "  1    2015          4\n",
       "  2    2019          6"
      ]
     },
     "execution_count": 254,
     "metadata": {},
     "output_type": "execute_result"
    }
   ],
   "source": [
    "dfp_vaex"
   ]
  },
  {
   "cell_type": "code",
   "execution_count": 256,
   "id": "38d64195-eb8a-49ef-9d15-fe93d4ce82d0",
   "metadata": {},
   "outputs": [
    {
     "data": {
      "text/plain": [
       "True"
      ]
     },
     "execution_count": 256,
     "metadata": {},
     "output_type": "execute_result"
    }
   ],
   "source": [
    "dfp_vaex.is_category('year')"
   ]
  },
  {
   "cell_type": "code",
   "execution_count": 261,
   "id": "d6d9b426-cc7c-438c-81a1-bd566341fe48",
   "metadata": {},
   "outputs": [
    {
     "data": {
      "text/html": [
       "<div>\n",
       "<style scoped>\n",
       "    .dataframe tbody tr th:only-of-type {\n",
       "        vertical-align: middle;\n",
       "    }\n",
       "\n",
       "    .dataframe tbody tr th {\n",
       "        vertical-align: top;\n",
       "    }\n",
       "\n",
       "    .dataframe thead th {\n",
       "        text-align: right;\n",
       "    }\n",
       "</style>\n",
       "<table border=\"1\" class=\"dataframe\">\n",
       "  <thead>\n",
       "    <tr style=\"text-align: right;\">\n",
       "      <th></th>\n",
       "      <th>year</th>\n",
       "      <th>weekday</th>\n",
       "    </tr>\n",
       "  </thead>\n",
       "  <tbody>\n",
       "    <tr>\n",
       "      <th>0</th>\n",
       "      <td>2012</td>\n",
       "      <td>Mon</td>\n",
       "    </tr>\n",
       "    <tr>\n",
       "      <th>1</th>\n",
       "      <td>2015</td>\n",
       "      <td>Fri</td>\n",
       "    </tr>\n",
       "    <tr>\n",
       "      <th>2</th>\n",
       "      <td>2019</td>\n",
       "      <td>Sun</td>\n",
       "    </tr>\n",
       "  </tbody>\n",
       "</table>\n",
       "</div>"
      ],
      "text/plain": [
       "   year weekday\n",
       "0  2012     Mon\n",
       "1  2015     Fri\n",
       "2  2019     Sun"
      ]
     },
     "execution_count": 261,
     "metadata": {},
     "output_type": "execute_result"
    }
   ],
   "source": [
    "# Again Vaex -> Pandas\n",
    "\n",
    "from_dataframe(dfp_vaex)"
   ]
  },
  {
   "cell_type": "code",
   "execution_count": 262,
   "id": "f0b13523-5452-4744-a281-95e8b3997d46",
   "metadata": {},
   "outputs": [],
   "source": [
    "# THE END #"
   ]
  }
 ],
 "metadata": {
  "kernelspec": {
   "display_name": "Python 3",
   "language": "python",
   "name": "python3"
  },
  "language_info": {
   "codemirror_mode": {
    "name": "ipython",
    "version": 3
   },
   "file_extension": ".py",
   "mimetype": "text/x-python",
   "name": "python",
   "nbconvert_exporter": "python",
   "pygments_lexer": "ipython3",
   "version": "3.9.5"
  }
 },
 "nbformat": 4,
 "nbformat_minor": 5
}
