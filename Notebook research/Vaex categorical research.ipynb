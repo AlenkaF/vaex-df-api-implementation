{
 "cells": [
  {
   "cell_type": "markdown",
   "id": "6e47e568-66a2-4d55-bdb4-ea7f3a24a431",
   "metadata": {},
   "source": [
    "# Issues with using categorical data in vaex"
   ]
  },
  {
   "cell_type": "markdown",
   "id": "d4a41967-1089-4c10-80b0-941dd36af806",
   "metadata": {},
   "source": [
    "- [1. category_values](#Sec1)\n",
    "- [2. category_labels](#Sec2)\n",
    "- [3. _category_dictionary](#Sec3)\n",
    "- [4. numpy_dtype](#Sec4)"
   ]
  },
  {
   "cell_type": "markdown",
   "id": "64cb6af8-a198-4e43-bfba-f88247866c82",
   "metadata": {},
   "source": [
    "## 1. category_values <a id='Sec1'></a>\n",
    "Function category_values gives a KeyError as it calls a non-existing dict item from delf._categories[column]['values'].\n",
    "\n",
    "The function is not used iternally (as far as github search results show).\n",
    "What do do?\n",
    "- replace self._categories[column]['values'] with self.columns[column] or self[column].values in the category_values function.\n",
    "- if the function is not needed mark it as deprecated and raise warning/error"
   ]
  },
  {
   "cell_type": "code",
   "execution_count": 1,
   "id": "a5da68f6-2820-48f2-843d-5c34ccee85ac",
   "metadata": {},
   "outputs": [],
   "source": [
    "import vaex"
   ]
  },
  {
   "cell_type": "code",
   "execution_count": 2,
   "id": "5a490744-4eb7-4f49-9446-92929ee18673",
   "metadata": {},
   "outputs": [
    {
     "data": {
      "text/html": [
       "<table>\n",
       "<thead>\n",
       "<tr><th>#                            </th><th style=\"text-align: right;\">  year</th><th style=\"text-align: right;\">  weekday</th></tr>\n",
       "</thead>\n",
       "<tbody>\n",
       "<tr><td><i style='opacity: 0.6'>0</i></td><td style=\"text-align: right;\">  2012</td><td style=\"text-align: right;\">        0</td></tr>\n",
       "<tr><td><i style='opacity: 0.6'>1</i></td><td style=\"text-align: right;\">  2015</td><td style=\"text-align: right;\">        4</td></tr>\n",
       "<tr><td><i style='opacity: 0.6'>2</i></td><td style=\"text-align: right;\">  2019</td><td style=\"text-align: right;\">        6</td></tr>\n",
       "</tbody>\n",
       "</table>"
      ],
      "text/plain": [
       "  #    year    weekday\n",
       "  0    2012          0\n",
       "  1    2015          4\n",
       "  2    2019          6"
      ]
     },
     "execution_count": 2,
     "metadata": {},
     "output_type": "execute_result"
    }
   ],
   "source": [
    "# test data\n",
    "df = vaex.from_arrays(year=[2012, 2015, 2019], weekday=[0, 4, 6])\n",
    "df = df.categorize('year', min_value=2012, max_value=2019)\n",
    "df = df.categorize('weekday', labels=['Mon', 'Tue', 'Wed', 'Thu', 'Fri', 'Sat', 'Sun'])\n",
    "df"
   ]
  },
  {
   "cell_type": "code",
   "execution_count": 3,
   "id": "0fccd238-b6a2-4843-9ca0-23ebdd97618d",
   "metadata": {},
   "outputs": [
    {
     "data": {
      "text/plain": [
       "'year'"
      ]
     },
     "execution_count": 3,
     "metadata": {},
     "output_type": "execute_result"
    }
   ],
   "source": [
    "from vaex.utils import _ensure_string_from_expression\n",
    "column = _ensure_string_from_expression(df.year)\n",
    "column"
   ]
  },
  {
   "cell_type": "code",
   "execution_count": 4,
   "id": "87045485-b348-40b7-92e0-b3125abad846",
   "metadata": {},
   "outputs": [
    {
     "ename": "KeyError",
     "evalue": "'values'",
     "output_type": "error",
     "traceback": [
      "\u001b[1;31m---------------------------------------------------------------------------\u001b[0m",
      "\u001b[1;31mKeyError\u001b[0m                                  Traceback (most recent call last)",
      "\u001b[1;32m<ipython-input-4-d50f24c9f559>\u001b[0m in \u001b[0;36m<module>\u001b[1;34m\u001b[0m\n\u001b[1;32m----> 1\u001b[1;33m \u001b[0mdf\u001b[0m\u001b[1;33m.\u001b[0m\u001b[0mcategory_values\u001b[0m\u001b[1;33m(\u001b[0m\u001b[0mcolumn\u001b[0m\u001b[1;33m)\u001b[0m\u001b[1;33m\u001b[0m\u001b[1;33m\u001b[0m\u001b[0m\n\u001b[0m",
      "\u001b[1;32m~\\anaconda3\\envs\\df_protocol\\lib\\site-packages\\vaex\\dataframe.py\u001b[0m in \u001b[0;36mcategory_values\u001b[1;34m(self, column)\u001b[0m\n\u001b[0;32m    348\u001b[0m     \u001b[1;32mdef\u001b[0m \u001b[0mcategory_values\u001b[0m\u001b[1;33m(\u001b[0m\u001b[0mself\u001b[0m\u001b[1;33m,\u001b[0m \u001b[0mcolumn\u001b[0m\u001b[1;33m)\u001b[0m\u001b[1;33m:\u001b[0m\u001b[1;33m\u001b[0m\u001b[1;33m\u001b[0m\u001b[0m\n\u001b[0;32m    349\u001b[0m         \u001b[0mcolumn\u001b[0m \u001b[1;33m=\u001b[0m \u001b[0m_ensure_string_from_expression\u001b[0m\u001b[1;33m(\u001b[0m\u001b[0mcolumn\u001b[0m\u001b[1;33m)\u001b[0m\u001b[1;33m\u001b[0m\u001b[1;33m\u001b[0m\u001b[0m\n\u001b[1;32m--> 350\u001b[1;33m         \u001b[1;32mreturn\u001b[0m \u001b[0mself\u001b[0m\u001b[1;33m.\u001b[0m\u001b[0m_categories\u001b[0m\u001b[1;33m[\u001b[0m\u001b[0mcolumn\u001b[0m\u001b[1;33m]\u001b[0m\u001b[1;33m[\u001b[0m\u001b[1;34m'values'\u001b[0m\u001b[1;33m]\u001b[0m\u001b[1;33m\u001b[0m\u001b[1;33m\u001b[0m\u001b[0m\n\u001b[0m\u001b[0;32m    351\u001b[0m \u001b[1;33m\u001b[0m\u001b[0m\n\u001b[0;32m    352\u001b[0m     \u001b[1;32mdef\u001b[0m \u001b[0mcategory_count\u001b[0m\u001b[1;33m(\u001b[0m\u001b[0mself\u001b[0m\u001b[1;33m,\u001b[0m \u001b[0mcolumn\u001b[0m\u001b[1;33m)\u001b[0m\u001b[1;33m:\u001b[0m\u001b[1;33m\u001b[0m\u001b[1;33m\u001b[0m\u001b[0m\n",
      "\u001b[1;31mKeyError\u001b[0m: 'values'"
     ]
    }
   ],
   "source": [
    "df.category_values(column)"
   ]
  },
  {
   "cell_type": "markdown",
   "id": "7704b246-1de6-46ab-a748-4818f5776e20",
   "metadata": {},
   "source": [
    "## 2. category_labels <a id='Sec2'></a>\n",
    "\n",
    "Functionality aslist=Ture is needed only for Arrow Dictionaries. Works fine (from the [disscussion](https://github.com/vaexio/vaex/pull/1476#issuecomment-887478906) there was a need for the check).\n",
    "\n",
    "```python\n",
    "def category_labels(self, column, aslist=True):\n",
    "    column = _ensure_string_from_expression(column)\n",
    "    \n",
    "    # if Vaex category returns labels list\n",
    "    if column in self._categories:\n",
    "        return self._categories[column]['labels']\n",
    "    \n",
    "    # if not, then it is Arrow dictionary\n",
    "    # then for non-empty dict and check aslist attribute\n",
    "    dictionary = self._category_dictionary(column)\n",
    "    if dictionary is not None:\n",
    "        if aslist:\n",
    "            dictionary = dictionary.to_pylist()\n",
    "        return dictionary\n",
    "    \n",
    "    # if not Vaex categorical nor Arrow dict raise error\n",
    "    else:\n",
    "        raise ValueError(f'Column {column} is not a categorical')\n",
    "```\n"
   ]
  },
  {
   "cell_type": "code",
   "execution_count": 5,
   "id": "ad171b0c-472d-4500-ad47-b379ec7190f1",
   "metadata": {},
   "outputs": [
    {
     "data": {
      "text/plain": [
       "[2012, 2013, 2014, 2015, 2016, 2017, 2018, 2019]"
      ]
     },
     "execution_count": 5,
     "metadata": {},
     "output_type": "execute_result"
    }
   ],
   "source": [
    "# If data are Vaex categorical: function returns list in any case\n",
    "df.category_labels(column, aslist=True)"
   ]
  },
  {
   "cell_type": "code",
   "execution_count": 6,
   "id": "bac58bd0-5563-4622-aab1-179414a7ff70",
   "metadata": {},
   "outputs": [
    {
     "data": {
      "text/plain": [
       "[2012, 2013, 2014, 2015, 2016, 2017, 2018, 2019]"
      ]
     },
     "execution_count": 6,
     "metadata": {},
     "output_type": "execute_result"
    }
   ],
   "source": [
    "df.category_labels(column, aslist=False)"
   ]
  },
  {
   "cell_type": "code",
   "execution_count": 7,
   "id": "054c8bb2-cb1f-4a65-bfd9-93d8f6439156",
   "metadata": {},
   "outputs": [],
   "source": [
    "# Arrow"
   ]
  },
  {
   "cell_type": "code",
   "execution_count": 8,
   "id": "fe8dbe10-5363-428f-9108-01fee71e5d01",
   "metadata": {},
   "outputs": [],
   "source": [
    "import pyarrow as pa"
   ]
  },
  {
   "cell_type": "code",
   "execution_count": 9,
   "id": "7dfa0da8-5eab-4afc-aee5-e65e98f96ab9",
   "metadata": {},
   "outputs": [
    {
     "data": {
      "text/html": [
       "<table>\n",
       "<thead>\n",
       "<tr><th>#                            </th><th>x  </th><th style=\"text-align: right;\">  y</th></tr>\n",
       "</thead>\n",
       "<tbody>\n",
       "<tr><td><i style='opacity: 0.6'>0</i></td><td>foo</td><td style=\"text-align: right;\">  1</td></tr>\n",
       "<tr><td><i style='opacity: 0.6'>1</i></td><td>bar</td><td style=\"text-align: right;\">  2</td></tr>\n",
       "<tr><td><i style='opacity: 0.6'>2</i></td><td>foo</td><td style=\"text-align: right;\">  3</td></tr>\n",
       "<tr><td><i style='opacity: 0.6'>3</i></td><td>bar</td><td style=\"text-align: right;\">  4</td></tr>\n",
       "<tr><td><i style='opacity: 0.6'>4</i></td><td>baz</td><td style=\"text-align: right;\">  5</td></tr>\n",
       "<tr><td><i style='opacity: 0.6'>5</i></td><td>foo</td><td style=\"text-align: right;\">  6</td></tr>\n",
       "<tr><td><i style='opacity: 0.6'>6</i></td><td>-- </td><td style=\"text-align: right;\">  7</td></tr>\n",
       "<tr><td><i style='opacity: 0.6'>7</i></td><td>baz</td><td style=\"text-align: right;\">  8</td></tr>\n",
       "</tbody>\n",
       "</table>"
      ],
      "text/plain": [
       "  #  x      y\n",
       "  0  foo    1\n",
       "  1  bar    2\n",
       "  2  foo    3\n",
       "  3  bar    4\n",
       "  4  baz    5\n",
       "  5  foo    6\n",
       "  6  --     7\n",
       "  7  baz    8"
      ]
     },
     "execution_count": 9,
     "metadata": {},
     "output_type": "execute_result"
    }
   ],
   "source": [
    "# test data\n",
    "indices = pa.array([0, 1, 0, 1, 2, 0, None, 2])\n",
    "dictionary = pa.array(['foo', 'bar', 'baz'])\n",
    "dict_array = pa.DictionaryArray.from_arrays(indices, dictionary)\n",
    "dfa = vaex.from_arrays(x = dict_array, y = [1,2,3,4,5,6,7,8])\n",
    "dfa"
   ]
  },
  {
   "cell_type": "code",
   "execution_count": 10,
   "id": "9b5b454b-30d6-46d4-b841-0c1086947081",
   "metadata": {},
   "outputs": [
    {
     "data": {
      "text/plain": [
       "'x'"
      ]
     },
     "execution_count": 10,
     "metadata": {},
     "output_type": "execute_result"
    }
   ],
   "source": [
    "from vaex.utils import _ensure_string_from_expression\n",
    "column2 = _ensure_string_from_expression(dfa.x)\n",
    "column2"
   ]
  },
  {
   "cell_type": "code",
   "execution_count": 11,
   "id": "be8cc4fa-f395-43a2-ba61-4dbc832b57ca",
   "metadata": {},
   "outputs": [
    {
     "data": {
      "text/plain": [
       "['foo', 'bar', 'baz']"
      ]
     },
     "execution_count": 11,
     "metadata": {},
     "output_type": "execute_result"
    }
   ],
   "source": [
    "# If aslist=True: function returns list\n",
    "# (function converts pyarrow.lib.StringArray object to list with to_pylist())\n",
    "dfa.category_labels(column2, aslist=True)"
   ]
  },
  {
   "cell_type": "code",
   "execution_count": 12,
   "id": "73efb0d3-068a-4842-a131-74c388770b57",
   "metadata": {},
   "outputs": [
    {
     "data": {
      "text/plain": [
       "<pyarrow.lib.StringArray object at 0x000002A91D893E80>\n",
       "[\n",
       "  \"foo\",\n",
       "  \"bar\",\n",
       "  \"baz\"\n",
       "]"
      ]
     },
     "execution_count": 12,
     "metadata": {},
     "output_type": "execute_result"
    }
   ],
   "source": [
    "# If aslist=False: function returns pyarrow.lib.StringArray\n",
    "dfa.category_labels(column2, aslist=False)"
   ]
  },
  {
   "cell_type": "markdown",
   "id": "98f935c5-dc0f-4047-8f4f-e5d5d3d41c78",
   "metadata": {},
   "source": [
    "## 3. _category_dictionary <a id='Sec3'></a>\n",
    "\n",
    "Function should raise a meaningful error when column passed is not of arrow type. Proposed:\n",
    "- simple check if column is ndarray"
   ]
  },
  {
   "cell_type": "code",
   "execution_count": 13,
   "id": "073b3855-ac24-4f90-bd6b-8f9fec16921b",
   "metadata": {},
   "outputs": [],
   "source": [
    "import numpy as np\n",
    "\n",
    "def _category_dictionary_TEST(df, column):\n",
    "    '''Return the dictionary for a column if it is an arrow dict type'''\n",
    "    if column in df.columns:\n",
    "        x = df.columns[column]\n",
    "        \n",
    "        # First raise error if ndarray\n",
    "        if isinstance(x, np.ndarray):\n",
    "            raise ValueError(f'Column {column} is not an arrow dict type')\n",
    "        \n",
    "        # If not ndarray proceed\n",
    "        arrow_type = x.type\n",
    "        # duplicate code in array_types.py\n",
    "        if isinstance(arrow_type, pa.DictionaryType):\n",
    "            # we're interested in the type of the dictionary or the indices?\n",
    "            if isinstance(x, pa.ChunkedArray):\n",
    "                # take the first dictionaryu\n",
    "                x = x.chunks[0]\n",
    "            dictionary = x.dictionary\n",
    "            return dictionary"
   ]
  },
  {
   "cell_type": "code",
   "execution_count": 14,
   "id": "6d60157b-0949-4d92-b6c8-7c67defd9636",
   "metadata": {},
   "outputs": [
    {
     "ename": "ValueError",
     "evalue": "Column year is not an arrow dict type",
     "output_type": "error",
     "traceback": [
      "\u001b[1;31m---------------------------------------------------------------------------\u001b[0m",
      "\u001b[1;31mValueError\u001b[0m                                Traceback (most recent call last)",
      "\u001b[1;32m<ipython-input-14-723de94a9936>\u001b[0m in \u001b[0;36m<module>\u001b[1;34m\u001b[0m\n\u001b[0;32m      1\u001b[0m \u001b[1;31m## Error proposal for ndarray\u001b[0m\u001b[1;33m\u001b[0m\u001b[1;33m\u001b[0m\u001b[1;33m\u001b[0m\u001b[0m\n\u001b[1;32m----> 2\u001b[1;33m \u001b[0m_category_dictionary_TEST\u001b[0m\u001b[1;33m(\u001b[0m\u001b[0mdf\u001b[0m\u001b[1;33m,\u001b[0m\u001b[0mcolumn\u001b[0m\u001b[1;33m)\u001b[0m\u001b[1;33m\u001b[0m\u001b[1;33m\u001b[0m\u001b[0m\n\u001b[0m",
      "\u001b[1;32m<ipython-input-13-81611099d5e6>\u001b[0m in \u001b[0;36m_category_dictionary_TEST\u001b[1;34m(df, column)\u001b[0m\n\u001b[0;32m      8\u001b[0m         \u001b[1;31m# First raise error if ndarray\u001b[0m\u001b[1;33m\u001b[0m\u001b[1;33m\u001b[0m\u001b[1;33m\u001b[0m\u001b[0m\n\u001b[0;32m      9\u001b[0m         \u001b[1;32mif\u001b[0m \u001b[0misinstance\u001b[0m\u001b[1;33m(\u001b[0m\u001b[0mx\u001b[0m\u001b[1;33m,\u001b[0m \u001b[0mnp\u001b[0m\u001b[1;33m.\u001b[0m\u001b[0mndarray\u001b[0m\u001b[1;33m)\u001b[0m\u001b[1;33m:\u001b[0m\u001b[1;33m\u001b[0m\u001b[1;33m\u001b[0m\u001b[0m\n\u001b[1;32m---> 10\u001b[1;33m             \u001b[1;32mraise\u001b[0m \u001b[0mValueError\u001b[0m\u001b[1;33m(\u001b[0m\u001b[1;34mf'Column {column} is not an arrow dict type'\u001b[0m\u001b[1;33m)\u001b[0m\u001b[1;33m\u001b[0m\u001b[1;33m\u001b[0m\u001b[0m\n\u001b[0m\u001b[0;32m     11\u001b[0m \u001b[1;33m\u001b[0m\u001b[0m\n\u001b[0;32m     12\u001b[0m         \u001b[1;31m# If not ndarray proceed\u001b[0m\u001b[1;33m\u001b[0m\u001b[1;33m\u001b[0m\u001b[1;33m\u001b[0m\u001b[0m\n",
      "\u001b[1;31mValueError\u001b[0m: Column year is not an arrow dict type"
     ]
    }
   ],
   "source": [
    "## Error proposal for ndarray\n",
    "_category_dictionary_TEST(df,column)"
   ]
  },
  {
   "cell_type": "code",
   "execution_count": 15,
   "id": "4173a0f4-99e8-4d24-a97a-d8a3f155e040",
   "metadata": {},
   "outputs": [
    {
     "data": {
      "text/plain": [
       "<pyarrow.lib.StringArray object at 0x000002A91D893E80>\n",
       "[\n",
       "  \"foo\",\n",
       "  \"bar\",\n",
       "  \"baz\"\n",
       "]"
      ]
     },
     "execution_count": 15,
     "metadata": {},
     "output_type": "execute_result"
    }
   ],
   "source": [
    "# Arrow dictionary output expected for arrow dict\n",
    "_category_dictionary_TEST(dfa,column2)"
   ]
  },
  {
   "cell_type": "code",
   "execution_count": 16,
   "id": "a7f1f011-c445-4f52-8616-3cc7add479a5",
   "metadata": {},
   "outputs": [
    {
     "ename": "AttributeError",
     "evalue": "'numpy.ndarray' object has no attribute 'type'",
     "output_type": "error",
     "traceback": [
      "\u001b[1;31m---------------------------------------------------------------------------\u001b[0m",
      "\u001b[1;31mAttributeError\u001b[0m                            Traceback (most recent call last)",
      "\u001b[1;32m<ipython-input-16-a058c78f63b4>\u001b[0m in \u001b[0;36m<module>\u001b[1;34m\u001b[0m\n\u001b[0;32m      1\u001b[0m \u001b[1;31m# Error currently\u001b[0m\u001b[1;33m\u001b[0m\u001b[1;33m\u001b[0m\u001b[1;33m\u001b[0m\u001b[0m\n\u001b[1;32m----> 2\u001b[1;33m \u001b[0mdf\u001b[0m\u001b[1;33m.\u001b[0m\u001b[0m_category_dictionary\u001b[0m\u001b[1;33m(\u001b[0m\u001b[0mcolumn\u001b[0m\u001b[1;33m)\u001b[0m\u001b[1;33m\u001b[0m\u001b[1;33m\u001b[0m\u001b[0m\n\u001b[0m",
      "\u001b[1;32m~\\anaconda3\\envs\\df_protocol\\lib\\site-packages\\vaex\\dataframe.py\u001b[0m in \u001b[0;36m_category_dictionary\u001b[1;34m(self, column)\u001b[0m\n\u001b[0;32m    324\u001b[0m         \u001b[1;32mif\u001b[0m \u001b[0mcolumn\u001b[0m \u001b[1;32min\u001b[0m \u001b[0mself\u001b[0m\u001b[1;33m.\u001b[0m\u001b[0mcolumns\u001b[0m\u001b[1;33m:\u001b[0m\u001b[1;33m\u001b[0m\u001b[1;33m\u001b[0m\u001b[0m\n\u001b[0;32m    325\u001b[0m             \u001b[0mx\u001b[0m \u001b[1;33m=\u001b[0m \u001b[0mself\u001b[0m\u001b[1;33m.\u001b[0m\u001b[0mcolumns\u001b[0m\u001b[1;33m[\u001b[0m\u001b[0mcolumn\u001b[0m\u001b[1;33m]\u001b[0m\u001b[1;33m\u001b[0m\u001b[1;33m\u001b[0m\u001b[0m\n\u001b[1;32m--> 326\u001b[1;33m             \u001b[0marrow_type\u001b[0m \u001b[1;33m=\u001b[0m \u001b[0mx\u001b[0m\u001b[1;33m.\u001b[0m\u001b[0mtype\u001b[0m\u001b[1;33m\u001b[0m\u001b[1;33m\u001b[0m\u001b[0m\n\u001b[0m\u001b[0;32m    327\u001b[0m             \u001b[1;31m# duplicate code in array_types.py\u001b[0m\u001b[1;33m\u001b[0m\u001b[1;33m\u001b[0m\u001b[1;33m\u001b[0m\u001b[0m\n\u001b[0;32m    328\u001b[0m             \u001b[1;32mif\u001b[0m \u001b[0misinstance\u001b[0m\u001b[1;33m(\u001b[0m\u001b[0marrow_type\u001b[0m\u001b[1;33m,\u001b[0m \u001b[0mpa\u001b[0m\u001b[1;33m.\u001b[0m\u001b[0mDictionaryType\u001b[0m\u001b[1;33m)\u001b[0m\u001b[1;33m:\u001b[0m\u001b[1;33m\u001b[0m\u001b[1;33m\u001b[0m\u001b[0m\n",
      "\u001b[1;31mAttributeError\u001b[0m: 'numpy.ndarray' object has no attribute 'type'"
     ]
    }
   ],
   "source": [
    "# Error currently\n",
    "df._category_dictionary(column)"
   ]
  },
  {
   "cell_type": "markdown",
   "id": "ed95a210-7221-498e-9dae-2a70488f90cf",
   "metadata": {},
   "source": [
    "## 4 numpy_dtype <a id='Sec4'></a>\n",
    "\n",
    "For Arrow dictionary call to numpy_dtype result in a error. Looks like an Arrow bug, not sure.\n",
    "\n",
    "I suggest using commented part of the code in\n",
    "https://github.com/vaexio/vaex/blob/ca7927a19d259576ca0403ee207a597aaef6adc2/packages/vaex-core/vaex/array_types.py#L212-L221\n",
    "\n",
    "```python\n",
    "# I don't there is a reason anymore to return this type, the to_pandas_dtype should\n",
    "# handle that\n",
    "# if isinstance(arrow_type, pa.DictionaryType):\n",
    "#     # we're interested in the type of the dictionary or the indices?\n",
    "#     if isinstance(x, pa.ChunkedArray):\n",
    "#         # take the first dictionary\n",
    "#         x = x.chunks[0]\n",
    "#     return numpy_dtype(x.dictionary)\n",
    "# if arrow_type in string_types:\n",
    "#     return arrow_type\n",
    "```"
   ]
  },
  {
   "cell_type": "code",
   "execution_count": 17,
   "id": "17502fcb-3c65-46e4-a5f9-d6954cdc7559",
   "metadata": {},
   "outputs": [
    {
     "data": {
      "text/plain": [
       "dictionary<values=string, indices=int64, ordered=0>"
      ]
     },
     "execution_count": 17,
     "metadata": {},
     "output_type": "execute_result"
    }
   ],
   "source": [
    "dfa.x.dtype"
   ]
  },
  {
   "cell_type": "code",
   "execution_count": 18,
   "id": "d0a7bb06-70cf-4746-9624-b1a71b5f13bd",
   "metadata": {},
   "outputs": [
    {
     "ename": "NotImplementedError",
     "evalue": "dictionary<values=string, indices=int64, ordered=0>",
     "output_type": "error",
     "traceback": [
      "\u001b[1;31m---------------------------------------------------------------------------\u001b[0m",
      "\u001b[1;31mNotImplementedError\u001b[0m                       Traceback (most recent call last)",
      "\u001b[1;32m<ipython-input-18-af020aa98b4d>\u001b[0m in \u001b[0;36m<module>\u001b[1;34m\u001b[0m\n\u001b[0;32m      6\u001b[0m \u001b[1;33m\u001b[0m\u001b[0m\n\u001b[0;32m      7\u001b[0m \u001b[1;31m# Errors\u001b[0m\u001b[1;33m\u001b[0m\u001b[1;33m\u001b[0m\u001b[1;33m\u001b[0m\u001b[0m\n\u001b[1;32m----> 8\u001b[1;33m \u001b[0marray_types\u001b[0m\u001b[1;33m.\u001b[0m\u001b[0mnumpy_dtype\u001b[0m\u001b[1;33m(\u001b[0m\u001b[0mx\u001b[0m\u001b[1;33m)\u001b[0m\u001b[1;33m\u001b[0m\u001b[1;33m\u001b[0m\u001b[0m\n\u001b[0m",
      "\u001b[1;32m~\\anaconda3\\envs\\df_protocol\\lib\\site-packages\\vaex\\array_types.py\u001b[0m in \u001b[0;36mnumpy_dtype\u001b[1;34m(x, strict)\u001b[0m\n\u001b[0;32m    197\u001b[0m         \u001b[1;32mfrom\u001b[0m \u001b[1;33m.\u001b[0m\u001b[0mdatatype\u001b[0m \u001b[1;32mimport\u001b[0m \u001b[0mDataType\u001b[0m\u001b[1;33m\u001b[0m\u001b[1;33m\u001b[0m\u001b[0m\n\u001b[0;32m    198\u001b[0m         \u001b[1;31m# dtype = DataType(arrow_type)\u001b[0m\u001b[1;33m\u001b[0m\u001b[1;33m\u001b[0m\u001b[1;33m\u001b[0m\u001b[0m\n\u001b[1;32m--> 199\u001b[1;33m         \u001b[0mdtype\u001b[0m \u001b[1;33m=\u001b[0m \u001b[0marrow_type\u001b[0m\u001b[1;33m.\u001b[0m\u001b[0mto_pandas_dtype\u001b[0m\u001b[1;33m(\u001b[0m\u001b[1;33m)\u001b[0m\u001b[1;33m\u001b[0m\u001b[1;33m\u001b[0m\u001b[0m\n\u001b[0m\u001b[0;32m    200\u001b[0m         \u001b[0mdtype\u001b[0m \u001b[1;33m=\u001b[0m \u001b[0mnp\u001b[0m\u001b[1;33m.\u001b[0m\u001b[0mdtype\u001b[0m\u001b[1;33m(\u001b[0m\u001b[0mdtype\u001b[0m\u001b[1;33m)\u001b[0m  \u001b[1;31m# turn into instance\u001b[0m\u001b[1;33m\u001b[0m\u001b[1;33m\u001b[0m\u001b[0m\n\u001b[0;32m    201\u001b[0m         \u001b[1;32mif\u001b[0m \u001b[0mstrict\u001b[0m\u001b[1;33m:\u001b[0m\u001b[1;33m\u001b[0m\u001b[1;33m\u001b[0m\u001b[0m\n",
      "\u001b[1;32m~\\anaconda3\\envs\\df_protocol\\lib\\site-packages\\pyarrow\\types.pxi\u001b[0m in \u001b[0;36mpyarrow.lib.DataType.to_pandas_dtype\u001b[1;34m()\u001b[0m\n",
      "\u001b[1;31mNotImplementedError\u001b[0m: dictionary<values=string, indices=int64, ordered=0>"
     ]
    }
   ],
   "source": [
    "from vaex import array_types\n",
    "from vaex.utils import _ensure_string_from_expression\n",
    "\n",
    "x_n = _ensure_string_from_expression(dfa.x)\n",
    "x = dfa.columns[x_n]\n",
    "\n",
    "# Errors\n",
    "array_types.numpy_dtype(x)"
   ]
  }
 ],
 "metadata": {
  "kernelspec": {
   "display_name": "Python 3",
   "language": "python",
   "name": "python3"
  },
  "language_info": {
   "codemirror_mode": {
    "name": "ipython",
    "version": 3
   },
   "file_extension": ".py",
   "mimetype": "text/x-python",
   "name": "python",
   "nbconvert_exporter": "python",
   "pygments_lexer": "ipython3",
   "version": "3.9.5"
  }
 },
 "nbformat": 4,
 "nbformat_minor": 5
}
