{
 "cells": [
  {
   "cell_type": "markdown",
   "id": "8d55cbf0-ffc4-48fd-bea4-46c2c1d3b471",
   "metadata": {},
   "source": [
    "# Dtypes in Vaex\n",
    "26-07-2021\n",
    "\n",
    "For using DataTypes class in Vaex, part of vaex modeule needs to be loaded:\n",
    "\n",
    "``` python\n",
    "from vaex.datatype import DataType\n",
    "```\n",
    "\n",
    "### Numeric\n",
    "Vaex library wraps numpy and arrow datatypes. Here is a mapping of the dtypes for numeric values (bool, int, uint, float and complex).\n",
    "\n",
    "| vaex numeric type | arrow | numpy |\n",
    "| :- | :- | :- |\n",
    "| bool | pd.bool_() | np.dtype(np.bool_) |\n",
    "| int8 | pd.int8() | np.dtype(np.int8) |\n",
    "| int16 | pd.int16() | np.dtype(np.int16) |\n",
    "| int32 | pd.int32() | np.dtype(np.int32) |\n",
    "| int64 | pd.int64() | np.dtype(np.int64) |\n",
    "| unit8 | pd.uint8() | np.dtype(np.unit8) |\n",
    "| unit16 | pd.uint16() | np.dtype(np.uint16) |\n",
    "| uint32 | pd.uint32() | np.dtype(np.uint32) |\n",
    "| unit64 | pd.uint64() | np.dtype(np.uint64) |\n",
    "| foat16 | pd.float16() | np.dtype(np.float16) |\n",
    "| float32 | pd.float32() | np.dtype(np.float32) |\n",
    "| float64 | pd.float64() | np.dtype(np.float64) |\n",
    "| complex64 | - | np.dtype(np.complex64) |\n",
    "| complex128 | - | np.dtype(np.complex128) |"
   ]
  },
  {
   "cell_type": "markdown",
   "id": "4e3d0e62-bddd-4146-a004-246813411f5d",
   "metadata": {},
   "source": [
    "## Reasearch numeric dtypes\n",
    "\n",
    "Research compatibility between\n",
    "- arrow dtypes\n",
    "- numpy dtypes\n",
    "and\n",
    "- vaex DataType"
   ]
  },
  {
   "cell_type": "code",
   "execution_count": 1,
   "id": "3547f6be-258d-4bcb-9822-6c0d12968f02",
   "metadata": {},
   "outputs": [],
   "source": [
    "import pyarrow as pa\n",
    "import numpy as np\n",
    "\n",
    "import vaex\n",
    "from vaex.datatype import DataType"
   ]
  },
  {
   "cell_type": "code",
   "execution_count": 2,
   "id": "5eb7d990-0d84-49b9-a67d-b04ee010eb54",
   "metadata": {},
   "outputs": [
    {
     "data": {
      "text/plain": [
       "complex64"
      ]
     },
     "execution_count": 2,
     "metadata": {},
     "output_type": "execute_result"
    }
   ],
   "source": [
    "DataType(np.dtype(np.complex64))"
   ]
  },
  {
   "cell_type": "code",
   "execution_count": 3,
   "id": "2c22d62b-03b7-454d-80fe-7ec1c3c8b769",
   "metadata": {},
   "outputs": [
    {
     "data": {
      "text/plain": [
       "halffloat"
      ]
     },
     "execution_count": 3,
     "metadata": {},
     "output_type": "execute_result"
    }
   ],
   "source": [
    "DataType(pa.float16())"
   ]
  },
  {
   "cell_type": "code",
   "execution_count": 4,
   "id": "fc3eb134-7e61-4dcc-8e09-f2c7c38812c0",
   "metadata": {},
   "outputs": [
    {
     "data": {
      "text/plain": [
       "float16"
      ]
     },
     "execution_count": 4,
     "metadata": {},
     "output_type": "execute_result"
    }
   ],
   "source": [
    "DataType(np.dtype(np.float16))"
   ]
  },
  {
   "cell_type": "code",
   "execution_count": 5,
   "id": "920e10da-ad68-44f9-89b0-6f576266f54b",
   "metadata": {},
   "outputs": [
    {
     "data": {
      "text/plain": [
       "True"
      ]
     },
     "execution_count": 5,
     "metadata": {},
     "output_type": "execute_result"
    }
   ],
   "source": [
    "a = DataType(pa.float16())\n",
    "b = DataType(np.dtype(np.float16))\n",
    "a == b"
   ]
  },
  {
   "cell_type": "code",
   "execution_count": 6,
   "id": "562f55f2-d8ab-4091-b334-b29e1242d3cf",
   "metadata": {},
   "outputs": [
    {
     "data": {
      "text/plain": [
       "int64"
      ]
     },
     "execution_count": 6,
     "metadata": {},
     "output_type": "execute_result"
    }
   ],
   "source": [
    "DataType(np.dtype(np.int64))"
   ]
  },
  {
   "cell_type": "code",
   "execution_count": 7,
   "id": "02851362-bded-499f-bc51-6c857c72a646",
   "metadata": {},
   "outputs": [
    {
     "data": {
      "text/plain": [
       "bool"
      ]
     },
     "execution_count": 7,
     "metadata": {},
     "output_type": "execute_result"
    }
   ],
   "source": [
    "DataType(pa.bool_())"
   ]
  },
  {
   "cell_type": "markdown",
   "id": "27dfdb67-95b1-47d3-a866-f653c23e1651",
   "metadata": {
    "tags": []
   },
   "source": [
    "## Research implementation for different numeric dtypes\n",
    "I have to check and see how does `from_dataframe` do with different numeric dtypes."
   ]
  },
  {
   "cell_type": "code",
   "execution_count": 8,
   "id": "3afe0bbf-e4c7-4825-a1aa-84507d740959",
   "metadata": {
    "tags": []
   },
   "outputs": [
    {
     "data": {
      "text/html": [
       "<table>\n",
       "<thead>\n",
       "<tr><th>#                            </th><th>x    </th><th style=\"text-align: right;\">  y</th><th style=\"text-align: right;\">  z</th><th style=\"text-align: right;\">  w</th><th>q        </th></tr>\n",
       "</thead>\n",
       "<tbody>\n",
       "<tr><td><i style='opacity: 0.6'>0</i></td><td>True </td><td style=\"text-align: right;\">  1</td><td style=\"text-align: right;\">  1</td><td style=\"text-align: right;\">  1</td><td>(9.2+0j) </td></tr>\n",
       "<tr><td><i style='opacity: 0.6'>1</i></td><td>False</td><td style=\"text-align: right;\">  2</td><td style=\"text-align: right;\">  2</td><td style=\"text-align: right;\">  2</td><td>(10.5+0j)</td></tr>\n",
       "<tr><td><i style='opacity: 0.6'>2</i></td><td>True </td><td style=\"text-align: right;\">  3</td><td style=\"text-align: right;\">  3</td><td style=\"text-align: right;\">  3</td><td>(11.8+0j)</td></tr>\n",
       "</tbody>\n",
       "</table>"
      ],
      "text/plain": [
       "  #  x        y    z    w  q\n",
       "  0  True     1    1    1  (9.2+0j)\n",
       "  1  False    2    2    2  (10.5+0j)\n",
       "  2  True     3    3    3  (11.8+0j)"
      ]
     },
     "execution_count": 8,
     "metadata": {},
     "output_type": "execute_result"
    }
   ],
   "source": [
    "# Test data\n",
    "x = np.array([1, 0, 1]).astype('bool')\n",
    "y = np.array([1, 2, 3]).astype('uint16')\n",
    "z = np.array([1, 2, 3]).astype('int64')\n",
    "w = np.array([1, 2, 3]).astype('float32')\n",
    "q = np.array([9.2, 10.5, 11.8]).astype('complex128')\n",
    "df = vaex.from_arrays(x=x, y=y, z=z, w=w, q=q)\n",
    "\n",
    "df"
   ]
  },
  {
   "cell_type": "code",
   "execution_count": 9,
   "id": "29059635-2987-484e-9dd2-84eb9b45fd4d",
   "metadata": {
    "tags": []
   },
   "outputs": [
    {
     "data": {
      "text/plain": [
       "Expression = q\n",
       "Length: 3 dtype: complex128 (column)\n",
       "------------------------------------\n",
       "0   (9.2+0j)\n",
       "1  (10.5+0j)\n",
       "2  (11.8+0j)"
      ]
     },
     "execution_count": 9,
     "metadata": {},
     "output_type": "execute_result"
    }
   ],
   "source": [
    "df['q']"
   ]
  },
  {
   "cell_type": "code",
   "execution_count": 10,
   "id": "dd01ae91-1d51-4cbc-ac86-fe8f9ea01513",
   "metadata": {
    "tags": []
   },
   "outputs": [
    {
     "ename": "ValueError",
     "evalue": "Data type complex128 not supported by exchangeprotocol",
     "output_type": "error",
     "traceback": [
      "\u001b[1;31m---------------------------------------------------------------------------\u001b[0m",
      "\u001b[1;31mValueError\u001b[0m                                Traceback (most recent call last)",
      "\u001b[1;32m<ipython-input-10-fa5c3942a1b2>\u001b[0m in \u001b[0;36m<module>\u001b[1;34m\u001b[0m\n\u001b[0;32m      2\u001b[0m \u001b[1;33m\u001b[0m\u001b[0m\n\u001b[0;32m      3\u001b[0m \u001b[1;31m# Should give an error because of the complex data in q\u001b[0m\u001b[1;33m\u001b[0m\u001b[1;33m\u001b[0m\u001b[1;33m\u001b[0m\u001b[0m\n\u001b[1;32m----> 4\u001b[1;33m \u001b[0mdf2\u001b[0m \u001b[1;33m=\u001b[0m \u001b[0mfrom_dataframe_to_vaex\u001b[0m\u001b[1;33m(\u001b[0m\u001b[0mdf\u001b[0m\u001b[1;33m)\u001b[0m\u001b[1;33m\u001b[0m\u001b[1;33m\u001b[0m\u001b[0m\n\u001b[0m\u001b[0;32m      5\u001b[0m \u001b[0mdf2\u001b[0m\u001b[1;33m\u001b[0m\u001b[1;33m\u001b[0m\u001b[0m\n",
      "\u001b[1;32m~\\Documents\\Python Scripts\\vaex_implementation_v2.py\u001b[0m in \u001b[0;36mfrom_dataframe_to_vaex\u001b[1;34m(df)\u001b[0m\n\u001b[0;32m     23\u001b[0m         \u001b[1;32mraise\u001b[0m \u001b[0mValueError\u001b[0m\u001b[1;33m(\u001b[0m\u001b[1;34m\"`df` does not support __dataframe__\"\u001b[0m\u001b[1;33m)\u001b[0m\u001b[1;33m\u001b[0m\u001b[1;33m\u001b[0m\u001b[0m\n\u001b[0;32m     24\u001b[0m \u001b[1;33m\u001b[0m\u001b[0m\n\u001b[1;32m---> 25\u001b[1;33m     \u001b[1;32mreturn\u001b[0m \u001b[0m_from_dataframe_to_vaex\u001b[0m\u001b[1;33m(\u001b[0m\u001b[0mdf\u001b[0m\u001b[1;33m.\u001b[0m\u001b[0m__dataframe__\u001b[0m\u001b[1;33m(\u001b[0m\u001b[1;33m)\u001b[0m\u001b[1;33m)\u001b[0m\u001b[1;33m\u001b[0m\u001b[1;33m\u001b[0m\u001b[0m\n\u001b[0m\u001b[0;32m     26\u001b[0m \u001b[1;33m\u001b[0m\u001b[0m\n\u001b[0;32m     27\u001b[0m \u001b[1;32mdef\u001b[0m \u001b[0m_from_dataframe_to_vaex\u001b[0m\u001b[1;33m(\u001b[0m\u001b[0mdf\u001b[0m \u001b[1;33m:\u001b[0m \u001b[0mDataFrameObject\u001b[0m\u001b[1;33m)\u001b[0m \u001b[1;33m->\u001b[0m \u001b[0mvaex\u001b[0m\u001b[1;33m.\u001b[0m\u001b[0mdataframe\u001b[0m\u001b[1;33m.\u001b[0m\u001b[0mDataFrame\u001b[0m\u001b[1;33m:\u001b[0m\u001b[1;33m\u001b[0m\u001b[1;33m\u001b[0m\u001b[0m\n",
      "\u001b[1;32m~\\Documents\\Python Scripts\\vaex_implementation_v2.py\u001b[0m in \u001b[0;36m_from_dataframe_to_vaex\u001b[1;34m(df)\u001b[0m\n\u001b[0;32m     42\u001b[0m     \u001b[1;32mfor\u001b[0m \u001b[0mname\u001b[0m \u001b[1;32min\u001b[0m \u001b[0mdf\u001b[0m\u001b[1;33m.\u001b[0m\u001b[0mcolumn_names\u001b[0m\u001b[1;33m(\u001b[0m\u001b[1;33m)\u001b[0m\u001b[1;33m:\u001b[0m\u001b[1;33m\u001b[0m\u001b[1;33m\u001b[0m\u001b[0m\n\u001b[0;32m     43\u001b[0m         \u001b[0mcol\u001b[0m \u001b[1;33m=\u001b[0m \u001b[0mdf\u001b[0m\u001b[1;33m.\u001b[0m\u001b[0mget_column_by_name\u001b[0m\u001b[1;33m(\u001b[0m\u001b[0mname\u001b[0m\u001b[1;33m)\u001b[0m\u001b[1;33m\u001b[0m\u001b[1;33m\u001b[0m\u001b[0m\n\u001b[1;32m---> 44\u001b[1;33m         \u001b[1;32mif\u001b[0m \u001b[0mcol\u001b[0m\u001b[1;33m.\u001b[0m\u001b[0mdtype\u001b[0m\u001b[1;33m[\u001b[0m\u001b[1;36m0\u001b[0m\u001b[1;33m]\u001b[0m \u001b[1;32min\u001b[0m \u001b[1;33m(\u001b[0m\u001b[0m_k\u001b[0m\u001b[1;33m.\u001b[0m\u001b[0mINT\u001b[0m\u001b[1;33m,\u001b[0m \u001b[0m_k\u001b[0m\u001b[1;33m.\u001b[0m\u001b[0mUINT\u001b[0m\u001b[1;33m,\u001b[0m \u001b[0m_k\u001b[0m\u001b[1;33m.\u001b[0m\u001b[0mFLOAT\u001b[0m\u001b[1;33m,\u001b[0m \u001b[0m_k\u001b[0m\u001b[1;33m.\u001b[0m\u001b[0mBOOL\u001b[0m\u001b[1;33m)\u001b[0m\u001b[1;33m:\u001b[0m\u001b[1;33m\u001b[0m\u001b[1;33m\u001b[0m\u001b[0m\n\u001b[0m\u001b[0;32m     45\u001b[0m             \u001b[1;31m# Simple numerical or bool dtype, turn into numpy array\u001b[0m\u001b[1;33m\u001b[0m\u001b[1;33m\u001b[0m\u001b[1;33m\u001b[0m\u001b[0m\n\u001b[0;32m     46\u001b[0m             \u001b[0mcolumns\u001b[0m\u001b[1;33m[\u001b[0m\u001b[0mname\u001b[0m\u001b[1;33m]\u001b[0m \u001b[1;33m=\u001b[0m \u001b[0mconvert_column_to_ndarray\u001b[0m\u001b[1;33m(\u001b[0m\u001b[0mcol\u001b[0m\u001b[1;33m)\u001b[0m\u001b[1;33m\u001b[0m\u001b[1;33m\u001b[0m\u001b[0m\n",
      "\u001b[1;32m~\\Documents\\Python Scripts\\vaex_implementation_v2.py\u001b[0m in \u001b[0;36mdtype\u001b[1;34m(self)\u001b[0m\n\u001b[0;32m    252\u001b[0m         \"\"\"\n\u001b[0;32m    253\u001b[0m         \u001b[0mdtype\u001b[0m \u001b[1;33m=\u001b[0m \u001b[0mself\u001b[0m\u001b[1;33m.\u001b[0m\u001b[0m_col\u001b[0m\u001b[1;33m.\u001b[0m\u001b[0mdtype\u001b[0m\u001b[1;33m\u001b[0m\u001b[1;33m\u001b[0m\u001b[0m\n\u001b[1;32m--> 254\u001b[1;33m         \u001b[1;32mreturn\u001b[0m \u001b[0mself\u001b[0m\u001b[1;33m.\u001b[0m\u001b[0m_dtype_from_vaexdtype\u001b[0m\u001b[1;33m(\u001b[0m\u001b[0mdtype\u001b[0m\u001b[1;33m)\u001b[0m\u001b[1;33m\u001b[0m\u001b[1;33m\u001b[0m\u001b[0m\n\u001b[0m\u001b[0;32m    255\u001b[0m \u001b[1;33m\u001b[0m\u001b[0m\n\u001b[0;32m    256\u001b[0m     \u001b[1;32mdef\u001b[0m \u001b[0m_dtype_from_vaexdtype\u001b[0m\u001b[1;33m(\u001b[0m\u001b[0mself\u001b[0m\u001b[1;33m,\u001b[0m \u001b[0mdtype\u001b[0m\u001b[1;33m)\u001b[0m \u001b[1;33m->\u001b[0m \u001b[0mTuple\u001b[0m\u001b[1;33m[\u001b[0m\u001b[0menum\u001b[0m\u001b[1;33m.\u001b[0m\u001b[0mIntEnum\u001b[0m\u001b[1;33m,\u001b[0m \u001b[0mint\u001b[0m\u001b[1;33m,\u001b[0m \u001b[0mstr\u001b[0m\u001b[1;33m,\u001b[0m \u001b[0mstr\u001b[0m\u001b[1;33m]\u001b[0m\u001b[1;33m:\u001b[0m\u001b[1;33m\u001b[0m\u001b[1;33m\u001b[0m\u001b[0m\n",
      "\u001b[1;32m~\\Documents\\Python Scripts\\vaex_implementation_v2.py\u001b[0m in \u001b[0;36m_dtype_from_vaexdtype\u001b[1;34m(self, dtype)\u001b[0m\n\u001b[0;32m    272\u001b[0m                 \u001b[0mkind\u001b[0m \u001b[1;33m=\u001b[0m \u001b[1;36m23\u001b[0m\u001b[1;33m\u001b[0m\u001b[1;33m\u001b[0m\u001b[0m\n\u001b[0;32m    273\u001b[0m             \u001b[1;32melse\u001b[0m\u001b[1;33m:\u001b[0m\u001b[1;33m\u001b[0m\u001b[1;33m\u001b[0m\u001b[0m\n\u001b[1;32m--> 274\u001b[1;33m                 raise ValueError(f\"Data type {dtype} not supported by exchange\"\n\u001b[0m\u001b[0;32m    275\u001b[0m                                  \"protocol\")\n\u001b[0;32m    276\u001b[0m \u001b[1;33m\u001b[0m\u001b[0m\n",
      "\u001b[1;31mValueError\u001b[0m: Data type complex128 not supported by exchangeprotocol"
     ]
    }
   ],
   "source": [
    "%run vaex_implementation_v2.py\n",
    "\n",
    "# Should give an error because of the complex data in q\n",
    "df2 = from_dataframe_to_vaex(df)\n",
    "df2"
   ]
  },
  {
   "cell_type": "markdown",
   "id": "967f0b8f-a4b6-4931-8a69-bb55c3b6d2a2",
   "metadata": {},
   "source": [
    "## Researching dtypes classes and methods in the protocol"
   ]
  },
  {
   "cell_type": "code",
   "execution_count": 11,
   "id": "07506b67-ae89-49ce-bcdc-de9099aaac2c",
   "metadata": {},
   "outputs": [
    {
     "data": {
      "text/plain": [
       "uint16"
      ]
     },
     "execution_count": 11,
     "metadata": {},
     "output_type": "execute_result"
    }
   ],
   "source": [
    "df.y.dtype"
   ]
  },
  {
   "cell_type": "code",
   "execution_count": 12,
   "id": "ad1afe1b-69ca-4537-9166-92eb1d534466",
   "metadata": {
    "tags": []
   },
   "outputs": [
    {
     "data": {
      "text/plain": [
       "False"
      ]
     },
     "execution_count": 12,
     "metadata": {},
     "output_type": "execute_result"
    }
   ],
   "source": [
    "_k = _DtypeKind\n",
    "df.y.dtype in (_k.INT, _k.UINT, _k.FLOAT, _k.BOOL)"
   ]
  },
  {
   "cell_type": "code",
   "execution_count": 13,
   "id": "0ca16a62-45c1-457d-9a73-617b9939f0e1",
   "metadata": {
    "tags": []
   },
   "outputs": [],
   "source": [
    "_np_kinds = {'i': _k.INT, 'u': _k.UINT, 'f': _k.FLOAT, 'b': _k.BOOL,\n",
    "             'U': _k.STRING,\n",
    "             'M': _k.DATETIME, 'm': _k.DATETIME}"
   ]
  },
  {
   "cell_type": "code",
   "execution_count": 14,
   "id": "36c1a068-fd78-4001-b131-1218b8b8cc4e",
   "metadata": {},
   "outputs": [
    {
     "data": {
      "text/plain": [
       "<_DtypeKind.UINT: 1>"
      ]
     },
     "execution_count": 14,
     "metadata": {},
     "output_type": "execute_result"
    }
   ],
   "source": [
    "# df.y.dtype = uint16\n",
    "kind = _np_kinds.get(df.y.dtype.kind, None)\n",
    "kind"
   ]
  },
  {
   "cell_type": "code",
   "execution_count": 15,
   "id": "1cfd32b5-d870-488a-b379-2faa3c14c8f3",
   "metadata": {},
   "outputs": [
    {
     "data": {
      "text/plain": [
       "'u'"
      ]
     },
     "execution_count": 15,
     "metadata": {},
     "output_type": "execute_result"
    }
   ],
   "source": [
    "df.y.dtype.kind"
   ]
  },
  {
   "cell_type": "code",
   "execution_count": 16,
   "id": "ba689c28-ff93-4ba3-b595-59d209df5a42",
   "metadata": {},
   "outputs": [
    {
     "data": {
      "text/plain": [
       "<_DtypeKind.BOOL: 20>"
      ]
     },
     "execution_count": 16,
     "metadata": {},
     "output_type": "execute_result"
    }
   ],
   "source": [
    "# df.x.dtype = bool\n",
    "kindx = _np_kinds.get(df.x.dtype.kind, None)\n",
    "kindx"
   ]
  },
  {
   "cell_type": "code",
   "execution_count": 17,
   "id": "62b1fcb9-4e54-460e-8015-11f556d611ba",
   "metadata": {
    "tags": []
   },
   "outputs": [],
   "source": [
    "# df.q.dtype = complex128\n",
    "kindq = _np_kinds.get(df.q.dtype.kind, None)\n",
    "kindq"
   ]
  },
  {
   "cell_type": "code",
   "execution_count": null,
   "id": "e6d3e9ed-6c5b-498b-a18d-14a12020789f",
   "metadata": {},
   "outputs": [],
   "source": []
  }
 ],
 "metadata": {
  "kernelspec": {
   "display_name": "Python 3",
   "language": "python",
   "name": "python3"
  },
  "language_info": {
   "codemirror_mode": {
    "name": "ipython",
    "version": 3
   },
   "file_extension": ".py",
   "mimetype": "text/x-python",
   "name": "python",
   "nbconvert_exporter": "python",
   "pygments_lexer": "ipython3",
   "version": "3.9.5"
  }
 },
 "nbformat": 4,
 "nbformat_minor": 5
}
