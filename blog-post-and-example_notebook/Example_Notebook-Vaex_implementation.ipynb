{
 "cells": [
  {
   "cell_type": "markdown",
   "id": "b5f7a2e5-f874-45f8-95bb-4a2675dfa931",
   "metadata": {},
   "source": [
    "# **Dataframe interchange protocol implementation for Vaex library** <br>Example Notebook\n",
    "\n",
    "## Protocol Description\n",
    ">The purpose of the **Dataframe interchange protocol (`__dataframe__`)** is to enable data interchange. I.e., a way to convert one type of dataframe into another type (for example, convert a Koalas dataframe into a Pandas dataframe, or a cuDF dataframe into a Vaex dataframe).\n",
    "\n",
    "With the protocol implemented in dataframe libraries we will be able to write code that exepts any kind of dataframe 🎉 <br>\n",
    "For more information visit the [RFC blog post](https://data-apis.org/blog/dataframe_protocol_rfc/) or the [official site](https://data-apis.org/dataframe-protocol/latest/index.html).\n",
    "\n",
    "## Vaex description\n",
    ">**Vaex library** is a high performance Python library for lazy Out-of-Core DataFrames, to visualize and explore big tabular datasets.\n",
    "\n",
    "More about the Vaex library is available on the [official site](https://vaex.io/docs/index.html) and [blog](https://vaex.io/blog).\n",
    "\n",
    "---\n",
    "\n",
    "**Implementation of the dataframe protocol** connects Vaex dataframe class to a __dataframe__ class called VaexDataFrame specified by the Consortium for Python Data API Standards.\n",
    "\n",
    "---\n",
    "\n",
    "## Content\n",
    "\n",
    "1. [dataframe attribute](#dataframe)\n",
    "2. [from_dataframe method](#from_df)\n",
    "3. [Plotting taxi dataset](#taxi)\n",
    "\n",
    "<center><img src=\"Blog_picture_2.png\" width=\"800\"></center>\n",
    "\n",
    "___"
   ]
  },
  {
   "cell_type": "markdown",
   "id": "86e38a5a-1da7-4257-ba67-5698c505426a",
   "metadata": {},
   "source": [
    "## `__dataframe__` method <a name=\"dataframe\"></a>\n",
    "\n",
    "The base class for the `__dataframe__` method includes three separate classes which are `_Buffer`, `_Column` and `_DataFrame`. In Vaex implementation we named them `_VaexBuffer`, `_VaexColumn` and `_VaexDataFrame` respectively. **Each of them has necessary and utility methods to construct and describe a dataframe.**\n",
    "\n",
    "In this first part of the Example Notebook I will show some basic `__dataframe__` methods on an example of a Vaex dataframe named `df`.<br>\n",
    "If you wish you can research further with different dtype columns."
   ]
  },
  {
   "cell_type": "code",
   "execution_count": 2,
   "id": "5b56242d-6784-45d5-8b98-43cdc22dfa7d",
   "metadata": {},
   "outputs": [],
   "source": [
    "# First I will import Vaex protocol implementation for demo purposes\n",
    "%run vaex_implementation.py"
   ]
  },
  {
   "cell_type": "markdown",
   "id": "1c7f7275-7eb5-4213-b7c9-adc53f77b7c6",
   "metadata": {},
   "source": [
    "The implementation used in this Example Notebook can be found in <a href=\"https://github.com/AlenkaF/vaex-df-api-implementation/blob/0afacfc24bd9efb7eb8cd5dbe22beb629d4b4143/blog-post-and-example_notebook/vaex_implementation.py\">my repository</a>.<br>\n",
    "The PR in Vaex library that will be further improved can be found <a href=\"https://github.com/vaexio/vaex/pull/1509\">here</a>."
   ]
  },
  {
   "cell_type": "code",
   "execution_count": 50,
   "id": "6cc540eb-5c1e-451d-be1e-c0975f9ec725",
   "metadata": {},
   "outputs": [
    {
     "data": {
      "text/html": [
       "<table>\n",
       "<thead>\n",
       "<tr><th>#                            </th><th style=\"text-align: right;\">  numpy_int</th><th style=\"text-align: right;\">  numpy_float</th><th>numpy_bool  </th><th>numpy_int_m  </th><th>numpy_float_m  </th><th>numpy_bool_m  </th><th>numpy_string  </th><th>numpy_string_m  </th><th style=\"text-align: right;\">  arrow_int</th><th style=\"text-align: right;\">  arrow_float</th><th>arrow_bool  </th><th>arrow_int_m  </th><th>arrow_float_m  </th><th>arrow_bool_m  </th><th>arrow_string  </th><th>arrow_string_m  </th><th>arrow_dict  </th><th>arrow_dict_m  </th></tr>\n",
       "</thead>\n",
       "<tbody>\n",
       "<tr><td><i style='opacity: 0.6'>0</i></td><td style=\"text-align: right;\">          1</td><td style=\"text-align: right;\">          1.5</td><td>True        </td><td>1            </td><td>1.5            </td><td>--            </td><td>a             </td><td>a               </td><td style=\"text-align: right;\">          0</td><td style=\"text-align: right;\">          0.5</td><td>True        </td><td>0            </td><td>0.5            </td><td>True          </td><td>data          </td><td>data            </td><td>aap         </td><td>aap           </td></tr>\n",
       "<tr><td><i style='opacity: 0.6'>1</i></td><td style=\"text-align: right;\">          2</td><td style=\"text-align: right;\">          2.5</td><td>False       </td><td>2            </td><td>--             </td><td>False         </td><td>b             </td><td>--              </td><td style=\"text-align: right;\">          1</td><td style=\"text-align: right;\">          1.5</td><td>False       </td><td>1            </td><td>1.5            </td><td>False         </td><td>frame         </td><td>frame           </td><td>noot        </td><td>--            </td></tr>\n",
       "<tr><td><i style='opacity: 0.6'>2</i></td><td style=\"text-align: right;\">          3</td><td style=\"text-align: right;\">          3.5</td><td>True        </td><td>3            </td><td>--             </td><td>True          </td><td>cde           </td><td>cde             </td><td style=\"text-align: right;\">          2</td><td style=\"text-align: right;\">          2.5</td><td>True        </td><td>2            </td><td>2.5            </td><td>--            </td><td>api           </td><td>--              </td><td>mies        </td><td>--            </td></tr>\n",
       "<tr><td><i style='opacity: 0.6'>3</i></td><td style=\"text-align: right;\">          4</td><td style=\"text-align: right;\">          4.5</td><td>True        </td><td>--           </td><td>--             </td><td>--            </td><td>              </td><td>                </td><td style=\"text-align: right;\">          3</td><td style=\"text-align: right;\">          3.5</td><td>False       </td><td>--           </td><td>--             </td><td>--            </td><td>vaex          </td><td>vaex            </td><td>aap         </td><td>aap           </td></tr>\n",
       "<tr><td><i style='opacity: 0.6'>4</i></td><td style=\"text-align: right;\">          0</td><td style=\"text-align: right;\">          0  </td><td>True        </td><td>--           </td><td>0.0            </td><td>True          </td><td>f             </td><td>f               </td><td style=\"text-align: right;\">          0</td><td style=\"text-align: right;\">          0.5</td><td>True        </td><td>--           </td><td>0.5            </td><td>True          </td><td>              </td><td>                </td><td>noot        </td><td>noot          </td></tr>\n",
       "</tbody>\n",
       "</table>"
      ],
      "text/plain": [
       "  #    numpy_int    numpy_float  numpy_bool    numpy_int_m    numpy_float_m    numpy_bool_m    numpy_string    numpy_string_m      arrow_int    arrow_float  arrow_bool    arrow_int_m    arrow_float_m    arrow_bool_m    arrow_string    arrow_string_m    arrow_dict    arrow_dict_m\n",
       "  0            1            1.5  True          1              1.5              --              a               a                           0            0.5  True          0              0.5              True            data            data              aap           aap\n",
       "  1            2            2.5  False         2              --               False           b               --                          1            1.5  False         1              1.5              False           frame           frame             noot          --\n",
       "  2            3            3.5  True          3              --               True            cde             cde                         2            2.5  True          2              2.5              --              api             --                mies          --\n",
       "  3            4            4.5  True          --             --               --                                                          3            3.5  False         --             --               --              vaex            vaex              aap           aap\n",
       "  4            0            0    True          --             0.0              True            f               f                           0            0.5  True          --             0.5              True                                              noot          noot"
      ]
     },
     "execution_count": 50,
     "metadata": {},
     "output_type": "execute_result"
    }
   ],
   "source": [
    "# Then I will construct a diverse Veax dataframe\n",
    "indices = pa.array([0, 1, 2, 1, 2])\n",
    "dictionary = pa.array(['foo', 'bar', 'baz'])\n",
    "dict_array = pa.DictionaryArray.from_arrays(indices, dictionary)\n",
    "\n",
    "df = vaex.from_arrays(\n",
    "    numpy_int=np.array([1, 2, 3, 4, 0]), # Numpy int\n",
    "    numpy_float=np.array([1.5, 2.5, 3.5, 4.5, 0]), # Numpy float\n",
    "    numpy_bool=np.array([True, False, True, True, True]), # Numpy bool\n",
    "    \n",
    "    numpy_int_m=np.ma.array([1, 2, 3, 4, 0], mask=[0, 0, 0, 1, 1], dtype=int), # Numpy masked int\n",
    "    numpy_float_m=np.ma.array([1.5, 2.5, 3.5, 4.5, 0], mask=[False, True, True, True, False], dtype=float), # Numpy masked float\n",
    "    numpy_bool_m=np.ma.array([True, False, True, True, True], mask=[1, 0, 0, 1, 0], dtype=bool), # Numpy masked bool\n",
    "    \n",
    "    numpy_string=np.array([\"a\", \"b\", \"cde\", \"\", \"f\"]), # Numpy string\n",
    "    numpy_string_m=np.array([\"a\", None, \"cde\", \"\", \"f\"]), # Numpy string\n",
    "    \n",
    "    arrow_int = pa.array([0, 1, 2, 3, 0]), # Arrow int\n",
    "    arrow_float = pa.array([0.5, 1.5, 2.5, 3.5, 0.5]), # Arrow float\n",
    "    arrow_bool = pa.array([True, False, True, False, True]), # Arrow bool\n",
    "    \n",
    "    arrow_int_m = pa.array([0, 1, 2, None, 0], mask=np.array([0, 0, 0, 1, 1], dtype=bool)), # Arrow masked int\n",
    "    arrow_float_m = pa.array([0.5, 1.5, 2.5, None, 0.5], mask=np.array([0, 0, 0, 1, 0], dtype=bool)), # Arrow masked float\n",
    "    arrow_bool_m = pa.array([True, False, True, None, True], mask=np.array([0, 0, 1, 1, 0], dtype=bool)), # Arrow masked bool\n",
    "\n",
    "    arrow_string=np.array([\"data\", \"frame\", \"api\", \"vaex\", \"\"]), # Arrow string\n",
    "    arrow_string_m=np.array([\"data\", \"frame\", None, \"vaex\", \"\"]), # Numpy string\n",
    "    \n",
    "    arrow_dict = pa.DictionaryArray.from_arrays(pa.array([0, 1, 2, 0, 1]), pa.array(['aap', 'noot', 'mies'])), # Arrow dictionary\n",
    "    arrow_dict_m = pa.DictionaryArray.from_arrays(pa.array([0, 1, 2, 0, 1], mask=np.array([0, 1, 1, 0, 0], dtype=bool)), pa.array(['aap', 'noot', 'mies'])) # Arrow dict masked\n",
    ")\n",
    "\n",
    "# And print it out\n",
    "df"
   ]
  },
  {
   "cell_type": "code",
   "execution_count": 3,
   "id": "75c3e290-8f44-495e-b3a9-42261f44306e",
   "metadata": {},
   "outputs": [
    {
     "data": {
      "text/plain": [
       "<__main__._VaexDataFrame at 0x1abce5cd370>"
      ]
     },
     "execution_count": 3,
     "metadata": {},
     "output_type": "execute_result"
    }
   ],
   "source": [
    "# Lets first see how to call `__dataframe__` on a Vaex dataframe\n",
    "df.__dataframe__()"
   ]
  },
  {
   "cell_type": "markdown",
   "id": "34e5e13d-309a-41d6-993f-c0d0ec837d17",
   "metadata": {},
   "source": [
    "We can see that there is a `_VaexDataFrame` class instance generated. We can now research it's attributes:"
   ]
  },
  {
   "cell_type": "code",
   "execution_count": 4,
   "id": "878a89a8-9187-433f-b327-d24c9d842e7e",
   "metadata": {},
   "outputs": [
    {
     "data": {
      "text/plain": [
       "18"
      ]
     },
     "execution_count": 4,
     "metadata": {},
     "output_type": "execute_result"
    }
   ],
   "source": [
    "# Lets see the number of columns\n",
    "df.__dataframe__().num_columns()"
   ]
  },
  {
   "cell_type": "code",
   "execution_count": 5,
   "id": "d7723c6d-f1a5-4599-b692-2b13ae313dde",
   "metadata": {},
   "outputs": [
    {
     "data": {
      "text/plain": [
       "5"
      ]
     },
     "execution_count": 5,
     "metadata": {},
     "output_type": "execute_result"
    }
   ],
   "source": [
    "# and the number of rows\n",
    "df.__dataframe__().num_rows()"
   ]
  },
  {
   "cell_type": "code",
   "execution_count": 6,
   "id": "e9f20ba0-1ee4-460e-8f2e-937ae0a44d45",
   "metadata": {},
   "outputs": [
    {
     "data": {
      "text/plain": [
       "<__main__._VaexColumn at 0x1abce5e6910>"
      ]
     },
     "execution_count": 6,
     "metadata": {},
     "output_type": "execute_result"
    }
   ],
   "source": [
    "# We can also get/select columns from the dataframe\n",
    "# The methods that can be used are: get_column, get_column_by_name, get_columns, select_columns, select_columns_by_name\n",
    "df.__dataframe__().get_column(4)"
   ]
  },
  {
   "cell_type": "markdown",
   "id": "04029525-47ed-4ef0-9e45-e29ffa3cc285",
   "metadata": {},
   "source": [
    "As we can see we selected the fifth column 'numpy_float_m' and got a `_VaexColumn` instance. <br>Which means we now have the fifth column of the dataframe df as a `_VaexColumn`. We can now observe some of the methods on this column also:"
   ]
  },
  {
   "cell_type": "code",
   "execution_count": 7,
   "id": "ae013def-6f81-48dd-ba10-bd47a21b2bd9",
   "metadata": {},
   "outputs": [
    {
     "data": {
      "text/plain": [
       "array(5, dtype=int64)"
      ]
     },
     "execution_count": 7,
     "metadata": {},
     "output_type": "execute_result"
    }
   ],
   "source": [
    "# Let's save the column and research the methods\n",
    "col = df.__dataframe__().get_column(4)\n",
    "\n",
    "# We can get the size of the column\n",
    "col.size"
   ]
  },
  {
   "cell_type": "code",
   "execution_count": 8,
   "id": "0b4a3cca-f51a-4a45-b6b9-09973b5f72ba",
   "metadata": {},
   "outputs": [
    {
     "data": {
      "text/plain": [
       "3"
      ]
     },
     "execution_count": 8,
     "metadata": {},
     "output_type": "execute_result"
    }
   ],
   "source": [
    "# Null count\n",
    "col.null_count"
   ]
  },
  {
   "cell_type": "markdown",
   "id": "44916bec-bafa-4e18-b390-e6b91fa77e18",
   "metadata": {},
   "source": [
    "What is very useful is the null representation and the data type description of the selected column. Lets see!"
   ]
  },
  {
   "cell_type": "code",
   "execution_count": 9,
   "id": "bd1c34d3-5536-4d56-9774-96644c6a1c50",
   "metadata": {},
   "outputs": [
    {
     "data": {
      "text/plain": [
       "(0, None)"
      ]
     },
     "execution_count": 9,
     "metadata": {},
     "output_type": "execute_result"
    }
   ],
   "source": [
    "# Null representation of the numpy int column\n",
    "# 0 : non-nullable\n",
    "df.__dataframe__().get_column(0).describe_null"
   ]
  },
  {
   "cell_type": "code",
   "execution_count": 10,
   "id": "e19c4700-07dc-43d3-8e9f-8aff6b44f6f2",
   "metadata": {},
   "outputs": [
    {
     "data": {
      "text/plain": [
       "(4, 1)"
      ]
     },
     "execution_count": 10,
     "metadata": {},
     "output_type": "execute_result"
    }
   ],
   "source": [
    "# Null representation of the masked numpy int\n",
    "# 4 : byte mask\n",
    "# 1 : Value indicating a missing value\n",
    "df.__dataframe__().get_column(3).describe_null"
   ]
  },
  {
   "cell_type": "code",
   "execution_count": 11,
   "id": "135edd54-cfa4-47a3-8399-3324012f59b9",
   "metadata": {},
   "outputs": [
    {
     "data": {
      "text/plain": [
       "(3, 0)"
      ]
     },
     "execution_count": 11,
     "metadata": {},
     "output_type": "execute_result"
    }
   ],
   "source": [
    "# Null representation of the Arrow dictionary\n",
    "# 3 : bit mask\n",
    "# 0 : Value indicating a missing value\n",
    "df.__dataframe__().get_column(17).describe_null"
   ]
  },
  {
   "cell_type": "code",
   "execution_count": 12,
   "id": "a5dfdbb3-3e87-4ff6-abd6-9d4057bcfb01",
   "metadata": {},
   "outputs": [
    {
     "data": {
      "text/plain": [
       "(<_DtypeKind.INT: 0>, 32, '<i4', '=')"
      ]
     },
     "execution_count": 12,
     "metadata": {},
     "output_type": "execute_result"
    }
   ],
   "source": [
    "# Dtype description as a tuple ``(kind, bit-width, format string, endianness)``\n",
    "\n",
    "# Dtype description for the numpy int column\n",
    "df.__dataframe__().get_column(0).dtype"
   ]
  },
  {
   "cell_type": "code",
   "execution_count": 13,
   "id": "0cced03c-1b1a-4169-8fbe-191dee112ebd",
   "metadata": {},
   "outputs": [
    {
     "data": {
      "text/plain": [
       "(<_DtypeKind.FLOAT: 2>, 64, '<f8', '=')"
      ]
     },
     "execution_count": 13,
     "metadata": {},
     "output_type": "execute_result"
    }
   ],
   "source": [
    "# Dtype description for the masked numpy float column\n",
    "col.dtype"
   ]
  },
  {
   "cell_type": "markdown",
   "id": "3fa18d37-e0ad-4314-be2f-48e40dd13ab4",
   "metadata": {},
   "source": [
    "That means the fifth column of `__dataframe__` instance of dataframe df is of float type, one element of the column takes up 64 bits in computer memory. Format string will have to be mapped to Apache Arrow format string https://arrow.apache.org/docs/format/CDataInterface.html#data-type-description-format-strings. At the end of the list byteorder/endianness is also saved: https://numpy.org/doc/stable/reference/generated/numpy.dtype.byteorder.html."
   ]
  },
  {
   "cell_type": "code",
   "execution_count": 14,
   "id": "8cd8a287-bf3e-43c4-8935-fb0ca106e960",
   "metadata": {},
   "outputs": [
    {
     "data": {
      "text/plain": [
       "(21, 64, '|O', '|')"
      ]
     },
     "execution_count": 14,
     "metadata": {},
     "output_type": "execute_result"
    }
   ],
   "source": [
    "# Dtype description for the Arrow string\n",
    "df.__dataframe__().get_column(15).dtype"
   ]
  },
  {
   "cell_type": "code",
   "execution_count": 15,
   "id": "6fee9731-3568-4e7f-8383-8b71aa1eea66",
   "metadata": {},
   "outputs": [
    {
     "data": {
      "text/plain": [
       "(<_DtypeKind.CATEGORICAL: 23>, 64, 'u', '=')"
      ]
     },
     "execution_count": 15,
     "metadata": {},
     "output_type": "execute_result"
    }
   ],
   "source": [
    "# Dtype description for the Arrow dictionary\n",
    "df.__dataframe__().get_column(17).dtype"
   ]
  },
  {
   "cell_type": "code",
   "execution_count": 16,
   "id": "84d9d26d-3056-4fdc-aa69-6d1b5bd69197",
   "metadata": {},
   "outputs": [
    {
     "data": {
      "text/plain": [
       "(False, True, {0: 'aap', 1: 'noot', 2: 'mies'})"
      ]
     },
     "execution_count": 16,
     "metadata": {},
     "output_type": "execute_result"
    }
   ],
   "source": [
    "# We can also see description of the categorical for the Arrow dictionary\n",
    "df.__dataframe__().get_column(17).describe_categorical"
   ]
  },
  {
   "cell_type": "markdown",
   "id": "97c13265-fb29-463c-9f1e-8e7123c3cbbe",
   "metadata": {},
   "source": [
    "For each column we can also get the list of the necessary buffers. Method `get_buffers` returns a dictionary of three separate two-element tuples:\n",
    "- `_get_data_buffer`: buffer containing the data and it's associated dtype,\n",
    "- `_get_validity_buffer`: buffer containing mask values indicating missing data and it's associated dtype,\n",
    "- `_get_offsets_buffer`: offset values for variable-size binary data (e.g., variable-length strings) and it's associated dtype."
   ]
  },
  {
   "cell_type": "code",
   "execution_count": 17,
   "id": "008dd9bf-4116-4646-91b4-4718e07f8efe",
   "metadata": {},
   "outputs": [
    {
     "data": {
      "text/plain": [
       "{'data': (VaexBuffer({'bufsize': 40, 'ptr': 1837370875440, 'device': 'CPU'}),\n",
       "  (<_DtypeKind.FLOAT: 2>, 64, '<f8', '=')),\n",
       " 'validity': (VaexBuffer({'bufsize': 5, 'ptr': 1837367507760, 'device': 'CPU'}),\n",
       "  (<_DtypeKind.BOOL: 20>, 8, '|b1', '|')),\n",
       " 'offsets': None}"
      ]
     },
     "execution_count": 17,
     "metadata": {},
     "output_type": "execute_result"
    }
   ],
   "source": [
    "col.get_buffers()"
   ]
  },
  {
   "cell_type": "markdown",
   "id": "6cdb7309-84db-4e85-b990-400951a57d74",
   "metadata": {},
   "source": [
    "We can also see in the output that besides the `_VaexBuffer`instance we get the dtype that is needed to produce and array out from the buffer at transfer."
   ]
  },
  {
   "cell_type": "markdown",
   "id": "6c09e5c7-2930-4ddd-af7c-905bb80b5e87",
   "metadata": {},
   "source": [
    "---"
   ]
  },
  {
   "cell_type": "markdown",
   "id": "fc737644-e527-4382-acea-8b7cbc49aea2",
   "metadata": {},
   "source": [
    "## `from_dataframe` method <a name=\"from_df\"></a>\n",
    "The general method to move between dataframes is called `from_dataframe`. It iterates through the dictionary of columns (and chunks), calls the correct methods and transfers the column to the desired type.\n",
    "\n",
    "In this part of the Example Notebook I will show how Pandas dataframe can easily be transformed to a Vaex datafame.\n",
    "\n",
    "Pandas implementation used in this Example Notebook can be found <a href=\"https://github.com/AlenkaF/vaex-df-api-implementation/blob/0afacfc24bd9efb7eb8cd5dbe22beb629d4b4143/blog-post-and-example_notebook/pandas_implementation.py\">here</a>"
   ]
  },
  {
   "cell_type": "code",
   "execution_count": 3,
   "id": "fe7be92d-f685-443e-b76a-96f005e6a2b4",
   "metadata": {},
   "outputs": [
    {
     "data": {
      "text/html": [
       "<div>\n",
       "<style scoped>\n",
       "    .dataframe tbody tr th:only-of-type {\n",
       "        vertical-align: middle;\n",
       "    }\n",
       "\n",
       "    .dataframe tbody tr th {\n",
       "        vertical-align: top;\n",
       "    }\n",
       "\n",
       "    .dataframe thead th {\n",
       "        text-align: right;\n",
       "    }\n",
       "</style>\n",
       "<table border=\"1\" class=\"dataframe\">\n",
       "  <thead>\n",
       "    <tr style=\"text-align: right;\">\n",
       "      <th></th>\n",
       "      <th>a</th>\n",
       "      <th>b</th>\n",
       "      <th>c</th>\n",
       "      <th>d</th>\n",
       "    </tr>\n",
       "  </thead>\n",
       "  <tbody>\n",
       "    <tr>\n",
       "      <th>0</th>\n",
       "      <td>1</td>\n",
       "      <td>3</td>\n",
       "      <td>1.5</td>\n",
       "      <td>A</td>\n",
       "    </tr>\n",
       "    <tr>\n",
       "      <th>1</th>\n",
       "      <td>2</td>\n",
       "      <td>NaN</td>\n",
       "      <td>2.5</td>\n",
       "      <td>B</td>\n",
       "    </tr>\n",
       "    <tr>\n",
       "      <th>2</th>\n",
       "      <td>3</td>\n",
       "      <td>5</td>\n",
       "      <td>3.5</td>\n",
       "      <td>C</td>\n",
       "    </tr>\n",
       "  </tbody>\n",
       "</table>\n",
       "</div>"
      ],
      "text/plain": [
       "   a    b    c  d\n",
       "0  1    3  1.5  A\n",
       "1  2  NaN  2.5  B\n",
       "2  3    5  3.5  C"
      ]
     },
     "execution_count": 3,
     "metadata": {},
     "output_type": "execute_result"
    }
   ],
   "source": [
    "# First I need to import Pandas implementation of the protocol\n",
    "%run pandas_implementation.py\n",
    "\n",
    "# And construct the example dataframe\n",
    "dfp = pd.DataFrame(data=dict(a=[1, 2, 3], b=[3, 4, 5],\n",
    "                             c=[1.5, 2.5, 3.5], d=[\"A\", \"B\", \"C\"]))\n",
    "dfp[\"b\"] = dfp[\"b\"].astype(\"category\")\n",
    "dfp.at[1, 'b'] = np.nan\n",
    "\n",
    "# Lets first print the Pandas dataframe\n",
    "dfp"
   ]
  },
  {
   "cell_type": "code",
   "execution_count": 19,
   "id": "34d80f3b-42a4-4c6d-8d75-f12ed80d8da5",
   "metadata": {},
   "outputs": [
    {
     "data": {
      "text/plain": [
       "<__main__._PandasDataFrame at 0x1abce84b400>"
      ]
     },
     "execution_count": 19,
     "metadata": {},
     "output_type": "execute_result"
    }
   ],
   "source": [
    "# Lets see the `__dataframe__` instance\n",
    "dfp.__dataframe__()"
   ]
  },
  {
   "cell_type": "markdown",
   "id": "1deda21f-0ca9-486f-be50-824913625415",
   "metadata": {},
   "source": [
    "It is in fact a Pandas dataframe and it has its `__dataframe__` base class instance. Now lets transfer it to a Vaex dataframe."
   ]
  },
  {
   "cell_type": "code",
   "execution_count": 20,
   "id": "acaec9c6-c25e-4a6a-be0b-9be64f91fd81",
   "metadata": {},
   "outputs": [
    {
     "data": {
      "text/html": [
       "<table>\n",
       "<thead>\n",
       "<tr><th>#                            </th><th style=\"text-align: right;\">  a</th><th>b  </th><th style=\"text-align: right;\">  c</th><th>d  </th></tr>\n",
       "</thead>\n",
       "<tbody>\n",
       "<tr><td><i style='opacity: 0.6'>0</i></td><td style=\"text-align: right;\">  1</td><td>3  </td><td style=\"text-align: right;\">1.5</td><td>A  </td></tr>\n",
       "<tr><td><i style='opacity: 0.6'>1</i></td><td style=\"text-align: right;\">  2</td><td>-- </td><td style=\"text-align: right;\">2.5</td><td>B  </td></tr>\n",
       "<tr><td><i style='opacity: 0.6'>2</i></td><td style=\"text-align: right;\">  3</td><td>5  </td><td style=\"text-align: right;\">3.5</td><td>C  </td></tr>\n",
       "</tbody>\n",
       "</table>"
      ],
      "text/plain": [
       "  #    a  b      c  d\n",
       "  0    1  3    1.5  A\n",
       "  1    2  --   2.5  B\n",
       "  2    3  5    3.5  C"
      ]
     },
     "execution_count": 20,
     "metadata": {},
     "output_type": "execute_result"
    }
   ],
   "source": [
    "dfp_vaex = from_dataframe_to_vaex(dfp)\n",
    "dfp_vaex"
   ]
  },
  {
   "cell_type": "markdown",
   "id": "d91e4864-7cae-495c-baa1-e3fec5d8b035",
   "metadata": {},
   "source": [
    "If we check the transfered dataframe `__dataframe__` instance we see that it is now a Vaex dataframe!"
   ]
  },
  {
   "cell_type": "code",
   "execution_count": 21,
   "id": "ac1d00a6-2430-4c4d-a15a-42bfdfe4caf2",
   "metadata": {},
   "outputs": [
    {
     "data": {
      "text/plain": [
       "<__main__._VaexDataFrame at 0x1abcfb91700>"
      ]
     },
     "execution_count": 21,
     "metadata": {},
     "output_type": "execute_result"
    }
   ],
   "source": [
    "dfp_vaex.__dataframe__()"
   ]
  },
  {
   "cell_type": "markdown",
   "id": "3cb89c77-ed1e-4a75-b148-ed44665384bc",
   "metadata": {},
   "source": [
    "We could now check some attributes of both classes to see if the information stayed the same.\n",
    "\n",
    "Lets check three things:\n",
    "- missing is preserved\n",
    "- data type of float is preserved\n",
    "- category is preserved"
   ]
  },
  {
   "cell_type": "code",
   "execution_count": 22,
   "id": "b47e5142-ca06-4133-9069-8167932cf070",
   "metadata": {},
   "outputs": [
    {
     "data": {
      "text/plain": [
       "1"
      ]
     },
     "execution_count": 22,
     "metadata": {},
     "output_type": "execute_result"
    }
   ],
   "source": [
    "# Number of missing values in second column ('b') of the dfp\n",
    "dfp.__dataframe__().get_column_by_name('b').null_count"
   ]
  },
  {
   "cell_type": "code",
   "execution_count": 23,
   "id": "ccf67ea3-3038-4b82-b0bc-10f311cc4ee6",
   "metadata": {},
   "outputs": [
    {
     "data": {
      "text/plain": [
       "1"
      ]
     },
     "execution_count": 23,
     "metadata": {},
     "output_type": "execute_result"
    }
   ],
   "source": [
    "# And the number of missing values in second column ('b') of the dfp_vaex\n",
    "dfp_vaex.__dataframe__().get_column_by_name('b').null_count"
   ]
  },
  {
   "cell_type": "code",
   "execution_count": 24,
   "id": "dc2e7d7e-ac34-4d3c-b425-1e8faef1645f",
   "metadata": {},
   "outputs": [
    {
     "data": {
      "text/plain": [
       "(<_DtypeKind.FLOAT: 2>, 64, '<f8', '=')"
      ]
     },
     "execution_count": 24,
     "metadata": {},
     "output_type": "execute_result"
    }
   ],
   "source": [
    "# Data type of the 'c' column in dfp\n",
    "dfp.__dataframe__().get_column_by_name('c').dtype"
   ]
  },
  {
   "cell_type": "code",
   "execution_count": 25,
   "id": "937e6a8f-bafd-40a2-bcd3-435b27a718d3",
   "metadata": {},
   "outputs": [
    {
     "data": {
      "text/plain": [
       "(<_DtypeKind.FLOAT: 2>, 64, '<f8', '=')"
      ]
     },
     "execution_count": 25,
     "metadata": {},
     "output_type": "execute_result"
    }
   ],
   "source": [
    "# Data type of the 'c' column in dfp_vaex\n",
    "dfp_vaex.__dataframe__().get_column_by_name('c').dtype"
   ]
  },
  {
   "cell_type": "code",
   "execution_count": 26,
   "id": "4d4cada4-0a2c-43de-b235-54b602b1a1ce",
   "metadata": {},
   "outputs": [
    {
     "data": {
      "text/plain": [
       "(False, True, {0: 3, 1: 4, 2: 5})"
      ]
     },
     "execution_count": 26,
     "metadata": {},
     "output_type": "execute_result"
    }
   ],
   "source": [
    "dfp.__dataframe__().get_column_by_name('b').describe_categorical"
   ]
  },
  {
   "cell_type": "code",
   "execution_count": 27,
   "id": "e410c586-121f-46a9-92c8-f9e191d708d9",
   "metadata": {},
   "outputs": [
    {
     "data": {
      "text/plain": [
       "(False, True, {0: 3, 1: 4, 2: 5})"
      ]
     },
     "execution_count": 27,
     "metadata": {},
     "output_type": "execute_result"
    }
   ],
   "source": [
    "dfp_vaex.__dataframe__().get_column_by_name('b').describe_categorical"
   ]
  },
  {
   "cell_type": "markdown",
   "id": "d52d2c7c-6ab7-463b-a4f3-4e66432805f9",
   "metadata": {},
   "source": [
    "**Roundtrip**<br>\n",
    "We can call the `_from_dataframe_to_vaex` to see what we get with the Vaex roundtrip. We can check if the data stays the same."
   ]
  },
  {
   "cell_type": "code",
   "execution_count": 28,
   "id": "84f268d6-3df0-43be-9cca-86bd0dd92f9c",
   "metadata": {},
   "outputs": [
    {
     "data": {
      "text/html": [
       "<table>\n",
       "<thead>\n",
       "<tr><th>#                            </th><th style=\"text-align: right;\">  numpy_int</th><th style=\"text-align: right;\">  numpy_float</th><th>numpy_bool  </th><th>numpy_int_m  </th><th>numpy_float_m  </th><th>numpy_bool_m  </th><th>numpy_string  </th><th>numpy_string_m  </th><th style=\"text-align: right;\">  arrow_int</th><th style=\"text-align: right;\">  arrow_float</th><th>arrow_bool  </th><th>arrow_int_m  </th><th>arrow_float_m  </th><th>arrow_bool_m  </th><th>arrow_string  </th><th>arrow_string_m  </th><th>arrow_dict  </th><th>arrow_dict_m  </th></tr>\n",
       "</thead>\n",
       "<tbody>\n",
       "<tr><td><i style='opacity: 0.6'>0</i></td><td style=\"text-align: right;\">          1</td><td style=\"text-align: right;\">          1.5</td><td>True        </td><td>1            </td><td>1.5            </td><td>--            </td><td>a             </td><td>a               </td><td style=\"text-align: right;\">          0</td><td style=\"text-align: right;\">          0.5</td><td>True        </td><td>0            </td><td>0.5            </td><td>True          </td><td>data          </td><td>data            </td><td>aap         </td><td>aap           </td></tr>\n",
       "<tr><td><i style='opacity: 0.6'>1</i></td><td style=\"text-align: right;\">          2</td><td style=\"text-align: right;\">          2.5</td><td>False       </td><td>2            </td><td>--             </td><td>False         </td><td>b             </td><td>--              </td><td style=\"text-align: right;\">          1</td><td style=\"text-align: right;\">          1.5</td><td>False       </td><td>1            </td><td>1.5            </td><td>False         </td><td>frame         </td><td>frame           </td><td>noot        </td><td>--            </td></tr>\n",
       "<tr><td><i style='opacity: 0.6'>2</i></td><td style=\"text-align: right;\">          3</td><td style=\"text-align: right;\">          3.5</td><td>True        </td><td>3            </td><td>--             </td><td>True          </td><td>cde           </td><td>cde             </td><td style=\"text-align: right;\">          2</td><td style=\"text-align: right;\">          2.5</td><td>True        </td><td>2            </td><td>2.5            </td><td>--            </td><td>api           </td><td>--              </td><td>mies        </td><td>--            </td></tr>\n",
       "<tr><td><i style='opacity: 0.6'>3</i></td><td style=\"text-align: right;\">          4</td><td style=\"text-align: right;\">          4.5</td><td>True        </td><td>--           </td><td>--             </td><td>--            </td><td>              </td><td>                </td><td style=\"text-align: right;\">          3</td><td style=\"text-align: right;\">          3.5</td><td>False       </td><td>--           </td><td>--             </td><td>--            </td><td>vaex          </td><td>vaex            </td><td>aap         </td><td>aap           </td></tr>\n",
       "<tr><td><i style='opacity: 0.6'>4</i></td><td style=\"text-align: right;\">          0</td><td style=\"text-align: right;\">          0  </td><td>True        </td><td>--           </td><td>0.0            </td><td>True          </td><td>f             </td><td>f               </td><td style=\"text-align: right;\">          0</td><td style=\"text-align: right;\">          0.5</td><td>True        </td><td>--           </td><td>0.5            </td><td>True          </td><td>              </td><td>                </td><td>noot        </td><td>noot          </td></tr>\n",
       "</tbody>\n",
       "</table>"
      ],
      "text/plain": [
       "  #    numpy_int    numpy_float  numpy_bool    numpy_int_m    numpy_float_m    numpy_bool_m    numpy_string    numpy_string_m      arrow_int    arrow_float  arrow_bool    arrow_int_m    arrow_float_m    arrow_bool_m    arrow_string    arrow_string_m    arrow_dict    arrow_dict_m\n",
       "  0            1            1.5  True          1              1.5              --              a               a                           0            0.5  True          0              0.5              True            data            data              aap           aap\n",
       "  1            2            2.5  False         2              --               False           b               --                          1            1.5  False         1              1.5              False           frame           frame             noot          --\n",
       "  2            3            3.5  True          3              --               True            cde             cde                         2            2.5  True          2              2.5              --              api             --                mies          --\n",
       "  3            4            4.5  True          --             --               --                                                          3            3.5  False         --             --               --              vaex            vaex              aap           aap\n",
       "  4            0            0    True          --             0.0              True            f               f                           0            0.5  True          --             0.5              True                                              noot          noot"
      ]
     },
     "execution_count": 28,
     "metadata": {},
     "output_type": "execute_result"
    }
   ],
   "source": [
    "_from_dataframe_to_vaex(df.__dataframe__())"
   ]
  },
  {
   "cell_type": "code",
   "execution_count": 29,
   "id": "cf95656e-208a-4f5c-b318-f35d2f0fb78b",
   "metadata": {},
   "outputs": [
    {
     "data": {
      "text/plain": [
       "(<_DtypeKind.FLOAT: 2>, 64, '<f8', '=')"
      ]
     },
     "execution_count": 29,
     "metadata": {},
     "output_type": "execute_result"
    }
   ],
   "source": [
    "# We can select and look at the dtype og the fifth column again\n",
    "_from_dataframe_to_vaex(df.__dataframe__()).__dataframe__().get_column(4).dtype"
   ]
  },
  {
   "cell_type": "markdown",
   "id": "08fad2c9-ac7b-41cf-93c6-defa82284b05",
   "metadata": {},
   "source": [
    "---"
   ]
  },
  {
   "cell_type": "markdown",
   "id": "66ebd853-fb50-471c-95c4-a255f232e816",
   "metadata": {},
   "source": [
    "## Taxi dataset <a name=\"taxi\"></a>\n",
    "\n",
    "In this last part of the Example Notebook I will present a practical case when the dataframe protocol comes handy.\n",
    "\n",
    "We will first load New York City taxi trip data into Vaex dataframe where we will plot the locations of the taxi pickups.<br>You can also make use of virtual columns and fast computations.\n",
    "\n",
    "Then we will transfer some of the data to Pandas to make additional calculations for demo purposes."
   ]
  },
  {
   "cell_type": "code",
   "execution_count": 42,
   "id": "e94194e4-e6d4-4275-93bc-4a97f27cc9c7",
   "metadata": {},
   "outputs": [],
   "source": [
    "# Load the data\n",
    "taxi_vaex = vaex.open('s3://vaex/taxi/nyc_taxi_2015_mini.hdf5', fs_options={'anon': True})"
   ]
  },
  {
   "cell_type": "code",
   "execution_count": 43,
   "id": "05019a18-a28f-45b3-84d5-9b2e7831a5e6",
   "metadata": {},
   "outputs": [
    {
     "data": {
      "text/html": [
       "<table>\n",
       "<thead>\n",
       "<tr><th>#                            </th><th>vendor_id  </th><th>pickup_datetime              </th><th>dropoff_datetime             </th><th style=\"text-align: right;\">  passenger_count</th><th style=\"text-align: right;\">  payment_type</th><th style=\"text-align: right;\">  trip_distance</th><th style=\"text-align: right;\">  pickup_longitude</th><th style=\"text-align: right;\">  pickup_latitude</th><th style=\"text-align: right;\">  rate_code</th><th style=\"text-align: right;\">  store_and_fwd_flag</th><th style=\"text-align: right;\">  dropoff_longitude</th><th style=\"text-align: right;\">  dropoff_latitude</th><th style=\"text-align: right;\">  fare_amount</th><th style=\"text-align: right;\">  surcharge</th><th style=\"text-align: right;\">  mta_tax</th><th style=\"text-align: right;\">  tip_amount</th><th style=\"text-align: right;\">  tolls_amount</th><th style=\"text-align: right;\">  total_amount</th></tr>\n",
       "</thead>\n",
       "<tbody>\n",
       "<tr><td><i style='opacity: 0.6'>0</i></td><td>VTS        </td><td>2015-02-27 22:11:38.000000000</td><td>2015-02-27 22:22:51.000000000</td><td style=\"text-align: right;\">                5</td><td style=\"text-align: right;\">             1</td><td style=\"text-align: right;\">           2.26</td><td style=\"text-align: right;\">          -74.0066</td><td style=\"text-align: right;\">          40.7075</td><td style=\"text-align: right;\">          1</td><td style=\"text-align: right;\">                   0</td><td style=\"text-align: right;\">           -74.0096</td><td style=\"text-align: right;\">           40.7346</td><td style=\"text-align: right;\">         10  </td><td style=\"text-align: right;\">        0.5</td><td style=\"text-align: right;\">      0.5</td><td style=\"text-align: right;\">        2   </td><td style=\"text-align: right;\">             0</td><td style=\"text-align: right;\">         13.3 </td></tr>\n",
       "<tr><td><i style='opacity: 0.6'>1</i></td><td>VTS        </td><td>2015-08-04 00:36:01.000000000</td><td>2015-08-04 00:47:11.000000000</td><td style=\"text-align: right;\">                1</td><td style=\"text-align: right;\">             1</td><td style=\"text-align: right;\">           5.13</td><td style=\"text-align: right;\">          -74.0075</td><td style=\"text-align: right;\">          40.7052</td><td style=\"text-align: right;\">          1</td><td style=\"text-align: right;\">                   0</td><td style=\"text-align: right;\">           -73.9673</td><td style=\"text-align: right;\">           40.7552</td><td style=\"text-align: right;\">         16  </td><td style=\"text-align: right;\">        0.5</td><td style=\"text-align: right;\">      0.5</td><td style=\"text-align: right;\">        3.46</td><td style=\"text-align: right;\">             0</td><td style=\"text-align: right;\">         20.76</td></tr>\n",
       "<tr><td><i style='opacity: 0.6'>2</i></td><td>VTS        </td><td>2015-01-28 19:56:52.000000000</td><td>2015-01-28 20:03:27.000000000</td><td style=\"text-align: right;\">                1</td><td style=\"text-align: right;\">             2</td><td style=\"text-align: right;\">           1.89</td><td style=\"text-align: right;\">          -73.9719</td><td style=\"text-align: right;\">          40.7629</td><td style=\"text-align: right;\">          1</td><td style=\"text-align: right;\">                   0</td><td style=\"text-align: right;\">           -73.9551</td><td style=\"text-align: right;\">           40.786 </td><td style=\"text-align: right;\">          7.5</td><td style=\"text-align: right;\">        1  </td><td style=\"text-align: right;\">      0.5</td><td style=\"text-align: right;\">        0   </td><td style=\"text-align: right;\">             0</td><td style=\"text-align: right;\">          9.3 </td></tr>\n",
       "<tr><td><i style='opacity: 0.6'>3</i></td><td>VTS        </td><td>2015-05-02 14:06:44.000000000</td><td>2015-05-02 14:12:11.000000000</td><td style=\"text-align: right;\">                2</td><td style=\"text-align: right;\">             2</td><td style=\"text-align: right;\">           1.86</td><td style=\"text-align: right;\">          -73.8753</td><td style=\"text-align: right;\">          40.7634</td><td style=\"text-align: right;\">          1</td><td style=\"text-align: right;\">                   0</td><td style=\"text-align: right;\">           -73.8649</td><td style=\"text-align: right;\">           40.7704</td><td style=\"text-align: right;\">          7.5</td><td style=\"text-align: right;\">        0  </td><td style=\"text-align: right;\">      0.5</td><td style=\"text-align: right;\">        0   </td><td style=\"text-align: right;\">             0</td><td style=\"text-align: right;\">          8.3 </td></tr>\n",
       "<tr><td><i style='opacity: 0.6'>4</i></td><td>CMT        </td><td>2015-02-27 07:31:44.000000000</td><td>2015-02-27 07:43:47.000000000</td><td style=\"text-align: right;\">                1</td><td style=\"text-align: right;\">             1</td><td style=\"text-align: right;\">           2.9 </td><td style=\"text-align: right;\">          -73.9522</td><td style=\"text-align: right;\">          40.7689</td><td style=\"text-align: right;\">          1</td><td style=\"text-align: right;\">                   0</td><td style=\"text-align: right;\">           -73.9824</td><td style=\"text-align: right;\">           40.7452</td><td style=\"text-align: right;\">         12  </td><td style=\"text-align: right;\">        0  </td><td style=\"text-align: right;\">      0.5</td><td style=\"text-align: right;\">        2.2 </td><td style=\"text-align: right;\">             0</td><td style=\"text-align: right;\">         15   </td></tr>\n",
       "<tr><td><i style='opacity: 0.6'>5</i></td><td>CMT        </td><td>2015-09-02 11:05:43.000000000</td><td>2015-09-02 11:15:11.000000000</td><td style=\"text-align: right;\">                1</td><td style=\"text-align: right;\">             1</td><td style=\"text-align: right;\">           1.1 </td><td style=\"text-align: right;\">          -73.9888</td><td style=\"text-align: right;\">          40.774 </td><td style=\"text-align: right;\">          1</td><td style=\"text-align: right;\">                   0</td><td style=\"text-align: right;\">           -73.9786</td><td style=\"text-align: right;\">           40.7648</td><td style=\"text-align: right;\">          8  </td><td style=\"text-align: right;\">        0  </td><td style=\"text-align: right;\">      0.5</td><td style=\"text-align: right;\">        1.5 </td><td style=\"text-align: right;\">             0</td><td style=\"text-align: right;\">         10.3 </td></tr>\n",
       "<tr><td><i style='opacity: 0.6'>6</i></td><td>CMT        </td><td>2015-08-06 09:26:27.000000000</td><td>2015-08-06 09:35:41.000000000</td><td style=\"text-align: right;\">                1</td><td style=\"text-align: right;\">             1</td><td style=\"text-align: right;\">           1.8 </td><td style=\"text-align: right;\">          -74.0072</td><td style=\"text-align: right;\">          40.7341</td><td style=\"text-align: right;\">          1</td><td style=\"text-align: right;\">                   0</td><td style=\"text-align: right;\">           -74.0146</td><td style=\"text-align: right;\">           40.7141</td><td style=\"text-align: right;\">          8.5</td><td style=\"text-align: right;\">        0  </td><td style=\"text-align: right;\">      0.5</td><td style=\"text-align: right;\">        1.85</td><td style=\"text-align: right;\">             0</td><td style=\"text-align: right;\">         11.15</td></tr>\n",
       "<tr><td><i style='opacity: 0.6'>7</i></td><td>VTS        </td><td>2015-07-29 19:12:31.000000000</td><td>2015-07-29 19:23:57.000000000</td><td style=\"text-align: right;\">                1</td><td style=\"text-align: right;\">             1</td><td style=\"text-align: right;\">           2.62</td><td style=\"text-align: right;\">          -74.0066</td><td style=\"text-align: right;\">          40.7488</td><td style=\"text-align: right;\">          1</td><td style=\"text-align: right;\">                   0</td><td style=\"text-align: right;\">           -73.9798</td><td style=\"text-align: right;\">           40.7721</td><td style=\"text-align: right;\">         10.5</td><td style=\"text-align: right;\">        1  </td><td style=\"text-align: right;\">      0.5</td><td style=\"text-align: right;\">        1   </td><td style=\"text-align: right;\">             0</td><td style=\"text-align: right;\">         13.3 </td></tr>\n",
       "<tr><td><i style='opacity: 0.6'>8</i></td><td>VTS        </td><td>2015-09-23 09:01:57.000000000</td><td>2015-09-23 09:05:58.000000000</td><td style=\"text-align: right;\">                5</td><td style=\"text-align: right;\">             1</td><td style=\"text-align: right;\">           0.45</td><td style=\"text-align: right;\">          -74.0049</td><td style=\"text-align: right;\">          40.7354</td><td style=\"text-align: right;\">          1</td><td style=\"text-align: right;\">                   0</td><td style=\"text-align: right;\">           -74.0016</td><td style=\"text-align: right;\">           40.7328</td><td style=\"text-align: right;\">          4.5</td><td style=\"text-align: right;\">        0  </td><td style=\"text-align: right;\">      0.5</td><td style=\"text-align: right;\">        0.5 </td><td style=\"text-align: right;\">             0</td><td style=\"text-align: right;\">          5.8 </td></tr>\n",
       "<tr><td><i style='opacity: 0.6'>9</i></td><td>CMT        </td><td>2015-07-26 22:08:27.000000000</td><td>2015-07-26 22:28:15.000000000</td><td style=\"text-align: right;\">                1</td><td style=\"text-align: right;\">             1</td><td style=\"text-align: right;\">           7.1 </td><td style=\"text-align: right;\">          -73.8708</td><td style=\"text-align: right;\">          40.7737</td><td style=\"text-align: right;\">          1</td><td style=\"text-align: right;\">                   0</td><td style=\"text-align: right;\">           -73.9416</td><td style=\"text-align: right;\">           40.7086</td><td style=\"text-align: right;\">         23  </td><td style=\"text-align: right;\">        0.5</td><td style=\"text-align: right;\">      0.5</td><td style=\"text-align: right;\">        4.85</td><td style=\"text-align: right;\">             0</td><td style=\"text-align: right;\">         29.15</td></tr>\n",
       "</tbody>\n",
       "</table>"
      ],
      "text/plain": [
       "  #  vendor_id    pickup_datetime                dropoff_datetime                 passenger_count    payment_type    trip_distance    pickup_longitude    pickup_latitude    rate_code    store_and_fwd_flag    dropoff_longitude    dropoff_latitude    fare_amount    surcharge    mta_tax    tip_amount    tolls_amount    total_amount\n",
       "  0  VTS          2015-02-27 22:11:38.000000000  2015-02-27 22:22:51.000000000                  5               1             2.26            -74.0066            40.7075            1                     0             -74.0096             40.7346           10            0.5        0.5          2                  0           13.3\n",
       "  1  VTS          2015-08-04 00:36:01.000000000  2015-08-04 00:47:11.000000000                  1               1             5.13            -74.0075            40.7052            1                     0             -73.9673             40.7552           16            0.5        0.5          3.46               0           20.76\n",
       "  2  VTS          2015-01-28 19:56:52.000000000  2015-01-28 20:03:27.000000000                  1               2             1.89            -73.9719            40.7629            1                     0             -73.9551             40.786             7.5          1          0.5          0                  0            9.3\n",
       "  3  VTS          2015-05-02 14:06:44.000000000  2015-05-02 14:12:11.000000000                  2               2             1.86            -73.8753            40.7634            1                     0             -73.8649             40.7704            7.5          0          0.5          0                  0            8.3\n",
       "  4  CMT          2015-02-27 07:31:44.000000000  2015-02-27 07:43:47.000000000                  1               1             2.9             -73.9522            40.7689            1                     0             -73.9824             40.7452           12            0          0.5          2.2                0           15\n",
       "  5  CMT          2015-09-02 11:05:43.000000000  2015-09-02 11:15:11.000000000                  1               1             1.1             -73.9888            40.774             1                     0             -73.9786             40.7648            8            0          0.5          1.5                0           10.3\n",
       "  6  CMT          2015-08-06 09:26:27.000000000  2015-08-06 09:35:41.000000000                  1               1             1.8             -74.0072            40.7341            1                     0             -74.0146             40.7141            8.5          0          0.5          1.85               0           11.15\n",
       "  7  VTS          2015-07-29 19:12:31.000000000  2015-07-29 19:23:57.000000000                  1               1             2.62            -74.0066            40.7488            1                     0             -73.9798             40.7721           10.5          1          0.5          1                  0           13.3\n",
       "  8  VTS          2015-09-23 09:01:57.000000000  2015-09-23 09:05:58.000000000                  5               1             0.45            -74.0049            40.7354            1                     0             -74.0016             40.7328            4.5          0          0.5          0.5                0            5.8\n",
       "  9  CMT          2015-07-26 22:08:27.000000000  2015-07-26 22:28:15.000000000                  1               1             7.1             -73.8708            40.7737            1                     0             -73.9416             40.7086           23            0.5        0.5          4.85               0           29.15"
      ]
     },
     "execution_count": 43,
     "metadata": {},
     "output_type": "execute_result"
    }
   ],
   "source": [
    "taxi_vaex.head()"
   ]
  },
  {
   "cell_type": "code",
   "execution_count": 44,
   "id": "41ff4299-4b9f-47e9-ad7d-88999f283c9a",
   "metadata": {},
   "outputs": [
    {
     "data": {
      "image/png": "[encoded data removed]",
      "text/plain": [
       "<Figure size 432x288 with 2 Axes>"
      ]
     },
     "metadata": {
      "needs_background": "light"
     },
     "output_type": "display_data"
    }
   ],
   "source": [
    "# Making the visualization\n",
    "taxi_vaex.viz.heatmap(taxi_vaex.pickup_longitude, taxi_vaex.pickup_latitude, f=\"log1p\", limits=[[-74.05, -73.75], [40.58, 40.90]], show=True);"
   ]
  },
  {
   "cell_type": "markdown",
   "id": "63c16c1a-20ec-4af6-9eed-3fbb6adfb30d",
   "metadata": {},
   "source": [
    "Now lets say we want to use Pandas function crosstab to compute a simple cross tabulation of \"passenger_count\" and \"surcharge\". \n",
    "\n",
    "We will first transform one part of the Vaex dataframe to Pandas and make the computation on the transformed dataframe."
   ]
  },
  {
   "cell_type": "code",
   "execution_count": 49,
   "id": "ca40d8c6-8cad-4ccd-bf77-a2127d584556",
   "metadata": {},
   "outputs": [],
   "source": [
    "# Transform part of the Vaex dataframe to Pandas\n",
    "\n",
    "taxi_loc = taxi_vaex[('passenger_count', 'surcharge')]\n",
    "taxi_p = from_dataframe(taxi_loc)"
   ]
  },
  {
   "cell_type": "code",
   "execution_count": 50,
   "id": "17b2536c-3420-4508-8bb9-93b81aa03a30",
   "metadata": {},
   "outputs": [
    {
     "data": {
      "text/html": [
       "<div>\n",
       "<style scoped>\n",
       "    .dataframe tbody tr th:only-of-type {\n",
       "        vertical-align: middle;\n",
       "    }\n",
       "\n",
       "    .dataframe tbody tr th {\n",
       "        vertical-align: top;\n",
       "    }\n",
       "\n",
       "    .dataframe thead th {\n",
       "        text-align: right;\n",
       "    }\n",
       "</style>\n",
       "<table border=\"1\" class=\"dataframe\">\n",
       "  <thead>\n",
       "    <tr style=\"text-align: right;\">\n",
       "      <th></th>\n",
       "      <th>passenger_count</th>\n",
       "      <th>surcharge</th>\n",
       "    </tr>\n",
       "  </thead>\n",
       "  <tbody>\n",
       "    <tr>\n",
       "      <th>0</th>\n",
       "      <td>5</td>\n",
       "      <td>0.5</td>\n",
       "    </tr>\n",
       "    <tr>\n",
       "      <th>1</th>\n",
       "      <td>1</td>\n",
       "      <td>0.5</td>\n",
       "    </tr>\n",
       "    <tr>\n",
       "      <th>2</th>\n",
       "      <td>1</td>\n",
       "      <td>1.0</td>\n",
       "    </tr>\n",
       "    <tr>\n",
       "      <th>3</th>\n",
       "      <td>2</td>\n",
       "      <td>0.0</td>\n",
       "    </tr>\n",
       "    <tr>\n",
       "      <th>4</th>\n",
       "      <td>1</td>\n",
       "      <td>0.0</td>\n",
       "    </tr>\n",
       "  </tbody>\n",
       "</table>\n",
       "</div>"
      ],
      "text/plain": [
       "   passenger_count  surcharge\n",
       "0                5        0.5\n",
       "1                1        0.5\n",
       "2                1        1.0\n",
       "3                2        0.0\n",
       "4                1        0.0"
      ]
     },
     "execution_count": 50,
     "metadata": {},
     "output_type": "execute_result"
    }
   ],
   "source": [
    "taxi_p.head()"
   ]
  },
  {
   "cell_type": "code",
   "execution_count": 51,
   "id": "00842361-8445-4700-a85d-65832e3c4d5a",
   "metadata": {},
   "outputs": [
    {
     "data": {
      "text/html": [
       "<div>\n",
       "<style scoped>\n",
       "    .dataframe tbody tr th:only-of-type {\n",
       "        vertical-align: middle;\n",
       "    }\n",
       "\n",
       "    .dataframe tbody tr th {\n",
       "        vertical-align: top;\n",
       "    }\n",
       "\n",
       "    .dataframe thead th {\n",
       "        text-align: right;\n",
       "    }\n",
       "</style>\n",
       "<table border=\"1\" class=\"dataframe\">\n",
       "  <thead>\n",
       "    <tr style=\"text-align: right;\">\n",
       "      <th>surcharge</th>\n",
       "      <th>-1.00</th>\n",
       "      <th>-0.50</th>\n",
       "      <th>0.00</th>\n",
       "      <th>0.01</th>\n",
       "      <th>0.09</th>\n",
       "      <th>0.30</th>\n",
       "      <th>0.50</th>\n",
       "      <th>1.00</th>\n",
       "      <th>1.50</th>\n",
       "    </tr>\n",
       "    <tr>\n",
       "      <th>passenger_count</th>\n",
       "      <th></th>\n",
       "      <th></th>\n",
       "      <th></th>\n",
       "      <th></th>\n",
       "      <th></th>\n",
       "      <th></th>\n",
       "      <th></th>\n",
       "      <th></th>\n",
       "      <th></th>\n",
       "    </tr>\n",
       "  </thead>\n",
       "  <tbody>\n",
       "    <tr>\n",
       "      <th>0</th>\n",
       "      <td>0</td>\n",
       "      <td>0</td>\n",
       "      <td>43</td>\n",
       "      <td>0</td>\n",
       "      <td>0</td>\n",
       "      <td>0</td>\n",
       "      <td>22</td>\n",
       "      <td>13</td>\n",
       "      <td>0</td>\n",
       "    </tr>\n",
       "    <tr>\n",
       "      <th>1</th>\n",
       "      <td>8</td>\n",
       "      <td>19</td>\n",
       "      <td>110889</td>\n",
       "      <td>1</td>\n",
       "      <td>1</td>\n",
       "      <td>1</td>\n",
       "      <td>69759</td>\n",
       "      <td>30522</td>\n",
       "      <td>1</td>\n",
       "    </tr>\n",
       "    <tr>\n",
       "      <th>2</th>\n",
       "      <td>0</td>\n",
       "      <td>7</td>\n",
       "      <td>21132</td>\n",
       "      <td>0</td>\n",
       "      <td>0</td>\n",
       "      <td>0</td>\n",
       "      <td>15869</td>\n",
       "      <td>6169</td>\n",
       "      <td>0</td>\n",
       "    </tr>\n",
       "    <tr>\n",
       "      <th>3</th>\n",
       "      <td>1</td>\n",
       "      <td>2</td>\n",
       "      <td>6064</td>\n",
       "      <td>0</td>\n",
       "      <td>0</td>\n",
       "      <td>0</td>\n",
       "      <td>4763</td>\n",
       "      <td>1806</td>\n",
       "      <td>0</td>\n",
       "    </tr>\n",
       "    <tr>\n",
       "      <th>4</th>\n",
       "      <td>0</td>\n",
       "      <td>1</td>\n",
       "      <td>3064</td>\n",
       "      <td>0</td>\n",
       "      <td>0</td>\n",
       "      <td>0</td>\n",
       "      <td>2277</td>\n",
       "      <td>858</td>\n",
       "      <td>0</td>\n",
       "    </tr>\n",
       "    <tr>\n",
       "      <th>5</th>\n",
       "      <td>0</td>\n",
       "      <td>3</td>\n",
       "      <td>8258</td>\n",
       "      <td>0</td>\n",
       "      <td>0</td>\n",
       "      <td>0</td>\n",
       "      <td>5553</td>\n",
       "      <td>2324</td>\n",
       "      <td>0</td>\n",
       "    </tr>\n",
       "    <tr>\n",
       "      <th>6</th>\n",
       "      <td>0</td>\n",
       "      <td>1</td>\n",
       "      <td>5789</td>\n",
       "      <td>0</td>\n",
       "      <td>0</td>\n",
       "      <td>0</td>\n",
       "      <td>3382</td>\n",
       "      <td>1396</td>\n",
       "      <td>0</td>\n",
       "    </tr>\n",
       "    <tr>\n",
       "      <th>9</th>\n",
       "      <td>0</td>\n",
       "      <td>0</td>\n",
       "      <td>2</td>\n",
       "      <td>0</td>\n",
       "      <td>0</td>\n",
       "      <td>0</td>\n",
       "      <td>0</td>\n",
       "      <td>0</td>\n",
       "      <td>0</td>\n",
       "    </tr>\n",
       "  </tbody>\n",
       "</table>\n",
       "</div>"
      ],
      "text/plain": [
       "surcharge        -1.00  -0.50    0.00   0.01   0.09   0.30   0.50   1.00  \\\n",
       "passenger_count                                                            \n",
       "0                    0      0      43      0      0      0     22     13   \n",
       "1                    8     19  110889      1      1      1  69759  30522   \n",
       "2                    0      7   21132      0      0      0  15869   6169   \n",
       "3                    1      2    6064      0      0      0   4763   1806   \n",
       "4                    0      1    3064      0      0      0   2277    858   \n",
       "5                    0      3    8258      0      0      0   5553   2324   \n",
       "6                    0      1    5789      0      0      0   3382   1396   \n",
       "9                    0      0       2      0      0      0      0      0   \n",
       "\n",
       "surcharge         1.50  \n",
       "passenger_count         \n",
       "0                    0  \n",
       "1                    1  \n",
       "2                    0  \n",
       "3                    0  \n",
       "4                    0  \n",
       "5                    0  \n",
       "6                    0  \n",
       "9                    0  "
      ]
     },
     "execution_count": 51,
     "metadata": {},
     "output_type": "execute_result"
    }
   ],
   "source": [
    "# Make simple cross tabulation of two columns\n",
    "\n",
    "pd.crosstab(taxi_p.passenger_count, taxi_p.surcharge)"
   ]
  },
  {
   "cell_type": "markdown",
   "id": "bba7659d-4c9b-4df9-beee-ec783a956eb9",
   "metadata": {},
   "source": [
    "---"
   ]
  },
  {
   "cell_type": "markdown",
   "id": "f06625fe-5cb5-460b-983d-35f0422bff28",
   "metadata": {},
   "source": [
    "<img src=\"Blog_picture_5.png\" width=\"700\">\n",
    "\n",
    "Thank you for reading through the Notebook!\n",
    "\n",
    "If you are interested in the topic and want to see more information and the development of the dataframe protocol project please visit\n",
    "- https://data-apis.org/blog/ \n",
    "- https://data-apis.org/dataframe-protocol/latest/index.html. \n",
    "\n",
    "You can reach me at my <a href=\"https://www.linkedin.com/in/alenka-frim/\">LinkedIn</a> or <a href=\"https://github.com/AlenkaF\">github</a> profile."
   ]
  }
 ],
 "metadata": {
  "kernelspec": {
   "display_name": "Python 3 (ipykernel)",
   "language": "python",
   "name": "python3"
  },
  "language_info": {
   "codemirror_mode": {
    "name": "ipython",
    "version": 3
   },
   "file_extension": ".py",
   "mimetype": "text/x-python",
   "name": "python",
   "nbconvert_exporter": "python",
   "pygments_lexer": "ipython3",
   "version": "3.9.5"
  }
 },
 "nbformat": 4,
 "nbformat_minor": 5
}
