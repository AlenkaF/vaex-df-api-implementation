{
 "cells": [
  {
   "cell_type": "markdown",
   "id": "b5f7a2e5-f874-45f8-95bb-4a2675dfa931",
   "metadata": {},
   "source": [
    "# **Dataframe interchange protocol implementation for Vaex library** <br>Example Notebook\n",
    "\n",
    "## Protocol Description\n",
    ">The purpose of the **Dataframe interchange protocol (`__dataframe__`)** is to enable data interchange. I.e., a way to convert one type of dataframe into another type (for example, convert a Koalas dataframe into a Pandas dataframe, or a cuDF dataframe into a Vaex dataframe).\n",
    "\n",
    "With the protocol implemented in dataframe libraries we will be able to write code that exepts any kind of dataframe 🎉 <br>\n",
    "For more information visit the [RFC blog post](https://data-apis.org/blog/dataframe_protocol_rfc/) or the [official site](https://data-apis.org/dataframe-protocol/latest/index.html).\n",
    "\n",
    "## Vaex description\n",
    ">**Vaex library** is a high performance Python library for lazy Out-of-Core DataFrames, to visualize and explore big tabular datasets.\n",
    "\n",
    "More about the Vaex library is available on the [official site](https://vaex.io/docs/index.html) and [blog](https://vaex.io/blog).\n",
    "\n",
    "**The implementation for Vaex library thereby means connecting vaex dataframe class to a base class `__dataframe__` specified by the Consortium for Python Data API Standards.**\n",
    "\n",
    "## Content\n",
    "\n",
    "1. [dataframe attribute](#dataframe)\n",
    "2. [from_dataframe method](#from_df)\n",
    "3. [Plotting taxi dataset](#taxi)\n",
    "\n",
    "<center><img src=\"Blog_picture_2.png\" width=\"800\"></center>\n",
    "\n",
    "___"
   ]
  },
  {
   "cell_type": "markdown",
   "id": "86e38a5a-1da7-4257-ba67-5698c505426a",
   "metadata": {},
   "source": [
    "## `__dataframe__` attribute <a name=\"dataframe\"></a>\n",
    "The base class for the `__dataframe__` method includes three sepearate classes which are `_Buffer`, `_Column` and `_DataFrame`. Each of them has necessary and additional methods to construct and describe a dataframe. <br>Lets see some of them."
   ]
  },
  {
   "cell_type": "code",
   "execution_count": 1,
   "id": "5b56242d-6784-45d5-8b98-43cdc22dfa7d",
   "metadata": {},
   "outputs": [],
   "source": [
    "# First I will import Vaex protocol implementation for demo purposes\n",
    "%run vaex_implementation.py"
   ]
  },
  {
   "cell_type": "code",
   "execution_count": 2,
   "id": "6cc540eb-5c1e-451d-be1e-c0975f9ec725",
   "metadata": {},
   "outputs": [
    {
     "data": {
      "text/html": [
       "<table>\n",
       "<thead>\n",
       "<tr><th>#                            </th><th style=\"text-align: right;\">  numpy_int</th><th style=\"text-align: right;\">  numpy_float</th><th>numpy_bool  </th><th>numpy_int_m  </th><th>numpy_float_m  </th><th>numpy_bool_m  </th><th>numpy_string  </th><th>numpy_string_m  </th><th style=\"text-align: right;\">  arrow_int</th><th style=\"text-align: right;\">  arrow_float</th><th>arrow_bool  </th><th>arrow_int_m  </th><th>arrow_float_m  </th><th>arrow_bool_m  </th><th>arrow_string  </th><th>arrow_string_m  </th><th>arrow_dict  </th><th>arrow_dict_m  </th></tr>\n",
       "</thead>\n",
       "<tbody>\n",
       "<tr><td><i style='opacity: 0.6'>0</i></td><td style=\"text-align: right;\">          1</td><td style=\"text-align: right;\">          1.5</td><td>True        </td><td>1            </td><td>1.5            </td><td>--            </td><td>a             </td><td>a               </td><td style=\"text-align: right;\">          0</td><td style=\"text-align: right;\">          0.5</td><td>True        </td><td>0            </td><td>0.5            </td><td>True          </td><td>data          </td><td>data            </td><td>aap         </td><td>aap           </td></tr>\n",
       "<tr><td><i style='opacity: 0.6'>1</i></td><td style=\"text-align: right;\">          2</td><td style=\"text-align: right;\">          2.5</td><td>False       </td><td>2            </td><td>--             </td><td>False         </td><td>b             </td><td>--              </td><td style=\"text-align: right;\">          1</td><td style=\"text-align: right;\">          1.5</td><td>False       </td><td>1            </td><td>1.5            </td><td>False         </td><td>frame         </td><td>frame           </td><td>noot        </td><td>--            </td></tr>\n",
       "<tr><td><i style='opacity: 0.6'>2</i></td><td style=\"text-align: right;\">          3</td><td style=\"text-align: right;\">          3.5</td><td>True        </td><td>3            </td><td>--             </td><td>True          </td><td>cde           </td><td>cde             </td><td style=\"text-align: right;\">          2</td><td style=\"text-align: right;\">          2.5</td><td>True        </td><td>2            </td><td>2.5            </td><td>--            </td><td>api           </td><td>--              </td><td>mies        </td><td>--            </td></tr>\n",
       "<tr><td><i style='opacity: 0.6'>3</i></td><td style=\"text-align: right;\">          4</td><td style=\"text-align: right;\">          4.5</td><td>True        </td><td>--           </td><td>--             </td><td>--            </td><td>              </td><td>                </td><td style=\"text-align: right;\">          3</td><td style=\"text-align: right;\">          3.5</td><td>False       </td><td>--           </td><td>--             </td><td>--            </td><td>vaex          </td><td>vaex            </td><td>aap         </td><td>aap           </td></tr>\n",
       "<tr><td><i style='opacity: 0.6'>4</i></td><td style=\"text-align: right;\">          0</td><td style=\"text-align: right;\">          0  </td><td>True        </td><td>--           </td><td>0.0            </td><td>True          </td><td>f             </td><td>f               </td><td style=\"text-align: right;\">          0</td><td style=\"text-align: right;\">          0.5</td><td>True        </td><td>--           </td><td>0.5            </td><td>True          </td><td>              </td><td>                </td><td>noot        </td><td>noot          </td></tr>\n",
       "</tbody>\n",
       "</table>"
      ],
      "text/plain": [
       "  #    numpy_int    numpy_float  numpy_bool    numpy_int_m    numpy_float_m    numpy_bool_m    numpy_string    numpy_string_m      arrow_int    arrow_float  arrow_bool    arrow_int_m    arrow_float_m    arrow_bool_m    arrow_string    arrow_string_m    arrow_dict    arrow_dict_m\n",
       "  0            1            1.5  True          1              1.5              --              a               a                           0            0.5  True          0              0.5              True            data            data              aap           aap\n",
       "  1            2            2.5  False         2              --               False           b               --                          1            1.5  False         1              1.5              False           frame           frame             noot          --\n",
       "  2            3            3.5  True          3              --               True            cde             cde                         2            2.5  True          2              2.5              --              api             --                mies          --\n",
       "  3            4            4.5  True          --             --               --                                                          3            3.5  False         --             --               --              vaex            vaex              aap           aap\n",
       "  4            0            0    True          --             0.0              True            f               f                           0            0.5  True          --             0.5              True                                              noot          noot"
      ]
     },
     "execution_count": 2,
     "metadata": {},
     "output_type": "execute_result"
    }
   ],
   "source": [
    "# Then I will construct a diverse Veax dataframe\n",
    "indices = pa.array([0, 1, 2, 1, 2])\n",
    "dictionary = pa.array(['foo', 'bar', 'baz'])\n",
    "dict_array = pa.DictionaryArray.from_arrays(indices, dictionary)\n",
    "\n",
    "df = vaex.from_arrays(\n",
    "    numpy_int=np.array([1, 2, 3, 4, 0]), # Numpy int\n",
    "    numpy_float=np.array([1.5, 2.5, 3.5, 4.5, 0]), # Numpy float\n",
    "    numpy_bool=np.array([True, False, True, True, True]), # Numpy bool\n",
    "    \n",
    "    numpy_int_m=np.ma.array([1, 2, 3, 4, 0], mask=[0, 0, 0, 1, 1], dtype=int), # Numpy masked int\n",
    "    numpy_float_m=np.ma.array([1.5, 2.5, 3.5, 4.5, 0], mask=[False, True, True, True, False], dtype=float), # Numpy masked float\n",
    "    numpy_bool_m=np.ma.array([True, False, True, True, True], mask=[1, 0, 0, 1, 0], dtype=bool), # Numpy masked bool\n",
    "    \n",
    "    numpy_string=np.array([\"a\", \"b\", \"cde\", \"\", \"f\"]), # Numpy string\n",
    "    numpy_string_m=np.array([\"a\", None, \"cde\", \"\", \"f\"]), # Numpy string\n",
    "    \n",
    "    arrow_int = pa.array([0, 1, 2, 3, 0]), # Arrow int\n",
    "    arrow_float = pa.array([0.5, 1.5, 2.5, 3.5, 0.5]), # Arrow float\n",
    "    arrow_bool = pa.array([True, False, True, False, True]), # Arrow bool\n",
    "    \n",
    "    arrow_int_m = pa.array([0, 1, 2, None, 0], mask=np.array([0, 0, 0, 1, 1], dtype=bool)), # Arrow masked int\n",
    "    arrow_float_m = pa.array([0.5, 1.5, 2.5, None, 0.5], mask=np.array([0, 0, 0, 1, 0], dtype=bool)), # Arrow masked float\n",
    "    arrow_bool_m = pa.array([True, False, True, None, True], mask=np.array([0, 0, 1, 1, 0], dtype=bool)), # Arrow masked bool\n",
    "\n",
    "    arrow_string=np.array([\"data\", \"frame\", \"api\", \"vaex\", \"\"]), # Arrow string\n",
    "    arrow_string_m=np.array([\"data\", \"frame\", None, \"vaex\", \"\"]), # Numpy string\n",
    "    \n",
    "    arrow_dict = pa.DictionaryArray.from_arrays(pa.array([0, 1, 2, 0, 1]), pa.array(['aap', 'noot', 'mies'])), # Arrow dictionary\n",
    "    arrow_dict_m = pa.DictionaryArray.from_arrays(pa.array([0, 1, 2, 0, 1], mask=np.array([0, 1, 1, 0, 0], dtype=bool)), pa.array(['aap', 'noot', 'mies'])) # Arrow dict masked\n",
    ")\n",
    "\n",
    "# And print it out\n",
    "df"
   ]
  },
  {
   "cell_type": "code",
   "execution_count": 3,
   "id": "75c3e290-8f44-495e-b3a9-42261f44306e",
   "metadata": {},
   "outputs": [
    {
     "data": {
      "text/plain": [
       "<__main__._VaexDataFrame at 0x238c8822790>"
      ]
     },
     "execution_count": 3,
     "metadata": {},
     "output_type": "execute_result"
    }
   ],
   "source": [
    "# Lets first see how to call `__dataframe__` on a Vaex dataframe\n",
    "df.__dataframe__()"
   ]
  },
  {
   "cell_type": "markdown",
   "id": "34e5e13d-309a-41d6-993f-c0d0ec837d17",
   "metadata": {},
   "source": [
    "We can see that there is a `_VaexDataFrame` class instance generated. We can now research it's attributes:"
   ]
  },
  {
   "cell_type": "code",
   "execution_count": 4,
   "id": "878a89a8-9187-433f-b327-d24c9d842e7e",
   "metadata": {},
   "outputs": [
    {
     "data": {
      "text/plain": [
       "18"
      ]
     },
     "execution_count": 4,
     "metadata": {},
     "output_type": "execute_result"
    }
   ],
   "source": [
    "# Lets see the number of columns\n",
    "df.__dataframe__().num_columns()"
   ]
  },
  {
   "cell_type": "code",
   "execution_count": 5,
   "id": "d7723c6d-f1a5-4599-b692-2b13ae313dde",
   "metadata": {},
   "outputs": [
    {
     "data": {
      "text/plain": [
       "5"
      ]
     },
     "execution_count": 5,
     "metadata": {},
     "output_type": "execute_result"
    }
   ],
   "source": [
    "# and the number of rows\n",
    "df.__dataframe__().num_rows()"
   ]
  },
  {
   "cell_type": "code",
   "execution_count": 6,
   "id": "e9f20ba0-1ee4-460e-8f2e-937ae0a44d45",
   "metadata": {},
   "outputs": [
    {
     "data": {
      "text/plain": [
       "<__main__._VaexColumn at 0x238c8822f70>"
      ]
     },
     "execution_count": 6,
     "metadata": {},
     "output_type": "execute_result"
    }
   ],
   "source": [
    "# We can also get/select columns from the dataframe\n",
    "# The methods that can be used are: get_column, get_column_by_name, get_columns, select_columns, select_columns_by_name\n",
    "df.__dataframe__().get_column(4)"
   ]
  },
  {
   "cell_type": "markdown",
   "id": "04029525-47ed-4ef0-9e45-e29ffa3cc285",
   "metadata": {},
   "source": [
    "As we can see we selected the fifth column 'numpy_float_m' and got a `_VaexColumn` instance. <br>Which means we now have the fifth column of the dataframe df as a `_VaexColumn`. We can now observe some of the methods on this column also:"
   ]
  },
  {
   "cell_type": "code",
   "execution_count": 7,
   "id": "ae013def-6f81-48dd-ba10-bd47a21b2bd9",
   "metadata": {},
   "outputs": [
    {
     "data": {
      "text/plain": [
       "array(5, dtype=int64)"
      ]
     },
     "execution_count": 7,
     "metadata": {},
     "output_type": "execute_result"
    }
   ],
   "source": [
    "# Let's save the column and research the methods\n",
    "col = df.__dataframe__().get_column(4)\n",
    "\n",
    "# We can get the size of the column\n",
    "col.size"
   ]
  },
  {
   "cell_type": "code",
   "execution_count": 8,
   "id": "0b4a3cca-f51a-4a45-b6b9-09973b5f72ba",
   "metadata": {},
   "outputs": [
    {
     "data": {
      "text/plain": [
       "3"
      ]
     },
     "execution_count": 8,
     "metadata": {},
     "output_type": "execute_result"
    }
   ],
   "source": [
    "# Null count\n",
    "col.null_count"
   ]
  },
  {
   "cell_type": "markdown",
   "id": "44916bec-bafa-4e18-b390-e6b91fa77e18",
   "metadata": {},
   "source": [
    "What is very useful is the null representation and the data type description of the selected column. Lets see!"
   ]
  },
  {
   "cell_type": "code",
   "execution_count": 9,
   "id": "bd1c34d3-5536-4d56-9774-96644c6a1c50",
   "metadata": {},
   "outputs": [
    {
     "data": {
      "text/plain": [
       "(0, None)"
      ]
     },
     "execution_count": 9,
     "metadata": {},
     "output_type": "execute_result"
    }
   ],
   "source": [
    "# Null representation of the numpy int column\n",
    "# 0 : non-nullable\n",
    "df.__dataframe__().get_column(0).describe_null"
   ]
  },
  {
   "cell_type": "code",
   "execution_count": 10,
   "id": "e19c4700-07dc-43d3-8e9f-8aff6b44f6f2",
   "metadata": {},
   "outputs": [
    {
     "data": {
      "text/plain": [
       "(4, 1)"
      ]
     },
     "execution_count": 10,
     "metadata": {},
     "output_type": "execute_result"
    }
   ],
   "source": [
    "# Null representation of the masked numpy int\n",
    "# 4 : byte mask\n",
    "# 1 : Value indicating a missing value\n",
    "df.__dataframe__().get_column(3).describe_null"
   ]
  },
  {
   "cell_type": "code",
   "execution_count": 11,
   "id": "135edd54-cfa4-47a3-8399-3324012f59b9",
   "metadata": {},
   "outputs": [
    {
     "data": {
      "text/plain": [
       "(3, 0)"
      ]
     },
     "execution_count": 11,
     "metadata": {},
     "output_type": "execute_result"
    }
   ],
   "source": [
    "# Null representation of the Arrow dictionary\n",
    "# 3 : bit mask\n",
    "# 0 : Value indicating a missing value\n",
    "df.__dataframe__().get_column(17).describe_null"
   ]
  },
  {
   "cell_type": "code",
   "execution_count": 12,
   "id": "a5dfdbb3-3e87-4ff6-abd6-9d4057bcfb01",
   "metadata": {},
   "outputs": [
    {
     "data": {
      "text/plain": [
       "(<_DtypeKind.INT: 0>, 32, '<i4', '=')"
      ]
     },
     "execution_count": 12,
     "metadata": {},
     "output_type": "execute_result"
    }
   ],
   "source": [
    "# Dtype description as a tuple ``(kind, bit-width, format string, endianness)``\n",
    "\n",
    "# Dtype description for the numpy int column\n",
    "df.__dataframe__().get_column(0).dtype"
   ]
  },
  {
   "cell_type": "code",
   "execution_count": 13,
   "id": "0cced03c-1b1a-4169-8fbe-191dee112ebd",
   "metadata": {},
   "outputs": [
    {
     "data": {
      "text/plain": [
       "(<_DtypeKind.FLOAT: 2>, 64, '<f8', '=')"
      ]
     },
     "execution_count": 13,
     "metadata": {},
     "output_type": "execute_result"
    }
   ],
   "source": [
    "# Dtype description for the masked numpy float column\n",
    "col.dtype"
   ]
  },
  {
   "cell_type": "markdown",
   "id": "3fa18d37-e0ad-4314-be2f-48e40dd13ab4",
   "metadata": {},
   "source": [
    "That means the fifth column of `__dataframe__` instance of dataframe df is of float type, one element of the column takes up 64 bits in computer memory. Format string will have to be mapped to Apache Arrow format string https://arrow.apache.org/docs/format/CDataInterface.html#data-type-description-format-strings. At the end of the list byteorder/endianness is also saved: https://numpy.org/doc/stable/reference/generated/numpy.dtype.byteorder.html."
   ]
  },
  {
   "cell_type": "code",
   "execution_count": 14,
   "id": "8cd8a287-bf3e-43c4-8935-fb0ca106e960",
   "metadata": {},
   "outputs": [
    {
     "data": {
      "text/plain": [
       "(21, 64, '|O', '|')"
      ]
     },
     "execution_count": 14,
     "metadata": {},
     "output_type": "execute_result"
    }
   ],
   "source": [
    "# Dtype description for the Arrow string\n",
    "df.__dataframe__().get_column(15).dtype"
   ]
  },
  {
   "cell_type": "code",
   "execution_count": 15,
   "id": "6fee9731-3568-4e7f-8383-8b71aa1eea66",
   "metadata": {},
   "outputs": [
    {
     "data": {
      "text/plain": [
       "(<_DtypeKind.CATEGORICAL: 23>, 64, 'u', '=')"
      ]
     },
     "execution_count": 15,
     "metadata": {},
     "output_type": "execute_result"
    }
   ],
   "source": [
    "# Dtype description for the Arrow dictionary\n",
    "df.__dataframe__().get_column(17).dtype"
   ]
  },
  {
   "cell_type": "code",
   "execution_count": 16,
   "id": "84d9d26d-3056-4fdc-aa69-6d1b5bd69197",
   "metadata": {},
   "outputs": [
    {
     "data": {
      "text/plain": [
       "(False, True, {0: 'aap', 1: 'noot', 2: 'mies'})"
      ]
     },
     "execution_count": 16,
     "metadata": {},
     "output_type": "execute_result"
    }
   ],
   "source": [
    "# We can also see description of the categorical for the Arrow dictionary\n",
    "df.__dataframe__().get_column(17).describe_categorical"
   ]
  },
  {
   "cell_type": "markdown",
   "id": "97c13265-fb29-463c-9f1e-8e7123c3cbbe",
   "metadata": {},
   "source": [
    "For each column we can also get the list of the buffers. The first buffer is the data buffer, the second is the mask of the data and the third is the offest buffer. Lets see the output:"
   ]
  },
  {
   "cell_type": "code",
   "execution_count": 17,
   "id": "008dd9bf-4116-4646-91b4-4718e07f8efe",
   "metadata": {},
   "outputs": [
    {
     "data": {
      "text/plain": [
       "{'data': (VaexBuffer({'bufsize': 40, 'ptr': 2442859086176, 'device': 'CPU'}),\n",
       "  (<_DtypeKind.FLOAT: 2>, 64, '<f8', '=')),\n",
       " 'validity': (VaexBuffer({'bufsize': 5, 'ptr': 2442859021152, 'device': 'CPU'}),\n",
       "  (<_DtypeKind.BOOL: 20>, 8, '|b1', '|')),\n",
       " 'offsets': None}"
      ]
     },
     "execution_count": 17,
     "metadata": {},
     "output_type": "execute_result"
    }
   ],
   "source": [
    "col.get_buffers()"
   ]
  },
  {
   "cell_type": "markdown",
   "id": "6cdb7309-84db-4e85-b990-400951a57d74",
   "metadata": {},
   "source": [
    "We can also see in the output that besides the `_VaexBuffer`instance we get the dtype that is needed to produce and array out from the buffer at transfer."
   ]
  },
  {
   "cell_type": "markdown",
   "id": "6c09e5c7-2930-4ddd-af7c-905bb80b5e87",
   "metadata": {},
   "source": [
    "---"
   ]
  },
  {
   "cell_type": "markdown",
   "id": "fc737644-e527-4382-acea-8b7cbc49aea2",
   "metadata": {},
   "source": [
    "## `from_dataframe` method <a name=\"from_df\"></a>\n",
    "The general method to move between dataframes is called `from_dataframe`. It iterates through the dictionary of columns (and chunks), calls the correct methods and transfers the column to the desired type.\n",
    "\n",
    "In this example Notebook I will show how Panas dataframe can easily be transformed to Vaex datafame."
   ]
  },
  {
   "cell_type": "code",
   "execution_count": 18,
   "id": "fe7be92d-f685-443e-b76a-96f005e6a2b4",
   "metadata": {},
   "outputs": [
    {
     "data": {
      "text/html": [
       "<div>\n",
       "<style scoped>\n",
       "    .dataframe tbody tr th:only-of-type {\n",
       "        vertical-align: middle;\n",
       "    }\n",
       "\n",
       "    .dataframe tbody tr th {\n",
       "        vertical-align: top;\n",
       "    }\n",
       "\n",
       "    .dataframe thead th {\n",
       "        text-align: right;\n",
       "    }\n",
       "</style>\n",
       "<table border=\"1\" class=\"dataframe\">\n",
       "  <thead>\n",
       "    <tr style=\"text-align: right;\">\n",
       "      <th></th>\n",
       "      <th>a</th>\n",
       "      <th>b</th>\n",
       "      <th>c</th>\n",
       "      <th>d</th>\n",
       "    </tr>\n",
       "  </thead>\n",
       "  <tbody>\n",
       "    <tr>\n",
       "      <th>0</th>\n",
       "      <td>1</td>\n",
       "      <td>3</td>\n",
       "      <td>1.5</td>\n",
       "      <td>A</td>\n",
       "    </tr>\n",
       "    <tr>\n",
       "      <th>1</th>\n",
       "      <td>2</td>\n",
       "      <td>NaN</td>\n",
       "      <td>2.5</td>\n",
       "      <td>B</td>\n",
       "    </tr>\n",
       "    <tr>\n",
       "      <th>2</th>\n",
       "      <td>3</td>\n",
       "      <td>5</td>\n",
       "      <td>3.5</td>\n",
       "      <td>C</td>\n",
       "    </tr>\n",
       "  </tbody>\n",
       "</table>\n",
       "</div>"
      ],
      "text/plain": [
       "   a    b    c  d\n",
       "0  1    3  1.5  A\n",
       "1  2  NaN  2.5  B\n",
       "2  3    5  3.5  C"
      ]
     },
     "execution_count": 18,
     "metadata": {},
     "output_type": "execute_result"
    }
   ],
   "source": [
    "# First I need to import Pandas implementation of the protocol\n",
    "%run pandas_implementation.py\n",
    "\n",
    "# And construct the example dataframe\n",
    "dfp = pd.DataFrame(data=dict(a=[1, 2, 3], b=[3, 4, 5],\n",
    "                             c=[1.5, 2.5, 3.5], d=[\"A\", \"B\", \"C\"]))\n",
    "dfp[\"b\"] = dfp[\"b\"].astype(\"category\")\n",
    "dfp.at[1, 'b'] = np.nan\n",
    "\n",
    "# Lets first print the Pandas dataframe\n",
    "dfp"
   ]
  },
  {
   "cell_type": "code",
   "execution_count": 19,
   "id": "34d80f3b-42a4-4c6d-8d75-f12ed80d8da5",
   "metadata": {},
   "outputs": [
    {
     "data": {
      "text/plain": [
       "<__main__._PandasDataFrame at 0x238c8a9ca30>"
      ]
     },
     "execution_count": 19,
     "metadata": {},
     "output_type": "execute_result"
    }
   ],
   "source": [
    "# Lets see the `__dataframe__` instance\n",
    "dfp.__dataframe__()"
   ]
  },
  {
   "cell_type": "markdown",
   "id": "1deda21f-0ca9-486f-be50-824913625415",
   "metadata": {},
   "source": [
    "It is in fact a Pandas dataframe and it has its `__dataframe__` base class instance. Now lets transfer it to Vaex dataframe."
   ]
  },
  {
   "cell_type": "code",
   "execution_count": 20,
   "id": "acaec9c6-c25e-4a6a-be0b-9be64f91fd81",
   "metadata": {},
   "outputs": [
    {
     "data": {
      "text/html": [
       "<table>\n",
       "<thead>\n",
       "<tr><th>#                            </th><th style=\"text-align: right;\">  a</th><th>b  </th><th style=\"text-align: right;\">  c</th><th>d  </th></tr>\n",
       "</thead>\n",
       "<tbody>\n",
       "<tr><td><i style='opacity: 0.6'>0</i></td><td style=\"text-align: right;\">  1</td><td>3  </td><td style=\"text-align: right;\">1.5</td><td>A  </td></tr>\n",
       "<tr><td><i style='opacity: 0.6'>1</i></td><td style=\"text-align: right;\">  2</td><td>-- </td><td style=\"text-align: right;\">2.5</td><td>B  </td></tr>\n",
       "<tr><td><i style='opacity: 0.6'>2</i></td><td style=\"text-align: right;\">  3</td><td>5  </td><td style=\"text-align: right;\">3.5</td><td>C  </td></tr>\n",
       "</tbody>\n",
       "</table>"
      ],
      "text/plain": [
       "  #    a  b      c  d\n",
       "  0    1  3    1.5  A\n",
       "  1    2  --   2.5  B\n",
       "  2    3  5    3.5  C"
      ]
     },
     "execution_count": 20,
     "metadata": {},
     "output_type": "execute_result"
    }
   ],
   "source": [
    "dfp_vaex = from_dataframe_to_vaex(dfp)\n",
    "dfp_vaex"
   ]
  },
  {
   "cell_type": "markdown",
   "id": "d91e4864-7cae-495c-baa1-e3fec5d8b035",
   "metadata": {},
   "source": [
    "If we check the transfered dataframe `__dataframe__` instance we see that it is now a Vaex dataframe!"
   ]
  },
  {
   "cell_type": "code",
   "execution_count": 21,
   "id": "ac1d00a6-2430-4c4d-a15a-42bfdfe4caf2",
   "metadata": {},
   "outputs": [
    {
     "data": {
      "text/plain": [
       "<__main__._VaexDataFrame at 0x238c9deaaf0>"
      ]
     },
     "execution_count": 21,
     "metadata": {},
     "output_type": "execute_result"
    }
   ],
   "source": [
    "dfp_vaex.__dataframe__()"
   ]
  },
  {
   "cell_type": "markdown",
   "id": "3cb89c77-ed1e-4a75-b148-ed44665384bc",
   "metadata": {},
   "source": [
    "We could now check some attributes of both classes to see if the information stayed the same.\n",
    "\n",
    "Lets check three things:\n",
    "- missing is preserved\n",
    "- data type of float is preserved\n",
    "- category is preserved"
   ]
  },
  {
   "cell_type": "code",
   "execution_count": 22,
   "id": "b47e5142-ca06-4133-9069-8167932cf070",
   "metadata": {},
   "outputs": [
    {
     "data": {
      "text/plain": [
       "1"
      ]
     },
     "execution_count": 22,
     "metadata": {},
     "output_type": "execute_result"
    }
   ],
   "source": [
    "# Number of missing values in second column ('b') of the dfp\n",
    "dfp.__dataframe__().get_column_by_name('b').null_count"
   ]
  },
  {
   "cell_type": "code",
   "execution_count": 23,
   "id": "ccf67ea3-3038-4b82-b0bc-10f311cc4ee6",
   "metadata": {},
   "outputs": [
    {
     "data": {
      "text/plain": [
       "1"
      ]
     },
     "execution_count": 23,
     "metadata": {},
     "output_type": "execute_result"
    }
   ],
   "source": [
    "# And the number of missing values in second column ('b') of the dfp_vaex\n",
    "dfp_vaex.__dataframe__().get_column_by_name('b').null_count"
   ]
  },
  {
   "cell_type": "code",
   "execution_count": 24,
   "id": "dc2e7d7e-ac34-4d3c-b425-1e8faef1645f",
   "metadata": {},
   "outputs": [
    {
     "data": {
      "text/plain": [
       "(<_DtypeKind.FLOAT: 2>, 64, '<f8', '=')"
      ]
     },
     "execution_count": 24,
     "metadata": {},
     "output_type": "execute_result"
    }
   ],
   "source": [
    "# Data type of the 'c' column in dfp\n",
    "dfp.__dataframe__().get_column_by_name('c').dtype"
   ]
  },
  {
   "cell_type": "code",
   "execution_count": 25,
   "id": "937e6a8f-bafd-40a2-bcd3-435b27a718d3",
   "metadata": {},
   "outputs": [
    {
     "data": {
      "text/plain": [
       "(<_DtypeKind.FLOAT: 2>, 64, '<f8', '=')"
      ]
     },
     "execution_count": 25,
     "metadata": {},
     "output_type": "execute_result"
    }
   ],
   "source": [
    "# Data type of the 'c' column in dfp_vaex\n",
    "dfp_vaex.__dataframe__().get_column_by_name('c').dtype"
   ]
  },
  {
   "cell_type": "code",
   "execution_count": 26,
   "id": "4d4cada4-0a2c-43de-b235-54b602b1a1ce",
   "metadata": {},
   "outputs": [
    {
     "data": {
      "text/plain": [
       "(False, True, {0: 3, 1: 4, 2: 5})"
      ]
     },
     "execution_count": 26,
     "metadata": {},
     "output_type": "execute_result"
    }
   ],
   "source": [
    "dfp.__dataframe__().get_column_by_name('b').describe_categorical"
   ]
  },
  {
   "cell_type": "code",
   "execution_count": 27,
   "id": "e410c586-121f-46a9-92c8-f9e191d708d9",
   "metadata": {},
   "outputs": [
    {
     "data": {
      "text/plain": [
       "(False, True, {0: 3, 1: 4, 2: 5})"
      ]
     },
     "execution_count": 27,
     "metadata": {},
     "output_type": "execute_result"
    }
   ],
   "source": [
    "dfp_vaex.__dataframe__().get_column_by_name('b').describe_categorical"
   ]
  },
  {
   "cell_type": "markdown",
   "id": "d52d2c7c-6ab7-463b-a4f3-4e66432805f9",
   "metadata": {},
   "source": [
    "**Roundtrip**<br>\n",
    "We can call the `_from_dataframe_to_vaex` to see what we get with the Vaex roundtrip. We can check if the data stays the same."
   ]
  },
  {
   "cell_type": "code",
   "execution_count": 28,
   "id": "84f268d6-3df0-43be-9cca-86bd0dd92f9c",
   "metadata": {},
   "outputs": [
    {
     "data": {
      "text/html": [
       "<table>\n",
       "<thead>\n",
       "<tr><th>#                            </th><th style=\"text-align: right;\">  numpy_int</th><th style=\"text-align: right;\">  numpy_float</th><th>numpy_bool  </th><th>numpy_int_m  </th><th>numpy_float_m  </th><th>numpy_bool_m  </th><th>numpy_string  </th><th>numpy_string_m  </th><th style=\"text-align: right;\">  arrow_int</th><th style=\"text-align: right;\">  arrow_float</th><th>arrow_bool  </th><th>arrow_int_m  </th><th>arrow_float_m  </th><th>arrow_bool_m  </th><th>arrow_string  </th><th>arrow_string_m  </th><th>arrow_dict  </th><th>arrow_dict_m  </th></tr>\n",
       "</thead>\n",
       "<tbody>\n",
       "<tr><td><i style='opacity: 0.6'>0</i></td><td style=\"text-align: right;\">          1</td><td style=\"text-align: right;\">          1.5</td><td>True        </td><td>1            </td><td>1.5            </td><td>--            </td><td>a             </td><td>a               </td><td style=\"text-align: right;\">          0</td><td style=\"text-align: right;\">          0.5</td><td>True        </td><td>0            </td><td>0.5            </td><td>True          </td><td>data          </td><td>data            </td><td>aap         </td><td>aap           </td></tr>\n",
       "<tr><td><i style='opacity: 0.6'>1</i></td><td style=\"text-align: right;\">          2</td><td style=\"text-align: right;\">          2.5</td><td>False       </td><td>2            </td><td>--             </td><td>False         </td><td>b             </td><td>--              </td><td style=\"text-align: right;\">          1</td><td style=\"text-align: right;\">          1.5</td><td>False       </td><td>1            </td><td>1.5            </td><td>False         </td><td>frame         </td><td>frame           </td><td>noot        </td><td>--            </td></tr>\n",
       "<tr><td><i style='opacity: 0.6'>2</i></td><td style=\"text-align: right;\">          3</td><td style=\"text-align: right;\">          3.5</td><td>True        </td><td>3            </td><td>--             </td><td>True          </td><td>cde           </td><td>cde             </td><td style=\"text-align: right;\">          2</td><td style=\"text-align: right;\">          2.5</td><td>True        </td><td>2            </td><td>2.5            </td><td>--            </td><td>api           </td><td>--              </td><td>mies        </td><td>--            </td></tr>\n",
       "<tr><td><i style='opacity: 0.6'>3</i></td><td style=\"text-align: right;\">          4</td><td style=\"text-align: right;\">          4.5</td><td>True        </td><td>--           </td><td>--             </td><td>--            </td><td>              </td><td>                </td><td style=\"text-align: right;\">          3</td><td style=\"text-align: right;\">          3.5</td><td>False       </td><td>--           </td><td>--             </td><td>--            </td><td>vaex          </td><td>vaex            </td><td>aap         </td><td>aap           </td></tr>\n",
       "<tr><td><i style='opacity: 0.6'>4</i></td><td style=\"text-align: right;\">          0</td><td style=\"text-align: right;\">          0  </td><td>True        </td><td>--           </td><td>0.0            </td><td>True          </td><td>f             </td><td>f               </td><td style=\"text-align: right;\">          0</td><td style=\"text-align: right;\">          0.5</td><td>True        </td><td>--           </td><td>0.5            </td><td>True          </td><td>              </td><td>                </td><td>noot        </td><td>noot          </td></tr>\n",
       "</tbody>\n",
       "</table>"
      ],
      "text/plain": [
       "  #    numpy_int    numpy_float  numpy_bool    numpy_int_m    numpy_float_m    numpy_bool_m    numpy_string    numpy_string_m      arrow_int    arrow_float  arrow_bool    arrow_int_m    arrow_float_m    arrow_bool_m    arrow_string    arrow_string_m    arrow_dict    arrow_dict_m\n",
       "  0            1            1.5  True          1              1.5              --              a               a                           0            0.5  True          0              0.5              True            data            data              aap           aap\n",
       "  1            2            2.5  False         2              --               False           b               --                          1            1.5  False         1              1.5              False           frame           frame             noot          --\n",
       "  2            3            3.5  True          3              --               True            cde             cde                         2            2.5  True          2              2.5              --              api             --                mies          --\n",
       "  3            4            4.5  True          --             --               --                                                          3            3.5  False         --             --               --              vaex            vaex              aap           aap\n",
       "  4            0            0    True          --             0.0              True            f               f                           0            0.5  True          --             0.5              True                                              noot          noot"
      ]
     },
     "execution_count": 28,
     "metadata": {},
     "output_type": "execute_result"
    }
   ],
   "source": [
    "_from_dataframe_to_vaex(df.__dataframe__())"
   ]
  },
  {
   "cell_type": "code",
   "execution_count": 29,
   "id": "cf95656e-208a-4f5c-b318-f35d2f0fb78b",
   "metadata": {},
   "outputs": [
    {
     "data": {
      "text/plain": [
       "(<_DtypeKind.FLOAT: 2>, 64, '<f8', '=')"
      ]
     },
     "execution_count": 29,
     "metadata": {},
     "output_type": "execute_result"
    }
   ],
   "source": [
    "# We can select and look at the dtype og the fifth column again\n",
    "_from_dataframe_to_vaex(df.__dataframe__()).__dataframe__().get_column(4).dtype"
   ]
  },
  {
   "cell_type": "markdown",
   "id": "08fad2c9-ac7b-41cf-93c6-defa82284b05",
   "metadata": {},
   "source": [
    "---"
   ]
  },
  {
   "cell_type": "markdown",
   "id": "66ebd853-fb50-471c-95c4-a255f232e816",
   "metadata": {},
   "source": [
    "## Plotting taxi dataset <a name=\"taxi\"></a>\n",
    "We can load data as Pandas dataframe and plot with Vaex function `viz.heatmap()`"
   ]
  },
  {
   "cell_type": "code",
   "execution_count": 30,
   "id": "f3ad8374-6f8c-4d11-9aa2-67d53700d368",
   "metadata": {},
   "outputs": [],
   "source": [
    "pandas_taxi = pd.read_csv('nyc_taxi_trip_duration.csv')"
   ]
  },
  {
   "cell_type": "code",
   "execution_count": 31,
   "id": "5619b645-0f26-4baa-aa02-abbc922be22d",
   "metadata": {},
   "outputs": [
    {
     "data": {
      "text/html": [
       "<div>\n",
       "<style scoped>\n",
       "    .dataframe tbody tr th:only-of-type {\n",
       "        vertical-align: middle;\n",
       "    }\n",
       "\n",
       "    .dataframe tbody tr th {\n",
       "        vertical-align: top;\n",
       "    }\n",
       "\n",
       "    .dataframe thead th {\n",
       "        text-align: right;\n",
       "    }\n",
       "</style>\n",
       "<table border=\"1\" class=\"dataframe\">\n",
       "  <thead>\n",
       "    <tr style=\"text-align: right;\">\n",
       "      <th></th>\n",
       "      <th>id</th>\n",
       "      <th>vendor_id</th>\n",
       "      <th>pickup_datetime</th>\n",
       "      <th>dropoff_datetime</th>\n",
       "      <th>passenger_count</th>\n",
       "      <th>pickup_longitude</th>\n",
       "      <th>pickup_latitude</th>\n",
       "      <th>dropoff_longitude</th>\n",
       "      <th>dropoff_latitude</th>\n",
       "      <th>store_and_fwd_flag</th>\n",
       "      <th>trip_duration</th>\n",
       "    </tr>\n",
       "  </thead>\n",
       "  <tbody>\n",
       "    <tr>\n",
       "      <th>0</th>\n",
       "      <td>id1080784</td>\n",
       "      <td>2</td>\n",
       "      <td>2016-02-29 16:40:21</td>\n",
       "      <td>2016-02-29 16:47:01</td>\n",
       "      <td>1</td>\n",
       "      <td>-73.953918</td>\n",
       "      <td>40.778873</td>\n",
       "      <td>-73.963875</td>\n",
       "      <td>40.771164</td>\n",
       "      <td>N</td>\n",
       "      <td>400</td>\n",
       "    </tr>\n",
       "    <tr>\n",
       "      <th>1</th>\n",
       "      <td>id0889885</td>\n",
       "      <td>1</td>\n",
       "      <td>2016-03-11 23:35:37</td>\n",
       "      <td>2016-03-11 23:53:57</td>\n",
       "      <td>2</td>\n",
       "      <td>-73.988312</td>\n",
       "      <td>40.731743</td>\n",
       "      <td>-73.994751</td>\n",
       "      <td>40.694931</td>\n",
       "      <td>N</td>\n",
       "      <td>1100</td>\n",
       "    </tr>\n",
       "    <tr>\n",
       "      <th>2</th>\n",
       "      <td>id0857912</td>\n",
       "      <td>2</td>\n",
       "      <td>2016-02-21 17:59:33</td>\n",
       "      <td>2016-02-21 18:26:48</td>\n",
       "      <td>2</td>\n",
       "      <td>-73.997314</td>\n",
       "      <td>40.721458</td>\n",
       "      <td>-73.948029</td>\n",
       "      <td>40.774918</td>\n",
       "      <td>N</td>\n",
       "      <td>1635</td>\n",
       "    </tr>\n",
       "    <tr>\n",
       "      <th>3</th>\n",
       "      <td>id3744273</td>\n",
       "      <td>2</td>\n",
       "      <td>2016-01-05 09:44:31</td>\n",
       "      <td>2016-01-05 10:03:32</td>\n",
       "      <td>6</td>\n",
       "      <td>-73.961670</td>\n",
       "      <td>40.759720</td>\n",
       "      <td>-73.956779</td>\n",
       "      <td>40.780628</td>\n",
       "      <td>N</td>\n",
       "      <td>1141</td>\n",
       "    </tr>\n",
       "    <tr>\n",
       "      <th>4</th>\n",
       "      <td>id0232939</td>\n",
       "      <td>1</td>\n",
       "      <td>2016-02-17 06:42:23</td>\n",
       "      <td>2016-02-17 06:56:31</td>\n",
       "      <td>1</td>\n",
       "      <td>-74.017120</td>\n",
       "      <td>40.708469</td>\n",
       "      <td>-73.988182</td>\n",
       "      <td>40.740631</td>\n",
       "      <td>N</td>\n",
       "      <td>848</td>\n",
       "    </tr>\n",
       "    <tr>\n",
       "      <th>...</th>\n",
       "      <td>...</td>\n",
       "      <td>...</td>\n",
       "      <td>...</td>\n",
       "      <td>...</td>\n",
       "      <td>...</td>\n",
       "      <td>...</td>\n",
       "      <td>...</td>\n",
       "      <td>...</td>\n",
       "      <td>...</td>\n",
       "      <td>...</td>\n",
       "      <td>...</td>\n",
       "    </tr>\n",
       "    <tr>\n",
       "      <th>729317</th>\n",
       "      <td>id3905982</td>\n",
       "      <td>2</td>\n",
       "      <td>2016-05-21 13:29:38</td>\n",
       "      <td>2016-05-21 13:34:34</td>\n",
       "      <td>2</td>\n",
       "      <td>-73.965919</td>\n",
       "      <td>40.789780</td>\n",
       "      <td>-73.952637</td>\n",
       "      <td>40.789181</td>\n",
       "      <td>N</td>\n",
       "      <td>296</td>\n",
       "    </tr>\n",
       "    <tr>\n",
       "      <th>729318</th>\n",
       "      <td>id0102861</td>\n",
       "      <td>1</td>\n",
       "      <td>2016-02-22 00:43:11</td>\n",
       "      <td>2016-02-22 00:48:26</td>\n",
       "      <td>1</td>\n",
       "      <td>-73.996666</td>\n",
       "      <td>40.737434</td>\n",
       "      <td>-74.001320</td>\n",
       "      <td>40.731911</td>\n",
       "      <td>N</td>\n",
       "      <td>315</td>\n",
       "    </tr>\n",
       "    <tr>\n",
       "      <th>729319</th>\n",
       "      <td>id0439699</td>\n",
       "      <td>1</td>\n",
       "      <td>2016-04-15 18:56:48</td>\n",
       "      <td>2016-04-15 19:08:01</td>\n",
       "      <td>1</td>\n",
       "      <td>-73.997849</td>\n",
       "      <td>40.761696</td>\n",
       "      <td>-74.001488</td>\n",
       "      <td>40.741207</td>\n",
       "      <td>N</td>\n",
       "      <td>673</td>\n",
       "    </tr>\n",
       "    <tr>\n",
       "      <th>729320</th>\n",
       "      <td>id2078912</td>\n",
       "      <td>1</td>\n",
       "      <td>2016-06-19 09:50:47</td>\n",
       "      <td>2016-06-19 09:58:14</td>\n",
       "      <td>1</td>\n",
       "      <td>-74.006706</td>\n",
       "      <td>40.708244</td>\n",
       "      <td>-74.013550</td>\n",
       "      <td>40.713814</td>\n",
       "      <td>N</td>\n",
       "      <td>447</td>\n",
       "    </tr>\n",
       "    <tr>\n",
       "      <th>729321</th>\n",
       "      <td>id1053441</td>\n",
       "      <td>2</td>\n",
       "      <td>2016-01-01 17:24:16</td>\n",
       "      <td>2016-01-01 17:44:40</td>\n",
       "      <td>4</td>\n",
       "      <td>-74.003342</td>\n",
       "      <td>40.743839</td>\n",
       "      <td>-73.945847</td>\n",
       "      <td>40.712841</td>\n",
       "      <td>N</td>\n",
       "      <td>1224</td>\n",
       "    </tr>\n",
       "  </tbody>\n",
       "</table>\n",
       "<p>729322 rows × 11 columns</p>\n",
       "</div>"
      ],
      "text/plain": [
       "               id  vendor_id      pickup_datetime     dropoff_datetime  \\\n",
       "0       id1080784          2  2016-02-29 16:40:21  2016-02-29 16:47:01   \n",
       "1       id0889885          1  2016-03-11 23:35:37  2016-03-11 23:53:57   \n",
       "2       id0857912          2  2016-02-21 17:59:33  2016-02-21 18:26:48   \n",
       "3       id3744273          2  2016-01-05 09:44:31  2016-01-05 10:03:32   \n",
       "4       id0232939          1  2016-02-17 06:42:23  2016-02-17 06:56:31   \n",
       "...           ...        ...                  ...                  ...   \n",
       "729317  id3905982          2  2016-05-21 13:29:38  2016-05-21 13:34:34   \n",
       "729318  id0102861          1  2016-02-22 00:43:11  2016-02-22 00:48:26   \n",
       "729319  id0439699          1  2016-04-15 18:56:48  2016-04-15 19:08:01   \n",
       "729320  id2078912          1  2016-06-19 09:50:47  2016-06-19 09:58:14   \n",
       "729321  id1053441          2  2016-01-01 17:24:16  2016-01-01 17:44:40   \n",
       "\n",
       "        passenger_count  pickup_longitude  pickup_latitude  dropoff_longitude  \\\n",
       "0                     1        -73.953918        40.778873         -73.963875   \n",
       "1                     2        -73.988312        40.731743         -73.994751   \n",
       "2                     2        -73.997314        40.721458         -73.948029   \n",
       "3                     6        -73.961670        40.759720         -73.956779   \n",
       "4                     1        -74.017120        40.708469         -73.988182   \n",
       "...                 ...               ...              ...                ...   \n",
       "729317                2        -73.965919        40.789780         -73.952637   \n",
       "729318                1        -73.996666        40.737434         -74.001320   \n",
       "729319                1        -73.997849        40.761696         -74.001488   \n",
       "729320                1        -74.006706        40.708244         -74.013550   \n",
       "729321                4        -74.003342        40.743839         -73.945847   \n",
       "\n",
       "        dropoff_latitude store_and_fwd_flag  trip_duration  \n",
       "0              40.771164                  N            400  \n",
       "1              40.694931                  N           1100  \n",
       "2              40.774918                  N           1635  \n",
       "3              40.780628                  N           1141  \n",
       "4              40.740631                  N            848  \n",
       "...                  ...                ...            ...  \n",
       "729317         40.789181                  N            296  \n",
       "729318         40.731911                  N            315  \n",
       "729319         40.741207                  N            673  \n",
       "729320         40.713814                  N            447  \n",
       "729321         40.712841                  N           1224  \n",
       "\n",
       "[729322 rows x 11 columns]"
      ]
     },
     "execution_count": 31,
     "metadata": {},
     "output_type": "execute_result"
    }
   ],
   "source": [
    "pandas_taxi"
   ]
  },
  {
   "cell_type": "code",
   "execution_count": 32,
   "id": "41ff4299-4b9f-47e9-ad7d-88999f283c9a",
   "metadata": {},
   "outputs": [
    {
     "data": {
      "image/png": "[encoded data removed]",
      "text/plain": [
       "<Figure size 432x288 with 2 Axes>"
      ]
     },
     "metadata": {
      "needs_background": "light"
     },
     "output_type": "display_data"
    }
   ],
   "source": [
    "#creating visulization for Taxi1\n",
    "vaex_taxi = from_dataframe_to_vaex(pandas_taxi)\n",
    "vaex_taxi.viz.heatmap(vaex_taxi.pickup_longitude, vaex_taxi.pickup_latitude, f=\"log1p\", limits=[[-74.05, -73.75], [40.58, 40.90]], show=True);"
   ]
  },
  {
   "cell_type": "markdown",
   "id": "bba7659d-4c9b-4df9-beee-ec783a956eb9",
   "metadata": {},
   "source": [
    "---"
   ]
  },
  {
   "cell_type": "markdown",
   "id": "f06625fe-5cb5-460b-983d-35f0422bff28",
   "metadata": {},
   "source": [
    "<img src=\"Blog_picture_5.png\" width=\"700\">\n",
    "\n",
    "Thank you for reading through the Notebook!\n",
    "\n",
    "If you are interested in the topic and want to see the iformation and the development of the dataframe protocol project please visit https://data-apis.org/blog/ or https://data-apis.org/dataframe-protocol/latest/index.html. "
   ]
  },
  {
   "cell_type": "code",
   "execution_count": null,
   "id": "aa3de1ed-d19c-43eb-b0bd-8596f495f5d9",
   "metadata": {},
   "outputs": [],
   "source": []
  }
 ],
 "metadata": {
  "kernelspec": {
   "display_name": "Python 3 (ipykernel)",
   "language": "python",
   "name": "python3"
  },
  "language_info": {
   "codemirror_mode": {
    "name": "ipython",
    "version": 3
   },
   "file_extension": ".py",
   "mimetype": "text/x-python",
   "name": "python",
   "nbconvert_exporter": "python",
   "pygments_lexer": "ipython3",
   "version": "3.9.5"
  }
 },
 "nbformat": 4,
 "nbformat_minor": 5
}
