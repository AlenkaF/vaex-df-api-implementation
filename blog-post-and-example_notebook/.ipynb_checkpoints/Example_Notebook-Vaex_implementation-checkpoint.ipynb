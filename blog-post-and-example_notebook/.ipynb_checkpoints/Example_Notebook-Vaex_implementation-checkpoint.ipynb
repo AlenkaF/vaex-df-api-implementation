{
 "cells": [
  {
   "cell_type": "markdown",
   "id": "b5f7a2e5-f874-45f8-95bb-4a2675dfa931",
   "metadata": {},
   "source": [
    "# **Dataframe interchange protocol implementation for Vaex library** <br>Example Notebook\n",
    "\n",
    "## Protocol Description\n",
    ">The purpose of the **Dataframe interchange protocol (`__dataframe__`)** is to enable data interchange. I.e., a way to convert one type of dataframe into another type (for example, convert a Koalas dataframe into a Pandas dataframe, or a cuDF dataframe into a Vaex dataframe).\n",
    "\n",
    "With the protocol implemented in dataframe libraries we will be able to write code that exepts any kind of dataframe 🎉 <br>\n",
    "For more information visit the [RFC blog post](https://data-apis.org/blog/dataframe_protocol_rfc/) or the [official site](https://data-apis.org/dataframe-protocol/latest/index.html).\n",
    "\n",
    "## Vaex description\n",
    ">**Vaex library** is a high performance Python library for lazy Out-of-Core DataFrames, to visualize and explore big tabular datasets.\n",
    "\n",
    "More about the Vaex library is available on the [official site](https://vaex.io/docs/index.html) and [blog](https://vaex.io/blog).\n",
    "\n",
    "**The implementation for Vaex library thereby means connecting vaex dataframe class to a base class `__dataframe__` specified by the Consortium for Python Data API Standards.**\n",
    "\n",
    "## Content\n",
    "\n",
    "1. [dataframe attribute](#dataframe)\n",
    "2. [from_dataframe method](#from_df)\n",
    "\n",
    "<center><img src=\"Blog_picture_2.png\" width=\"800\"></center>\n",
    "\n",
    "___"
   ]
  },
  {
   "cell_type": "markdown",
   "id": "86e38a5a-1da7-4257-ba67-5698c505426a",
   "metadata": {},
   "source": [
    "## `__dataframe__` attribute <a name=\"dataframe\"></a>\n",
    "The base class for the `__dataframe__` method includes three sepearate classes which are `_Buffer`, `_Column` and `_DataFrame`. Each of them has necessary and additional methods to construct and describe a dataframe. <br>Lets see some of them."
   ]
  },
  {
   "cell_type": "code",
   "execution_count": 1,
   "id": "5b56242d-6784-45d5-8b98-43cdc22dfa7d",
   "metadata": {},
   "outputs": [],
   "source": [
    "# First I will import Vaex protocol implementation for demo purposes\n",
    "%run vaex_implementation.py"
   ]
  },
  {
   "cell_type": "code",
   "execution_count": 2,
   "id": "6cc540eb-5c1e-451d-be1e-c0975f9ec725",
   "metadata": {},
   "outputs": [
    {
     "data": {
      "text/html": [
       "<table>\n",
       "<thead>\n",
       "<tr><th>#                            </th><th style=\"text-align: right;\">  numpy_int</th><th style=\"text-align: right;\">  numpy_float</th><th>numpy_bool  </th><th>numpy_int_m  </th><th>numpy_float_m  </th><th>numpy_bool_m  </th><th style=\"text-align: right;\">  arrow_int</th><th style=\"text-align: right;\">  arrow_float</th><th>arrow_bool  </th><th>arrow_int_m  </th><th>arrow_float_m  </th><th>arrow_bool_m  </th><th>arrow_dict  </th><th>arrow_dict_m  </th></tr>\n",
       "</thead>\n",
       "<tbody>\n",
       "<tr><td><i style='opacity: 0.6'>0</i></td><td style=\"text-align: right;\">          1</td><td style=\"text-align: right;\">          1.5</td><td>True        </td><td>1            </td><td>1.5            </td><td>--            </td><td style=\"text-align: right;\">          0</td><td style=\"text-align: right;\">          0.5</td><td>True        </td><td>0            </td><td>0.5            </td><td>True          </td><td>aap         </td><td>aap           </td></tr>\n",
       "<tr><td><i style='opacity: 0.6'>1</i></td><td style=\"text-align: right;\">          2</td><td style=\"text-align: right;\">          2.5</td><td>False       </td><td>2            </td><td>--             </td><td>False         </td><td style=\"text-align: right;\">          1</td><td style=\"text-align: right;\">          1.5</td><td>False       </td><td>1            </td><td>1.5            </td><td>False         </td><td>noot        </td><td>--            </td></tr>\n",
       "<tr><td><i style='opacity: 0.6'>2</i></td><td style=\"text-align: right;\">          3</td><td style=\"text-align: right;\">          3.5</td><td>True        </td><td>3            </td><td>--             </td><td>True          </td><td style=\"text-align: right;\">          2</td><td style=\"text-align: right;\">          2.5</td><td>True        </td><td>2            </td><td>2.5            </td><td>--            </td><td>mies        </td><td>--            </td></tr>\n",
       "<tr><td><i style='opacity: 0.6'>3</i></td><td style=\"text-align: right;\">          4</td><td style=\"text-align: right;\">          4.5</td><td>True        </td><td>--           </td><td>--             </td><td>--            </td><td style=\"text-align: right;\">          3</td><td style=\"text-align: right;\">          3.5</td><td>False       </td><td>--           </td><td>--             </td><td>--            </td><td>aap         </td><td>aap           </td></tr>\n",
       "<tr><td><i style='opacity: 0.6'>4</i></td><td style=\"text-align: right;\">          0</td><td style=\"text-align: right;\">          0  </td><td>True        </td><td>--           </td><td>0.0            </td><td>True          </td><td style=\"text-align: right;\">          0</td><td style=\"text-align: right;\">          0.5</td><td>True        </td><td>--           </td><td>0.5            </td><td>True          </td><td>noot        </td><td>noot          </td></tr>\n",
       "</tbody>\n",
       "</table>"
      ],
      "text/plain": [
       "  #    numpy_int    numpy_float  numpy_bool    numpy_int_m    numpy_float_m    numpy_bool_m      arrow_int    arrow_float  arrow_bool    arrow_int_m    arrow_float_m    arrow_bool_m    arrow_dict    arrow_dict_m\n",
       "  0            1            1.5  True          1              1.5              --                        0            0.5  True          0              0.5              True            aap           aap\n",
       "  1            2            2.5  False         2              --               False                     1            1.5  False         1              1.5              False           noot          --\n",
       "  2            3            3.5  True          3              --               True                      2            2.5  True          2              2.5              --              mies          --\n",
       "  3            4            4.5  True          --             --               --                        3            3.5  False         --             --               --              aap           aap\n",
       "  4            0            0    True          --             0.0              True                      0            0.5  True          --             0.5              True            noot          noot"
      ]
     },
     "execution_count": 2,
     "metadata": {},
     "output_type": "execute_result"
    }
   ],
   "source": [
    "# Then I will construct a diverse Veax dataframe\n",
    "indices = pa.array([0, 1, 2, 1, 2])\n",
    "dictionary = pa.array(['foo', 'bar', 'baz'])\n",
    "dict_array = pa.DictionaryArray.from_arrays(indices, dictionary)\n",
    "\n",
    "df = vaex.from_arrays(\n",
    "    numpy_int=np.array([1, 2, 3, 4, 0]), # Numpy int\n",
    "    numpy_float=np.array([1.5, 2.5, 3.5, 4.5, 0]), # Numpy float\n",
    "    numpy_bool=np.array([True, False, True, True, True]), # Numpy bool\n",
    "    \n",
    "    numpy_int_m=np.ma.array([1, 2, 3, 4, 0], mask=[0, 0, 0, 1, 1], dtype=int), # Numpy masked int\n",
    "    numpy_float_m=np.ma.array([1.5, 2.5, 3.5, 4.5, 0], mask=[False, True, True, True, False], dtype=float), # Numpy masked float\n",
    "    numpy_bool_m=np.ma.array([True, False, True, True, True], mask=[1, 0, 0, 1, 0], dtype=bool), # Numpy masked bool\n",
    "    \n",
    "    arrow_int = pa.array([0, 1, 2, 3, 0]), # Arrow int\n",
    "    arrow_float = pa.array([0.5, 1.5, 2.5, 3.5, 0.5]), # Arrow float\n",
    "    arrow_bool = pa.array([True, False, True, False, True]), # Arrow bool\n",
    "    \n",
    "    arrow_int_m = pa.array([0, 1, 2, None, 0], mask=np.array([0, 0, 0, 1, 1], dtype=bool)), # Arrow masked int\n",
    "    arrow_float_m = pa.array([0.5, 1.5, 2.5, None, 0.5], mask=np.array([0, 0, 0, 1, 0], dtype=bool)), # Arrow masked float\n",
    "    arrow_bool_m = pa.array([True, False, True, None, True], mask=np.array([0, 0, 1, 1, 0], dtype=bool)), # Arrow masked bool\n",
    "    \n",
    "    arrow_dict = pa.DictionaryArray.from_arrays(pa.array([0, 1, 2, 0, 1]), pa.array(['aap', 'noot', 'mies'])), # Arrow dictionary\n",
    "    arrow_dict_m = pa.DictionaryArray.from_arrays(pa.array([0, 1, 2, 0, 1], mask=np.array([0, 1, 1, 0, 0], dtype=bool)), pa.array(['aap', 'noot', 'mies'])) # Arrow dict masked\n",
    ")\n",
    "\n",
    "# And print it out to visualize\n",
    "df"
   ]
  },
  {
   "cell_type": "code",
   "execution_count": 3,
   "id": "75c3e290-8f44-495e-b3a9-42261f44306e",
   "metadata": {},
   "outputs": [
    {
     "data": {
      "text/plain": [
       "<__main__._VaexDataFrame at 0x20e0ba0ceb0>"
      ]
     },
     "execution_count": 3,
     "metadata": {},
     "output_type": "execute_result"
    }
   ],
   "source": [
    "# Lets first see how to call `__dataframe__` on a Vaex dataframe\n",
    "df.__dataframe__()"
   ]
  },
  {
   "cell_type": "markdown",
   "id": "34e5e13d-309a-41d6-993f-c0d0ec837d17",
   "metadata": {},
   "source": [
    "We can see that there is a `_VaexDataFrame` class instance generated. We can now research it's attributes:"
   ]
  },
  {
   "cell_type": "code",
   "execution_count": 4,
   "id": "878a89a8-9187-433f-b327-d24c9d842e7e",
   "metadata": {},
   "outputs": [
    {
     "data": {
      "text/plain": [
       "14"
      ]
     },
     "execution_count": 4,
     "metadata": {},
     "output_type": "execute_result"
    }
   ],
   "source": [
    "# Lets see the number of columns\n",
    "df.__dataframe__().num_columns()"
   ]
  },
  {
   "cell_type": "code",
   "execution_count": 5,
   "id": "d7723c6d-f1a5-4599-b692-2b13ae313dde",
   "metadata": {},
   "outputs": [
    {
     "data": {
      "text/plain": [
       "5"
      ]
     },
     "execution_count": 5,
     "metadata": {},
     "output_type": "execute_result"
    }
   ],
   "source": [
    "# and the number of rows\n",
    "df.__dataframe__().num_rows()"
   ]
  },
  {
   "cell_type": "code",
   "execution_count": 6,
   "id": "e9f20ba0-1ee4-460e-8f2e-937ae0a44d45",
   "metadata": {},
   "outputs": [
    {
     "data": {
      "text/plain": [
       "<__main__._VaexColumn at 0x20e0ba04340>"
      ]
     },
     "execution_count": 6,
     "metadata": {},
     "output_type": "execute_result"
    }
   ],
   "source": [
    "# We can also get/select columns from the dataframe\n",
    "# The methods that can be used are: get_column, get_column_by_name, get_columns, select_columns, select_columns_by_name\n",
    "df.__dataframe__().get_column(4)"
   ]
  },
  {
   "cell_type": "markdown",
   "id": "04029525-47ed-4ef0-9e45-e29ffa3cc285",
   "metadata": {},
   "source": [
    "As we can see we selected the fifth column 'numpy_float_m' and got a `_VaexColumn` instance. <br>Which means we now have the fifth column of the dataframe df as a `_VaexColumn`. We can now observe some of the methods on this column also:"
   ]
  },
  {
   "cell_type": "code",
   "execution_count": 7,
   "id": "ae013def-6f81-48dd-ba10-bd47a21b2bd9",
   "metadata": {},
   "outputs": [
    {
     "data": {
      "text/plain": [
       "array(5, dtype=int64)"
      ]
     },
     "execution_count": 7,
     "metadata": {},
     "output_type": "execute_result"
    }
   ],
   "source": [
    "# Let's save the column and research the methods\n",
    "col = df.__dataframe__().get_column(4)\n",
    "\n",
    "# We can get the size of the column\n",
    "col.size"
   ]
  },
  {
   "cell_type": "code",
   "execution_count": 8,
   "id": "0b4a3cca-f51a-4a45-b6b9-09973b5f72ba",
   "metadata": {},
   "outputs": [
    {
     "data": {
      "text/plain": [
       "3"
      ]
     },
     "execution_count": 8,
     "metadata": {},
     "output_type": "execute_result"
    }
   ],
   "source": [
    "# Null count\n",
    "col.null_count"
   ]
  },
  {
   "cell_type": "markdown",
   "id": "44916bec-bafa-4e18-b390-e6b91fa77e18",
   "metadata": {},
   "source": [
    "What is very useful is the description of the data type. Lets see!"
   ]
  },
  {
   "cell_type": "code",
   "execution_count": 9,
   "id": "a5dfdbb3-3e87-4ff6-abd6-9d4057bcfb01",
   "metadata": {},
   "outputs": [
    {
     "data": {
      "text/plain": [
       "(<_DtypeKind.FLOAT: 2>, 64, 'g', '=')"
      ]
     },
     "execution_count": 9,
     "metadata": {},
     "output_type": "execute_result"
    }
   ],
   "source": [
    "col.dtype"
   ]
  },
  {
   "cell_type": "markdown",
   "id": "3fa18d37-e0ad-4314-be2f-48e40dd13ab4",
   "metadata": {},
   "source": [
    "That means the fifth column of `__dataframe__` instance of dataframe df is of float type, one element of the column takes up 64 bits in computer memory. There is also Apache Arrow format string type saved in the list. In this case 'g' means float64. You can see the whole list here: https://arrow.apache.org/docs/format/CDataInterface.html#data-type-description-format-strings. At the end of the list byteorder is also saved: https://numpy.org/doc/stable/reference/generated/numpy.dtype.byteorder.html."
   ]
  },
  {
   "cell_type": "markdown",
   "id": "97c13265-fb29-463c-9f1e-8e7123c3cbbe",
   "metadata": {},
   "source": [
    "For each column we can also get the list of the buffers. The first buffer is the data buffer, the second is the mask of the data and the third is the offest buffer. Lets see the output:"
   ]
  },
  {
   "cell_type": "code",
   "execution_count": 10,
   "id": "008dd9bf-4116-4646-91b4-4718e07f8efe",
   "metadata": {},
   "outputs": [
    {
     "data": {
      "text/plain": [
       "{'data': (VaexBuffer({'bufsize': 40, 'ptr': 2259304034864, 'device': 'CPU'}),\n",
       "  (<_DtypeKind.FLOAT: 2>, 64, 'g', '=')),\n",
       " 'validity': (VaexBuffer({'bufsize': 5, 'ptr': 2259304342976, 'device': 'CPU'}),\n",
       "  (<_DtypeKind.BOOL: 20>, 8, 'b', '|')),\n",
       " 'offsets': {}}"
      ]
     },
     "execution_count": 10,
     "metadata": {},
     "output_type": "execute_result"
    }
   ],
   "source": [
    "col.get_buffers()"
   ]
  },
  {
   "cell_type": "markdown",
   "id": "6cdb7309-84db-4e85-b990-400951a57d74",
   "metadata": {},
   "source": [
    "We can also see in the output that besides the `_VaexBuffer`instance we get the dtype that is needed to produce and array out from the buffer at transfer."
   ]
  },
  {
   "cell_type": "markdown",
   "id": "6c09e5c7-2930-4ddd-af7c-905bb80b5e87",
   "metadata": {},
   "source": [
    "---"
   ]
  },
  {
   "cell_type": "markdown",
   "id": "fc737644-e527-4382-acea-8b7cbc49aea2",
   "metadata": {},
   "source": [
    "## `from_dataframe` method <a name=\"from_df\"></a>\n",
    "The general method to move between dataframes is called `from_dataframe`. It iterates through the dictionary of columns (and chunks), calls the correct methods and transfers the column to the desired type.\n",
    "\n",
    "In this example Notebook I will show how Panas dataframe can easily be transformed to Vaex datafame."
   ]
  },
  {
   "cell_type": "code",
   "execution_count": 11,
   "id": "fe7be92d-f685-443e-b76a-96f005e6a2b4",
   "metadata": {},
   "outputs": [
    {
     "data": {
      "text/html": [
       "<div>\n",
       "<style scoped>\n",
       "    .dataframe tbody tr th:only-of-type {\n",
       "        vertical-align: middle;\n",
       "    }\n",
       "\n",
       "    .dataframe tbody tr th {\n",
       "        vertical-align: top;\n",
       "    }\n",
       "\n",
       "    .dataframe thead th {\n",
       "        text-align: right;\n",
       "    }\n",
       "</style>\n",
       "<table border=\"1\" class=\"dataframe\">\n",
       "  <thead>\n",
       "    <tr style=\"text-align: right;\">\n",
       "      <th></th>\n",
       "      <th>a</th>\n",
       "      <th>b</th>\n",
       "      <th>c</th>\n",
       "      <th>d</th>\n",
       "    </tr>\n",
       "  </thead>\n",
       "  <tbody>\n",
       "    <tr>\n",
       "      <th>0</th>\n",
       "      <td>1</td>\n",
       "      <td>3</td>\n",
       "      <td>1.5</td>\n",
       "      <td>9</td>\n",
       "    </tr>\n",
       "    <tr>\n",
       "      <th>1</th>\n",
       "      <td>2</td>\n",
       "      <td>NaN</td>\n",
       "      <td>2.5</td>\n",
       "      <td>10</td>\n",
       "    </tr>\n",
       "    <tr>\n",
       "      <th>2</th>\n",
       "      <td>3</td>\n",
       "      <td>5</td>\n",
       "      <td>3.5</td>\n",
       "      <td>11</td>\n",
       "    </tr>\n",
       "  </tbody>\n",
       "</table>\n",
       "</div>"
      ],
      "text/plain": [
       "   a    b    c   d\n",
       "0  1    3  1.5   9\n",
       "1  2  NaN  2.5  10\n",
       "2  3    5  3.5  11"
      ]
     },
     "execution_count": 11,
     "metadata": {},
     "output_type": "execute_result"
    }
   ],
   "source": [
    "# First I need to import Pandas implementation of the protocol\n",
    "%run pandas_implementation.py\n",
    "\n",
    "# And construct the example dataframe\n",
    "dfp = pd.DataFrame(data=dict(a=[1, 2, 3], b=[3, 4, 5],\n",
    "                                c=[1.5, 2.5, 3.5], d=[9, 10, 11]))\n",
    "dfp[\"b\"] = dfp[\"b\"].astype(\"category\")\n",
    "dfp.at[1, 'b'] = np.nan\n",
    "\n",
    "# Lets first print the Pandas dataframe\n",
    "dfp"
   ]
  },
  {
   "cell_type": "code",
   "execution_count": 12,
   "id": "34d80f3b-42a4-4c6d-8d75-f12ed80d8da5",
   "metadata": {},
   "outputs": [
    {
     "data": {
      "text/plain": [
       "<__main__._PandasDataFrame at 0x20e0ba194c0>"
      ]
     },
     "execution_count": 12,
     "metadata": {},
     "output_type": "execute_result"
    }
   ],
   "source": [
    "# Lets see the `__dataframe__` instance\n",
    "dfp.__dataframe__()"
   ]
  },
  {
   "cell_type": "markdown",
   "id": "1deda21f-0ca9-486f-be50-824913625415",
   "metadata": {},
   "source": [
    "It is in fact a Pandas dataframe and it has its `__dataframe__` base class instance. Now lets transfer it to Vaex dataframe."
   ]
  },
  {
   "cell_type": "code",
   "execution_count": 13,
   "id": "acaec9c6-c25e-4a6a-be0b-9be64f91fd81",
   "metadata": {},
   "outputs": [
    {
     "data": {
      "text/html": [
       "<table>\n",
       "<thead>\n",
       "<tr><th>#                            </th><th style=\"text-align: right;\">  a</th><th>b  </th><th style=\"text-align: right;\">  c</th><th style=\"text-align: right;\">  d</th></tr>\n",
       "</thead>\n",
       "<tbody>\n",
       "<tr><td><i style='opacity: 0.6'>0</i></td><td style=\"text-align: right;\">  1</td><td>3  </td><td style=\"text-align: right;\">1.5</td><td style=\"text-align: right;\">  9</td></tr>\n",
       "<tr><td><i style='opacity: 0.6'>1</i></td><td style=\"text-align: right;\">  2</td><td>-- </td><td style=\"text-align: right;\">2.5</td><td style=\"text-align: right;\"> 10</td></tr>\n",
       "<tr><td><i style='opacity: 0.6'>2</i></td><td style=\"text-align: right;\">  3</td><td>5  </td><td style=\"text-align: right;\">3.5</td><td style=\"text-align: right;\"> 11</td></tr>\n",
       "</tbody>\n",
       "</table>"
      ],
      "text/plain": [
       "  #    a  b      c    d\n",
       "  0    1  3    1.5    9\n",
       "  1    2  --   2.5   10\n",
       "  2    3  5    3.5   11"
      ]
     },
     "execution_count": 13,
     "metadata": {},
     "output_type": "execute_result"
    }
   ],
   "source": [
    "dfp_vaex = from_dataframe_to_vaex(dfp)\n",
    "dfp_vaex"
   ]
  },
  {
   "cell_type": "markdown",
   "id": "d91e4864-7cae-495c-baa1-e3fec5d8b035",
   "metadata": {},
   "source": [
    "If we check the transfered dataframe `__dataframe__` instance we see that it is now a Vaex dataframe!"
   ]
  },
  {
   "cell_type": "code",
   "execution_count": 14,
   "id": "ac1d00a6-2430-4c4d-a15a-42bfdfe4caf2",
   "metadata": {},
   "outputs": [
    {
     "data": {
      "text/plain": [
       "<__main__._VaexDataFrame at 0x20e0cffcb20>"
      ]
     },
     "execution_count": 14,
     "metadata": {},
     "output_type": "execute_result"
    }
   ],
   "source": [
    "dfp_vaex.__dataframe__()"
   ]
  },
  {
   "cell_type": "markdown",
   "id": "3cb89c77-ed1e-4a75-b148-ed44665384bc",
   "metadata": {},
   "source": [
    "We could now check some attributes of both classes to see if the information stayed the same.\n",
    "\n",
    "Lets check three things:\n",
    "- missing is preserved\n",
    "- data type of float is preserved\n",
    "- category is preserved"
   ]
  },
  {
   "cell_type": "code",
   "execution_count": 15,
   "id": "b47e5142-ca06-4133-9069-8167932cf070",
   "metadata": {},
   "outputs": [
    {
     "data": {
      "text/plain": [
       "1"
      ]
     },
     "execution_count": 15,
     "metadata": {},
     "output_type": "execute_result"
    }
   ],
   "source": [
    "# Number of missing values in second column ('b') of the dfp\n",
    "dfp.__dataframe__().get_column_by_name('b').null_count"
   ]
  },
  {
   "cell_type": "code",
   "execution_count": 16,
   "id": "ccf67ea3-3038-4b82-b0bc-10f311cc4ee6",
   "metadata": {},
   "outputs": [
    {
     "data": {
      "text/plain": [
       "1"
      ]
     },
     "execution_count": 16,
     "metadata": {},
     "output_type": "execute_result"
    }
   ],
   "source": [
    "# And the number of missing values in second column ('b') of the dfp_vaex\n",
    "dfp_vaex.__dataframe__().get_column_by_name('b').null_count"
   ]
  },
  {
   "cell_type": "code",
   "execution_count": 17,
   "id": "dc2e7d7e-ac34-4d3c-b425-1e8faef1645f",
   "metadata": {},
   "outputs": [
    {
     "data": {
      "text/plain": [
       "(<_DtypeKind.FLOAT: 2>, 64, '<f8', '=')"
      ]
     },
     "execution_count": 17,
     "metadata": {},
     "output_type": "execute_result"
    }
   ],
   "source": [
    "# Data type of the 'c' column in dfp\n",
    "dfp.__dataframe__().get_column_by_name('c').dtype"
   ]
  },
  {
   "cell_type": "code",
   "execution_count": 18,
   "id": "937e6a8f-bafd-40a2-bcd3-435b27a718d3",
   "metadata": {},
   "outputs": [
    {
     "data": {
      "text/plain": [
       "(<_DtypeKind.FLOAT: 2>, 64, 'g', '=')"
      ]
     },
     "execution_count": 18,
     "metadata": {},
     "output_type": "execute_result"
    }
   ],
   "source": [
    "# Data type of the 'c' column in dfp_vaex\n",
    "dfp_vaex.__dataframe__().get_column_by_name('c').dtype"
   ]
  },
  {
   "cell_type": "markdown",
   "id": "6582a353-534d-4317-97ef-04e9799dea50",
   "metadata": {},
   "source": [
    "Here the only difference is in the Apache Arrow format string as Pandas implementation doesn't have that implemented yet."
   ]
  },
  {
   "cell_type": "code",
   "execution_count": 19,
   "id": "4d4cada4-0a2c-43de-b235-54b602b1a1ce",
   "metadata": {},
   "outputs": [
    {
     "data": {
      "text/plain": [
       "(False, True, {0: 3, 1: 4, 2: 5})"
      ]
     },
     "execution_count": 19,
     "metadata": {},
     "output_type": "execute_result"
    }
   ],
   "source": [
    "dfp.__dataframe__().get_column_by_name('b').describe_categorical"
   ]
  },
  {
   "cell_type": "code",
   "execution_count": 20,
   "id": "e410c586-121f-46a9-92c8-f9e191d708d9",
   "metadata": {},
   "outputs": [
    {
     "data": {
      "text/plain": [
       "(False, True, {0: 3, 1: 4, 2: 5})"
      ]
     },
     "execution_count": 20,
     "metadata": {},
     "output_type": "execute_result"
    }
   ],
   "source": [
    "dfp_vaex.__dataframe__().get_column_by_name('b').describe_categorical"
   ]
  },
  {
   "cell_type": "markdown",
   "id": "bba7659d-4c9b-4df9-beee-ec783a956eb9",
   "metadata": {},
   "source": [
    "---"
   ]
  },
  {
   "cell_type": "markdown",
   "id": "f06625fe-5cb5-460b-983d-35f0422bff28",
   "metadata": {},
   "source": [
    "<img src=\"Blog_picture_5.png\" width=\"700\">\n",
    "\n",
    "Thank you for reading through the Notebook!\n",
    "\n",
    "If you are interested in the topic and want to see the iformation and the development of the dataframe protocol project please visit https://data-apis.org/blog/ or https://data-apis.org/dataframe-protocol/latest/index.html. "
   ]
  },
  {
   "cell_type": "code",
   "execution_count": null,
   "id": "aa3de1ed-d19c-43eb-b0bd-8596f495f5d9",
   "metadata": {},
   "outputs": [],
   "source": []
  }
 ],
 "metadata": {
  "kernelspec": {
   "display_name": "Python 3",
   "language": "python",
   "name": "python3"
  },
  "language_info": {
   "codemirror_mode": {
    "name": "ipython",
    "version": 3
   },
   "file_extension": ".py",
   "mimetype": "text/x-python",
   "name": "python",
   "nbconvert_exporter": "python",
   "pygments_lexer": "ipython3",
   "version": "3.9.5"
  }
 },
 "nbformat": 4,
 "nbformat_minor": 5
}
