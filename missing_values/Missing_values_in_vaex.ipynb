{
 "cells": [
  {
   "cell_type": "code",
   "execution_count": 1,
   "id": "394bbdbd-859b-49c8-bdf9-b4dd3b7791d9",
   "metadata": {},
   "outputs": [],
   "source": [
    "from IPython.core.interactiveshell import InteractiveShell\n",
    "InteractiveShell.ast_node_interactivity = \"all\""
   ]
  },
  {
   "cell_type": "code",
   "execution_count": 23,
   "id": "4395b7e4-ed6d-4d52-8fdf-e353c3131ce4",
   "metadata": {},
   "outputs": [],
   "source": [
    "import vaex\n",
    "import numpy as np\n",
    "import pyarrow as pa"
   ]
  },
  {
   "cell_type": "markdown",
   "id": "df3cdca3-0a19-4071-9c53-a6696c3d08fa",
   "metadata": {},
   "source": [
    "## Open questions\n",
    "- int and bool with np.nan are changed to float\n",
    "- int and bool with None are changed to object"
   ]
  },
  {
   "cell_type": "markdown",
   "id": "3077d54d-4684-41ac-9ec7-f85655cafb58",
   "metadata": {},
   "source": [
    "# Numeric missing\n",
    "## NaN/Null NumPy array"
   ]
  },
  {
   "cell_type": "code",
   "execution_count": 11,
   "id": "f34875b9-931a-4255-be3e-21a87a30dd6e",
   "metadata": {},
   "outputs": [
    {
     "data": {
      "text/html": [
       "<table>\n",
       "<thead>\n",
       "<tr><th>#                            </th><th style=\"text-align: right;\">  x</th><th style=\"text-align: right;\">    y</th><th>z    </th></tr>\n",
       "</thead>\n",
       "<tbody>\n",
       "<tr><td><i style='opacity: 0.6'>0</i></td><td style=\"text-align: right;\">  1</td><td style=\"text-align: right;\">nan  </td><td>True </td></tr>\n",
       "<tr><td><i style='opacity: 0.6'>1</i></td><td style=\"text-align: right;\">nan</td><td style=\"text-align: right;\">  2.5</td><td>False</td></tr>\n",
       "<tr><td><i style='opacity: 0.6'>2</i></td><td style=\"text-align: right;\">  3</td><td style=\"text-align: right;\">  3.5</td><td>None </td></tr>\n",
       "</tbody>\n",
       "</table>"
      ],
      "text/plain": [
       "  #    x      y  z\n",
       "  0    1  nan    True\n",
       "  1  nan    2.5  False\n",
       "  2    3    3.5  None"
      ]
     },
     "execution_count": 11,
     "metadata": {},
     "output_type": "execute_result"
    }
   ],
   "source": [
    "x = np.array([1, np.nan, 3])\n",
    "y = np.array([np.nan, 2.5, 3.5])\n",
    "z = np.array([True, False, None])\n",
    "df_num1 = vaex.from_arrays(x=x, y=y, z=z)\n",
    "df_num1"
   ]
  },
  {
   "cell_type": "code",
   "execution_count": 12,
   "id": "aaedc97d-aa31-4e3d-9068-55175f8906ba",
   "metadata": {},
   "outputs": [
    {
     "name": "stdout",
     "output_type": "stream",
     "text": [
      "Is column x masked? False\n",
      "Data type of column x : float64\n"
     ]
    }
   ],
   "source": [
    "print(f\"Is column x masked? {df_num1.x.is_masked}\")\n",
    "print(f\"Data type of column x: {df_num1.x.dtype}\")"
   ]
  },
  {
   "cell_type": "code",
   "execution_count": 13,
   "id": "1a181421-9e88-449f-9266-31cdd860876b",
   "metadata": {},
   "outputs": [
    {
     "name": "stdout",
     "output_type": "stream",
     "text": [
      "Is column y masked? False\n",
      "Data type of column y : float64\n"
     ]
    }
   ],
   "source": [
    "print(f\"Is column y masked? {df_num1.y.is_masked}\")\n",
    "print(f\"Data type of column y: {df_num1.y.dtype}\")"
   ]
  },
  {
   "cell_type": "code",
   "execution_count": 14,
   "id": "b7c16c10-923b-4a3a-81ec-8801fb169e84",
   "metadata": {},
   "outputs": [
    {
     "name": "stdout",
     "output_type": "stream",
     "text": [
      "Is column z masked? False\n",
      "Data type of column z : object\n"
     ]
    }
   ],
   "source": [
    "print(f\"Is column z masked? {df_num1.z.is_masked}\")\n",
    "print(f\"Data type of column z: {df_num1.z.dtype}\")"
   ]
  },
  {
   "cell_type": "markdown",
   "id": "081ee2a0-6f9c-4d2b-9df2-f5849407947a",
   "metadata": {},
   "source": [
    "## Masked NumPy array"
   ]
  },
  {
   "cell_type": "code",
   "execution_count": 18,
   "id": "7f18e2d7-15e6-4e6c-88a4-e34fc354816b",
   "metadata": {},
   "outputs": [
    {
     "data": {
      "text/html": [
       "<table>\n",
       "<thead>\n",
       "<tr><th>#                            </th><th>int1  </th><th>float1  </th><th>bool1  </th></tr>\n",
       "</thead>\n",
       "<tbody>\n",
       "<tr><td><i style='opacity: 0.6'>0</i></td><td>1     </td><td>3.14    </td><td>--     </td></tr>\n",
       "<tr><td><i style='opacity: 0.6'>1</i></td><td>--    </td><td>--      </td><td>True   </td></tr>\n",
       "</tbody>\n",
       "</table>"
      ],
      "text/plain": [
       "  #  int1    float1    bool1\n",
       "  0  1       3.14      --\n",
       "  1  --      --        True"
      ]
     },
     "execution_count": 18,
     "metadata": {},
     "output_type": "execute_result"
    }
   ],
   "source": [
    "df_num2 = vaex.from_arrays(\n",
    "    int1=np.ma.array([1, 0], mask=[0, 1], dtype=int),\n",
    "    float1=np.ma.array([3.14, 0], mask=[False, True], dtype=float),\n",
    "    bool1=np.ma.array([True, True], mask=[1, 0], dtype=bool)\n",
    ")\n",
    "df_num2"
   ]
  },
  {
   "cell_type": "code",
   "execution_count": 17,
   "id": "2bff8cc7-e87c-49a6-8ccc-ed81343b4cb1",
   "metadata": {},
   "outputs": [
    {
     "name": "stdout",
     "output_type": "stream",
     "text": [
      "Is column int1 masked? True\n",
      "Data type of column int1 : int32\n",
      "Mask values: [False  True]\n",
      "Data type of mask: bool\n",
      "Size of a mask array item: 1\n"
     ]
    }
   ],
   "source": [
    "print(f\"Is column int1 masked? {df_num2.int1.is_masked}\")\n",
    "print(f\"Data type of column int1: {df_num2.int1.dtype}\")\n",
    "print(f\"Mask values: {df_num2.int1.values.mask}\")\n",
    "print(f\"Data type of mask: {df_num2.int1.values.mask.dtype}\")\n",
    "print(f\"Size of a mask array item: {df_num2.int1.values.mask.dtype.itemsize}\")"
   ]
  },
  {
   "cell_type": "code",
   "execution_count": 19,
   "id": "d1378ecf-692f-4e57-8adc-d2b8465941e2",
   "metadata": {},
   "outputs": [
    {
     "name": "stdout",
     "output_type": "stream",
     "text": [
      "Is column float1 masked? True\n",
      "Data type of column float1 : float64\n",
      "Mask values: [False  True]\n",
      "Data type of mask: bool\n",
      "Size of a mask array item: 1\n"
     ]
    }
   ],
   "source": [
    "print(f\"Is column float1 masked? {df_num2.float1.is_masked}\")\n",
    "print(f\"Data type of column float1: {df_num2.float1.dtype}\")\n",
    "print(f\"Mask values: {df_num2.float1.values.mask}\")\n",
    "print(f\"Data type of mask: {df_num2.float1.values.mask.dtype}\")\n",
    "print(f\"Size of a mask array item: {df_num2.float1.values.mask.dtype.itemsize}\")"
   ]
  },
  {
   "cell_type": "code",
   "execution_count": 20,
   "id": "8cc8fece-33a6-411a-8f1c-b26b55e54a79",
   "metadata": {},
   "outputs": [
    {
     "name": "stdout",
     "output_type": "stream",
     "text": [
      "Is column bool1 masked? True\n",
      "Data type of column bool1 : bool\n",
      "Mask values: [ True False]\n",
      "Data type of mask: bool\n",
      "Size of a mask array item: 1\n"
     ]
    }
   ],
   "source": [
    "print(f\"Is column bool1 masked? {df_num2.bool1.is_masked}\")\n",
    "print(f\"Data type of column bool1: {df_num2.bool1.dtype}\")\n",
    "print(f\"Mask values: {df_num2.bool1.values.mask}\")\n",
    "print(f\"Data type of mask: {df_num2.bool1.values.mask.dtype}\")\n",
    "print(f\"Size of a mask array item: {df_num2.bool1.values.mask.dtype.itemsize}\")"
   ]
  },
  {
   "cell_type": "markdown",
   "id": "bd980842-efcf-4d64-900f-0b8d5f4f65cf",
   "metadata": {},
   "source": [
    "## Masked arrow array"
   ]
  },
  {
   "cell_type": "code",
   "execution_count": 24,
   "id": "593bfdf2-098f-4a48-960d-e2a4a6d036f2",
   "metadata": {},
   "outputs": [
    {
     "data": {
      "text/html": [
       "<table>\n",
       "<thead>\n",
       "<tr><th>#                            </th><th>n  </th></tr>\n",
       "</thead>\n",
       "<tbody>\n",
       "<tr><td><i style='opacity: 0.6'>0</i></td><td>0  </td></tr>\n",
       "<tr><td><i style='opacity: 0.6'>1</i></td><td>1  </td></tr>\n",
       "<tr><td><i style='opacity: 0.6'>2</i></td><td>2  </td></tr>\n",
       "<tr><td><i style='opacity: 0.6'>3</i></td><td>-- </td></tr>\n",
       "</tbody>\n",
       "</table>"
      ],
      "text/plain": [
       "  #  n\n",
       "  0  0\n",
       "  1  1\n",
       "  2  2\n",
       "  3  --"
      ]
     },
     "execution_count": 24,
     "metadata": {},
     "output_type": "execute_result"
    }
   ],
   "source": [
    "numpa = pa.array([0, 1, 2, None], mask=np.array([0, 0, 0, 1], dtype=bool))\n",
    "df_num3 = vaex.from_arrays(n=numpa)\n",
    "df_num3"
   ]
  },
  {
   "cell_type": "code",
   "execution_count": 43,
   "id": "8f308140-f1b1-4aa2-8ddd-2be8a39bb899",
   "metadata": {},
   "outputs": [
    {
     "name": "stdout",
     "output_type": "stream",
     "text": [
      "Is column n masked? False\n",
      "Data type of column n: int64\n",
      "Mask values: [False, False, False, True]\n"
     ]
    }
   ],
   "source": [
    "print(f\"Is column n masked? {df_num3.n.is_masked }\") # it should be masked...?\n",
    "print(f\"Data type of column n: {df_num3.n.dtype}\")\n",
    "print(f\"Mask values: {df_num3.n.values.is_null().tolist()}\")"
   ]
  },
  {
   "cell_type": "markdown",
   "id": "74cd6ebc-0ef7-4065-a80b-efddc3409147",
   "metadata": {},
   "source": [
    "## Nullable Arrow Array"
   ]
  },
  {
   "cell_type": "code",
   "execution_count": 26,
   "id": "40be412b-2dc3-4891-9db6-851e402a917f",
   "metadata": {},
   "outputs": [
    {
     "data": {
      "text/html": [
       "<table>\n",
       "<thead>\n",
       "<tr><th>#                            </th><th>m  </th></tr>\n",
       "</thead>\n",
       "<tbody>\n",
       "<tr><td><i style='opacity: 0.6'>0</i></td><td>0  </td></tr>\n",
       "<tr><td><i style='opacity: 0.6'>1</i></td><td>1  </td></tr>\n",
       "<tr><td><i style='opacity: 0.6'>2</i></td><td>2  </td></tr>\n",
       "<tr><td><i style='opacity: 0.6'>3</i></td><td>-- </td></tr>\n",
       "</tbody>\n",
       "</table>"
      ],
      "text/plain": [
       "  #  m\n",
       "  0  0\n",
       "  1  1\n",
       "  2  2\n",
       "  3  --"
      ]
     },
     "execution_count": 26,
     "metadata": {},
     "output_type": "execute_result"
    }
   ],
   "source": [
    "m = pa.array([0, 1, 2, None])\n",
    "df_num4 = vaex.from_arrays(m=m)\n",
    "df_num4"
   ]
  },
  {
   "cell_type": "code",
   "execution_count": 27,
   "id": "d91d3a39-3f57-4959-a5fc-2f2c5a90c5a7",
   "metadata": {},
   "outputs": [
    {
     "name": "stdout",
     "output_type": "stream",
     "text": [
      "Is column m masked? False\n",
      "Data type of column m : int64\n"
     ]
    }
   ],
   "source": [
    "print(f\"Is column m masked? {df_num4.m.is_masked}\")\n",
    "print(f\"Data type of column m: {df_num4.m.dtype}\")"
   ]
  },
  {
   "cell_type": "markdown",
   "id": "ff2c53ef-4171-4a70-9c5b-5ee7fe5059dc",
   "metadata": {},
   "source": [
    "# Categorical missing"
   ]
  },
  {
   "cell_type": "markdown",
   "id": "a5b0e0d0-3cd0-439e-b514-cf7825c893f8",
   "metadata": {},
   "source": [
    "## Categorize method\n",
    "Can't call categorize method on column with missing values!"
   ]
  },
  {
   "cell_type": "markdown",
   "id": "cbf62937-3b47-428a-9edf-8adb77898556",
   "metadata": {},
   "source": [
    "## Ordinal_encode method"
   ]
  },
  {
   "cell_type": "code",
   "execution_count": 28,
   "id": "18bda607-54e2-4dc1-883d-86080e4b006a",
   "metadata": {},
   "outputs": [
    {
     "data": {
      "text/html": [
       "<table>\n",
       "<thead>\n",
       "<tr><th>#                            </th><th>colors  </th></tr>\n",
       "</thead>\n",
       "<tbody>\n",
       "<tr><td><i style='opacity: 0.6'>0</i></td><td>0       </td></tr>\n",
       "<tr><td><i style='opacity: 0.6'>1</i></td><td>1       </td></tr>\n",
       "<tr><td><i style='opacity: 0.6'>2</i></td><td>2       </td></tr>\n",
       "<tr><td><i style='opacity: 0.6'>3</i></td><td>1       </td></tr>\n",
       "<tr><td><i style='opacity: 0.6'>4</i></td><td>--      </td></tr>\n",
       "</tbody>\n",
       "</table>"
      ],
      "text/plain": [
       "  #  colors\n",
       "  0  0\n",
       "  1  1\n",
       "  2  2\n",
       "  3  1\n",
       "  4  --"
      ]
     },
     "execution_count": 28,
     "metadata": {},
     "output_type": "execute_result"
    }
   ],
   "source": [
    "colors = ['red', 'green', 'blue', 'green', 'MISSING']\n",
    "mask   = [False, False,   False,   False,  True]\n",
    "colors = np.ma.array(colors, mask=mask)\n",
    "ds = vaex.from_arrays(colors=colors)\n",
    "df2 = ds.ordinal_encode('colors', ['red', 'green', 'blue'])\n",
    "df2"
   ]
  },
  {
   "cell_type": "code",
   "execution_count": 29,
   "id": "8e22bac5-9cd6-4eb2-9404-9f63be37818d",
   "metadata": {},
   "outputs": [
    {
     "name": "stdout",
     "output_type": "stream",
     "text": [
      "Is column colors masked? True\n",
      "Data type of column colors: int64\n",
      "Mask values: [False False False False  True]\n",
      "Data type of mask: bool\n",
      "Size of a mask array item: 1\n"
     ]
    }
   ],
   "source": [
    "print(f\"Is column colors masked? {df2.colors.is_masked}\")\n",
    "print(f\"Data type of column colors: {df_num4.m.dtype}\")\n",
    "print(f\"Mask values: {df2.colors.values.mask}\")\n",
    "print(f\"Data type of mask: {df2.colors.values.mask.dtype}\")\n",
    "print(f\"Size of a mask array item: {df2.colors.values.mask.dtype.itemsize}\")"
   ]
  },
  {
   "cell_type": "markdown",
   "id": "b6b70adf-07e1-4fbc-ae36-ab42a7cddda1",
   "metadata": {},
   "source": [
    "## Arrow dictionary"
   ]
  },
  {
   "cell_type": "code",
   "execution_count": 32,
   "id": "14a4fc38-4ca0-40bf-b8c4-79577762ec55",
   "metadata": {},
   "outputs": [
    {
     "data": {
      "text/html": [
       "<table>\n",
       "<thead>\n",
       "<tr><th>#                            </th><th>c   </th></tr>\n",
       "</thead>\n",
       "<tbody>\n",
       "<tr><td><i style='opacity: 0.6'>0</i></td><td>aap </td></tr>\n",
       "<tr><td><i style='opacity: 0.6'>1</i></td><td>noot</td></tr>\n",
       "<tr><td><i style='opacity: 0.6'>2</i></td><td>aap </td></tr>\n",
       "<tr><td><i style='opacity: 0.6'>3</i></td><td>noot</td></tr>\n",
       "<tr><td><i style='opacity: 0.6'>4</i></td><td>mies</td></tr>\n",
       "<tr><td><i style='opacity: 0.6'>5</i></td><td>--  </td></tr>\n",
       "</tbody>\n",
       "</table>"
      ],
      "text/plain": [
       "  #  c\n",
       "  0  aap\n",
       "  1  noot\n",
       "  2  aap\n",
       "  3  noot\n",
       "  4  mies\n",
       "  5  --"
      ]
     },
     "execution_count": 32,
     "metadata": {},
     "output_type": "execute_result"
    }
   ],
   "source": [
    "indices = pa.array([0, 1, 0, 1, 2, None])\n",
    "dictionary = pa.array(['aap', 'noot', 'mies'])\n",
    "c = pa.DictionaryArray.from_arrays(indices, dictionary)\n",
    "df3 = vaex.from_arrays(c = c)\n",
    "df3"
   ]
  },
  {
   "cell_type": "code",
   "execution_count": 44,
   "id": "f00b9c55-5431-4a42-9151-1ff2c3ff640a",
   "metadata": {},
   "outputs": [
    {
     "name": "stdout",
     "output_type": "stream",
     "text": [
      "Is column colors masked? False\n",
      "Data type of column colors: int64\n",
      "Mask values: [False, False, False, False, False, True]\n"
     ]
    }
   ],
   "source": [
    "print(f\"Is column colors masked? {df3.c.is_masked}\")\n",
    "print(f\"Data type of column colors: {df3.c.dtype.index_type}\")\n",
    "print(f\"Mask values: {df3.c.values.is_null().tolist()}\")"
   ]
  },
  {
   "cell_type": "code",
   "execution_count": null,
   "id": "084bf82c-14ff-407e-9bab-961dd2390e44",
   "metadata": {},
   "outputs": [],
   "source": []
  }
 ],
 "metadata": {
  "kernelspec": {
   "display_name": "Python 3",
   "language": "python",
   "name": "python3"
  },
  "language_info": {
   "codemirror_mode": {
    "name": "ipython",
    "version": 3
   },
   "file_extension": ".py",
   "mimetype": "text/x-python",
   "name": "python",
   "nbconvert_exporter": "python",
   "pygments_lexer": "ipython3",
   "version": "3.9.5"
  }
 },
 "nbformat": 4,
 "nbformat_minor": 5
}
