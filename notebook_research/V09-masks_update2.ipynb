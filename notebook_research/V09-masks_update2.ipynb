{
 "cells": [
  {
   "cell_type": "markdown",
   "id": "193dbb64-8ed1-4662-801e-b6a786a0a0b7",
   "metadata": {},
   "source": [
    "# Version 9\n",
    "**2021/08/20&23**\n",
    "\n",
    "- make musk handling easier (just use .ismissing for all data)\n",
    "- correct get_mask (itemsize must be * 8)!"
   ]
  },
  {
   "cell_type": "code",
   "execution_count": 1,
   "id": "86850ba6-b11c-49e2-bf23-321137d08faa",
   "metadata": {},
   "outputs": [],
   "source": [
    "from IPython.core.interactiveshell import InteractiveShell\n",
    "InteractiveShell.ast_node_interactivity = \"all\""
   ]
  },
  {
   "cell_type": "code",
   "execution_count": 2,
   "id": "e1fc880d-1607-42b8-b6d5-ad9c09428575",
   "metadata": {},
   "outputs": [],
   "source": [
    "%run vaex_implementation_v9.py"
   ]
  },
  {
   "cell_type": "markdown",
   "id": "c7577a2c-aba1-409f-a336-9f6b05ab970e",
   "metadata": {},
   "source": [
    "### Test data"
   ]
  },
  {
   "cell_type": "code",
   "execution_count": 3,
   "id": "b397f31c-0be5-48f8-b2a7-f53cc374c3d1",
   "metadata": {},
   "outputs": [
    {
     "data": {
      "text/html": [
       "<table>\n",
       "<thead>\n",
       "<tr><th>#                            </th><th style=\"text-align: right;\">  numpy_int</th><th style=\"text-align: right;\">  numpy_float</th><th>numpy_bool  </th><th>numpy_int_m  </th><th>numpy_float_m  </th><th>numpy_bool_m  </th><th style=\"text-align: right;\">  arrow_int</th><th style=\"text-align: right;\">  arrow_float</th><th>arrow_bool  </th><th>arrow_int_m  </th><th>arrow_float_m  </th><th>arrow_bool_m  </th><th>arrow_dict  </th><th>arrow_dict_m  </th></tr>\n",
       "</thead>\n",
       "<tbody>\n",
       "<tr><td><i style='opacity: 0.6'>0</i></td><td style=\"text-align: right;\">          1</td><td style=\"text-align: right;\">          1.5</td><td>True        </td><td>1            </td><td>1.5            </td><td>--            </td><td style=\"text-align: right;\">          0</td><td style=\"text-align: right;\">          0.5</td><td>True        </td><td>0            </td><td>0.5            </td><td>True          </td><td>aap         </td><td>aap           </td></tr>\n",
       "<tr><td><i style='opacity: 0.6'>1</i></td><td style=\"text-align: right;\">          2</td><td style=\"text-align: right;\">          2.5</td><td>False       </td><td>2            </td><td>--             </td><td>False         </td><td style=\"text-align: right;\">          1</td><td style=\"text-align: right;\">          1.5</td><td>False       </td><td>1            </td><td>1.5            </td><td>False         </td><td>noot        </td><td>--            </td></tr>\n",
       "<tr><td><i style='opacity: 0.6'>2</i></td><td style=\"text-align: right;\">          3</td><td style=\"text-align: right;\">          3.5</td><td>True        </td><td>3            </td><td>--             </td><td>True          </td><td style=\"text-align: right;\">          2</td><td style=\"text-align: right;\">          2.5</td><td>True        </td><td>2            </td><td>2.5            </td><td>--            </td><td>mies        </td><td>--            </td></tr>\n",
       "<tr><td><i style='opacity: 0.6'>3</i></td><td style=\"text-align: right;\">          4</td><td style=\"text-align: right;\">          4.5</td><td>True        </td><td>--           </td><td>--             </td><td>--            </td><td style=\"text-align: right;\">          3</td><td style=\"text-align: right;\">          3.5</td><td>False       </td><td>--           </td><td>--             </td><td>--            </td><td>aap         </td><td>aap           </td></tr>\n",
       "<tr><td><i style='opacity: 0.6'>4</i></td><td style=\"text-align: right;\">          0</td><td style=\"text-align: right;\">          0  </td><td>True        </td><td>--           </td><td>0.0            </td><td>True          </td><td style=\"text-align: right;\">          0</td><td style=\"text-align: right;\">          0.5</td><td>True        </td><td>--           </td><td>0.5            </td><td>True          </td><td>noot        </td><td>noot          </td></tr>\n",
       "</tbody>\n",
       "</table>"
      ],
      "text/plain": [
       "  #    numpy_int    numpy_float  numpy_bool    numpy_int_m    numpy_float_m    numpy_bool_m      arrow_int    arrow_float  arrow_bool    arrow_int_m    arrow_float_m    arrow_bool_m    arrow_dict    arrow_dict_m\n",
       "  0            1            1.5  True          1              1.5              --                        0            0.5  True          0              0.5              True            aap           aap\n",
       "  1            2            2.5  False         2              --               False                     1            1.5  False         1              1.5              False           noot          --\n",
       "  2            3            3.5  True          3              --               True                      2            2.5  True          2              2.5              --              mies          --\n",
       "  3            4            4.5  True          --             --               --                        3            3.5  False         --             --               --              aap           aap\n",
       "  4            0            0    True          --             0.0              True                      0            0.5  True          --             0.5              True            noot          noot"
      ]
     },
     "execution_count": 3,
     "metadata": {},
     "output_type": "execute_result"
    }
   ],
   "source": [
    "indices = pa.array([0, 1, 2, 1, 2])\n",
    "dictionary = pa.array(['foo', 'bar', 'baz'])\n",
    "dict_array = pa.DictionaryArray.from_arrays(indices, dictionary)\n",
    "\n",
    "the_df = vaex.from_arrays(\n",
    "    numpy_int=np.array([1, 2, 3, 4, 0]), # Numpy int\n",
    "    numpy_float=np.array([1.5, 2.5, 3.5, 4.5, 0]), # Numpy float\n",
    "    numpy_bool=np.array([True, False, True, True, True]), # Numpy bool\n",
    "    \n",
    "    numpy_int_m=np.ma.array([1, 2, 3, 4, 0], mask=[0, 0, 0, 1, 1], dtype=int), # Numpy masked int\n",
    "    numpy_float_m=np.ma.array([1.5, 2.5, 3.5, 4.5, 0], mask=[False, True, True, True, False], dtype=float), # Numpy masked float\n",
    "    numpy_bool_m=np.ma.array([True, False, True, True, True], mask=[1, 0, 0, 1, 0], dtype=bool), # Numpy masked bool\n",
    "    \n",
    "    arrow_int = pa.array([0, 1, 2, 3, 0]), # Arrow integer\n",
    "    arrow_float = pa.array([0.5, 1.5, 2.5, 3.5, 0.5]), # Arrow integer\n",
    "    arrow_bool = pa.array([True, False, True, False, True]), # Arrow integer\n",
    "    \n",
    "    arrow_int_m = pa.array([0, 1, 2, None, 0], mask=np.array([0, 0, 0, 1, 1], dtype=bool)), # Arrow masked integer\n",
    "    arrow_float_m = pa.array([0.5, 1.5, 2.5, None, 0.5], mask=np.array([0, 0, 0, 1, 0], dtype=bool)), # Arrow masked integer\n",
    "    arrow_bool_m = pa.array([True, False, True, None, True], mask=np.array([0, 0, 1, 1, 0], dtype=bool)), # Arrow masked integer\n",
    "    \n",
    "    arrow_dict = pa.DictionaryArray.from_arrays(pa.array([0, 1, 2, 0, 1]), pa.array(['aap', 'noot', 'mies'])), # arrow dictionary\n",
    "    arrow_dict_m = pa.DictionaryArray.from_arrays(pa.array([0, 1, 2, 0, 1], mask=np.array([0, 1, 1, 0, 0], dtype=bool)), pa.array(['aap', 'noot', 'mies'])) # arrow dictionary masked\n",
    ")\n",
    "add_df = vaex.from_arrays(\n",
    "    vaex_cat = np.ma.array(['red', 'green', 'blue', 'green', 'MISSING'], mask=[False, False, True, False, False]) # Vaex dictionary\n",
    ")\n",
    "add_df = add_df.ordinal_encode('vaex_cat', ['red', 'green', 'blue'])\n",
    "the_df"
   ]
  },
  {
   "cell_type": "markdown",
   "id": "1b1e781e-9d94-45e2-a8f7-cdd883ee54a8",
   "metadata": {},
   "source": [
    "### Call _from_dataframe_to_vaex"
   ]
  },
  {
   "cell_type": "code",
   "execution_count": 4,
   "id": "4a4884a9-7036-47df-b357-44131f4c81e5",
   "metadata": {},
   "outputs": [
    {
     "data": {
      "text/html": [
       "<table>\n",
       "<thead>\n",
       "<tr><th>#                            </th><th style=\"text-align: right;\">  numpy_int</th><th style=\"text-align: right;\">  numpy_float</th><th>numpy_bool  </th><th>numpy_int_m  </th><th>numpy_float_m  </th><th>numpy_bool_m  </th><th style=\"text-align: right;\">  arrow_int</th><th style=\"text-align: right;\">  arrow_float</th><th>arrow_bool  </th><th>arrow_int_m  </th><th>arrow_float_m  </th><th>arrow_bool_m  </th><th>arrow_dict  </th><th>arrow_dict_m  </th></tr>\n",
       "</thead>\n",
       "<tbody>\n",
       "<tr><td><i style='opacity: 0.6'>0</i></td><td style=\"text-align: right;\">          1</td><td style=\"text-align: right;\">          1.5</td><td>True        </td><td>1            </td><td>1.5            </td><td>--            </td><td style=\"text-align: right;\">          0</td><td style=\"text-align: right;\">          0.5</td><td>True        </td><td>0            </td><td>0.5            </td><td>True          </td><td>aap         </td><td>aap           </td></tr>\n",
       "<tr><td><i style='opacity: 0.6'>1</i></td><td style=\"text-align: right;\">          2</td><td style=\"text-align: right;\">          2.5</td><td>False       </td><td>2            </td><td>--             </td><td>False         </td><td style=\"text-align: right;\">          1</td><td style=\"text-align: right;\">          1.5</td><td>False       </td><td>1            </td><td>1.5            </td><td>False         </td><td>noot        </td><td>--            </td></tr>\n",
       "<tr><td><i style='opacity: 0.6'>2</i></td><td style=\"text-align: right;\">          3</td><td style=\"text-align: right;\">          3.5</td><td>True        </td><td>3            </td><td>--             </td><td>True          </td><td style=\"text-align: right;\">          2</td><td style=\"text-align: right;\">          2.5</td><td>True        </td><td>2            </td><td>2.5            </td><td>--            </td><td>mies        </td><td>--            </td></tr>\n",
       "<tr><td><i style='opacity: 0.6'>3</i></td><td style=\"text-align: right;\">          4</td><td style=\"text-align: right;\">          4.5</td><td>True        </td><td>--           </td><td>--             </td><td>--            </td><td style=\"text-align: right;\">          3</td><td style=\"text-align: right;\">          3.5</td><td>False       </td><td>--           </td><td>--             </td><td>--            </td><td>aap         </td><td>aap           </td></tr>\n",
       "<tr><td><i style='opacity: 0.6'>4</i></td><td style=\"text-align: right;\">          0</td><td style=\"text-align: right;\">          0  </td><td>True        </td><td>--           </td><td>0.0            </td><td>True          </td><td style=\"text-align: right;\">          0</td><td style=\"text-align: right;\">          0.5</td><td>True        </td><td>--           </td><td>0.5            </td><td>True          </td><td>noot        </td><td>noot          </td></tr>\n",
       "</tbody>\n",
       "</table>"
      ],
      "text/plain": [
       "  #    numpy_int    numpy_float  numpy_bool    numpy_int_m    numpy_float_m    numpy_bool_m      arrow_int    arrow_float  arrow_bool    arrow_int_m    arrow_float_m    arrow_bool_m    arrow_dict    arrow_dict_m\n",
       "  0            1            1.5  True          1              1.5              --                        0            0.5  True          0              0.5              True            aap           aap\n",
       "  1            2            2.5  False         2              --               False                     1            1.5  False         1              1.5              False           noot          --\n",
       "  2            3            3.5  True          3              --               True                      2            2.5  True          2              2.5              --              mies          --\n",
       "  3            4            4.5  True          --             --               --                        3            3.5  False         --             --               --              aap           aap\n",
       "  4            0            0    True          --             0.0              True                      0            0.5  True          --             0.5              True            noot          noot"
      ]
     },
     "execution_count": 4,
     "metadata": {},
     "output_type": "execute_result"
    }
   ],
   "source": [
    "the_df_done = _from_dataframe_to_vaex(the_df.__dataframe__())\n",
    "the_df_done"
   ]
  },
  {
   "cell_type": "code",
   "execution_count": 5,
   "id": "dde19ad9-ab7d-4dd2-a01c-9280f3c4a59a",
   "metadata": {},
   "outputs": [
    {
     "data": {
      "text/html": [
       "<table>\n",
       "<thead>\n",
       "<tr><th>#                            </th><th>vaex_cat  </th></tr>\n",
       "</thead>\n",
       "<tbody>\n",
       "<tr><td><i style='opacity: 0.6'>0</i></td><td>0         </td></tr>\n",
       "<tr><td><i style='opacity: 0.6'>1</i></td><td>1         </td></tr>\n",
       "<tr><td><i style='opacity: 0.6'>2</i></td><td>--        </td></tr>\n",
       "<tr><td><i style='opacity: 0.6'>3</i></td><td>1         </td></tr>\n",
       "<tr><td><i style='opacity: 0.6'>4</i></td><td>--        </td></tr>\n",
       "</tbody>\n",
       "</table>"
      ],
      "text/plain": [
       "  #  vaex_cat\n",
       "  0  0\n",
       "  1  1\n",
       "  2  --\n",
       "  3  1\n",
       "  4  --"
      ]
     },
     "execution_count": 5,
     "metadata": {},
     "output_type": "execute_result"
    },
    {
     "data": {
      "text/html": [
       "<table>\n",
       "<thead>\n",
       "<tr><th>#                            </th><th>vaex_cat  </th></tr>\n",
       "</thead>\n",
       "<tbody>\n",
       "<tr><td><i style='opacity: 0.6'>0</i></td><td>red       </td></tr>\n",
       "<tr><td><i style='opacity: 0.6'>1</i></td><td>green     </td></tr>\n",
       "<tr><td><i style='opacity: 0.6'>2</i></td><td>--        </td></tr>\n",
       "<tr><td><i style='opacity: 0.6'>3</i></td><td>green     </td></tr>\n",
       "<tr><td><i style='opacity: 0.6'>4</i></td><td>--        </td></tr>\n",
       "</tbody>\n",
       "</table>"
      ],
      "text/plain": [
       "  #  vaex_cat\n",
       "  0  red\n",
       "  1  green\n",
       "  2  --\n",
       "  3  green\n",
       "  4  --"
      ]
     },
     "execution_count": 5,
     "metadata": {},
     "output_type": "execute_result"
    }
   ],
   "source": [
    "add_df\n",
    "add_df_done = _from_dataframe_to_vaex(add_df.__dataframe__())\n",
    "add_df_done"
   ]
  },
  {
   "cell_type": "markdown",
   "id": "98f4b97b-480f-40ec-9055-13f24062d92d",
   "metadata": {},
   "source": [
    "### Testing"
   ]
  },
  {
   "cell_type": "code",
   "execution_count": 6,
   "id": "54182755-c9cb-4b19-8cce-aab9b3a936cc",
   "metadata": {},
   "outputs": [],
   "source": [
    "assert the_df.__dataframe__().metadata == the_df_done.__dataframe__().metadata\n",
    "\n",
    "# numpy\n",
    "\n",
    "assert the_df['numpy_int'].tolist() == the_df_done['numpy_int'].tolist()\n",
    "assert not the_df_done['numpy_int'].is_masked\n",
    "assert the_df_done.__dataframe__().get_column_by_name('numpy_int').null_count == 0\n",
    "assert the_df['numpy_int'].dtype == the_df_done['numpy_int'].dtype\n",
    "\n",
    "assert the_df['numpy_float'].tolist() == the_df_done['numpy_float'].tolist()\n",
    "assert not the_df_done['numpy_float'].is_masked\n",
    "assert the_df_done.__dataframe__().get_column_by_name('numpy_float').null_count == 0\n",
    "assert the_df['numpy_float'].dtype == the_df_done['numpy_float'].dtype\n",
    "\n",
    "assert the_df['numpy_bool'].tolist() == the_df_done['numpy_bool'].tolist()\n",
    "assert not the_df_done['numpy_bool'].is_masked\n",
    "assert the_df_done.__dataframe__().get_column_by_name('numpy_bool').null_count == 0\n",
    "assert the_df['numpy_bool'].dtype == the_df_done['numpy_bool'].dtype\n",
    "\n",
    "assert the_df['numpy_int_m'].tolist() == the_df_done['numpy_int_m'].tolist()\n",
    "assert not the_df_done['numpy_int_m'].is_masked\n",
    "assert the_df_done.__dataframe__().get_column_by_name('numpy_int_m').null_count == 2\n",
    "assert the_df['numpy_int_m'].dtype == the_df_done['numpy_int_m'].dtype\n",
    "\n",
    "assert the_df['numpy_float_m'].tolist() == the_df_done['numpy_float_m'].tolist()\n",
    "assert not the_df_done['numpy_float_m'].is_masked\n",
    "assert the_df_done.__dataframe__().get_column_by_name('numpy_float_m').null_count == 3\n",
    "assert the_df['numpy_float_m'].dtype == the_df_done['numpy_float_m'].dtype\n",
    "\n",
    "assert the_df['numpy_bool_m'].tolist() == the_df_done['numpy_bool_m'].tolist()\n",
    "assert not the_df_done['numpy_bool_m'].is_masked\n",
    "assert the_df_done.__dataframe__().get_column_by_name('numpy_bool_m').null_count == 2\n",
    "assert the_df['numpy_bool_m'].dtype == the_df_done['numpy_bool_m'].dtype\n",
    "\n",
    "# arrow\n",
    "\n",
    "assert the_df['arrow_int'].tolist() == the_df_done['arrow_int'].tolist()\n",
    "assert not the_df_done['arrow_int'].is_masked\n",
    "assert the_df_done.__dataframe__().get_column_by_name('arrow_int').null_count == 0\n",
    "assert the_df['arrow_int'].dtype == the_df_done['arrow_int'].dtype\n",
    "\n",
    "assert the_df['arrow_float'].tolist() == the_df_done['arrow_float'].tolist()\n",
    "assert not the_df_done['arrow_float'].is_masked\n",
    "assert the_df_done.__dataframe__().get_column_by_name('arrow_float').null_count == 0\n",
    "assert the_df['arrow_float'].dtype == the_df_done['arrow_float'].dtype\n",
    "\n",
    "assert the_df['arrow_bool'].tolist() == the_df_done['arrow_bool'].tolist()\n",
    "assert not the_df_done['arrow_bool'].is_masked\n",
    "assert the_df_done.__dataframe__().get_column_by_name('arrow_bool').null_count == 0\n",
    "assert the_df['arrow_bool'].dtype == the_df_done['arrow_bool'].dtype\n",
    "\n",
    "assert the_df['arrow_int_m'].tolist() == the_df_done['arrow_int_m'].tolist()\n",
    "assert not the_df_done['arrow_int_m'].is_masked\n",
    "assert the_df_done.__dataframe__().get_column_by_name('arrow_int_m').null_count == 2\n",
    "assert the_df['arrow_int_m'].dtype == the_df_done['arrow_int_m'].dtype\n",
    "\n",
    "assert the_df['arrow_float_m'].tolist() == the_df_done['arrow_float_m'].tolist()\n",
    "assert not the_df_done['arrow_float_m'].is_masked\n",
    "assert the_df_done.__dataframe__().get_column_by_name('arrow_float_m').null_count == 1\n",
    "assert the_df['arrow_float_m'].dtype == the_df_done['arrow_float_m'].dtype\n",
    "\n",
    "assert the_df['arrow_bool_m'].tolist() == the_df_done['arrow_bool_m'].tolist()\n",
    "assert not the_df_done['arrow_bool_m'].is_masked\n",
    "assert the_df_done.__dataframe__().get_column_by_name('arrow_bool_m').null_count == 2\n",
    "assert the_df['arrow_bool_m'].dtype == the_df_done['arrow_bool_m'].dtype\n",
    "\n",
    "# arrow dict\n",
    "\n",
    "assert the_df['arrow_dict'].tolist() == the_df_done['arrow_dict'].tolist()\n",
    "assert not the_df_done['arrow_dict'].is_masked\n",
    "assert the_df_done.__dataframe__().get_column_by_name('arrow_dict').null_count == 0\n",
    "assert the_df['arrow_dict'].dtype.index_type == the_df_done['arrow_dict'].dtype.index_type\n",
    "\n",
    "assert the_df['arrow_dict_m'].tolist() == the_df_done['arrow_dict_m'].tolist()\n",
    "assert not the_df_done['arrow_dict_m'].is_masked\n",
    "assert the_df_done.__dataframe__().get_column_by_name('arrow_dict_m').null_count == 2\n",
    "assert the_df['arrow_dict_m'].dtype.index_type == the_df_done['arrow_dict_m'].dtype.index_type\n",
    "\n",
    "# vaex ordered\n",
    "assert add_df['vaex_cat'].tolist() == add_df_done['vaex_cat'].values.indices.tolist()\n",
    "assert not add_df_done['vaex_cat'].is_masked\n",
    "assert isinstance(add_df_done['vaex_cat'].values, pa.DictionaryArray)\n",
    "assert add_df_done.__dataframe__().get_column_by_name('vaex_cat').null_count == 2\n",
    "assert add_df['vaex_cat'].dtype.index_type == add_df_done['vaex_cat'].dtype.index_type\n"
   ]
  },
  {
   "cell_type": "markdown",
   "id": "66e482b3-55e3-43ab-ae8e-6126dcca83ea",
   "metadata": {},
   "source": [
    "### Virtual columns with missing data"
   ]
  },
  {
   "cell_type": "code",
   "execution_count": 7,
   "id": "e4fcde90-c37e-4d56-b9f8-31c2e928cb8b",
   "metadata": {},
   "outputs": [
    {
     "data": {
      "text/html": [
       "<table>\n",
       "<thead>\n",
       "<tr><th>#                            </th><th style=\"text-align: right;\">  numpy_int</th><th style=\"text-align: right;\">  numpy_float</th><th>numpy_bool  </th><th>numpy_int_m  </th><th>numpy_float_m  </th><th>numpy_bool_m  </th><th style=\"text-align: right;\">  arrow_int</th><th style=\"text-align: right;\">  arrow_float</th><th>arrow_bool  </th><th>arrow_int_m  </th><th>arrow_float_m  </th><th>arrow_bool_m  </th><th>arrow_dict  </th><th>arrow_dict_m  </th><th>virtual           </th></tr>\n",
       "</thead>\n",
       "<tbody>\n",
       "<tr><td><i style='opacity: 0.6'>0</i></td><td style=\"text-align: right;\">          1</td><td style=\"text-align: right;\">          1.5</td><td>True        </td><td>1            </td><td>1.5            </td><td>--            </td><td style=\"text-align: right;\">          0</td><td style=\"text-align: right;\">          0.5</td><td>True        </td><td>0            </td><td>0.5            </td><td>True          </td><td>aap         </td><td>aap           </td><td>1.5811388300841898</td></tr>\n",
       "<tr><td><i style='opacity: 0.6'>1</i></td><td style=\"text-align: right;\">          2</td><td style=\"text-align: right;\">          2.5</td><td>False       </td><td>2            </td><td>--             </td><td>False         </td><td style=\"text-align: right;\">          1</td><td style=\"text-align: right;\">          1.5</td><td>False       </td><td>1            </td><td>1.5            </td><td>False         </td><td>noot        </td><td>--            </td><td>--                </td></tr>\n",
       "<tr><td><i style='opacity: 0.6'>2</i></td><td style=\"text-align: right;\">          3</td><td style=\"text-align: right;\">          3.5</td><td>True        </td><td>3            </td><td>--             </td><td>True          </td><td style=\"text-align: right;\">          2</td><td style=\"text-align: right;\">          2.5</td><td>True        </td><td>2            </td><td>2.5            </td><td>--            </td><td>mies        </td><td>--            </td><td>--                </td></tr>\n",
       "<tr><td><i style='opacity: 0.6'>3</i></td><td style=\"text-align: right;\">          4</td><td style=\"text-align: right;\">          4.5</td><td>True        </td><td>--           </td><td>--             </td><td>--            </td><td style=\"text-align: right;\">          3</td><td style=\"text-align: right;\">          3.5</td><td>False       </td><td>--           </td><td>--             </td><td>--            </td><td>aap         </td><td>aap           </td><td>--                </td></tr>\n",
       "<tr><td><i style='opacity: 0.6'>4</i></td><td style=\"text-align: right;\">          0</td><td style=\"text-align: right;\">          0  </td><td>True        </td><td>--           </td><td>0.0            </td><td>True          </td><td style=\"text-align: right;\">          0</td><td style=\"text-align: right;\">          0.5</td><td>True        </td><td>--           </td><td>0.5            </td><td>True          </td><td>noot        </td><td>noot          </td><td>0.5               </td></tr>\n",
       "</tbody>\n",
       "</table>"
      ],
      "text/plain": [
       "  #    numpy_int    numpy_float  numpy_bool    numpy_int_m    numpy_float_m    numpy_bool_m      arrow_int    arrow_float  arrow_bool    arrow_int_m    arrow_float_m    arrow_bool_m    arrow_dict    arrow_dict_m    virtual\n",
       "  0            1            1.5  True          1              1.5              --                        0            0.5  True          0              0.5              True            aap           aap             1.5811388300841898\n",
       "  1            2            2.5  False         2              --               False                     1            1.5  False         1              1.5              False           noot          --              --\n",
       "  2            3            3.5  True          3              --               True                      2            2.5  True          2              2.5              --              mies          --              --\n",
       "  3            4            4.5  True          --             --               --                        3            3.5  False         --             --               --              aap           aap             --\n",
       "  4            0            0    True          --             0.0              True                      0            0.5  True          --             0.5              True            noot          noot            0.5"
      ]
     },
     "execution_count": 7,
     "metadata": {},
     "output_type": "execute_result"
    }
   ],
   "source": [
    "the_df_v = the_df\n",
    "the_df_v.add_virtual_column(\"virtual\", \"sqrt(numpy_float_m**2 + arrow_float_m**2)\")\n",
    "the_df_v"
   ]
  },
  {
   "cell_type": "code",
   "execution_count": 8,
   "id": "0869cf5c-af22-4294-94ec-d79ccae95434",
   "metadata": {},
   "outputs": [
    {
     "data": {
      "text/html": [
       "<table>\n",
       "<thead>\n",
       "<tr><th>#                            </th><th style=\"text-align: right;\">  numpy_int</th><th style=\"text-align: right;\">  numpy_float</th><th>numpy_bool  </th><th>numpy_int_m  </th><th>numpy_float_m  </th><th>numpy_bool_m  </th><th style=\"text-align: right;\">  arrow_int</th><th style=\"text-align: right;\">  arrow_float</th><th>arrow_bool  </th><th>arrow_int_m  </th><th>arrow_float_m  </th><th>arrow_bool_m  </th><th>arrow_dict  </th><th>arrow_dict_m  </th><th>virtual           </th></tr>\n",
       "</thead>\n",
       "<tbody>\n",
       "<tr><td><i style='opacity: 0.6'>0</i></td><td style=\"text-align: right;\">          1</td><td style=\"text-align: right;\">          1.5</td><td>True        </td><td>1            </td><td>1.5            </td><td>--            </td><td style=\"text-align: right;\">          0</td><td style=\"text-align: right;\">          0.5</td><td>True        </td><td>0            </td><td>0.5            </td><td>True          </td><td>aap         </td><td>aap           </td><td>1.5811388300841898</td></tr>\n",
       "<tr><td><i style='opacity: 0.6'>1</i></td><td style=\"text-align: right;\">          2</td><td style=\"text-align: right;\">          2.5</td><td>False       </td><td>2            </td><td>--             </td><td>False         </td><td style=\"text-align: right;\">          1</td><td style=\"text-align: right;\">          1.5</td><td>False       </td><td>1            </td><td>1.5            </td><td>False         </td><td>noot        </td><td>--            </td><td>--                </td></tr>\n",
       "<tr><td><i style='opacity: 0.6'>2</i></td><td style=\"text-align: right;\">          3</td><td style=\"text-align: right;\">          3.5</td><td>True        </td><td>3            </td><td>--             </td><td>True          </td><td style=\"text-align: right;\">          2</td><td style=\"text-align: right;\">          2.5</td><td>True        </td><td>2            </td><td>2.5            </td><td>--            </td><td>mies        </td><td>--            </td><td>--                </td></tr>\n",
       "<tr><td><i style='opacity: 0.6'>3</i></td><td style=\"text-align: right;\">          4</td><td style=\"text-align: right;\">          4.5</td><td>True        </td><td>--           </td><td>--             </td><td>--            </td><td style=\"text-align: right;\">          3</td><td style=\"text-align: right;\">          3.5</td><td>False       </td><td>--           </td><td>--             </td><td>--            </td><td>aap         </td><td>aap           </td><td>--                </td></tr>\n",
       "<tr><td><i style='opacity: 0.6'>4</i></td><td style=\"text-align: right;\">          0</td><td style=\"text-align: right;\">          0  </td><td>True        </td><td>--           </td><td>0.0            </td><td>True          </td><td style=\"text-align: right;\">          0</td><td style=\"text-align: right;\">          0.5</td><td>True        </td><td>--           </td><td>0.5            </td><td>True          </td><td>noot        </td><td>noot          </td><td>0.5               </td></tr>\n",
       "</tbody>\n",
       "</table>"
      ],
      "text/plain": [
       "  #    numpy_int    numpy_float  numpy_bool    numpy_int_m    numpy_float_m    numpy_bool_m      arrow_int    arrow_float  arrow_bool    arrow_int_m    arrow_float_m    arrow_bool_m    arrow_dict    arrow_dict_m    virtual\n",
       "  0            1            1.5  True          1              1.5              --                        0            0.5  True          0              0.5              True            aap           aap             1.5811388300841898\n",
       "  1            2            2.5  False         2              --               False                     1            1.5  False         1              1.5              False           noot          --              --\n",
       "  2            3            3.5  True          3              --               True                      2            2.5  True          2              2.5              --              mies          --              --\n",
       "  3            4            4.5  True          --             --               --                        3            3.5  False         --             --               --              aap           aap             --\n",
       "  4            0            0    True          --             0.0              True                      0            0.5  True          --             0.5              True            noot          noot            0.5"
      ]
     },
     "execution_count": 8,
     "metadata": {},
     "output_type": "execute_result"
    }
   ],
   "source": [
    "the_df_v_done = _from_dataframe_to_vaex(the_df_v.__dataframe__())\n",
    "the_df_v_done"
   ]
  },
  {
   "cell_type": "markdown",
   "id": "d03548fd-3033-48ca-b629-319dc39d61fe",
   "metadata": {},
   "source": [
    "### Testing with virtual"
   ]
  },
  {
   "cell_type": "code",
   "execution_count": 10,
   "id": "b74aea26-01f5-4c13-8459-ac22226cc15d",
   "metadata": {},
   "outputs": [],
   "source": [
    "assert the_df_v['virtual'].tolist() == the_df_v_done['virtual'].tolist()\n",
    "assert not the_df_v_done['virtual'].is_masked\n",
    "assert the_df_v_done.__dataframe__().get_column_by_name('virtual').null_count == 3\n",
    "assert the_df_v['virtual'].dtype == the_df_v_done['virtual'].dtype"
   ]
  },
  {
   "cell_type": "code",
   "execution_count": null,
   "id": "4a059a5b-6981-4521-a927-27a78d9d7aa7",
   "metadata": {},
   "outputs": [],
   "source": []
  }
 ],
 "metadata": {
  "kernelspec": {
   "display_name": "Python 3",
   "language": "python",
   "name": "python3"
  },
  "language_info": {
   "codemirror_mode": {
    "name": "ipython",
    "version": 3
   },
   "file_extension": ".py",
   "mimetype": "text/x-python",
   "name": "python",
   "nbconvert_exporter": "python",
   "pygments_lexer": "ipython3",
   "version": "3.9.5"
  }
 },
 "nbformat": 4,
 "nbformat_minor": 5
}
