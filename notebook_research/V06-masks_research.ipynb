{
 "cells": [
  {
   "cell_type": "code",
   "execution_count": 16,
   "id": "746b91a8-4183-450a-9e53-16077af3057d",
   "metadata": {},
   "outputs": [],
   "source": [
    "%run vaex_implementation_v6.py"
   ]
  },
  {
   "cell_type": "code",
   "execution_count": 17,
   "id": "394bbdbd-859b-49c8-bdf9-b4dd3b7791d9",
   "metadata": {},
   "outputs": [],
   "source": [
    "from IPython.core.interactiveshell import InteractiveShell\n",
    "InteractiveShell.ast_node_interactivity = \"all\""
   ]
  },
  {
   "cell_type": "code",
   "execution_count": 18,
   "id": "4395b7e4-ed6d-4d52-8fdf-e353c3131ce4",
   "metadata": {},
   "outputs": [],
   "source": [
    "import vaex\n",
    "import numpy as np"
   ]
  },
  {
   "cell_type": "markdown",
   "id": "081ee2a0-6f9c-4d2b-9df2-f5849407947a",
   "metadata": {},
   "source": [
    "**2021/08/19-20**\n",
    "\n",
    "## Masked NumPy array\n",
    "Vaex remembers a mask from np.ma.array. It can be retreived with `.values.mask`.<br>\n",
    "In version 6 the protocol assignes null value 4 in the `describe_null()` method."
   ]
  },
  {
   "cell_type": "code",
   "execution_count": 19,
   "id": "7f18e2d7-15e6-4e6c-88a4-e34fc354816b",
   "metadata": {},
   "outputs": [
    {
     "data": {
      "text/html": [
       "<table>\n",
       "<thead>\n",
       "<tr><th>#                            </th><th>int1  </th><th>float1  </th><th>bool1  </th></tr>\n",
       "</thead>\n",
       "<tbody>\n",
       "<tr><td><i style='opacity: 0.6'>0</i></td><td>1     </td><td>--      </td><td>--     </td></tr>\n",
       "<tr><td><i style='opacity: 0.6'>1</i></td><td>--    </td><td>0.0     </td><td>True   </td></tr>\n",
       "</tbody>\n",
       "</table>"
      ],
      "text/plain": [
       "  #  int1    float1    bool1\n",
       "  0  1       --        --\n",
       "  1  --      0.0       True"
      ]
     },
     "execution_count": 19,
     "metadata": {},
     "output_type": "execute_result"
    }
   ],
   "source": [
    "df_n = vaex.from_arrays(\n",
    "    int1=np.ma.array([1, 0], mask=[0, 1], dtype=int),\n",
    "    float1=np.ma.array([3.14, 0], mask=[True, False], dtype=float),\n",
    "    bool1=np.ma.array([True, True], mask=[1, 0], dtype=bool)\n",
    ")\n",
    "df_n"
   ]
  },
  {
   "cell_type": "code",
   "execution_count": 20,
   "id": "2bff8cc7-e87c-49a6-8ccc-ed81343b4cb1",
   "metadata": {},
   "outputs": [
    {
     "data": {
      "text/plain": [
       "int32"
      ]
     },
     "execution_count": 20,
     "metadata": {},
     "output_type": "execute_result"
    },
    {
     "data": {
      "text/plain": [
       "'i'"
      ]
     },
     "execution_count": 20,
     "metadata": {},
     "output_type": "execute_result"
    },
    {
     "data": {
      "text/plain": [
       "True"
      ]
     },
     "execution_count": 20,
     "metadata": {},
     "output_type": "execute_result"
    },
    {
     "data": {
      "text/plain": [
       "array([False,  True])"
      ]
     },
     "execution_count": 20,
     "metadata": {},
     "output_type": "execute_result"
    },
    {
     "data": {
      "text/plain": [
       "1"
      ]
     },
     "execution_count": 20,
     "metadata": {},
     "output_type": "execute_result"
    }
   ],
   "source": [
    "df_n.int1.dtype\n",
    "df_n.int1.dtype.kind\n",
    "df_n.int1.is_masked\n",
    "df_n.int1.values.mask\n",
    "df_n.int1.values.mask.dtype.itemsize"
   ]
  },
  {
   "cell_type": "code",
   "execution_count": 21,
   "id": "d1378ecf-692f-4e57-8adc-d2b8465941e2",
   "metadata": {},
   "outputs": [
    {
     "data": {
      "text/plain": [
       "float64"
      ]
     },
     "execution_count": 21,
     "metadata": {},
     "output_type": "execute_result"
    },
    {
     "data": {
      "text/plain": [
       "'f'"
      ]
     },
     "execution_count": 21,
     "metadata": {},
     "output_type": "execute_result"
    },
    {
     "data": {
      "text/plain": [
       "True"
      ]
     },
     "execution_count": 21,
     "metadata": {},
     "output_type": "execute_result"
    },
    {
     "data": {
      "text/plain": [
       "array([ True, False])"
      ]
     },
     "execution_count": 21,
     "metadata": {},
     "output_type": "execute_result"
    },
    {
     "data": {
      "text/plain": [
       "array([1, 0])"
      ]
     },
     "execution_count": 21,
     "metadata": {},
     "output_type": "execute_result"
    }
   ],
   "source": [
    "df_n.float1.dtype\n",
    "df_n.float1.dtype.kind\n",
    "df_n.float1.is_masked\n",
    "df_n.float1.values.mask\n",
    "df_n.int1.values.data"
   ]
  },
  {
   "cell_type": "code",
   "execution_count": 22,
   "id": "ee05496e-4cc8-4b4c-88a4-b45685bcf730",
   "metadata": {},
   "outputs": [
    {
     "data": {
      "text/plain": [
       "bool"
      ]
     },
     "execution_count": 22,
     "metadata": {},
     "output_type": "execute_result"
    },
    {
     "data": {
      "text/plain": [
       "'b'"
      ]
     },
     "execution_count": 22,
     "metadata": {},
     "output_type": "execute_result"
    },
    {
     "data": {
      "text/plain": [
       "True"
      ]
     },
     "execution_count": 22,
     "metadata": {},
     "output_type": "execute_result"
    },
    {
     "data": {
      "text/plain": [
       "array([ True, False])"
      ]
     },
     "execution_count": 22,
     "metadata": {},
     "output_type": "execute_result"
    },
    {
     "data": {
      "text/plain": [
       "array([ True,  True])"
      ]
     },
     "execution_count": 22,
     "metadata": {},
     "output_type": "execute_result"
    }
   ],
   "source": [
    "df_n.bool1.dtype\n",
    "df_n.bool1.dtype.kind\n",
    "df_n.bool1.is_masked\n",
    "df_n.bool1.values.mask\n",
    "df_n.bool1.values.data"
   ]
  },
  {
   "cell_type": "code",
   "execution_count": 23,
   "id": "b0a1bf53-aec9-48a1-b78e-683f30d4cfeb",
   "metadata": {},
   "outputs": [
    {
     "data": {
      "text/plain": [
       "(4, None)"
      ]
     },
     "execution_count": 23,
     "metadata": {},
     "output_type": "execute_result"
    },
    {
     "data": {
      "text/plain": [
       "(4, None)"
      ]
     },
     "execution_count": 23,
     "metadata": {},
     "output_type": "execute_result"
    },
    {
     "data": {
      "text/plain": [
       "(4, None)"
      ]
     },
     "execution_count": 23,
     "metadata": {},
     "output_type": "execute_result"
    }
   ],
   "source": [
    "df_n.__dataframe__().get_column_by_name('int1').describe_null\n",
    "df_n.__dataframe__().get_column_by_name('float1').describe_null\n",
    "df_n.__dataframe__().get_column_by_name('bool1').describe_null"
   ]
  },
  {
   "cell_type": "markdown",
   "id": "bd980842-efcf-4d64-900f-0b8d5f4f65cf",
   "metadata": {},
   "source": [
    "## Masked arrow array\n",
    "Can't get the data about the masks. Vaex also doesn't remember it in `is_masked` attribute.<br>\n",
    "In version 6 the protocol doesn't implement arrow dtypes."
   ]
  },
  {
   "cell_type": "code",
   "execution_count": 24,
   "id": "593bfdf2-098f-4a48-960d-e2a4a6d036f2",
   "metadata": {},
   "outputs": [
    {
     "data": {
      "text/html": [
       "<table>\n",
       "<thead>\n",
       "<tr><th>#                            </th><th>a  </th></tr>\n",
       "</thead>\n",
       "<tbody>\n",
       "<tr><td><i style='opacity: 0.6'>0</i></td><td>0  </td></tr>\n",
       "<tr><td><i style='opacity: 0.6'>1</i></td><td>1  </td></tr>\n",
       "<tr><td><i style='opacity: 0.6'>2</i></td><td>2  </td></tr>\n",
       "<tr><td><i style='opacity: 0.6'>3</i></td><td>-- </td></tr>\n",
       "<tr><td><i style='opacity: 0.6'>4</i></td><td>0  </td></tr>\n",
       "</tbody>\n",
       "</table>"
      ],
      "text/plain": [
       "  #  a\n",
       "  0  0\n",
       "  1  1\n",
       "  2  2\n",
       "  3  --\n",
       "  4  0"
      ]
     },
     "execution_count": 24,
     "metadata": {},
     "output_type": "execute_result"
    }
   ],
   "source": [
    "a = pa.array([0, 1, 2, None, 0], mask=np.array([0, 0, 0, 1, 0], dtype=bool))\n",
    "df_a = vaex.from_arrays(a=a)\n",
    "df_a"
   ]
  },
  {
   "cell_type": "code",
   "execution_count": 25,
   "id": "8f308140-f1b1-4aa2-8ddd-2be8a39bb899",
   "metadata": {},
   "outputs": [
    {
     "data": {
      "text/plain": [
       "False"
      ]
     },
     "execution_count": 25,
     "metadata": {},
     "output_type": "execute_result"
    },
    {
     "data": {
      "text/plain": [
       "int64"
      ]
     },
     "execution_count": 25,
     "metadata": {},
     "output_type": "execute_result"
    },
    {
     "data": {
      "text/plain": [
       "'i'"
      ]
     },
     "execution_count": 25,
     "metadata": {},
     "output_type": "execute_result"
    },
    {
     "data": {
      "text/plain": [
       "Expression = a\n",
       "Length: 5 dtype: int64 (column)\n",
       "-------------------------------\n",
       "0   0\n",
       "1   1\n",
       "2   2\n",
       "3  --\n",
       "4   0"
      ]
     },
     "execution_count": 25,
     "metadata": {},
     "output_type": "execute_result"
    },
    {
     "data": {
      "text/plain": [
       "<pyarrow.lib.Int64Array object at 0x000001D221F0F580>\n",
       "[\n",
       "  0,\n",
       "  1,\n",
       "  2,\n",
       "  null,\n",
       "  0\n",
       "]"
      ]
     },
     "execution_count": 25,
     "metadata": {},
     "output_type": "execute_result"
    }
   ],
   "source": [
    "df_a.a.is_masked # it should be masked!!\n",
    "df_a.a.dtype\n",
    "df_a.a.dtype.kind\n",
    "\n",
    "df_a.a\n",
    "df_a.a.values"
   ]
  },
  {
   "cell_type": "markdown",
   "id": "505660ee-0e83-4977-8e77-4012183c3c1f",
   "metadata": {},
   "source": [
    "## Masked categorical Vaex\n",
    "Vaex remembers a mask from ordinal_encode. It can be retreived with `.values.mask`.<br>\n",
    "In version 6 the protocol assignes null value 4 in the `describe_null()` method."
   ]
  },
  {
   "cell_type": "code",
   "execution_count": 26,
   "id": "18bda607-54e2-4dc1-883d-86080e4b006a",
   "metadata": {},
   "outputs": [
    {
     "data": {
      "text/html": [
       "<table>\n",
       "<thead>\n",
       "<tr><th>#                            </th><th>colors  </th></tr>\n",
       "</thead>\n",
       "<tbody>\n",
       "<tr><td><i style='opacity: 0.6'>0</i></td><td>0       </td></tr>\n",
       "<tr><td><i style='opacity: 0.6'>1</i></td><td>1       </td></tr>\n",
       "<tr><td><i style='opacity: 0.6'>2</i></td><td>2       </td></tr>\n",
       "<tr><td><i style='opacity: 0.6'>3</i></td><td>1       </td></tr>\n",
       "<tr><td><i style='opacity: 0.6'>4</i></td><td>--      </td></tr>\n",
       "</tbody>\n",
       "</table>"
      ],
      "text/plain": [
       "  #  colors\n",
       "  0  0\n",
       "  1  1\n",
       "  2  2\n",
       "  3  1\n",
       "  4  --"
      ]
     },
     "execution_count": 26,
     "metadata": {},
     "output_type": "execute_result"
    },
    {
     "data": {
      "text/plain": [
       "True"
      ]
     },
     "execution_count": 26,
     "metadata": {},
     "output_type": "execute_result"
    },
    {
     "data": {
      "text/plain": [
       "array([0, 1, 2, 1, 4], dtype=uint64)"
      ]
     },
     "execution_count": 26,
     "metadata": {},
     "output_type": "execute_result"
    },
    {
     "data": {
      "text/plain": [
       "array([False, False, False, False,  True])"
      ]
     },
     "execution_count": 26,
     "metadata": {},
     "output_type": "execute_result"
    },
    {
     "data": {
      "text/plain": [
       "1"
      ]
     },
     "execution_count": 26,
     "metadata": {},
     "output_type": "execute_result"
    },
    {
     "data": {
      "text/plain": [
       "uint64"
      ]
     },
     "execution_count": 26,
     "metadata": {},
     "output_type": "execute_result"
    },
    {
     "data": {
      "text/plain": [
       "False"
      ]
     },
     "execution_count": 26,
     "metadata": {},
     "output_type": "execute_result"
    },
    {
     "data": {
      "text/plain": [
       "'u'"
      ]
     },
     "execution_count": 26,
     "metadata": {},
     "output_type": "execute_result"
    },
    {
     "data": {
      "text/plain": [
       "True"
      ]
     },
     "execution_count": 26,
     "metadata": {},
     "output_type": "execute_result"
    },
    {
     "data": {
      "text/plain": [
       "(4, None)"
      ]
     },
     "execution_count": 26,
     "metadata": {},
     "output_type": "execute_result"
    },
    {
     "data": {
      "text/plain": [
       "(False, True, {0: 'red', 1: 'green', 2: 'blue'})"
      ]
     },
     "execution_count": 26,
     "metadata": {},
     "output_type": "execute_result"
    }
   ],
   "source": [
    "# ordinal_encode!\n",
    "colors = ['red', 'green', 'blue', 'green', 'MISSING']\n",
    "mask   = [False, False, False, False, True]\n",
    "# Can be:\n",
    "# mask = [0, 0, 0, 0, 1]\n",
    "colors = np.ma.array(colors, mask=mask)\n",
    "ds = vaex.from_arrays(colors=colors)\n",
    "df2 = ds.ordinal_encode('colors', ['red', 'green', 'blue'])\n",
    "\n",
    "df2\n",
    "df2.colors.is_masked\n",
    "df2.colors.values.data\n",
    "df2.colors.values.mask\n",
    "df2.colors.values.mask.dtype.itemsize\n",
    "\n",
    "df2.colors.dtype\n",
    "df2.colors.dtype.is_encoded\n",
    "df2.colors.dtype.kind\n",
    "df2.is_category('colors')\n",
    "df2.__dataframe__().get_column_by_name('colors').describe_null\n",
    "df2.__dataframe__().get_column_by_name('colors').describe_categorical"
   ]
  },
  {
   "cell_type": "markdown",
   "id": "f3eea082-a492-4499-a989-285e90a2f815",
   "metadata": {},
   "source": [
    "## Masked categorical arrow dict\n",
    "Can't get the data about the masks. Vaex also doesn't remember it in `is_masked` attribute.<br>\n",
    "In version 6 the protocol doesn't implement arrow dtypes."
   ]
  },
  {
   "cell_type": "code",
   "execution_count": 28,
   "id": "14a4fc38-4ca0-40bf-b8c4-79577762ec55",
   "metadata": {},
   "outputs": [
    {
     "data": {
      "text/html": [
       "<table>\n",
       "<thead>\n",
       "<tr><th>#                            </th><th>c   </th></tr>\n",
       "</thead>\n",
       "<tbody>\n",
       "<tr><td><i style='opacity: 0.6'>0</i></td><td>aap </td></tr>\n",
       "<tr><td><i style='opacity: 0.6'>1</i></td><td>noot</td></tr>\n",
       "<tr><td><i style='opacity: 0.6'>2</i></td><td>aap </td></tr>\n",
       "<tr><td><i style='opacity: 0.6'>3</i></td><td>noot</td></tr>\n",
       "<tr><td><i style='opacity: 0.6'>4</i></td><td>mies</td></tr>\n",
       "<tr><td><i style='opacity: 0.6'>5</i></td><td>aap </td></tr>\n",
       "<tr><td><i style='opacity: 0.6'>6</i></td><td>--  </td></tr>\n",
       "<tr><td><i style='opacity: 0.6'>7</i></td><td>mies</td></tr>\n",
       "</tbody>\n",
       "</table>"
      ],
      "text/plain": [
       "  #  c\n",
       "  0  aap\n",
       "  1  noot\n",
       "  2  aap\n",
       "  3  noot\n",
       "  4  mies\n",
       "  5  aap\n",
       "  6  --\n",
       "  7  mies"
      ]
     },
     "execution_count": 28,
     "metadata": {},
     "output_type": "execute_result"
    },
    {
     "data": {
      "text/plain": [
       "False"
      ]
     },
     "execution_count": 28,
     "metadata": {},
     "output_type": "execute_result"
    },
    {
     "data": {
      "text/plain": [
       "dictionary<values=string, indices=int64, ordered=0>"
      ]
     },
     "execution_count": 28,
     "metadata": {},
     "output_type": "execute_result"
    },
    {
     "data": {
      "text/plain": [
       "True"
      ]
     },
     "execution_count": 28,
     "metadata": {},
     "output_type": "execute_result"
    },
    {
     "data": {
      "text/plain": [
       "int64"
      ]
     },
     "execution_count": 28,
     "metadata": {},
     "output_type": "execute_result"
    },
    {
     "data": {
      "text/plain": [
       "'O'"
      ]
     },
     "execution_count": 28,
     "metadata": {},
     "output_type": "execute_result"
    },
    {
     "data": {
      "text/plain": [
       "<pyarrow.lib.Int64Array object at 0x000001D221F14580>\n",
       "[\n",
       "  0,\n",
       "  1,\n",
       "  0,\n",
       "  1,\n",
       "  2,\n",
       "  0,\n",
       "  null,\n",
       "  2\n",
       "]"
      ]
     },
     "execution_count": 28,
     "metadata": {},
     "output_type": "execute_result"
    },
    {
     "data": {
      "text/plain": [
       "True"
      ]
     },
     "execution_count": 28,
     "metadata": {},
     "output_type": "execute_result"
    }
   ],
   "source": [
    "# arrow dic\n",
    "indices = pa.array([0, 1, 0, 1, 2, 0, None, 2])\n",
    "dictionary = pa.array(['aap', 'noot', 'mies'])\n",
    "c = pa.DictionaryArray.from_arrays(indices, dictionary)\n",
    "df3 = vaex.from_arrays(c = c)\n",
    "\n",
    "df3\n",
    "df3.c.is_masked\n",
    "df3.c.dtype\n",
    "df3.c.dtype.is_encoded\n",
    "df3.c.dtype.index_type # dtype.is_encoded = True !!!\n",
    "df3.c.dtype.kind\n",
    "df3.c.evaluate().indices\n",
    "\n",
    "df3.is_category('c')\n",
    "# Not handled in version 6 of the protocol:\n",
    "#df3.__dataframe__().get_column_by_name('c').describe_null\n",
    "#df3.__dataframe__().get_column_by_name('c').describe_categorical"
   ]
  },
  {
   "cell_type": "markdown",
   "id": "e1f3df77-70e3-4730-9fba-af53cf4eab9d",
   "metadata": {},
   "source": [
    "# Play around with masks\n",
    "\n",
    "Adding `get_mask()` to 6th version of the protocol and testing how to get the array from the buffer of masks. The trouble is that a mask can have bitwidth of 1 and the `buffer_to_ndarray` doesn't handle that (*update: I was wrong here, mask is a normal bool array*)."
   ]
  },
  {
   "cell_type": "code",
   "execution_count": 29,
   "id": "33c8b964-c256-4010-8aac-3f46a6b79c36",
   "metadata": {},
   "outputs": [
    {
     "data": {
      "text/plain": [
       "Expression = colors\n",
       "Length: 5 dtype: uint64 (column)\n",
       "--------------------------------\n",
       "0   0\n",
       "1   1\n",
       "2   2\n",
       "3   1\n",
       "4  --"
      ]
     },
     "execution_count": 29,
     "metadata": {},
     "output_type": "execute_result"
    },
    {
     "data": {
      "text/plain": [
       "dtype('bool')"
      ]
     },
     "execution_count": 29,
     "metadata": {},
     "output_type": "execute_result"
    },
    {
     "data": {
      "text/plain": [
       "array([False, False, False, False,  True])"
      ]
     },
     "execution_count": 29,
     "metadata": {},
     "output_type": "execute_result"
    }
   ],
   "source": [
    "# Researching a mask from masked categorical vaex dataframe\n",
    "df2.colors\n",
    "df2.colors.values.mask.dtype\n",
    "df2.colors.values.mask"
   ]
  },
  {
   "cell_type": "code",
   "execution_count": 30,
   "id": "9bb0f4dd-efd6-4efa-b3e8-b6ceaf7b8087",
   "metadata": {},
   "outputs": [
    {
     "data": {
      "text/plain": [
       "'b'"
      ]
     },
     "execution_count": 30,
     "metadata": {},
     "output_type": "execute_result"
    },
    {
     "data": {
      "text/plain": [
       "1"
      ]
     },
     "execution_count": 30,
     "metadata": {},
     "output_type": "execute_result"
    },
    {
     "data": {
      "text/plain": [
       "'|b1'"
      ]
     },
     "execution_count": 30,
     "metadata": {},
     "output_type": "execute_result"
    },
    {
     "data": {
      "text/plain": [
       "'|'"
      ]
     },
     "execution_count": 30,
     "metadata": {},
     "output_type": "execute_result"
    }
   ],
   "source": [
    "# Researching data for buffer of masks from masked categorical vaex dataframe\n",
    "df2.colors.values.mask.dtype.kind\n",
    "df2.colors.values.mask.dtype.itemsize\n",
    "df2.colors.values.mask.dtype.str\n",
    "df2.colors.values.mask.dtype.byteorder"
   ]
  },
  {
   "cell_type": "code",
   "execution_count": 31,
   "id": "539425b8-60e4-4416-b728-57509e669696",
   "metadata": {},
   "outputs": [
    {
     "data": {
      "text/plain": [
       "(VaexBuffer({'bufsize': 40, 'ptr': 2001971508560, 'device': 'CPU'}),\n",
       " (<_DtypeKind.UINT: 1>, 64, '<u8', '='))"
      ]
     },
     "execution_count": 31,
     "metadata": {},
     "output_type": "execute_result"
    },
    {
     "data": {
      "text/plain": [
       "array([0, 1, 2, 1, 4], dtype=uint64)"
      ]
     },
     "execution_count": 31,
     "metadata": {},
     "output_type": "execute_result"
    }
   ],
   "source": [
    "a1, b1, = df2.__dataframe__().get_column_by_name('colors').get_data_buffer()\n",
    "a1, b1\n",
    "buffer_to_ndarray(a1, b1)"
   ]
  },
  {
   "cell_type": "code",
   "execution_count": 32,
   "id": "5a07047c-8d32-4a8d-be87-c8055f87a695",
   "metadata": {},
   "outputs": [
    {
     "data": {
      "text/plain": [
       "(VaexBuffer({'bufsize': 5, 'ptr': 2001977677456, 'device': 'CPU'}),\n",
       " (<_DtypeKind.BOOL: 20>, 1, '|b1', '|'))"
      ]
     },
     "execution_count": 32,
     "metadata": {},
     "output_type": "execute_result"
    }
   ],
   "source": [
    "a, b = df2.__dataframe__().get_column_by_name('colors').get_mask()\n",
    "a, b\n",
    "#buffer_to_ndarray(a, b)"
   ]
  },
  {
   "cell_type": "code",
   "execution_count": 33,
   "id": "b42a0a0a-00d2-44f0-b283-ec7d3fa73f0f",
   "metadata": {},
   "outputs": [
    {
     "data": {
      "text/plain": [
       "1"
      ]
     },
     "execution_count": 33,
     "metadata": {},
     "output_type": "execute_result"
    },
    {
     "data": {
      "text/plain": [
       "5"
      ]
     },
     "execution_count": 33,
     "metadata": {},
     "output_type": "execute_result"
    },
    {
     "data": {
      "text/plain": [
       "5"
      ]
     },
     "execution_count": 33,
     "metadata": {},
     "output_type": "execute_result"
    }
   ],
   "source": [
    "b[1]\n",
    "a.bufsize\n",
    "a.bufsize // b[1]"
   ]
  },
  {
   "cell_type": "code",
   "execution_count": 34,
   "id": "d3933990-38af-47b1-bd67-4ed9c922d9c7",
   "metadata": {},
   "outputs": [
    {
     "data": {
      "text/plain": [
       "ctypes.c_bool"
      ]
     },
     "execution_count": 34,
     "metadata": {},
     "output_type": "execute_result"
    },
    {
     "data": {
      "text/plain": [
       "<__main__.LP_c_bool at 0x1d221f4a940>"
      ]
     },
     "execution_count": 34,
     "metadata": {},
     "output_type": "execute_result"
    },
    {
     "data": {
      "text/plain": [
       "array([False, False, False, False,  True])"
      ]
     },
     "execution_count": 34,
     "metadata": {},
     "output_type": "execute_result"
    }
   ],
   "source": [
    "# Constructing ndarray from mask buffer\n",
    "ctypes_type = np.ctypeslib.as_ctypes_type('bool')\n",
    "ctypes_type\n",
    "data_pointer = ctypes.cast(a.ptr, ctypes.POINTER(ctypes_type))\n",
    "data_pointer\n",
    "np.ctypeslib.as_array(data_pointer, shape=(a.bufsize // (b[1]),))"
   ]
  },
  {
   "cell_type": "code",
   "execution_count": 35,
   "id": "1fce01f8-602b-4043-9cd7-5898a8a9caa7",
   "metadata": {},
   "outputs": [
    {
     "data": {
      "text/html": [
       "<table>\n",
       "<thead>\n",
       "<tr><th>#                            </th><th>t    </th></tr>\n",
       "</thead>\n",
       "<tbody>\n",
       "<tr><td><i style='opacity: 0.6'>0</i></td><td>True </td></tr>\n",
       "<tr><td><i style='opacity: 0.6'>1</i></td><td>False</td></tr>\n",
       "<tr><td><i style='opacity: 0.6'>2</i></td><td>False</td></tr>\n",
       "<tr><td><i style='opacity: 0.6'>3</i></td><td>True </td></tr>\n",
       "</tbody>\n",
       "</table>"
      ],
      "text/plain": [
       "  #  t\n",
       "  0  True\n",
       "  1  False\n",
       "  2  False\n",
       "  3  True"
      ]
     },
     "execution_count": 35,
     "metadata": {},
     "output_type": "execute_result"
    }
   ],
   "source": [
    "# test array of mask that has higher bitwidth than 1\n",
    "test = vaex.from_arrays(t=np.array([1,0,0,1], dtype=bool))\n",
    "test"
   ]
  },
  {
   "cell_type": "code",
   "execution_count": 36,
   "id": "ff35a0e5-4872-4881-a1a0-c97dac266951",
   "metadata": {},
   "outputs": [
    {
     "data": {
      "text/plain": [
       "(VaexBuffer({'bufsize': 4, 'ptr': 2001977677056, 'device': 'CPU'}),\n",
       " (<_DtypeKind.BOOL: 20>, 8, '|b1', '|'))"
      ]
     },
     "execution_count": 36,
     "metadata": {},
     "output_type": "execute_result"
    }
   ],
   "source": [
    "t1, t2 = test.__dataframe__().get_column_by_name('t').get_data_buffer()\n",
    "t1, t2"
   ]
  },
  {
   "cell_type": "code",
   "execution_count": 37,
   "id": "cc9f5d39-cde6-4dae-8b82-2e350e473fae",
   "metadata": {},
   "outputs": [
    {
     "data": {
      "text/plain": [
       "ctypes.c_bool"
      ]
     },
     "execution_count": 37,
     "metadata": {},
     "output_type": "execute_result"
    },
    {
     "data": {
      "text/plain": [
       "<__main__.LP_c_bool at 0x1d221f4adc0>"
      ]
     },
     "execution_count": 37,
     "metadata": {},
     "output_type": "execute_result"
    },
    {
     "data": {
      "text/plain": [
       "array([ True, False, False,  True])"
      ]
     },
     "execution_count": 37,
     "metadata": {},
     "output_type": "execute_result"
    }
   ],
   "source": [
    "# Constructing ndarray from test mask buffer\n",
    "ctypes_type = np.ctypeslib.as_ctypes_type('bool')\n",
    "ctypes_type\n",
    "data_pointer = ctypes.cast(t1.ptr, ctypes.POINTER(ctypes_type))\n",
    "data_pointer\n",
    "np.ctypeslib.as_array(data_pointer, shape=(t1.bufsize // (t2[1]//8),))"
   ]
  },
  {
   "cell_type": "markdown",
   "id": "ce08e366-9797-4074-9a61-1f2b1fa6b2d2",
   "metadata": {},
   "source": [
    "## Test\n",
    "Test for methods `get_mask` and `buffer_to_ndarray` to work on masks."
   ]
  },
  {
   "cell_type": "code",
   "execution_count": 38,
   "id": "5587b4e7-0072-4cd1-9acf-1db0e1d9cc2a",
   "metadata": {},
   "outputs": [
    {
     "data": {
      "text/html": [
       "<table>\n",
       "<thead>\n",
       "<tr><th>#                            </th><th>int1  </th><th>float1  </th><th>bool1  </th></tr>\n",
       "</thead>\n",
       "<tbody>\n",
       "<tr><td><i style='opacity: 0.6'>0</i></td><td>1     </td><td>--      </td><td>--     </td></tr>\n",
       "<tr><td><i style='opacity: 0.6'>1</i></td><td>--    </td><td>0.0     </td><td>True   </td></tr>\n",
       "</tbody>\n",
       "</table>"
      ],
      "text/plain": [
       "  #  int1    float1    bool1\n",
       "  0  1       --        --\n",
       "  1  --      0.0       True"
      ]
     },
     "execution_count": 38,
     "metadata": {},
     "output_type": "execute_result"
    }
   ],
   "source": [
    "df_n"
   ]
  },
  {
   "cell_type": "code",
   "execution_count": 39,
   "id": "76bbda7f-b66a-4031-9fd6-b6165d2f65aa",
   "metadata": {},
   "outputs": [
    {
     "data": {
      "text/plain": [
       "array([False,  True])"
      ]
     },
     "execution_count": 39,
     "metadata": {},
     "output_type": "execute_result"
    }
   ],
   "source": [
    "mask_buffer_df_n1, mask_dtype_df_n1 = df_n.__dataframe__().get_column_by_name('int1').get_mask()\n",
    "buffer_to_ndarray(mask_buffer_df_n1, mask_dtype_df_n1)"
   ]
  },
  {
   "cell_type": "code",
   "execution_count": 40,
   "id": "7c59a2bb-3c33-4871-8a89-927af4f018c3",
   "metadata": {},
   "outputs": [
    {
     "data": {
      "text/plain": [
       "array([ True, False])"
      ]
     },
     "execution_count": 40,
     "metadata": {},
     "output_type": "execute_result"
    }
   ],
   "source": [
    "mask_buffer_df_n2, mask_dtype_df_n2 = df_n.__dataframe__().get_column_by_name('float1').get_mask()\n",
    "buffer_to_ndarray(mask_buffer_df_n2, mask_dtype_df_n2)"
   ]
  },
  {
   "cell_type": "code",
   "execution_count": 41,
   "id": "4f4d3bba-212f-4fbd-a7ed-f9c9f109bfac",
   "metadata": {},
   "outputs": [
    {
     "data": {
      "text/html": [
       "<table>\n",
       "<thead>\n",
       "<tr><th>#                            </th><th>colors  </th></tr>\n",
       "</thead>\n",
       "<tbody>\n",
       "<tr><td><i style='opacity: 0.6'>0</i></td><td>0       </td></tr>\n",
       "<tr><td><i style='opacity: 0.6'>1</i></td><td>1       </td></tr>\n",
       "<tr><td><i style='opacity: 0.6'>2</i></td><td>2       </td></tr>\n",
       "<tr><td><i style='opacity: 0.6'>3</i></td><td>1       </td></tr>\n",
       "<tr><td><i style='opacity: 0.6'>4</i></td><td>--      </td></tr>\n",
       "</tbody>\n",
       "</table>"
      ],
      "text/plain": [
       "  #  colors\n",
       "  0  0\n",
       "  1  1\n",
       "  2  2\n",
       "  3  1\n",
       "  4  --"
      ]
     },
     "execution_count": 41,
     "metadata": {},
     "output_type": "execute_result"
    }
   ],
   "source": [
    "df2"
   ]
  },
  {
   "cell_type": "code",
   "execution_count": 42,
   "id": "b8dcff01-4a6d-494b-bf6f-33c6cf8013c2",
   "metadata": {},
   "outputs": [
    {
     "data": {
      "text/plain": [
       "array([False, False, False, False,  True])"
      ]
     },
     "execution_count": 42,
     "metadata": {},
     "output_type": "execute_result"
    }
   ],
   "source": [
    "mask_buffer_df2, mask_dtype_df2 = df2.__dataframe__().get_column_by_name('colors').get_mask()\n",
    "buffer_to_ndarray(mask_buffer_df2, mask_dtype_df2)"
   ]
  },
  {
   "cell_type": "markdown",
   "id": "5a3d1138-ae83-4038-8ca9-a20b0ad67aea",
   "metadata": {},
   "source": [
    "### Can we get the mask back into vaex dataframe?"
   ]
  },
  {
   "cell_type": "code",
   "execution_count": 43,
   "id": "d785f8a7-9e7f-478e-a02e-5b1f21852748",
   "metadata": {},
   "outputs": [
    {
     "data": {
      "text/plain": [
       "1"
      ]
     },
     "execution_count": 43,
     "metadata": {},
     "output_type": "execute_result"
    }
   ],
   "source": [
    "df2.colors.values.mask.dtype.itemsize"
   ]
  },
  {
   "cell_type": "code",
   "execution_count": 44,
   "id": "e900f0d6-2fff-48ae-ae06-71e06a36cdf8",
   "metadata": {},
   "outputs": [
    {
     "data": {
      "text/plain": [
       "1"
      ]
     },
     "execution_count": 44,
     "metadata": {},
     "output_type": "execute_result"
    }
   ],
   "source": [
    "mask_from_buffer = buffer_to_ndarray(mask_buffer_df2, mask_dtype_df2)\n",
    "mask_from_buffer.dtype.itemsize"
   ]
  },
  {
   "cell_type": "code",
   "execution_count": 45,
   "id": "97015741-0186-410a-87c0-15abfd10638c",
   "metadata": {},
   "outputs": [
    {
     "data": {
      "text/html": [
       "<table>\n",
       "<thead>\n",
       "<tr><th>#                            </th><th>colors  </th></tr>\n",
       "</thead>\n",
       "<tbody>\n",
       "<tr><td><i style='opacity: 0.6'>0</i></td><td>0       </td></tr>\n",
       "<tr><td><i style='opacity: 0.6'>1</i></td><td>1       </td></tr>\n",
       "<tr><td><i style='opacity: 0.6'>2</i></td><td>2       </td></tr>\n",
       "<tr><td><i style='opacity: 0.6'>3</i></td><td>1       </td></tr>\n",
       "<tr><td><i style='opacity: 0.6'>4</i></td><td>--      </td></tr>\n",
       "</tbody>\n",
       "</table>"
      ],
      "text/plain": [
       "  #  colors\n",
       "  0  0\n",
       "  1  1\n",
       "  2  2\n",
       "  3  1\n",
       "  4  --"
      ]
     },
     "execution_count": 45,
     "metadata": {},
     "output_type": "execute_result"
    }
   ],
   "source": [
    "c5 = ['red', 'green', 'blue', 'green', 'MISSING']\n",
    "c5 = np.ma.array(colors, mask=mask_from_buffer)\n",
    "ds5 = vaex.from_arrays(colors=colors)\n",
    "df5 = ds.ordinal_encode('colors', ['red', 'green', 'blue'])\n",
    "df5"
   ]
  },
  {
   "cell_type": "code",
   "execution_count": 46,
   "id": "b3b72e6d-1f3a-4304-84ea-df6eadfac058",
   "metadata": {},
   "outputs": [
    {
     "data": {
      "text/html": [
       "<table>\n",
       "<thead>\n",
       "<tr><th>#                            </th><th>colors  </th></tr>\n",
       "</thead>\n",
       "<tbody>\n",
       "<tr><td><i style='opacity: 0.6'>0</i></td><td>0       </td></tr>\n",
       "<tr><td><i style='opacity: 0.6'>1</i></td><td>1       </td></tr>\n",
       "<tr><td><i style='opacity: 0.6'>2</i></td><td>2       </td></tr>\n",
       "<tr><td><i style='opacity: 0.6'>3</i></td><td>1       </td></tr>\n",
       "<tr><td><i style='opacity: 0.6'>4</i></td><td>--      </td></tr>\n",
       "</tbody>\n",
       "</table>"
      ],
      "text/plain": [
       "  #  colors\n",
       "  0  0\n",
       "  1  1\n",
       "  2  2\n",
       "  3  1\n",
       "  4  --"
      ]
     },
     "execution_count": 46,
     "metadata": {},
     "output_type": "execute_result"
    }
   ],
   "source": [
    "df2"
   ]
  },
  {
   "cell_type": "markdown",
   "id": "e0e484e7-415d-4153-91d8-9a2d2c9edaf1",
   "metadata": {},
   "source": [
    "** **It works! Yey** **"
   ]
  },
  {
   "cell_type": "markdown",
   "id": "20216656-4663-4c80-9388-8367bff130ed",
   "metadata": {},
   "source": [
    "### Test unmasked data\n",
    "`get_mask` raises an error."
   ]
  },
  {
   "cell_type": "code",
   "execution_count": 47,
   "id": "20a413a7-3869-4f29-891e-2ad23de98835",
   "metadata": {},
   "outputs": [],
   "source": [
    "x = np.array([True, True, False])\n",
    "y = np.array([1, 2, 0])\n",
    "z = np.array([9.2, 10.5, 11.8])\n",
    "df = vaex.from_arrays(x=x, y=y, z=z)"
   ]
  },
  {
   "cell_type": "code",
   "execution_count": 48,
   "id": "e2e3fa01-734f-4dd6-8bce-a66dcb2bdb84",
   "metadata": {},
   "outputs": [
    {
     "ename": "RuntimeError",
     "evalue": "This column uses NaN as null so does not have a separate mask",
     "output_type": "error",
     "traceback": [
      "\u001b[1;31m---------------------------------------------------------------------------\u001b[0m",
      "\u001b[1;31mRuntimeError\u001b[0m                              Traceback (most recent call last)",
      "\u001b[1;32m<ipython-input-48-df1a225037f1>\u001b[0m in \u001b[0;36m<module>\u001b[1;34m\u001b[0m\n\u001b[1;32m----> 1\u001b[1;33m \u001b[0mdf\u001b[0m\u001b[1;33m.\u001b[0m\u001b[0m__dataframe__\u001b[0m\u001b[1;33m(\u001b[0m\u001b[1;33m)\u001b[0m\u001b[1;33m.\u001b[0m\u001b[0mget_column_by_name\u001b[0m\u001b[1;33m(\u001b[0m\u001b[1;34m'x'\u001b[0m\u001b[1;33m)\u001b[0m\u001b[1;33m.\u001b[0m\u001b[0mget_mask\u001b[0m\u001b[1;33m(\u001b[0m\u001b[1;33m)\u001b[0m\u001b[1;33m\u001b[0m\u001b[1;33m\u001b[0m\u001b[0m\n\u001b[0m",
      "\u001b[1;32m~\\Documents\\Python Scripts\\vaex_implementation_v6.py\u001b[0m in \u001b[0;36mget_mask\u001b[1;34m(self)\u001b[0m\n\u001b[0;32m    480\u001b[0m             \u001b[1;32mraise\u001b[0m \u001b[0mNotImplementedError\u001b[0m\u001b[1;33m(\u001b[0m\u001b[1;34m'See self.describe_null'\u001b[0m\u001b[1;33m)\u001b[0m\u001b[1;33m\u001b[0m\u001b[1;33m\u001b[0m\u001b[0m\n\u001b[0;32m    481\u001b[0m \u001b[1;33m\u001b[0m\u001b[0m\n\u001b[1;32m--> 482\u001b[1;33m         \u001b[1;32mraise\u001b[0m \u001b[0mRuntimeError\u001b[0m\u001b[1;33m(\u001b[0m\u001b[0mmsg\u001b[0m\u001b[1;33m)\u001b[0m\u001b[1;33m\u001b[0m\u001b[1;33m\u001b[0m\u001b[0m\n\u001b[0m\u001b[0;32m    483\u001b[0m \u001b[1;33m\u001b[0m\u001b[0m\n\u001b[0;32m    484\u001b[0m \u001b[1;32mclass\u001b[0m \u001b[0m_VaexDataFrame\u001b[0m\u001b[1;33m:\u001b[0m\u001b[1;33m\u001b[0m\u001b[1;33m\u001b[0m\u001b[0m\n",
      "\u001b[1;31mRuntimeError\u001b[0m: This column uses NaN as null so does not have a separate mask"
     ]
    }
   ],
   "source": [
    "df.__dataframe__().get_column_by_name('x').get_mask()"
   ]
  },
  {
   "cell_type": "code",
   "execution_count": null,
   "id": "ef49d71d-ba86-40c8-b115-0e3266ecfd6c",
   "metadata": {},
   "outputs": [],
   "source": []
  }
 ],
 "metadata": {
  "kernelspec": {
   "display_name": "Python 3",
   "language": "python",
   "name": "python3"
  },
  "language_info": {
   "codemirror_mode": {
    "name": "ipython",
    "version": 3
   },
   "file_extension": ".py",
   "mimetype": "text/x-python",
   "name": "python",
   "nbconvert_exporter": "python",
   "pygments_lexer": "ipython3",
   "version": "3.9.5"
  }
 },
 "nbformat": 4,
 "nbformat_minor": 5
}
