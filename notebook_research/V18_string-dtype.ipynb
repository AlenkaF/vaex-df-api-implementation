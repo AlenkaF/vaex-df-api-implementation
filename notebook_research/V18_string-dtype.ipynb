{
 "cells": [
  {
   "cell_type": "code",
   "execution_count": 1,
   "id": "5396aea4-6a0a-4540-b8ef-cc168662f742",
   "metadata": {},
   "outputs": [],
   "source": [
    "%run pandas_implementation.py\n",
    "\n",
    "from IPython.core.interactiveshell import InteractiveShell\n",
    "InteractiveShell.ast_node_interactivity = \"all\""
   ]
  },
  {
   "cell_type": "markdown",
   "id": "b960cd5c-88fb-4c95-ad58-c5340db934a9",
   "metadata": {},
   "source": [
    "# Research how Pandas implementation works"
   ]
  },
  {
   "cell_type": "code",
   "execution_count": 2,
   "id": "5ce6e5ff-5fac-4595-a1b1-63e6776ba6bc",
   "metadata": {},
   "outputs": [],
   "source": [
    "df = pd.DataFrame({\"A\": [\"a\", \"b\", \"cdef\", \"\", \"g\"]})\n",
    "df[\"B\"] = df[\"A\"].astype(\"object\")\n",
    "df.at[1, \"B\"] = np.nan  # Set one item to null\n",
    "\n",
    "# Test for correctness and null handling:\n",
    "col = df.__dataframe__().get_column_by_name(\"B\")"
   ]
  },
  {
   "cell_type": "code",
   "execution_count": 3,
   "id": "82b4d3f0-4436-4030-943d-b93ae85120e1",
   "metadata": {},
   "outputs": [
    {
     "data": {
      "text/html": [
       "<div>\n",
       "<style scoped>\n",
       "    .dataframe tbody tr th:only-of-type {\n",
       "        vertical-align: middle;\n",
       "    }\n",
       "\n",
       "    .dataframe tbody tr th {\n",
       "        vertical-align: top;\n",
       "    }\n",
       "\n",
       "    .dataframe thead th {\n",
       "        text-align: right;\n",
       "    }\n",
       "</style>\n",
       "<table border=\"1\" class=\"dataframe\">\n",
       "  <thead>\n",
       "    <tr style=\"text-align: right;\">\n",
       "      <th></th>\n",
       "      <th>A</th>\n",
       "      <th>B</th>\n",
       "    </tr>\n",
       "  </thead>\n",
       "  <tbody>\n",
       "    <tr>\n",
       "      <th>0</th>\n",
       "      <td>a</td>\n",
       "      <td>a</td>\n",
       "    </tr>\n",
       "    <tr>\n",
       "      <th>1</th>\n",
       "      <td>b</td>\n",
       "      <td>NaN</td>\n",
       "    </tr>\n",
       "    <tr>\n",
       "      <th>2</th>\n",
       "      <td>cdef</td>\n",
       "      <td>cdef</td>\n",
       "    </tr>\n",
       "    <tr>\n",
       "      <th>3</th>\n",
       "      <td></td>\n",
       "      <td></td>\n",
       "    </tr>\n",
       "    <tr>\n",
       "      <th>4</th>\n",
       "      <td>g</td>\n",
       "      <td>g</td>\n",
       "    </tr>\n",
       "  </tbody>\n",
       "</table>\n",
       "</div>"
      ],
      "text/plain": [
       "      A     B\n",
       "0     a     a\n",
       "1     b   NaN\n",
       "2  cdef  cdef\n",
       "3            \n",
       "4     g     g"
      ]
     },
     "execution_count": 3,
     "metadata": {},
     "output_type": "execute_result"
    }
   ],
   "source": [
    "df"
   ]
  },
  {
   "cell_type": "markdown",
   "id": "a5ddb8ff-6913-4794-b307-068077b26c0d",
   "metadata": {},
   "source": [
    "## First lets research `_get_data_buffer`"
   ]
  },
  {
   "cell_type": "code",
   "execution_count": 4,
   "id": "eb1107c3-33da-4aa9-a25c-033deb7df2c1",
   "metadata": {},
   "outputs": [
    {
     "data": {
      "text/plain": [
       "dtype('O')"
      ]
     },
     "execution_count": 4,
     "metadata": {},
     "output_type": "execute_result"
    }
   ],
   "source": [
    "df[\"B\"].dtype"
   ]
  },
  {
   "cell_type": "code",
   "execution_count": 5,
   "id": "d9195b75-83f2-4eb8-8adf-05c6e9220384",
   "metadata": {},
   "outputs": [
    {
     "data": {
      "text/plain": [
       "array(['a', nan, 'cdef', '', 'g'], dtype=object)"
      ]
     },
     "execution_count": 5,
     "metadata": {},
     "output_type": "execute_result"
    }
   ],
   "source": [
    "df[\"B\"].to_numpy()"
   ]
  },
  {
   "cell_type": "code",
   "execution_count": 6,
   "id": "85f81a3e-a222-47df-81c2-51a74383edd8",
   "metadata": {},
   "outputs": [
    {
     "data": {
      "text/plain": [
       "bytearray(b'p\\xe4\\xe4\\x0b\\x15\\x02\\x00\\x00\\xb0]\\xfa\\x0f\\x15\\x02\\x00\\x00\\xf0\\x0c\\xa5\\x0e\\x15\\x02\\x00\\x00pF\\x8b\\x0b\\x15\\x02\\x00\\x00p;\\xe7\\x0b\\x15\\x02\\x00\\x00')"
      ]
     },
     "execution_count": 6,
     "metadata": {},
     "output_type": "execute_result"
    }
   ],
   "source": [
    "buf = df[\"B\"].to_numpy()\n",
    "b = bytearray(buf)\n",
    "b"
   ]
  },
  {
   "cell_type": "code",
   "execution_count": 7,
   "id": "34d1f8d6-99be-4d79-8ce6-1025f6069861",
   "metadata": {},
   "outputs": [
    {
     "name": "stdout",
     "output_type": "stream",
     "text": [
      "b'a'\n",
      "b'cdef'\n",
      "b''\n",
      "b'g'\n"
     ]
    }
   ],
   "source": [
    "for i in range(buf.size):\n",
    "    if type(buf[i]) == str:\n",
    "        b.extend(buf[i].encode(encoding=\"utf-8\"))\n",
    "        print(buf[i].encode(encoding=\"utf-8\"))"
   ]
  },
  {
   "cell_type": "code",
   "execution_count": 8,
   "id": "8badef59-9a04-4cd7-85c5-0e75e0f24e81",
   "metadata": {},
   "outputs": [
    {
     "data": {
      "text/plain": [
       "bytearray(b'p\\xe4\\xe4\\x0b\\x15\\x02\\x00\\x00\\xb0]\\xfa\\x0f\\x15\\x02\\x00\\x00\\xf0\\x0c\\xa5\\x0e\\x15\\x02\\x00\\x00pF\\x8b\\x0b\\x15\\x02\\x00\\x00p;\\xe7\\x0b\\x15\\x02\\x00\\x00acdefg')"
      ]
     },
     "execution_count": 8,
     "metadata": {},
     "output_type": "execute_result"
    }
   ],
   "source": [
    "b"
   ]
  },
  {
   "cell_type": "code",
   "execution_count": 9,
   "id": "72bd45a6-622d-4e17-9d90-852134d40731",
   "metadata": {},
   "outputs": [
    {
     "data": {
      "text/plain": [
       "array([112, 228, 228,  11,  21,   2,   0,   0, 176,  93, 250,  15,  21,\n",
       "         2,   0,   0, 240,  12, 165,  14,  21,   2,   0,   0, 112,  70,\n",
       "       139,  11,  21,   2,   0,   0, 112,  59, 231,  11,  21,   2,   0,\n",
       "         0,  97,  99, 100, 101, 102, 103], dtype=uint8)"
      ]
     },
     "execution_count": 9,
     "metadata": {},
     "output_type": "execute_result"
    }
   ],
   "source": [
    "np.frombuffer(b, dtype=\"uint8\")"
   ]
  },
  {
   "cell_type": "markdown",
   "id": "cd939e60-062f-4998-a23b-ebffce16d548",
   "metadata": {},
   "source": [
    "## And `_get_offset_buffer`"
   ]
  },
  {
   "cell_type": "code",
   "execution_count": 10,
   "id": "799197a5-fc3e-48be-beaf-cf290a48a02b",
   "metadata": {},
   "outputs": [
    {
     "data": {
      "text/plain": [
       "array(['a', nan, 'cdef', '', 'g'], dtype=object)"
      ]
     },
     "execution_count": 10,
     "metadata": {},
     "output_type": "execute_result"
    }
   ],
   "source": [
    "values = buf\n",
    "ptr = 0\n",
    "offsets = [ptr]\n",
    "\n",
    "values"
   ]
  },
  {
   "cell_type": "code",
   "execution_count": 11,
   "id": "7b5da697-30e3-47d8-9f64-a202fb572740",
   "metadata": {},
   "outputs": [
    {
     "name": "stdout",
     "output_type": "stream",
     "text": [
      "<class 'str'>\n",
      "b = b'a'\n",
      "1\n",
      "ptr = 1\n",
      "<class 'str'>\n",
      "b = b'cdef'\n",
      "4\n",
      "ptr = 5\n",
      "<class 'str'>\n",
      "b = b''\n",
      "0\n",
      "ptr = 5\n",
      "<class 'str'>\n",
      "b = b'g'\n",
      "1\n",
      "ptr = 6\n"
     ]
    }
   ],
   "source": [
    "for v in values:\n",
    "    # For missing values (in this case, `np.nan` values), we don't increment the pointer)\n",
    "    if type(v) == str:\n",
    "        b = v.encode(encoding=\"utf-8\")\n",
    "        ptr += len(b)\n",
    "        print(type(v))\n",
    "        print(f\"b = {b}\")\n",
    "        print(len(b))\n",
    "        print(f\"ptr = {ptr}\")\n",
    "\n",
    "    offsets.append(ptr)"
   ]
  },
  {
   "cell_type": "code",
   "execution_count": 12,
   "id": "69c6c172-b05e-4262-bc92-88d4fa741fc1",
   "metadata": {},
   "outputs": [
    {
     "data": {
      "text/plain": [
       "[0, 1, 1, 5, 5, 6]"
      ]
     },
     "execution_count": 12,
     "metadata": {},
     "output_type": "execute_result"
    }
   ],
   "source": [
    "offsets"
   ]
  },
  {
   "cell_type": "markdown",
   "id": "1eb533de-bc09-4f02-9bcb-384a42129281",
   "metadata": {},
   "source": [
    "## Test\n",
    "\n",
    "Applied code to Vaex implementation copy-paste first. Lets see."
   ]
  },
  {
   "cell_type": "code",
   "execution_count": 13,
   "id": "5a0df0b4-5bfa-406c-a3e4-253962955765",
   "metadata": {},
   "outputs": [],
   "source": [
    "%run vaex_implementation_v18.py"
   ]
  },
  {
   "cell_type": "code",
   "execution_count": 14,
   "id": "fc2d7b1d-1ab8-4227-b5c6-0fb9f38b1312",
   "metadata": {},
   "outputs": [
    {
     "data": {
      "text/html": [
       "<table>\n",
       "<thead>\n",
       "<tr><th>#                            </th><th>a   </th></tr>\n",
       "</thead>\n",
       "<tbody>\n",
       "<tr><td><i style='opacity: 0.6'>0</i></td><td>a   </td></tr>\n",
       "<tr><td><i style='opacity: 0.6'>1</i></td><td>b   </td></tr>\n",
       "<tr><td><i style='opacity: 0.6'>2</i></td><td>cdef</td></tr>\n",
       "<tr><td><i style='opacity: 0.6'>3</i></td><td>    </td></tr>\n",
       "<tr><td><i style='opacity: 0.6'>4</i></td><td>g   </td></tr>\n",
       "</tbody>\n",
       "</table>"
      ],
      "text/plain": [
       "  #  a\n",
       "  0  a\n",
       "  1  b\n",
       "  2  cdef\n",
       "  3\n",
       "  4  g"
      ]
     },
     "execution_count": 14,
     "metadata": {},
     "output_type": "execute_result"
    }
   ],
   "source": [
    "dfv = vaex.from_arrays(a =  np.array([\"a\", \"b\", \"cdef\", \"\", \"g\"]))\n",
    "dfv"
   ]
  },
  {
   "cell_type": "code",
   "execution_count": 15,
   "id": "f63065d9-081a-47d5-836c-5cb34464bc46",
   "metadata": {},
   "outputs": [
    {
     "data": {
      "text/plain": [
       "string"
      ]
     },
     "execution_count": 15,
     "metadata": {},
     "output_type": "execute_result"
    }
   ],
   "source": [
    "dfv.a.dtype"
   ]
  },
  {
   "cell_type": "code",
   "execution_count": 16,
   "id": "05b5da71-6c59-4a6c-9f9c-133dc3815afa",
   "metadata": {},
   "outputs": [
    {
     "data": {
      "text/plain": [
       "{'data': (VaexBuffer({'bufsize': 7, 'ptr': 2289550682464, 'device': 'CPU'}),\n",
       "  (<_DtypeKind.STRING: 21>, 8, 'u', '=')),\n",
       " 'validity': (VaexBuffer({'bufsize': 5, 'ptr': 2289496678976, 'device': 'CPU'}),\n",
       "  (<_DtypeKind.BOOL: 20>, 8, '|b1', '|')),\n",
       " 'offsets': (VaexBuffer({'bufsize': 48, 'ptr': 2289505517024, 'device': 'CPU'}),\n",
       "  (<_DtypeKind.INT: 0>, 64, 'l', '='))}"
      ]
     },
     "execution_count": 16,
     "metadata": {},
     "output_type": "execute_result"
    }
   ],
   "source": [
    "dfv.__dataframe__().get_column_by_name('a').get_buffers()"
   ]
  },
  {
   "cell_type": "code",
   "execution_count": 17,
   "id": "62bd0005-8424-45e9-9e2a-fdd5aea018a8",
   "metadata": {},
   "outputs": [],
   "source": [
    "buffers = dfv.__dataframe__().get_column_by_name('a').get_buffers()\n",
    "\n",
    "# Retrieve the data buffer containing the UTF-8 code units\n",
    "dbuffer, bdtype = buffers[\"data\"]\n",
    "\n",
    "# Retrieve the offsets buffer containing the index offsets demarcating the beginning and end of each string\n",
    "obuffer, odtype = buffers[\"offsets\"]\n",
    "\n",
    "# Retrieve the mask buffer indicating the presence of missing values\n",
    "mbuffer, mdtype = buffers[\"validity\"]\n",
    "\n",
    "# Convert the buffers to NumPy arrays\n",
    "dt = (_DtypeKind.UINT, 8, None, None)  # note: in order to go from STRING to an equivalent ndarray, we claim that the buffer is uint8 (i.e., a byte array)\n",
    "dbuf = buffer_to_ndarray(dbuffer, dt)\n",
    "\n",
    "obuf = buffer_to_ndarray(obuffer, odtype)\n",
    "mbuf = buffer_to_ndarray(mbuffer, mdtype)"
   ]
  },
  {
   "cell_type": "code",
   "execution_count": 18,
   "id": "602f07fa-9dd4-4cf4-b27a-09cf528ed0e9",
   "metadata": {},
   "outputs": [
    {
     "data": {
      "text/plain": [
       "array([ 97,  98,  99, 100, 101, 102, 103], dtype=uint8)"
      ]
     },
     "execution_count": 18,
     "metadata": {},
     "output_type": "execute_result"
    },
    {
     "data": {
      "text/plain": [
       "array([0, 1, 2, 6, 6, 7], dtype=int64)"
      ]
     },
     "execution_count": 18,
     "metadata": {},
     "output_type": "execute_result"
    },
    {
     "data": {
      "text/plain": [
       "array([False, False, False, False, False])"
      ]
     },
     "execution_count": 18,
     "metadata": {},
     "output_type": "execute_result"
    }
   ],
   "source": [
    "dbuf\n",
    "obuf\n",
    "mbuf"
   ]
  },
  {
   "cell_type": "markdown",
   "id": "f2413b73-23b2-4e3c-8196-d75365b27bd1",
   "metadata": {},
   "source": [
    "## Now lets research the `convert_string_column`"
   ]
  },
  {
   "cell_type": "code",
   "execution_count": 19,
   "id": "d3f35e3b-c88a-40d4-a8ae-f02bdd4b00b3",
   "metadata": {},
   "outputs": [
    {
     "name": "stdout",
     "output_type": "stream",
     "text": [
      "[97]\n",
      "b'a'\n",
      "a\n",
      "[98]\n",
      "b'b'\n",
      "b\n",
      "[ 99 100 101 102]\n",
      "b'cdef'\n",
      "cdef\n",
      "[]\n",
      "b''\n",
      "\n",
      "[103]\n",
      "b'g'\n",
      "g\n"
     ]
    }
   ],
   "source": [
    "# Assemble the strings from the code units\n",
    "str_list = []\n",
    "for i in range(obuf.size-1):\n",
    "\n",
    "    # Extract a range of code units\n",
    "    units = dbuf[obuf[i]:obuf[i+1]]\n",
    "    print(units)\n",
    "\n",
    "    # Convert the list of code units to bytes\n",
    "    bb = bytes(units)\n",
    "    print(bb)\n",
    "\n",
    "    # Create the string\n",
    "    s = bb.decode(encoding=\"utf-8\")\n",
    "    print(s)\n",
    "\n",
    "    # Add to our list of strings\n",
    "    str_list.append(s)"
   ]
  },
  {
   "cell_type": "code",
   "execution_count": 20,
   "id": "03a426f1-8359-4d81-bab4-2695a014a784",
   "metadata": {},
   "outputs": [
    {
     "data": {
      "text/plain": [
       "['a', 'b', 'cdef', '', 'g']"
      ]
     },
     "execution_count": 20,
     "metadata": {},
     "output_type": "execute_result"
    }
   ],
   "source": [
    "str_list"
   ]
  },
  {
   "cell_type": "code",
   "execution_count": 21,
   "id": "5247f24f-c903-4bbd-8f47-ceb124cddc66",
   "metadata": {},
   "outputs": [
    {
     "data": {
      "text/plain": [
       "array(['a', 'b', 'cdef', '', 'g'], dtype=object)"
      ]
     },
     "execution_count": 21,
     "metadata": {},
     "output_type": "execute_result"
    }
   ],
   "source": [
    "np.asarray(str_list, dtype=\"object\")"
   ]
  },
  {
   "cell_type": "markdown",
   "id": "87ff58b8-556e-49fa-bf5d-caf0f9b9187e",
   "metadata": {},
   "source": [
    "## Lets try the implementation"
   ]
  },
  {
   "cell_type": "code",
   "execution_count": 22,
   "id": "e90c4c93-398f-4204-9d39-b1cf4ede47e3",
   "metadata": {},
   "outputs": [],
   "source": [
    "%run vaex_implementation_v18.py"
   ]
  },
  {
   "cell_type": "code",
   "execution_count": 23,
   "id": "714df92d-1c66-4fa9-86c6-f446ac96991c",
   "metadata": {},
   "outputs": [
    {
     "data": {
      "text/plain": [
       "Expression = a\n",
       "Length: 5 dtype: string (column)\n",
       "--------------------------------\n",
       "0     a\n",
       "1     b\n",
       "2  cdef\n",
       "3\n",
       "4     g"
      ]
     },
     "execution_count": 23,
     "metadata": {},
     "output_type": "execute_result"
    }
   ],
   "source": [
    "dfv.__dataframe__().get_column_by_name('a')._col"
   ]
  },
  {
   "cell_type": "code",
   "execution_count": 24,
   "id": "eacdbe87-10ca-4e8f-99fb-0ad61d68a87b",
   "metadata": {},
   "outputs": [
    {
     "data": {
      "text/plain": [
       "(<pyarrow.lib.StringArray object at 0x00000215151BEE80>\n",
       " [\n",
       "   \"a\",\n",
       "   \"b\",\n",
       "   \"cdef\",\n",
       "   \"\",\n",
       "   \"g\"\n",
       " ],\n",
       " {'data': (VaexBuffer({'bufsize': 7, 'ptr': 2289550681120, 'device': 'CPU'}),\n",
       "   (<_DtypeKind.STRING: 21>, 8, 'u', '=')),\n",
       "  'validity': (VaexBuffer({'bufsize': 5, 'ptr': 2289505494432, 'device': 'CPU'}),\n",
       "   (<_DtypeKind.BOOL: 20>, 8, '|b1', '|')),\n",
       "  'offsets': (VaexBuffer({'bufsize': 48, 'ptr': 2289505517856, 'device': 'CPU'}),\n",
       "   (<_DtypeKind.INT: 0>, 64, 'l', '='))})"
      ]
     },
     "execution_count": 24,
     "metadata": {},
     "output_type": "execute_result"
    }
   ],
   "source": [
    "convert_string_column(dfv.__dataframe__().get_column_by_name('a'))"
   ]
  },
  {
   "cell_type": "markdown",
   "id": "b1763118-8a79-4e32-b776-cf7bb3c8443f",
   "metadata": {},
   "source": [
    "### Works! =)"
   ]
  },
  {
   "cell_type": "markdown",
   "id": "ccf6e95a-ee72-4eda-aec2-1daa0fec8bd5",
   "metadata": {},
   "source": [
    "## Now mising values handling"
   ]
  },
  {
   "cell_type": "code",
   "execution_count": 25,
   "id": "706d7872-3c9b-4256-a4b3-f655c063e119",
   "metadata": {},
   "outputs": [
    {
     "data": {
      "text/html": [
       "<table>\n",
       "<thead>\n",
       "<tr><th>#                            </th><th>a   </th></tr>\n",
       "</thead>\n",
       "<tbody>\n",
       "<tr><td><i style='opacity: 0.6'>0</i></td><td>a   </td></tr>\n",
       "<tr><td><i style='opacity: 0.6'>1</i></td><td>--  </td></tr>\n",
       "<tr><td><i style='opacity: 0.6'>2</i></td><td>cdef</td></tr>\n",
       "<tr><td><i style='opacity: 0.6'>3</i></td><td>    </td></tr>\n",
       "<tr><td><i style='opacity: 0.6'>4</i></td><td>g   </td></tr>\n",
       "</tbody>\n",
       "</table>"
      ],
      "text/plain": [
       "  #  a\n",
       "  0  a\n",
       "  1  --\n",
       "  2  cdef\n",
       "  3\n",
       "  4  g"
      ]
     },
     "execution_count": 25,
     "metadata": {},
     "output_type": "execute_result"
    }
   ],
   "source": [
    "dfvm = vaex.from_arrays(a =  np.array([\"a\", None, \"cdef\", \"\", \"g\"]))\n",
    "dfvm"
   ]
  },
  {
   "cell_type": "code",
   "execution_count": 26,
   "id": "75997ad3-bec9-4074-b32a-f61f652d2596",
   "metadata": {},
   "outputs": [
    {
     "data": {
      "text/plain": [
       "1"
      ]
     },
     "execution_count": 26,
     "metadata": {},
     "output_type": "execute_result"
    }
   ],
   "source": [
    "dfvm.__dataframe__().get_column_by_name('a').null_count"
   ]
  },
  {
   "cell_type": "code",
   "execution_count": 27,
   "id": "9629dc04-5ef0-4ba1-b732-6b9311c5bd44",
   "metadata": {},
   "outputs": [],
   "source": [
    "buffers_m = dfvm.__dataframe__().get_column_by_name('a').get_buffers()\n",
    "\n",
    "# Retrieve the data buffer containing the UTF-8 code units\n",
    "dbuffer_m, bdtype_m = buffers_m[\"data\"]\n",
    "\n",
    "# Retrieve the offsets buffer containing the index offsets demarcating the beginning and end of each string\n",
    "obuffer_m, odtype_m = buffers_m[\"offsets\"]\n",
    "\n",
    "# Retrieve the mask buffer indicating the presence of missing values\n",
    "mbuffer_m, mdtype_m = buffers_m[\"validity\"]\n",
    "\n",
    "# Convert the buffers to NumPy arrays\n",
    "dt_m = (_DtypeKind.UINT, 8, None, None)  # note: in order to go from STRING to an equivalent ndarray, we claim that the buffer is uint8 (i.e., a byte array)\n",
    "dbuf_m = buffer_to_ndarray(dbuffer_m, dt_m)\n",
    "\n",
    "obuf_m = buffer_to_ndarray(obuffer_m, odtype_m)\n",
    "mbuf_m = buffer_to_ndarray(mbuffer_m, mdtype_m)"
   ]
  },
  {
   "cell_type": "code",
   "execution_count": 28,
   "id": "a0204d32-5251-406b-b2ab-e015e711ea97",
   "metadata": {},
   "outputs": [
    {
     "data": {
      "text/plain": [
       "array([ 97,  99, 100, 101, 102, 103], dtype=uint8)"
      ]
     },
     "execution_count": 28,
     "metadata": {},
     "output_type": "execute_result"
    },
    {
     "data": {
      "text/plain": [
       "array([0, 1, 1, 5, 5, 6], dtype=int64)"
      ]
     },
     "execution_count": 28,
     "metadata": {},
     "output_type": "execute_result"
    },
    {
     "data": {
      "text/plain": [
       "array([False,  True, False, False, False])"
      ]
     },
     "execution_count": 28,
     "metadata": {},
     "output_type": "execute_result"
    }
   ],
   "source": [
    "dbuf_m\n",
    "obuf_m\n",
    "mbuf_m"
   ]
  },
  {
   "cell_type": "markdown",
   "id": "9695f45d-bee4-46cc-91b8-ed7f734d7fd5",
   "metadata": {},
   "source": [
    "### This all works fine, now lets fix the `convert_string_column`"
   ]
  },
  {
   "cell_type": "code",
   "execution_count": 29,
   "id": "b0e27915-3456-45f5-8f4d-48ac8d86cce3",
   "metadata": {},
   "outputs": [],
   "source": [
    "%run vaex_implementation_v18.py"
   ]
  },
  {
   "cell_type": "code",
   "execution_count": 30,
   "id": "4b0a5818-224f-483d-9e8b-4fbe6e284f3e",
   "metadata": {},
   "outputs": [
    {
     "data": {
      "text/plain": [
       "(<pyarrow.lib.StringArray object at 0x0000021515228340>\n",
       " [\n",
       "   \"a\",\n",
       "   null,\n",
       "   \"cdef\",\n",
       "   \"\",\n",
       "   \"g\"\n",
       " ],\n",
       " {'data': (VaexBuffer({'bufsize': 6, 'ptr': 2289550682768, 'device': 'CPU'}),\n",
       "   (<_DtypeKind.STRING: 21>, 8, 'u', '=')),\n",
       "  'validity': (VaexBuffer({'bufsize': 5, 'ptr': 2289505494560, 'device': 'CPU'}),\n",
       "   (<_DtypeKind.BOOL: 20>, 8, '|b1', '|')),\n",
       "  'offsets': (VaexBuffer({'bufsize': 48, 'ptr': 2289505516704, 'device': 'CPU'}),\n",
       "   (<_DtypeKind.INT: 0>, 64, 'l', '='))})"
      ]
     },
     "execution_count": 30,
     "metadata": {},
     "output_type": "execute_result"
    }
   ],
   "source": [
    "convert_string_column(dfvm.__dataframe__().get_column_by_name('a'))"
   ]
  },
  {
   "cell_type": "markdown",
   "id": "9e238290-7c89-4816-a833-a50f7800ad1e",
   "metadata": {},
   "source": [
    "## That's it!"
   ]
  },
  {
   "cell_type": "markdown",
   "id": "e04f70a0-8c82-4b4d-b6ce-cf81d0ce6b8e",
   "metadata": {},
   "source": [
    "## Now for the finish lets check Pandas -> Vaex"
   ]
  },
  {
   "cell_type": "code",
   "execution_count": 31,
   "id": "9d8dfd21-47e9-428f-84fd-5dcee1a3647b",
   "metadata": {},
   "outputs": [],
   "source": [
    "%run vaex_implementation_v18.py"
   ]
  },
  {
   "cell_type": "code",
   "execution_count": 32,
   "id": "86506bb0-a57c-47e9-b102-07158c816cb4",
   "metadata": {},
   "outputs": [
    {
     "data": {
      "text/html": [
       "<div>\n",
       "<style scoped>\n",
       "    .dataframe tbody tr th:only-of-type {\n",
       "        vertical-align: middle;\n",
       "    }\n",
       "\n",
       "    .dataframe tbody tr th {\n",
       "        vertical-align: top;\n",
       "    }\n",
       "\n",
       "    .dataframe thead th {\n",
       "        text-align: right;\n",
       "    }\n",
       "</style>\n",
       "<table border=\"1\" class=\"dataframe\">\n",
       "  <thead>\n",
       "    <tr style=\"text-align: right;\">\n",
       "      <th></th>\n",
       "      <th>A</th>\n",
       "      <th>B</th>\n",
       "    </tr>\n",
       "  </thead>\n",
       "  <tbody>\n",
       "    <tr>\n",
       "      <th>0</th>\n",
       "      <td>a</td>\n",
       "      <td>a</td>\n",
       "    </tr>\n",
       "    <tr>\n",
       "      <th>1</th>\n",
       "      <td>b</td>\n",
       "      <td>NaN</td>\n",
       "    </tr>\n",
       "    <tr>\n",
       "      <th>2</th>\n",
       "      <td>cdef</td>\n",
       "      <td>cdef</td>\n",
       "    </tr>\n",
       "    <tr>\n",
       "      <th>3</th>\n",
       "      <td></td>\n",
       "      <td></td>\n",
       "    </tr>\n",
       "    <tr>\n",
       "      <th>4</th>\n",
       "      <td>g</td>\n",
       "      <td>g</td>\n",
       "    </tr>\n",
       "  </tbody>\n",
       "</table>\n",
       "</div>"
      ],
      "text/plain": [
       "      A     B\n",
       "0     a     a\n",
       "1     b   NaN\n",
       "2  cdef  cdef\n",
       "3            \n",
       "4     g     g"
      ]
     },
     "execution_count": 32,
     "metadata": {},
     "output_type": "execute_result"
    }
   ],
   "source": [
    "df"
   ]
  },
  {
   "cell_type": "code",
   "execution_count": 33,
   "id": "5ca77466-08cc-4721-9af5-7790c5429ade",
   "metadata": {},
   "outputs": [
    {
     "data": {
      "text/html": [
       "<table>\n",
       "<thead>\n",
       "<tr><th>#                            </th><th>A   </th><th>B   </th></tr>\n",
       "</thead>\n",
       "<tbody>\n",
       "<tr><td><i style='opacity: 0.6'>0</i></td><td>a   </td><td>a   </td></tr>\n",
       "<tr><td><i style='opacity: 0.6'>1</i></td><td>b   </td><td>--  </td></tr>\n",
       "<tr><td><i style='opacity: 0.6'>2</i></td><td>cdef</td><td>cdef</td></tr>\n",
       "<tr><td><i style='opacity: 0.6'>3</i></td><td>    </td><td>    </td></tr>\n",
       "<tr><td><i style='opacity: 0.6'>4</i></td><td>g   </td><td>g   </td></tr>\n",
       "</tbody>\n",
       "</table>"
      ],
      "text/plain": [
       "  #  A     B\n",
       "  0  a     a\n",
       "  1  b     --\n",
       "  2  cdef  cdef\n",
       "  3\n",
       "  4  g     g"
      ]
     },
     "execution_count": 33,
     "metadata": {},
     "output_type": "execute_result"
    }
   ],
   "source": [
    "from_dataframe_to_vaex(df)"
   ]
  },
  {
   "cell_type": "markdown",
   "id": "204f1e1b-1056-46b4-a32c-0dec0809ba9d",
   "metadata": {},
   "source": [
    "### We need to invert masks coming from Pandas ..."
   ]
  },
  {
   "cell_type": "code",
   "execution_count": 34,
   "id": "d523af73-3d64-480b-a4a3-9dcb0ace907c",
   "metadata": {},
   "outputs": [],
   "source": [
    "buffers_p = df.__dataframe__().get_column_by_name('B').get_buffers()\n",
    "\n",
    "# Retrieve the data buffer containing the UTF-8 code units\n",
    "dbuffer_p, bdtype_p = buffers_p[\"data\"]\n",
    "\n",
    "# Retrieve the offsets buffer containing the index offsets demarcating the beginning and end of each string\n",
    "obuffer_p, odtype_p = buffers_p[\"offsets\"]\n",
    "\n",
    "# Retrieve the mask buffer indicating the presence of missing values\n",
    "mbuffer_p, mdtype_p = buffers_p[\"validity\"]\n",
    "\n",
    "# Convert the buffers to NumPy arrays\n",
    "dt_p = (_DtypeKind.UINT, 8, None, None)  # note: in order to go from STRING to an equivalent ndarray, we claim that the buffer is uint8 (i.e., a byte array)\n",
    "dbuf_p = buffer_to_ndarray(dbuffer_p, dt_p)\n",
    "\n",
    "obuf_p = buffer_to_ndarray(obuffer_p, odtype_p)\n",
    "mbuf_p = buffer_to_ndarray(mbuffer_p, mdtype_p)"
   ]
  },
  {
   "cell_type": "code",
   "execution_count": 35,
   "id": "923763be-a721-4b7f-92e2-649e00ec2dec",
   "metadata": {},
   "outputs": [
    {
     "data": {
      "text/plain": [
       "array([ 97,  99, 100, 101, 102, 103], dtype=uint8)"
      ]
     },
     "execution_count": 35,
     "metadata": {},
     "output_type": "execute_result"
    },
    {
     "data": {
      "text/plain": [
       "array([0, 1, 1, 5, 5, 6], dtype=int64)"
      ]
     },
     "execution_count": 35,
     "metadata": {},
     "output_type": "execute_result"
    },
    {
     "data": {
      "text/plain": [
       "array([1, 0, 1, 1, 1], dtype=uint8)"
      ]
     },
     "execution_count": 35,
     "metadata": {},
     "output_type": "execute_result"
    }
   ],
   "source": [
    "dbuf_p\n",
    "obuf_p\n",
    "mbuf_p"
   ]
  },
  {
   "cell_type": "code",
   "execution_count": 36,
   "id": "ad34a956-9392-4ddb-8c89-657adcd7dcce",
   "metadata": {},
   "outputs": [
    {
     "data": {
      "text/plain": [
       "array([False,  True, False, False, False])"
      ]
     },
     "execution_count": 36,
     "metadata": {},
     "output_type": "execute_result"
    }
   ],
   "source": [
    "np.invert(np.asarray(mbuf_p, dtype=\"bool\"))"
   ]
  },
  {
   "cell_type": "code",
   "execution_count": 37,
   "id": "52e6e561-5056-4614-8bb4-e2c74459821a",
   "metadata": {},
   "outputs": [
    {
     "data": {
      "text/plain": [
       "True"
      ]
     },
     "execution_count": 37,
     "metadata": {},
     "output_type": "execute_result"
    }
   ],
   "source": [
    "mbuf_p.dtype == \"uint8\""
   ]
  },
  {
   "cell_type": "code",
   "execution_count": 49,
   "id": "b617b842-4d6c-4181-97e1-e6cfa6626b4e",
   "metadata": {},
   "outputs": [
    {
     "data": {
      "text/html": [
       "<table>\n",
       "<thead>\n",
       "<tr><th>#                            </th><th>A   </th><th>B   </th></tr>\n",
       "</thead>\n",
       "<tbody>\n",
       "<tr><td><i style='opacity: 0.6'>0</i></td><td>a   </td><td>a   </td></tr>\n",
       "<tr><td><i style='opacity: 0.6'>1</i></td><td>b   </td><td>--  </td></tr>\n",
       "<tr><td><i style='opacity: 0.6'>2</i></td><td>cdef</td><td>cdef</td></tr>\n",
       "<tr><td><i style='opacity: 0.6'>3</i></td><td>    </td><td>    </td></tr>\n",
       "<tr><td><i style='opacity: 0.6'>4</i></td><td>g   </td><td>g   </td></tr>\n",
       "</tbody>\n",
       "</table>"
      ],
      "text/plain": [
       "  #  A     B\n",
       "  0  a     a\n",
       "  1  b     --\n",
       "  2  cdef  cdef\n",
       "  3\n",
       "  4  g     g"
      ]
     },
     "execution_count": 49,
     "metadata": {},
     "output_type": "execute_result"
    }
   ],
   "source": [
    "from_dataframe_to_vaex(df)"
   ]
  },
  {
   "cell_type": "code",
   "execution_count": 50,
   "id": "8ab5465b-5710-4925-b43a-b3c052ab0f57",
   "metadata": {},
   "outputs": [
    {
     "data": {
      "text/plain": [
       "(4, 0)"
      ]
     },
     "execution_count": 50,
     "metadata": {},
     "output_type": "execute_result"
    }
   ],
   "source": [
    "df.__dataframe__().get_column_by_name('B').describe_null"
   ]
  },
  {
   "cell_type": "code",
   "execution_count": 51,
   "id": "32917844-04fb-4c44-91d0-4ce7f9a03223",
   "metadata": {},
   "outputs": [
    {
     "data": {
      "text/plain": [
       "(3, 0)"
      ]
     },
     "execution_count": 51,
     "metadata": {},
     "output_type": "execute_result"
    }
   ],
   "source": [
    "from_dataframe_to_vaex(df).__dataframe__().get_column_by_name('B').describe_null"
   ]
  },
  {
   "cell_type": "code",
   "execution_count": null,
   "id": "6efd83f2-0252-4a69-b225-ac9b748cec8d",
   "metadata": {},
   "outputs": [],
   "source": []
  }
 ],
 "metadata": {
  "kernelspec": {
   "display_name": "Python 3 (ipykernel)",
   "language": "python",
   "name": "python3"
  },
  "language_info": {
   "codemirror_mode": {
    "name": "ipython",
    "version": 3
   },
   "file_extension": ".py",
   "mimetype": "text/x-python",
   "name": "python",
   "nbconvert_exporter": "python",
   "pygments_lexer": "ipython3",
   "version": "3.9.5"
  }
 },
 "nbformat": 4,
 "nbformat_minor": 5
}
