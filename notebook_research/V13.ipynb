{
 "cells": [
  {
   "cell_type": "markdown",
   "id": "193dbb64-8ed1-4662-801e-b6a786a0a0b7",
   "metadata": {},
   "source": [
    "# Version 13\n",
    "**2021/09/03**\n",
    "\n",
    "Update:\n",
    "- **optimize sentinel values check/correction**<br>\n",
    "Instead of using Pandas Series, mask is generated and applied to arrow array.\n",
    "- **select_columns()**<br>\n",
    "Using `select_columns_by_name`.\n",
    "- **optimize _get_data_buffer**<br>\n",
    "Using `self._col.index_values()` to get the codes from arrow dictionary. Before the indices were transfered to Vaex dataframe and then to the buffer.\n",
    "- tried to optimize `_get_data_buffer()` in case of categorize in Vaex. Left it as it is."
   ]
  },
  {
   "cell_type": "code",
   "execution_count": 1,
   "id": "86850ba6-b11c-49e2-bf23-321137d08faa",
   "metadata": {},
   "outputs": [],
   "source": [
    "from IPython.core.interactiveshell import InteractiveShell\n",
    "InteractiveShell.ast_node_interactivity = \"all\""
   ]
  },
  {
   "cell_type": "code",
   "execution_count": 2,
   "id": "e1fc880d-1607-42b8-b6d5-ad9c09428575",
   "metadata": {},
   "outputs": [],
   "source": [
    "%run pandas_implementation.py\n",
    "%run vaex_implementation_v13.py"
   ]
  },
  {
   "cell_type": "markdown",
   "id": "d732c677-4c7c-4629-bd6f-872daad8c5c2",
   "metadata": {},
   "source": [
    "## Sentinel value\n",
    "Correction of sentinel value in convert_categorical_column"
   ]
  },
  {
   "cell_type": "code",
   "execution_count": 3,
   "id": "2cf60e0f-27e5-4f27-b9d9-4d42f0b8a024",
   "metadata": {},
   "outputs": [],
   "source": [
    "df = pd.DataFrame({\"A\": [1, 2, 5, 1]})\n",
    "df[\"B\"] = df[\"A\"].astype(\"category\")\n",
    "df.at[1, 'B'] = np.nan  # Set one item to null"
   ]
  },
  {
   "cell_type": "code",
   "execution_count": 4,
   "id": "82a1f866-408d-40a8-9ef4-e8cc58c858e5",
   "metadata": {},
   "outputs": [
    {
     "data": {
      "text/html": [
       "<div>\n",
       "<style scoped>\n",
       "    .dataframe tbody tr th:only-of-type {\n",
       "        vertical-align: middle;\n",
       "    }\n",
       "\n",
       "    .dataframe tbody tr th {\n",
       "        vertical-align: top;\n",
       "    }\n",
       "\n",
       "    .dataframe thead th {\n",
       "        text-align: right;\n",
       "    }\n",
       "</style>\n",
       "<table border=\"1\" class=\"dataframe\">\n",
       "  <thead>\n",
       "    <tr style=\"text-align: right;\">\n",
       "      <th></th>\n",
       "      <th>A</th>\n",
       "      <th>B</th>\n",
       "    </tr>\n",
       "  </thead>\n",
       "  <tbody>\n",
       "    <tr>\n",
       "      <th>0</th>\n",
       "      <td>1</td>\n",
       "      <td>1</td>\n",
       "    </tr>\n",
       "    <tr>\n",
       "      <th>1</th>\n",
       "      <td>2</td>\n",
       "      <td>NaN</td>\n",
       "    </tr>\n",
       "    <tr>\n",
       "      <th>2</th>\n",
       "      <td>5</td>\n",
       "      <td>5</td>\n",
       "    </tr>\n",
       "    <tr>\n",
       "      <th>3</th>\n",
       "      <td>1</td>\n",
       "      <td>1</td>\n",
       "    </tr>\n",
       "  </tbody>\n",
       "</table>\n",
       "</div>"
      ],
      "text/plain": [
       "   A    B\n",
       "0  1    1\n",
       "1  2  NaN\n",
       "2  5    5\n",
       "3  1    1"
      ]
     },
     "execution_count": 4,
     "metadata": {},
     "output_type": "execute_result"
    }
   ],
   "source": [
    "df"
   ]
  },
  {
   "cell_type": "code",
   "execution_count": 5,
   "id": "7cef6dea-78a4-4e24-a95d-d9571654e2ce",
   "metadata": {},
   "outputs": [
    {
     "data": {
      "text/plain": [
       "(2, -1)"
      ]
     },
     "execution_count": 5,
     "metadata": {},
     "output_type": "execute_result"
    },
    {
     "data": {
      "text/plain": [
       "array([ 0, -1,  2,  0], dtype=int8)"
      ]
     },
     "execution_count": 5,
     "metadata": {},
     "output_type": "execute_result"
    },
    {
     "data": {
      "text/plain": [
       "dtype('int8')"
      ]
     },
     "execution_count": 5,
     "metadata": {},
     "output_type": "execute_result"
    }
   ],
   "source": [
    "# research how the  sentinel values are stored\n",
    "col = df.__dataframe__().get_column_by_name('B')\n",
    "col.describe_null\n",
    "\n",
    "codes_buffer, codes_dtype = col.get_buffers()[\"data\"]\n",
    "codes = buffer_to_ndarray(codes_buffer, codes_dtype)\n",
    "codes\n",
    "codes.dtype"
   ]
  },
  {
   "cell_type": "code",
   "execution_count": 6,
   "id": "60002122-6869-46af-8bb6-48a01446db63",
   "metadata": {},
   "outputs": [
    {
     "data": {
      "text/plain": [
       "[-1, -1, -1, -1]"
      ]
     },
     "execution_count": 6,
     "metadata": {},
     "output_type": "execute_result"
    }
   ],
   "source": [
    "# The easiest way would be to construct a mask for arrow array\n",
    "sentinel = [col.describe_null[1]] * col.size\n",
    "sentinel"
   ]
  },
  {
   "cell_type": "code",
   "execution_count": 7,
   "id": "d3c04cc8-100f-45fb-baf4-abe161ed9f5b",
   "metadata": {},
   "outputs": [
    {
     "data": {
      "text/plain": [
       "array([False,  True, False, False])"
      ]
     },
     "execution_count": 7,
     "metadata": {},
     "output_type": "execute_result"
    }
   ],
   "source": [
    "# True/1 where sentinel value appears in the codes\n",
    "mask = codes == sentinel\n",
    "mask"
   ]
  },
  {
   "cell_type": "code",
   "execution_count": 8,
   "id": "1db45920-21f3-4466-9bff-e06ca6ecfc03",
   "metadata": {},
   "outputs": [
    {
     "data": {
      "text/plain": [
       "<pyarrow.lib.Int8Array object at 0x0000029C76A5E7C0>\n",
       "[\n",
       "  0,\n",
       "  null,\n",
       "  2,\n",
       "  0\n",
       "]"
      ]
     },
     "execution_count": 8,
     "metadata": {},
     "output_type": "execute_result"
    },
    {
     "data": {
      "text/plain": [
       "DataType(int8)"
      ]
     },
     "execution_count": 8,
     "metadata": {},
     "output_type": "execute_result"
    }
   ],
   "source": [
    "# Constructing arrow array with mask\n",
    "pa.array(codes, mask=mask)\n",
    "pa.array(codes, mask=mask).type"
   ]
  },
  {
   "cell_type": "code",
   "execution_count": 9,
   "id": "4618f608-e11d-445a-ab62-bdf9f9d1ebaa",
   "metadata": {},
   "outputs": [
    {
     "data": {
      "text/html": [
       "<table>\n",
       "<thead>\n",
       "<tr><th>#                            </th><th style=\"text-align: right;\">  A</th><th>B  </th></tr>\n",
       "</thead>\n",
       "<tbody>\n",
       "<tr><td><i style='opacity: 0.6'>0</i></td><td style=\"text-align: right;\">  1</td><td>1  </td></tr>\n",
       "<tr><td><i style='opacity: 0.6'>1</i></td><td style=\"text-align: right;\">  2</td><td>-- </td></tr>\n",
       "<tr><td><i style='opacity: 0.6'>2</i></td><td style=\"text-align: right;\">  5</td><td>5  </td></tr>\n",
       "<tr><td><i style='opacity: 0.6'>3</i></td><td style=\"text-align: right;\">  1</td><td>1  </td></tr>\n",
       "</tbody>\n",
       "</table>"
      ],
      "text/plain": [
       "  #    A  B\n",
       "  0    1  1\n",
       "  1    2  --\n",
       "  2    5  5\n",
       "  3    1  1"
      ]
     },
     "execution_count": 9,
     "metadata": {},
     "output_type": "execute_result"
    }
   ],
   "source": [
    "# Try the method\n",
    "from_dataframe_to_vaex(df)"
   ]
  },
  {
   "cell_type": "markdown",
   "id": "c7577a2c-aba1-409f-a336-9f6b05ab970e",
   "metadata": {},
   "source": [
    "## select_columns\n",
    "By intiger sequence"
   ]
  },
  {
   "cell_type": "code",
   "execution_count": 10,
   "id": "25c4d340-8652-46ef-bee3-b21677306568",
   "metadata": {},
   "outputs": [
    {
     "data": {
      "text/html": [
       "<table>\n",
       "<thead>\n",
       "<tr><th>#                            </th><th>x    </th><th style=\"text-align: right;\">  y</th><th style=\"text-align: right;\">   z</th></tr>\n",
       "</thead>\n",
       "<tbody>\n",
       "<tr><td><i style='opacity: 0.6'>0</i></td><td>True </td><td style=\"text-align: right;\">  1</td><td style=\"text-align: right;\"> 9.2</td></tr>\n",
       "<tr><td><i style='opacity: 0.6'>1</i></td><td>True </td><td style=\"text-align: right;\">  2</td><td style=\"text-align: right;\">10.5</td></tr>\n",
       "<tr><td><i style='opacity: 0.6'>2</i></td><td>False</td><td style=\"text-align: right;\">  0</td><td style=\"text-align: right;\">11.8</td></tr>\n",
       "</tbody>\n",
       "</table>"
      ],
      "text/plain": [
       "  #  x        y     z\n",
       "  0  True     1   9.2\n",
       "  1  True     2  10.5\n",
       "  2  False    0  11.8"
      ]
     },
     "execution_count": 10,
     "metadata": {},
     "output_type": "execute_result"
    }
   ],
   "source": [
    "x1 = np.array([True, True, False])\n",
    "y1 = np.array([1, 2, 0])\n",
    "z1 = np.array([9.2, 10.5, 11.8])\n",
    "df1 = vaex.from_arrays(x=x1, y=y1, z=z1)\n",
    "df1"
   ]
  },
  {
   "cell_type": "code",
   "execution_count": 11,
   "id": "fdbb6435-9f38-4717-a113-65bde1a0048d",
   "metadata": {},
   "outputs": [
    {
     "data": {
      "text/plain": [
       "Expression = y\n",
       "Length: 3 dtype: int32 (column)\n",
       "-------------------------------\n",
       "0  1\n",
       "1  2\n",
       "2  0"
      ]
     },
     "execution_count": 11,
     "metadata": {},
     "output_type": "execute_result"
    }
   ],
   "source": [
    "df1[:,1]"
   ]
  },
  {
   "cell_type": "code",
   "execution_count": 12,
   "id": "33f832f9-4d2c-4cd3-a887-2f9d6b6b36b9",
   "metadata": {},
   "outputs": [
    {
     "data": {
      "text/plain": [
       "['x', 'z']"
      ]
     },
     "execution_count": 12,
     "metadata": {},
     "output_type": "execute_result"
    }
   ],
   "source": [
    "# Maybe the easiest way to do it is to call select_columns_by_name\n",
    "# First try to construct a sequence of names\n",
    "indices = (0,2)\n",
    "names = []\n",
    "for i in indices:\n",
    "    names.append(df1[:,i].expression)\n",
    "names"
   ]
  },
  {
   "cell_type": "code",
   "execution_count": 13,
   "id": "3978d0cc-0df9-45bc-aeec-4a0baa5fec7a",
   "metadata": {},
   "outputs": [
    {
     "data": {
      "text/html": [
       "<table>\n",
       "<thead>\n",
       "<tr><th>#                            </th><th>x    </th><th style=\"text-align: right;\">   z</th></tr>\n",
       "</thead>\n",
       "<tbody>\n",
       "<tr><td><i style='opacity: 0.6'>0</i></td><td>True </td><td style=\"text-align: right;\"> 9.2</td></tr>\n",
       "<tr><td><i style='opacity: 0.6'>1</i></td><td>True </td><td style=\"text-align: right;\">10.5</td></tr>\n",
       "<tr><td><i style='opacity: 0.6'>2</i></td><td>False</td><td style=\"text-align: right;\">11.8</td></tr>\n",
       "</tbody>\n",
       "</table>"
      ],
      "text/plain": [
       "  #  x         z\n",
       "  0  True    9.2\n",
       "  1  True   10.5\n",
       "  2  False  11.8"
      ]
     },
     "execution_count": 13,
     "metadata": {},
     "output_type": "execute_result"
    }
   ],
   "source": [
    "# Try the select_columns_ny_name\n",
    "df1.__dataframe__().select_columns_by_name(names)._df"
   ]
  },
  {
   "cell_type": "code",
   "execution_count": 14,
   "id": "7b715e42-8925-4571-ae2c-f2aba880b446",
   "metadata": {},
   "outputs": [
    {
     "data": {
      "text/html": [
       "<table>\n",
       "<thead>\n",
       "<tr><th>#                            </th><th>x    </th><th style=\"text-align: right;\">  y</th><th style=\"text-align: right;\">   z</th></tr>\n",
       "</thead>\n",
       "<tbody>\n",
       "<tr><td><i style='opacity: 0.6'>0</i></td><td>True </td><td style=\"text-align: right;\">  1</td><td style=\"text-align: right;\"> 9.2</td></tr>\n",
       "<tr><td><i style='opacity: 0.6'>1</i></td><td>True </td><td style=\"text-align: right;\">  2</td><td style=\"text-align: right;\">10.5</td></tr>\n",
       "<tr><td><i style='opacity: 0.6'>2</i></td><td>False</td><td style=\"text-align: right;\">  0</td><td style=\"text-align: right;\">11.8</td></tr>\n",
       "</tbody>\n",
       "</table>"
      ],
      "text/plain": [
       "  #  x        y     z\n",
       "  0  True     1   9.2\n",
       "  1  True     2  10.5\n",
       "  2  False    0  11.8"
      ]
     },
     "execution_count": 14,
     "metadata": {},
     "output_type": "execute_result"
    }
   ],
   "source": [
    "# Testing the method\n",
    "df1_new = _from_dataframe_to_vaex(df1.__dataframe__())\n",
    "df1_new"
   ]
  },
  {
   "cell_type": "markdown",
   "id": "bccd521c-9a11-42fe-9530-f4cd013c17b5",
   "metadata": {},
   "source": [
    "## _get_data_buffer\n",
    "Optimize in case of arrow dictionary - try without the separate Vaex dataframe creation as it is now done to not have issues with transfering arrow indices through the buffer."
   ]
  },
  {
   "cell_type": "code",
   "execution_count": 15,
   "id": "4abb0dd1-c17a-4478-a1e1-628c00effeaf",
   "metadata": {},
   "outputs": [],
   "source": [
    "indices = pa.array([0, 1, 2, 1, 2])\n",
    "dictionary = pa.array(['foo', 'bar', 'baz'])\n",
    "dict_array = pa.DictionaryArray.from_arrays(indices, dictionary)\n",
    "\n",
    "the_df = vaex.from_arrays(\n",
    "    numpy_int=np.array([1, 2, 3, 4, 0]), # Numpy int\n",
    "    numpy_float=np.array([1.5, 2.5, 3.5, 4.5, 0]), # Numpy float\n",
    "    numpy_bool=np.array([True, False, True, True, True]), # Numpy bool\n",
    "    \n",
    "    numpy_int_m=np.ma.array([1, 2, 3, 4, 0], mask=[0, 0, 0, 1, 1], dtype=int), # Numpy masked int\n",
    "    numpy_float_m=np.ma.array([1.5, 2.5, 3.5, 4.5, 0], mask=[False, True, True, True, False], dtype=float), # Numpy masked float\n",
    "    numpy_bool_m=np.ma.array([True, False, True, True, True], mask=[1, 0, 0, 1, 0], dtype=bool), # Numpy masked bool\n",
    "    \n",
    "    arrow_int = pa.array([0, 1, 2, 3, 0]), # Arrow integer\n",
    "    arrow_float = pa.array([0.5, 1.5, 2.5, 3.5, 0.5]), # Arrow integer\n",
    "    arrow_bool = pa.array([True, False, True, False, True]), # Arrow integer\n",
    "    \n",
    "    arrow_int_m = pa.array([0, 1, 2, None, 0], mask=np.array([0, 0, 0, 1, 1], dtype=bool)), # Arrow masked integer\n",
    "    arrow_float_m = pa.array([0.5, 1.5, 2.5, None, 0.5], mask=np.array([0, 0, 0, 1, 0], dtype=bool)), # Arrow masked integer\n",
    "    arrow_bool_m = pa.array([True, False, True, None, True], mask=np.array([0, 0, 1, 1, 0], dtype=bool)), # Arrow masked integer\n",
    "    \n",
    "    arrow_dict = pa.DictionaryArray.from_arrays(pa.array([0, 1, 2, 0, 1]), pa.array(['aap', 'noot', 'mies'])), # arrow dictionary\n",
    "    arrow_dict_m = pa.DictionaryArray.from_arrays(pa.array([0, 1, 2, 0, 1], mask=np.array([0, 1, 1, 0, 0], dtype=bool)), pa.array(['aap', 'noot', 'mies'])) # arrow dictionary masked\n",
    ")"
   ]
  },
  {
   "cell_type": "code",
   "execution_count": 16,
   "id": "a0b0c148-2273-431f-b4f0-078e94521aeb",
   "metadata": {},
   "outputs": [
    {
     "data": {
      "text/html": [
       "<table>\n",
       "<thead>\n",
       "<tr><th>#                            </th><th style=\"text-align: right;\">  numpy_int</th><th style=\"text-align: right;\">  numpy_float</th><th>numpy_bool  </th><th>numpy_int_m  </th><th>numpy_float_m  </th><th>numpy_bool_m  </th><th style=\"text-align: right;\">  arrow_int</th><th style=\"text-align: right;\">  arrow_float</th><th>arrow_bool  </th><th>arrow_int_m  </th><th>arrow_float_m  </th><th>arrow_bool_m  </th><th>arrow_dict  </th><th>arrow_dict_m  </th></tr>\n",
       "</thead>\n",
       "<tbody>\n",
       "<tr><td><i style='opacity: 0.6'>0</i></td><td style=\"text-align: right;\">          1</td><td style=\"text-align: right;\">          1.5</td><td>True        </td><td>1            </td><td>1.5            </td><td>--            </td><td style=\"text-align: right;\">          0</td><td style=\"text-align: right;\">          0.5</td><td>True        </td><td>0            </td><td>0.5            </td><td>True          </td><td>aap         </td><td>aap           </td></tr>\n",
       "<tr><td><i style='opacity: 0.6'>1</i></td><td style=\"text-align: right;\">          2</td><td style=\"text-align: right;\">          2.5</td><td>False       </td><td>2            </td><td>--             </td><td>False         </td><td style=\"text-align: right;\">          1</td><td style=\"text-align: right;\">          1.5</td><td>False       </td><td>1            </td><td>1.5            </td><td>False         </td><td>noot        </td><td>--            </td></tr>\n",
       "<tr><td><i style='opacity: 0.6'>2</i></td><td style=\"text-align: right;\">          3</td><td style=\"text-align: right;\">          3.5</td><td>True        </td><td>3            </td><td>--             </td><td>True          </td><td style=\"text-align: right;\">          2</td><td style=\"text-align: right;\">          2.5</td><td>True        </td><td>2            </td><td>2.5            </td><td>--            </td><td>mies        </td><td>--            </td></tr>\n",
       "<tr><td><i style='opacity: 0.6'>3</i></td><td style=\"text-align: right;\">          4</td><td style=\"text-align: right;\">          4.5</td><td>True        </td><td>--           </td><td>--             </td><td>--            </td><td style=\"text-align: right;\">          3</td><td style=\"text-align: right;\">          3.5</td><td>False       </td><td>--           </td><td>--             </td><td>--            </td><td>aap         </td><td>aap           </td></tr>\n",
       "<tr><td><i style='opacity: 0.6'>4</i></td><td style=\"text-align: right;\">          0</td><td style=\"text-align: right;\">          0  </td><td>True        </td><td>--           </td><td>0.0            </td><td>True          </td><td style=\"text-align: right;\">          0</td><td style=\"text-align: right;\">          0.5</td><td>True        </td><td>--           </td><td>0.5            </td><td>True          </td><td>noot        </td><td>noot          </td></tr>\n",
       "</tbody>\n",
       "</table>"
      ],
      "text/plain": [
       "  #    numpy_int    numpy_float  numpy_bool    numpy_int_m    numpy_float_m    numpy_bool_m      arrow_int    arrow_float  arrow_bool    arrow_int_m    arrow_float_m    arrow_bool_m    arrow_dict    arrow_dict_m\n",
       "  0            1            1.5  True          1              1.5              --                        0            0.5  True          0              0.5              True            aap           aap\n",
       "  1            2            2.5  False         2              --               False                     1            1.5  False         1              1.5              False           noot          --\n",
       "  2            3            3.5  True          3              --               True                      2            2.5  True          2              2.5              --              mies          --\n",
       "  3            4            4.5  True          --             --               --                        3            3.5  False         --             --               --              aap           aap\n",
       "  4            0            0    True          --             0.0              True                      0            0.5  True          --             0.5              True            noot          noot"
      ]
     },
     "execution_count": 16,
     "metadata": {},
     "output_type": "execute_result"
    }
   ],
   "source": [
    "the_df"
   ]
  },
  {
   "cell_type": "code",
   "execution_count": 17,
   "id": "751f31fa-7a7d-45b2-858e-529975392b01",
   "metadata": {},
   "outputs": [
    {
     "data": {
      "text/plain": [
       "Expression = index_values(arrow_dict)\n",
       "Length: 5 dtype: int64 (expression)\n",
       "-----------------------------------\n",
       "0  0\n",
       "1  1\n",
       "2  2\n",
       "3  0\n",
       "4  1"
      ]
     },
     "execution_count": 17,
     "metadata": {},
     "output_type": "execute_result"
    }
   ],
   "source": [
    "# Try with index_values()\n",
    "\n",
    "col2 = the_df.__dataframe__().get_column_by_name('arrow_dict')\n",
    "indices_list = col2._col.index_values()\n",
    "indices_list"
   ]
  },
  {
   "cell_type": "code",
   "execution_count": 18,
   "id": "05698877-6898-47a2-be49-a20715813e99",
   "metadata": {},
   "outputs": [
    {
     "data": {
      "text/plain": [
       "int64"
      ]
     },
     "execution_count": 18,
     "metadata": {},
     "output_type": "execute_result"
    },
    {
     "data": {
      "text/plain": [
       "array([0, 1, 2, 0, 1], dtype=int64)"
      ]
     },
     "execution_count": 18,
     "metadata": {},
     "output_type": "execute_result"
    }
   ],
   "source": [
    "# Perfect!\n",
    "# select the data to be saved to _VaexBuffer\n",
    "indices_list.dtype\n",
    "indices_list.to_numpy()"
   ]
  },
  {
   "cell_type": "code",
   "execution_count": 19,
   "id": "9026944f-d0af-4df7-b956-50f17f902b8e",
   "metadata": {},
   "outputs": [
    {
     "data": {
      "text/plain": [
       "(VaexBuffer({'bufsize': 40, 'ptr': 7763975476864, 'device': 'CPU'}),\n",
       " (<_DtypeKind.INT: 0>, 64, '<i8', '='))"
      ]
     },
     "execution_count": 19,
     "metadata": {},
     "output_type": "execute_result"
    }
   ],
   "source": [
    "# Try the transfer\n",
    "buffer = _VaexBuffer(indices_list.to_numpy())\n",
    "dtype = col2._dtype_from_vaexdtype(indices_list.dtype)\n",
    "buffer, dtype"
   ]
  },
  {
   "cell_type": "code",
   "execution_count": 20,
   "id": "37ad3b30-9182-4f6e-996e-e0a4258b220b",
   "metadata": {},
   "outputs": [
    {
     "data": {
      "text/plain": [
       "array([0, 1, 2, 0, 1], dtype=int64)"
      ]
     },
     "execution_count": 20,
     "metadata": {},
     "output_type": "execute_result"
    }
   ],
   "source": [
    "buffer_to_ndarray(buffer, dtype)"
   ]
  },
  {
   "cell_type": "code",
   "execution_count": 21,
   "id": "e4866739-f544-4673-83dd-d5d8d94621ca",
   "metadata": {},
   "outputs": [],
   "source": [
    "# Works!"
   ]
  },
  {
   "cell_type": "code",
   "execution_count": 22,
   "id": "02c5957f-fd6f-453f-9c3a-0131ce310d66",
   "metadata": {},
   "outputs": [
    {
     "data": {
      "text/html": [
       "<table>\n",
       "<thead>\n",
       "<tr><th>#                            </th><th style=\"text-align: right;\">  numpy_int</th><th style=\"text-align: right;\">  numpy_float</th><th>numpy_bool  </th><th>numpy_int_m  </th><th>numpy_float_m  </th><th>numpy_bool_m  </th><th style=\"text-align: right;\">  arrow_int</th><th style=\"text-align: right;\">  arrow_float</th><th>arrow_bool  </th><th>arrow_int_m  </th><th>arrow_float_m  </th><th>arrow_bool_m  </th><th>arrow_dict  </th><th>arrow_dict_m  </th></tr>\n",
       "</thead>\n",
       "<tbody>\n",
       "<tr><td><i style='opacity: 0.6'>0</i></td><td style=\"text-align: right;\">          1</td><td style=\"text-align: right;\">          1.5</td><td>True        </td><td>1            </td><td>1.5            </td><td>--            </td><td style=\"text-align: right;\">          0</td><td style=\"text-align: right;\">          0.5</td><td>True        </td><td>0            </td><td>0.5            </td><td>True          </td><td>aap         </td><td>aap           </td></tr>\n",
       "<tr><td><i style='opacity: 0.6'>1</i></td><td style=\"text-align: right;\">          2</td><td style=\"text-align: right;\">          2.5</td><td>False       </td><td>2            </td><td>--             </td><td>False         </td><td style=\"text-align: right;\">          1</td><td style=\"text-align: right;\">          1.5</td><td>False       </td><td>1            </td><td>1.5            </td><td>False         </td><td>noot        </td><td>--            </td></tr>\n",
       "<tr><td><i style='opacity: 0.6'>2</i></td><td style=\"text-align: right;\">          3</td><td style=\"text-align: right;\">          3.5</td><td>True        </td><td>3            </td><td>--             </td><td>True          </td><td style=\"text-align: right;\">          2</td><td style=\"text-align: right;\">          2.5</td><td>True        </td><td>2            </td><td>2.5            </td><td>--            </td><td>mies        </td><td>--            </td></tr>\n",
       "<tr><td><i style='opacity: 0.6'>3</i></td><td style=\"text-align: right;\">          4</td><td style=\"text-align: right;\">          4.5</td><td>True        </td><td>--           </td><td>--             </td><td>--            </td><td style=\"text-align: right;\">          3</td><td style=\"text-align: right;\">          3.5</td><td>False       </td><td>--           </td><td>--             </td><td>--            </td><td>aap         </td><td>aap           </td></tr>\n",
       "<tr><td><i style='opacity: 0.6'>4</i></td><td style=\"text-align: right;\">          0</td><td style=\"text-align: right;\">          0  </td><td>True        </td><td>--           </td><td>0.0            </td><td>True          </td><td style=\"text-align: right;\">          0</td><td style=\"text-align: right;\">          0.5</td><td>True        </td><td>--           </td><td>0.5            </td><td>True          </td><td>noot        </td><td>noot          </td></tr>\n",
       "</tbody>\n",
       "</table>"
      ],
      "text/plain": [
       "  #    numpy_int    numpy_float  numpy_bool    numpy_int_m    numpy_float_m    numpy_bool_m      arrow_int    arrow_float  arrow_bool    arrow_int_m    arrow_float_m    arrow_bool_m    arrow_dict    arrow_dict_m\n",
       "  0            1            1.5  True          1              1.5              --                        0            0.5  True          0              0.5              True            aap           aap\n",
       "  1            2            2.5  False         2              --               False                     1            1.5  False         1              1.5              False           noot          --\n",
       "  2            3            3.5  True          3              --               True                      2            2.5  True          2              2.5              --              mies          --\n",
       "  3            4            4.5  True          --             --               --                        3            3.5  False         --             --               --              aap           aap\n",
       "  4            0            0    True          --             0.0              True                      0            0.5  True          --             0.5              True            noot          noot"
      ]
     },
     "execution_count": 22,
     "metadata": {},
     "output_type": "execute_result"
    }
   ],
   "source": [
    "the_df_new = _from_dataframe_to_vaex(the_df.__dataframe__())\n",
    "the_df_new"
   ]
  },
  {
   "cell_type": "markdown",
   "id": "f9cb07d3-b73f-4b75-af60-401771736104",
   "metadata": {},
   "source": [
    "### Test data 3"
   ]
  },
  {
   "cell_type": "code",
   "execution_count": 23,
   "id": "35439f9d-f6a3-4f9b-b45f-8b27dfa475cb",
   "metadata": {},
   "outputs": [
    {
     "data": {
      "text/html": [
       "<table>\n",
       "<thead>\n",
       "<tr><th>#                            </th><th style=\"text-align: right;\">  year</th><th style=\"text-align: right;\">  weekday</th><th style=\"text-align: right;\">  x</th><th style=\"text-align: right;\">  y</th><th style=\"text-align: right;\">  colors</th></tr>\n",
       "</thead>\n",
       "<tbody>\n",
       "<tr><td><i style='opacity: 0.6'>0</i></td><td style=\"text-align: right;\">  2012</td><td style=\"text-align: right;\">        0</td><td style=\"text-align: right;\">  1</td><td style=\"text-align: right;\">1.5</td><td style=\"text-align: right;\">       0</td></tr>\n",
       "<tr><td><i style='opacity: 0.6'>1</i></td><td style=\"text-align: right;\">  2013</td><td style=\"text-align: right;\">        1</td><td style=\"text-align: right;\">  2</td><td style=\"text-align: right;\">2.5</td><td style=\"text-align: right;\">       2</td></tr>\n",
       "<tr><td><i style='opacity: 0.6'>2</i></td><td style=\"text-align: right;\">  2015</td><td style=\"text-align: right;\">        4</td><td style=\"text-align: right;\">  3</td><td style=\"text-align: right;\">3.5</td><td style=\"text-align: right;\">       1</td></tr>\n",
       "<tr><td><i style='opacity: 0.6'>3</i></td><td style=\"text-align: right;\">  2019</td><td style=\"text-align: right;\">        6</td><td style=\"text-align: right;\">  4</td><td style=\"text-align: right;\">4.5</td><td style=\"text-align: right;\">       2</td></tr>\n",
       "</tbody>\n",
       "</table>"
      ],
      "text/plain": [
       "  #    year    weekday    x    y    colors\n",
       "  0    2012          0    1  1.5         0\n",
       "  1    2013          1    2  2.5         2\n",
       "  2    2015          4    3  3.5         1\n",
       "  3    2019          6    4  4.5         2"
      ]
     },
     "execution_count": 23,
     "metadata": {},
     "output_type": "execute_result"
    }
   ],
   "source": [
    "# Numeric data with ordinal_encode and categorize test\n",
    "colors = ['red', 'blue', 'green', 'blue']\n",
    "ds = vaex.from_arrays(\n",
    "    colors=colors, \n",
    "    year=[2012, 2013, 2015, 2019], \n",
    "    weekday=[0, 1, 4, 6], \n",
    "    x = [1, 2, 3, 4], \n",
    "    y = [1.5, 2.5, 3.5, 4.5])\n",
    "df3 = ds.ordinal_encode('colors', ['red', 'green', 'blue'])\n",
    "df3 = df3.categorize('year', min_value=2012, max_value=2019)\n",
    "df3 = df3.categorize('weekday', labels=['Mon', 'Tue', 'Wed', 'Thu', 'Fri', 'Sat', 'Sun'])\n",
    "df3"
   ]
  },
  {
   "cell_type": "code",
   "execution_count": 24,
   "id": "020fd938-55e5-455b-9b35-7ce399dc2eab",
   "metadata": {},
   "outputs": [
    {
     "data": {
      "text/html": [
       "<table>\n",
       "<thead>\n",
       "<tr><th>#                            </th><th style=\"text-align: right;\">  year</th><th>weekday  </th><th style=\"text-align: right;\">  x</th><th style=\"text-align: right;\">  y</th><th>colors  </th></tr>\n",
       "</thead>\n",
       "<tbody>\n",
       "<tr><td><i style='opacity: 0.6'>0</i></td><td style=\"text-align: right;\">  2012</td><td>Mon      </td><td style=\"text-align: right;\">  1</td><td style=\"text-align: right;\">1.5</td><td>red     </td></tr>\n",
       "<tr><td><i style='opacity: 0.6'>1</i></td><td style=\"text-align: right;\">  2013</td><td>Tue      </td><td style=\"text-align: right;\">  2</td><td style=\"text-align: right;\">2.5</td><td>blue    </td></tr>\n",
       "<tr><td><i style='opacity: 0.6'>2</i></td><td style=\"text-align: right;\">  2015</td><td>Fri      </td><td style=\"text-align: right;\">  3</td><td style=\"text-align: right;\">3.5</td><td>green   </td></tr>\n",
       "<tr><td><i style='opacity: 0.6'>3</i></td><td style=\"text-align: right;\">  2019</td><td>Sun      </td><td style=\"text-align: right;\">  4</td><td style=\"text-align: right;\">4.5</td><td>blue    </td></tr>\n",
       "</tbody>\n",
       "</table>"
      ],
      "text/plain": [
       "  #    year  weekday      x    y  colors\n",
       "  0    2012  Mon          1  1.5  red\n",
       "  1    2013  Tue          2  2.5  blue\n",
       "  2    2015  Fri          3  3.5  green\n",
       "  3    2019  Sun          4  4.5  blue"
      ]
     },
     "execution_count": 24,
     "metadata": {},
     "output_type": "execute_result"
    }
   ],
   "source": [
    "_from_dataframe_to_vaex(df3.__dataframe__())"
   ]
  },
  {
   "cell_type": "markdown",
   "id": "316090e6-b101-416a-9c05-b9636cebf369",
   "metadata": {},
   "source": [
    "### Test data 4"
   ]
  },
  {
   "cell_type": "code",
   "execution_count": 25,
   "id": "d7b9f9b4-3d01-405c-952b-f7fab9bba760",
   "metadata": {},
   "outputs": [
    {
     "data": {
      "text/plain": [
       "5"
      ]
     },
     "execution_count": 25,
     "metadata": {},
     "output_type": "execute_result"
    }
   ],
   "source": [
    "data = [\n",
    "     pa.array([1, 2, 3, 4]),\n",
    "     pa.array([1.5, 2.5, None, 4.5]),\n",
    "     pa.array([True, None, False, True])\n",
    "]\n",
    "batch = pa.RecordBatch.from_arrays(data, ['f0', 'f1', 'f2'])\n",
    "batches = [batch] * 5\n",
    "table = pa.Table.from_batches(batches)\n",
    "c = table[0]\n",
    "\n",
    "c.num_chunks"
   ]
  },
  {
   "cell_type": "code",
   "execution_count": 26,
   "id": "495f3ab8-ac23-42fa-86e6-9fd52135af9b",
   "metadata": {},
   "outputs": [
    {
     "data": {
      "text/html": [
       "<table>\n",
       "<thead>\n",
       "<tr><th>#                             </th><th>f0  </th><th>f1  </th><th>f2   </th></tr>\n",
       "</thead>\n",
       "<tbody>\n",
       "<tr><td><i style='opacity: 0.6'>0</i> </td><td>1   </td><td>1.5 </td><td>True </td></tr>\n",
       "<tr><td><i style='opacity: 0.6'>1</i> </td><td>2   </td><td>2.5 </td><td>--   </td></tr>\n",
       "<tr><td><i style='opacity: 0.6'>2</i> </td><td>3   </td><td>--  </td><td>False</td></tr>\n",
       "<tr><td><i style='opacity: 0.6'>3</i> </td><td>4   </td><td>4.5 </td><td>True </td></tr>\n",
       "<tr><td><i style='opacity: 0.6'>4</i> </td><td>1   </td><td>1.5 </td><td>True </td></tr>\n",
       "<tr><td>...                           </td><td>... </td><td>... </td><td>...  </td></tr>\n",
       "<tr><td><i style='opacity: 0.6'>15</i></td><td>4   </td><td>4.5 </td><td>True </td></tr>\n",
       "<tr><td><i style='opacity: 0.6'>16</i></td><td>1   </td><td>1.5 </td><td>True </td></tr>\n",
       "<tr><td><i style='opacity: 0.6'>17</i></td><td>2   </td><td>2.5 </td><td>--   </td></tr>\n",
       "<tr><td><i style='opacity: 0.6'>18</i></td><td>3   </td><td>--  </td><td>False</td></tr>\n",
       "<tr><td><i style='opacity: 0.6'>19</i></td><td>4   </td><td>4.5 </td><td>True </td></tr>\n",
       "</tbody>\n",
       "</table>"
      ],
      "text/plain": [
       "#    f0    f1    f2\n",
       "0    1     1.5   True\n",
       "1    2     2.5   --\n",
       "2    3     --    False\n",
       "3    4     4.5   True\n",
       "4    1     1.5   True\n",
       "...  ...   ...   ...\n",
       "15   4     4.5   True\n",
       "16   1     1.5   True\n",
       "17   2     2.5   --\n",
       "18   3     --    False\n",
       "19   4     4.5   True"
      ]
     },
     "execution_count": 26,
     "metadata": {},
     "output_type": "execute_result"
    }
   ],
   "source": [
    "vc = vaex.from_arrow_table(table)\n",
    "vc"
   ]
  },
  {
   "cell_type": "code",
   "execution_count": 27,
   "id": "1d50abc9-9a8a-4152-b7c1-1b0a35b1d063",
   "metadata": {},
   "outputs": [
    {
     "data": {
      "text/html": [
       "<table>\n",
       "<thead>\n",
       "<tr><th>#                             </th><th>f0  </th><th>f1  </th><th>f2   </th></tr>\n",
       "</thead>\n",
       "<tbody>\n",
       "<tr><td><i style='opacity: 0.6'>0</i> </td><td>1   </td><td>1.5 </td><td>True </td></tr>\n",
       "<tr><td><i style='opacity: 0.6'>1</i> </td><td>2   </td><td>2.5 </td><td>--   </td></tr>\n",
       "<tr><td><i style='opacity: 0.6'>2</i> </td><td>3   </td><td>--  </td><td>False</td></tr>\n",
       "<tr><td><i style='opacity: 0.6'>3</i> </td><td>4   </td><td>4.5 </td><td>True </td></tr>\n",
       "<tr><td><i style='opacity: 0.6'>4</i> </td><td>1   </td><td>1.5 </td><td>True </td></tr>\n",
       "<tr><td>...                           </td><td>... </td><td>... </td><td>...  </td></tr>\n",
       "<tr><td><i style='opacity: 0.6'>15</i></td><td>4   </td><td>4.5 </td><td>True </td></tr>\n",
       "<tr><td><i style='opacity: 0.6'>16</i></td><td>1   </td><td>1.5 </td><td>True </td></tr>\n",
       "<tr><td><i style='opacity: 0.6'>17</i></td><td>2   </td><td>2.5 </td><td>--   </td></tr>\n",
       "<tr><td><i style='opacity: 0.6'>18</i></td><td>3   </td><td>--  </td><td>False</td></tr>\n",
       "<tr><td><i style='opacity: 0.6'>19</i></td><td>4   </td><td>4.5 </td><td>True </td></tr>\n",
       "</tbody>\n",
       "</table>"
      ],
      "text/plain": [
       "#    f0    f1    f2\n",
       "0    1     1.5   True\n",
       "1    2     2.5   --\n",
       "2    3     --    False\n",
       "3    4     4.5   True\n",
       "4    1     1.5   True\n",
       "...  ...   ...   ...\n",
       "15   4     4.5   True\n",
       "16   1     1.5   True\n",
       "17   2     2.5   --\n",
       "18   3     --    False\n",
       "19   4     4.5   True"
      ]
     },
     "execution_count": 27,
     "metadata": {},
     "output_type": "execute_result"
    }
   ],
   "source": [
    "vc_new = _from_dataframe_to_vaex(vc.__dataframe__())\n",
    "vc_new"
   ]
  },
  {
   "cell_type": "code",
   "execution_count": null,
   "id": "5fb797d4-bed7-405c-9510-1db80a2cc02f",
   "metadata": {},
   "outputs": [],
   "source": []
  }
 ],
 "metadata": {
  "kernelspec": {
   "display_name": "Python 3",
   "language": "python",
   "name": "python3"
  },
  "language_info": {
   "codemirror_mode": {
    "name": "ipython",
    "version": 3
   },
   "file_extension": ".py",
   "mimetype": "text/x-python",
   "name": "python",
   "nbconvert_exporter": "python",
   "pygments_lexer": "ipython3",
   "version": "3.9.5"
  }
 },
 "nbformat": 4,
 "nbformat_minor": 5
}
