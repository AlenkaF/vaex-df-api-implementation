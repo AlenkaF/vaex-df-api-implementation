{
 "cells": [
  {
   "cell_type": "code",
   "execution_count": 1,
   "id": "2633c3e1-db6e-4c07-8a3d-8e4547594d64",
   "metadata": {},
   "outputs": [],
   "source": [
    "from IPython.core.interactiveshell import InteractiveShell\n",
    "InteractiveShell.ast_node_interactivity = \"all\""
   ]
  },
  {
   "cell_type": "code",
   "execution_count": 2,
   "id": "a03536ab-0be3-4c91-98f1-5c51a5393d5b",
   "metadata": {},
   "outputs": [],
   "source": [
    "%run vaex_implementation_v13.py"
   ]
  },
  {
   "cell_type": "markdown",
   "id": "c23aec05-06e8-4725-a399-0785c18d6445",
   "metadata": {},
   "source": [
    "## Testing _VaexBuffer"
   ]
  },
  {
   "cell_type": "code",
   "execution_count": 3,
   "id": "cb17d46b-0ad0-49be-9dee-edd123856b1d",
   "metadata": {},
   "outputs": [],
   "source": [
    "x = np.ndarray(shape=(5,), dtype=float, order='F')"
   ]
  },
  {
   "cell_type": "code",
   "execution_count": 4,
   "id": "f1603b1d-d885-4e1d-b2dc-3ad18f72d602",
   "metadata": {},
   "outputs": [
    {
     "data": {
      "text/plain": [
       "array([0.  , 0.25, 0.5 , 0.75, 1.  ])"
      ]
     },
     "execution_count": 4,
     "metadata": {},
     "output_type": "execute_result"
    },
    {
     "data": {
      "text/plain": [
       "(8,)"
      ]
     },
     "execution_count": 4,
     "metadata": {},
     "output_type": "execute_result"
    },
    {
     "data": {
      "text/plain": [
       "8"
      ]
     },
     "execution_count": 4,
     "metadata": {},
     "output_type": "execute_result"
    },
    {
     "data": {
      "text/plain": [
       "array([0.  , 0.25, 0.5 , 0.75, 1.  ])"
      ]
     },
     "execution_count": 4,
     "metadata": {},
     "output_type": "execute_result"
    }
   ],
   "source": [
    "x\n",
    "x.strides\n",
    "x.dtype.itemsize\n",
    "x.copy()"
   ]
  },
  {
   "cell_type": "code",
   "execution_count": 5,
   "id": "23553c3f-9624-4552-bc90-950e12c8d9dd",
   "metadata": {},
   "outputs": [
    {
     "data": {
      "text/plain": [
       "VaexBuffer({'bufsize': 40, 'ptr': 2319359411344, 'device': 'CPU'})"
      ]
     },
     "execution_count": 5,
     "metadata": {},
     "output_type": "execute_result"
    }
   ],
   "source": [
    "x_buffer = _VaexBuffer(x)\n",
    "x_buffer"
   ]
  },
  {
   "cell_type": "code",
   "execution_count": 6,
   "id": "9a1a9cd0-ef6f-442f-be5a-beec2588bd59",
   "metadata": {},
   "outputs": [],
   "source": [
    "import pytest\n",
    "\n",
    "assert x_buffer.bufsize == 5*x.itemsize\n",
    "assert x_buffer.ptr == x.__array_interface__['data'][0]\n",
    "\n",
    "assert x_buffer.__repr__() == f\"VaexBuffer({{'bufsize': {5*x.itemsize}, 'ptr': {x.__array_interface__['data'][0]}, 'device': 'CPU'}})\"\n",
    "assert x_buffer.__dlpack_device__() == (1, None)\n",
    "\n",
    "with pytest.raises(NotImplementedError):\n",
    "    assert x_buffer.__dlpack__()"
   ]
  },
  {
   "cell_type": "markdown",
   "id": "343f1593-372b-4c92-ad87-5ba758a76966",
   "metadata": {},
   "source": [
    "# Testing _VaexColumn methods"
   ]
  },
  {
   "cell_type": "code",
   "execution_count": 7,
   "id": "f18be4a0-5f0f-43a5-89f7-5f48b836b033",
   "metadata": {},
   "outputs": [
    {
     "data": {
      "text/html": [
       "<table>\n",
       "<thead>\n",
       "<tr><th>#                            </th><th style=\"text-align: right;\">  numpy_int</th><th style=\"text-align: right;\">  numpy_float</th><th>numpy_bool  </th><th>numpy_int_m  </th><th>numpy_float_m  </th><th>numpy_bool_m  </th><th style=\"text-align: right;\">  arrow_int</th><th style=\"text-align: right;\">  arrow_float</th><th>arrow_bool  </th><th>arrow_int_m  </th><th>arrow_float_m  </th><th>arrow_bool_m  </th><th>arrow_dict  </th><th>arrow_dict_m  </th></tr>\n",
       "</thead>\n",
       "<tbody>\n",
       "<tr><td><i style='opacity: 0.6'>0</i></td><td style=\"text-align: right;\">          1</td><td style=\"text-align: right;\">          1.5</td><td>True        </td><td>1            </td><td>1.5            </td><td>--            </td><td style=\"text-align: right;\">          0</td><td style=\"text-align: right;\">          0.5</td><td>True        </td><td>0            </td><td>0.5            </td><td>True          </td><td>aap         </td><td>aap           </td></tr>\n",
       "<tr><td><i style='opacity: 0.6'>1</i></td><td style=\"text-align: right;\">          2</td><td style=\"text-align: right;\">          2.5</td><td>False       </td><td>2            </td><td>--             </td><td>False         </td><td style=\"text-align: right;\">          1</td><td style=\"text-align: right;\">          1.5</td><td>False       </td><td>1            </td><td>1.5            </td><td>False         </td><td>noot        </td><td>--            </td></tr>\n",
       "<tr><td><i style='opacity: 0.6'>2</i></td><td style=\"text-align: right;\">          3</td><td style=\"text-align: right;\">          3.5</td><td>True        </td><td>3            </td><td>--             </td><td>True          </td><td style=\"text-align: right;\">          2</td><td style=\"text-align: right;\">          2.5</td><td>True        </td><td>2            </td><td>2.5            </td><td>--            </td><td>mies        </td><td>--            </td></tr>\n",
       "<tr><td><i style='opacity: 0.6'>3</i></td><td style=\"text-align: right;\">          4</td><td style=\"text-align: right;\">          4.5</td><td>True        </td><td>--           </td><td>--             </td><td>--            </td><td style=\"text-align: right;\">          3</td><td style=\"text-align: right;\">          3.5</td><td>False       </td><td>--           </td><td>--             </td><td>--            </td><td>aap         </td><td>aap           </td></tr>\n",
       "<tr><td><i style='opacity: 0.6'>4</i></td><td style=\"text-align: right;\">          0</td><td style=\"text-align: right;\">          0  </td><td>True        </td><td>--           </td><td>0.0            </td><td>True          </td><td style=\"text-align: right;\">          0</td><td style=\"text-align: right;\">          0.5</td><td>True        </td><td>--           </td><td>0.5            </td><td>True          </td><td>noot        </td><td>noot          </td></tr>\n",
       "</tbody>\n",
       "</table>"
      ],
      "text/plain": [
       "  #    numpy_int    numpy_float  numpy_bool    numpy_int_m    numpy_float_m    numpy_bool_m      arrow_int    arrow_float  arrow_bool    arrow_int_m    arrow_float_m    arrow_bool_m    arrow_dict    arrow_dict_m\n",
       "  0            1            1.5  True          1              1.5              --                        0            0.5  True          0              0.5              True            aap           aap\n",
       "  1            2            2.5  False         2              --               False                     1            1.5  False         1              1.5              False           noot          --\n",
       "  2            3            3.5  True          3              --               True                      2            2.5  True          2              2.5              --              mies          --\n",
       "  3            4            4.5  True          --             --               --                        3            3.5  False         --             --               --              aap           aap\n",
       "  4            0            0    True          --             0.0              True                      0            0.5  True          --             0.5              True            noot          noot"
      ]
     },
     "execution_count": 7,
     "metadata": {},
     "output_type": "execute_result"
    }
   ],
   "source": [
    "# Test data \n",
    "indices = pa.array([0, 1, 2, 1, 2])\n",
    "dictionary = pa.array(['foo', 'bar', 'baz'])\n",
    "dict_array = pa.DictionaryArray.from_arrays(indices, dictionary)\n",
    "\n",
    "the_df = vaex.from_arrays(\n",
    "    numpy_int=np.array([1, 2, 3, 4, 0]), # Numpy int\n",
    "    numpy_float=np.array([1.5, 2.5, 3.5, 4.5, 0]), # Numpy float\n",
    "    numpy_bool=np.array([True, False, True, True, True]), # Numpy bool\n",
    "    \n",
    "    numpy_int_m=np.ma.array([1, 2, 3, 4, 0], mask=[0, 0, 0, 1, 1], dtype=int), # Numpy masked int\n",
    "    numpy_float_m=np.ma.array([1.5, 2.5, 3.5, 4.5, 0], mask=[False, True, True, True, False], dtype=float), # Numpy masked float\n",
    "    numpy_bool_m=np.ma.array([True, False, True, True, True], mask=[1, 0, 0, 1, 0], dtype=bool), # Numpy masked bool\n",
    "    \n",
    "    arrow_int = pa.array([0, 1, 2, 3, 0]), # Arrow integer\n",
    "    arrow_float = pa.array([0.5, 1.5, 2.5, 3.5, 0.5]), # Arrow integer\n",
    "    arrow_bool = pa.array([True, False, True, False, True]), # Arrow integer\n",
    "    \n",
    "    arrow_int_m = pa.array([0, 1, 2, None, 0], mask=np.array([0, 0, 0, 1, 1], dtype=bool)), # Arrow masked integer\n",
    "    arrow_float_m = pa.array([0.5, 1.5, 2.5, None, 0.5], mask=np.array([0, 0, 0, 1, 0], dtype=bool)), # Arrow masked integer\n",
    "    arrow_bool_m = pa.array([True, False, True, None, True], mask=np.array([0, 0, 1, 1, 0], dtype=bool)), # Arrow masked integer\n",
    "    \n",
    "    arrow_dict = pa.DictionaryArray.from_arrays(pa.array([0, 1, 2, 0, 1]), pa.array(['aap', 'noot', 'mies'])), # arrow dictionary\n",
    "    arrow_dict_m = pa.DictionaryArray.from_arrays(pa.array([0, 1, 2, 0, 1], mask=np.array([0, 1, 1, 0, 0], dtype=bool)), pa.array(['aap', 'noot', 'mies'])) # arrow dictionary masked\n",
    ")\n",
    "add_df = vaex.from_arrays(\n",
    "    vaex_cat = np.ma.array(['red', 'green', 'blue', 'green', 'MISSING'], mask=[False, False, True, False, False]) # Vaex dictionary\n",
    ")\n",
    "add_df = add_df.ordinal_encode('vaex_cat', ['red', 'green', 'blue'])\n",
    "the_df\n"
   ]
  },
  {
   "cell_type": "code",
   "execution_count": 50,
   "id": "cebcf046-984e-4049-8f8d-418c3d76aea7",
   "metadata": {},
   "outputs": [],
   "source": [
    "# test arrow dict\n",
    "\n",
    "column = the_df.arrow_float_m\n",
    "columnvaex_c = _VaexColumn(column)\n",
    "\n",
    "assert vaex_c._col.tolist() == column.tolist()\n",
    "assert vaex_c._allow_copy == True\n",
    "\n",
    "assert vaex_c.size == 5\n",
    "assert vaex_c.offset == 0\n",
    "\n",
    "assert vaex_c.dtype[0]==2 # 2: float64\n",
    "assert vaex_c.dtype[1] == 64 # 64: float64\n",
    "assert vaex_c.dtype == (2, 64, '<f8', '=')\n",
    "\n",
    "with pytest.raises(TypeError):\n",
    "    assert vaex_c.describe_categorical\n",
    "    \n",
    "assert vaex_c.describe_null == (3, 1)"
   ]
  },
  {
   "cell_type": "code",
   "execution_count": 51,
   "id": "7f6112fc-3f4f-4f57-9dcd-a7513ced1f74",
   "metadata": {},
   "outputs": [],
   "source": [
    "# test arrow dict\n",
    "\n",
    "column2 = the_df.arrow_dict\n",
    "vaex_c2 = _VaexColumn(column2)\n",
    "\n",
    "assert vaex_c2._col.tolist() == column2.tolist()\n",
    "assert vaex_c2.size == 5\n",
    "\n",
    "assert vaex_c2.dtype[0]==23 # 23: categorical\n",
    "assert vaex_c2.dtype[1] == 64\n",
    "assert vaex_c2.dtype == (23, 64, 'u', '=')\n",
    "\n",
    "assert vaex_c2.describe_categorical == (False, True, {0: 'aap', 1: 'noot', 2: 'mies'})\n",
    "assert vaex_c2.describe_null == (3, 1)"
   ]
  },
  {
   "cell_type": "code",
   "execution_count": 52,
   "id": "e4c58411-0fcc-4dd7-b423-5bb8ce6eb556",
   "metadata": {},
   "outputs": [],
   "source": [
    "# test object / not supported\n",
    "# for now not implemented as it falls under 'O': _k.STRING\n",
    "\n",
    "df = vaex.from_arrays(a=np.array([None, True, False]))\n",
    "column3 = df.a\n",
    "vaex_c3 = _VaexColumn(column3)\n",
    "\n",
    "assert vaex_c3._col.tolist() == column3.tolist()\n",
    "assert vaex_c3.size == 3\n",
    "\n",
    "with pytest.raises(NotImplementedError):\n",
    "    assert vaex_c3.dtype\n",
    "\n",
    "with pytest.raises(NotImplementedError):\n",
    "    assert vaex_c3.describe_null"
   ]
  },
  {
   "cell_type": "code",
   "execution_count": 53,
   "id": "2a17a6b2-e7db-43be-ae64-b07400d2dd12",
   "metadata": {},
   "outputs": [],
   "source": [
    "# test string / not handled yet\n",
    "\n",
    "df2 = vaex.from_dict({\"A\": [\"a\", \"b\", \"cdef\", \"\", \"g\"]})\n",
    "column4 = df2.A\n",
    "vaex_c4 = _VaexColumn(column4)\n",
    "\n",
    "assert vaex_c4._col.tolist() == column4.tolist()\n",
    "assert vaex_c4.size == 5\n",
    "\n",
    "with pytest.raises(NotImplementedError):\n",
    "    assert vaex_c4.dtype\n",
    "with pytest.raises(NotImplementedError):\n",
    "    assert vaex_c4.describe_null"
   ]
  },
  {
   "cell_type": "markdown",
   "id": "0d377d40-97e0-4130-9aeb-37818e06d5f0",
   "metadata": {},
   "source": [
    "# Testing _VaexDataFrame methods"
   ]
  },
  {
   "cell_type": "code",
   "execution_count": 101,
   "id": "287bc2a8-c3d3-4834-8bed-fe00996462ae",
   "metadata": {},
   "outputs": [
    {
     "data": {
      "text/html": [
       "<table>\n",
       "<thead>\n",
       "<tr><th>#                            </th><th>numpy_bool  </th><th>arrow_int_m  </th><th>arrow_dict  </th></tr>\n",
       "</thead>\n",
       "<tbody>\n",
       "<tr><td><i style='opacity: 0.6'>0</i></td><td>True        </td><td>0            </td><td>aap         </td></tr>\n",
       "<tr><td><i style='opacity: 0.6'>1</i></td><td>False       </td><td>1            </td><td>noot        </td></tr>\n",
       "<tr><td><i style='opacity: 0.6'>2</i></td><td>True        </td><td>2            </td><td>mies        </td></tr>\n",
       "<tr><td><i style='opacity: 0.6'>3</i></td><td>True        </td><td>--           </td><td>aap         </td></tr>\n",
       "<tr><td><i style='opacity: 0.6'>4</i></td><td>True        </td><td>--           </td><td>noot        </td></tr>\n",
       "</tbody>\n",
       "</table>"
      ],
      "text/plain": [
       "  #  numpy_bool    arrow_int_m    arrow_dict\n",
       "  0  True          0              aap\n",
       "  1  False         1              noot\n",
       "  2  True          2              mies\n",
       "  3  True          --             aap\n",
       "  4  True          --             noot"
      ]
     },
     "execution_count": 101,
     "metadata": {},
     "output_type": "execute_result"
    }
   ],
   "source": [
    "assert the_df.__dataframe__()._allow_copy == True\n",
    "assert the_df.__dataframe__().num_columns() == 14\n",
    "assert the_df.__dataframe__().num_rows() == 5\n",
    "assert the_df.__dataframe__().num_chunks() == 1\n",
    "\n",
    "assert df2.__dataframe__().column_names() == ['A']\n",
    "assert the_df.__dataframe__().get_column(1)._col.tolist() == the_df.numpy_float.tolist()\n",
    "assert the_df.__dataframe__().get_column_by_name('arrow_dict')._col.tolist() == the_df.arrow_dict.tolist()\n",
    "\n",
    "for col in the_df.__dataframe__().get_columns():\n",
    "    assert col._col.tolist() == the_df[col._col.expression].tolist()\n",
    "    \n",
    "the_df.__dataframe__().select_columns_by_name(('numpy_bool', 'arrow_int_m', 'arrow_dict'))._df"
   ]
  },
  {
   "cell_type": "code",
   "execution_count": null,
   "id": "9751b0ee-d015-4a46-b923-ce888fcf076b",
   "metadata": {},
   "outputs": [],
   "source": []
  }
 ],
 "metadata": {
  "kernelspec": {
   "display_name": "Python 3",
   "language": "python",
   "name": "python3"
  },
  "language_info": {
   "codemirror_mode": {
    "name": "ipython",
    "version": 3
   },
   "file_extension": ".py",
   "mimetype": "text/x-python",
   "name": "python",
   "nbconvert_exporter": "python",
   "pygments_lexer": "ipython3",
   "version": "3.9.5"
  }
 },
 "nbformat": 4,
 "nbformat_minor": 5
}
