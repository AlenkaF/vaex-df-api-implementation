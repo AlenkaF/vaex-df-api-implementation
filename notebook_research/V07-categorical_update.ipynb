{
 "cells": [
  {
   "cell_type": "markdown",
   "id": "696b4d76-0266-4493-93aa-168f920c7dcc",
   "metadata": {},
   "source": [
    "# Version 7\n",
    "**2021/08/19** *Cleaning-up the code*\n",
    "\n",
    "- for categorical we now use Arrow Dictionary in the `convert_categorical_column()`. Before we joined ndarrays in `_from_dataframe_to_vaex()` and made them categorical with `categorize`. Now the output of `convert_categorical_column()` is Arrow Dictionary and there is no need to seperately categorize the column.\n",
    "- added a check for Arrow Dictionary  in ` get_data_buffer()` so protocol now works for this dtype as well 🎉"
   ]
  },
  {
   "cell_type": "code",
   "execution_count": 1,
   "id": "a99f34ce-b4db-4d5f-b164-2a3fba4ef63b",
   "metadata": {},
   "outputs": [],
   "source": [
    "%run vaex_implementation_v7.py\n",
    "\n",
    "from IPython.core.interactiveshell import InteractiveShell\n",
    "InteractiveShell.ast_node_interactivity = \"all\"\n",
    "\n",
    "import vaex\n",
    "import pandas as pd\n",
    "import pyarrow as pa"
   ]
  },
  {
   "cell_type": "markdown",
   "id": "2e0c7360-9ea0-4bdf-9a95-337114aa9563",
   "metadata": {},
   "source": [
    "# NumPy\n",
    "Numeric and categorical (ordinal_encode and categorize)"
   ]
  },
  {
   "cell_type": "code",
   "execution_count": 2,
   "id": "1f35bb3b-119b-4854-a650-9a5178df0df5",
   "metadata": {},
   "outputs": [
    {
     "data": {
      "text/html": [
       "<table>\n",
       "<thead>\n",
       "<tr><th>#                            </th><th style=\"text-align: right;\">  year</th><th style=\"text-align: right;\">  weekday</th><th style=\"text-align: right;\">  x</th><th style=\"text-align: right;\">  y</th><th style=\"text-align: right;\">  colors</th></tr>\n",
       "</thead>\n",
       "<tbody>\n",
       "<tr><td><i style='opacity: 0.6'>0</i></td><td style=\"text-align: right;\">  2012</td><td style=\"text-align: right;\">        0</td><td style=\"text-align: right;\">  1</td><td style=\"text-align: right;\">1.5</td><td style=\"text-align: right;\">       0</td></tr>\n",
       "<tr><td><i style='opacity: 0.6'>1</i></td><td style=\"text-align: right;\">  2013</td><td style=\"text-align: right;\">        1</td><td style=\"text-align: right;\">  2</td><td style=\"text-align: right;\">2.5</td><td style=\"text-align: right;\">       2</td></tr>\n",
       "<tr><td><i style='opacity: 0.6'>2</i></td><td style=\"text-align: right;\">  2015</td><td style=\"text-align: right;\">        4</td><td style=\"text-align: right;\">  3</td><td style=\"text-align: right;\">3.5</td><td style=\"text-align: right;\">       1</td></tr>\n",
       "<tr><td><i style='opacity: 0.6'>3</i></td><td style=\"text-align: right;\">  2019</td><td style=\"text-align: right;\">        6</td><td style=\"text-align: right;\">  4</td><td style=\"text-align: right;\">4.5</td><td style=\"text-align: right;\">       2</td></tr>\n",
       "</tbody>\n",
       "</table>"
      ],
      "text/plain": [
       "  #    year    weekday    x    y    colors\n",
       "  0    2012          0    1  1.5         0\n",
       "  1    2013          1    2  2.5         2\n",
       "  2    2015          4    3  3.5         1\n",
       "  3    2019          6    4  4.5         2"
      ]
     },
     "execution_count": 2,
     "metadata": {},
     "output_type": "execute_result"
    }
   ],
   "source": [
    "# Numeric data with ordinal_encode and categorize test\n",
    "colors = ['red', 'blue', 'green', 'blue']\n",
    "ds = vaex.from_arrays(\n",
    "    colors=colors, \n",
    "    year=[2012, 2013, 2015, 2019], \n",
    "    weekday=[0, 1, 4, 6], \n",
    "    x = [1, 2, 3, 4], \n",
    "    y = [1.5, 2.5, 3.5, 4.5])\n",
    "df = ds.ordinal_encode('colors', ['red', 'green', 'blue'])\n",
    "df = df.categorize('year', min_value=2012, max_value=2019)\n",
    "df = df.categorize('weekday', labels=['Mon', 'Tue', 'Wed', 'Thu', 'Fri', 'Sat', 'Sun'])\n",
    "df"
   ]
  },
  {
   "cell_type": "code",
   "execution_count": 3,
   "id": "33a5342e-852e-4266-b61f-0eb7aa217818",
   "metadata": {},
   "outputs": [
    {
     "data": {
      "text/html": [
       "<table>\n",
       "<thead>\n",
       "<tr><th>#                            </th><th style=\"text-align: right;\">  year</th><th>weekday  </th><th style=\"text-align: right;\">  x</th><th style=\"text-align: right;\">  y</th><th>colors  </th></tr>\n",
       "</thead>\n",
       "<tbody>\n",
       "<tr><td><i style='opacity: 0.6'>0</i></td><td style=\"text-align: right;\">  2012</td><td>Mon      </td><td style=\"text-align: right;\">  1</td><td style=\"text-align: right;\">1.5</td><td>red     </td></tr>\n",
       "<tr><td><i style='opacity: 0.6'>1</i></td><td style=\"text-align: right;\">  2013</td><td>Tue      </td><td style=\"text-align: right;\">  2</td><td style=\"text-align: right;\">2.5</td><td>blue    </td></tr>\n",
       "<tr><td><i style='opacity: 0.6'>2</i></td><td style=\"text-align: right;\">  2015</td><td>Fri      </td><td style=\"text-align: right;\">  3</td><td style=\"text-align: right;\">3.5</td><td>green   </td></tr>\n",
       "<tr><td><i style='opacity: 0.6'>3</i></td><td style=\"text-align: right;\">  2019</td><td>Sun      </td><td style=\"text-align: right;\">  4</td><td style=\"text-align: right;\">4.5</td><td>blue    </td></tr>\n",
       "</tbody>\n",
       "</table>"
      ],
      "text/plain": [
       "  #    year  weekday      x    y  colors\n",
       "  0    2012  Mon          1  1.5  red\n",
       "  1    2013  Tue          2  2.5  blue\n",
       "  2    2015  Fri          3  3.5  green\n",
       "  3    2019  Sun          4  4.5  blue"
      ]
     },
     "execution_count": 3,
     "metadata": {},
     "output_type": "execute_result"
    },
    {
     "data": {
      "text/plain": [
       "{'vaex.cetagories_bool': {'year': True,\n",
       "  'weekday': True,\n",
       "  'x': False,\n",
       "  'y': False,\n",
       "  'colors': True},\n",
       " 'vaex.cetagories': {'year': [2012, 2013, 2014, 2015, 2016, 2017, 2018, 2019],\n",
       "  'weekday': ['Mon', 'Tue', 'Wed', 'Thu', 'Fri', 'Sat', 'Sun'],\n",
       "  'colors': ['red', 'green', 'blue']}}"
      ]
     },
     "execution_count": 3,
     "metadata": {},
     "output_type": "execute_result"
    }
   ],
   "source": [
    "vaex_from = _from_dataframe_to_vaex(df.__dataframe__())\n",
    "vaex_from\n",
    "df.__dataframe__().metadata"
   ]
  },
  {
   "cell_type": "code",
   "execution_count": 4,
   "id": "719295b2-3474-47f2-821d-122209df9af7",
   "metadata": {},
   "outputs": [
    {
     "data": {
      "text/html": [
       "<table>\n",
       "<thead>\n",
       "<tr><th>#                            </th><th style=\"text-align: right;\">  year</th><th>weekday  </th><th style=\"text-align: right;\">  x</th><th style=\"text-align: right;\">  y</th><th>colors  </th></tr>\n",
       "</thead>\n",
       "<tbody>\n",
       "<tr><td><i style='opacity: 0.6'>0</i></td><td style=\"text-align: right;\">  2012</td><td>Mon      </td><td style=\"text-align: right;\">  1</td><td style=\"text-align: right;\">1.5</td><td>red     </td></tr>\n",
       "<tr><td><i style='opacity: 0.6'>1</i></td><td style=\"text-align: right;\">  2013</td><td>Tue      </td><td style=\"text-align: right;\">  2</td><td style=\"text-align: right;\">2.5</td><td>blue    </td></tr>\n",
       "<tr><td><i style='opacity: 0.6'>2</i></td><td style=\"text-align: right;\">  2015</td><td>Fri      </td><td style=\"text-align: right;\">  3</td><td style=\"text-align: right;\">3.5</td><td>green   </td></tr>\n",
       "<tr><td><i style='opacity: 0.6'>3</i></td><td style=\"text-align: right;\">  2019</td><td>Sun      </td><td style=\"text-align: right;\">  4</td><td style=\"text-align: right;\">4.5</td><td>blue    </td></tr>\n",
       "</tbody>\n",
       "</table>"
      ],
      "text/plain": [
       "  #    year  weekday      x    y  colors\n",
       "  0    2012  Mon          1  1.5  red\n",
       "  1    2013  Tue          2  2.5  blue\n",
       "  2    2015  Fri          3  3.5  green\n",
       "  3    2019  Sun          4  4.5  blue"
      ]
     },
     "execution_count": 4,
     "metadata": {},
     "output_type": "execute_result"
    },
    {
     "data": {
      "text/plain": [
       "[0, 1, 3, 7]"
      ]
     },
     "execution_count": 4,
     "metadata": {},
     "output_type": "execute_result"
    }
   ],
   "source": [
    "vaex_from\n",
    "vaex_from.year.values.indices.to_pylist()"
   ]
  },
  {
   "cell_type": "markdown",
   "id": "09e180c6-d904-4fb0-807d-7291975f4311",
   "metadata": {},
   "source": [
    "# Arrow\n",
    "Numeric and dictionary"
   ]
  },
  {
   "cell_type": "code",
   "execution_count": 5,
   "id": "8b332028-ace1-44cb-87fb-8bd40f2ab3f1",
   "metadata": {
    "tags": []
   },
   "outputs": [
    {
     "data": {
      "text/html": [
       "<table>\n",
       "<thead>\n",
       "<tr><th>#                            </th><th>c   </th><th style=\"text-align: right;\">  x</th><th style=\"text-align: right;\">    y</th><th>z    </th></tr>\n",
       "</thead>\n",
       "<tbody>\n",
       "<tr><td><i style='opacity: 0.6'>0</i></td><td>aap </td><td style=\"text-align: right;\">  1</td><td style=\"text-align: right;\">  1.5</td><td>True </td></tr>\n",
       "<tr><td><i style='opacity: 0.6'>1</i></td><td>noot</td><td style=\"text-align: right;\">  2</td><td style=\"text-align: right;\"> 42  </td><td>False</td></tr>\n",
       "<tr><td><i style='opacity: 0.6'>2</i></td><td>aap </td><td style=\"text-align: right;\">  3</td><td style=\"text-align: right;\"> 12  </td><td>False</td></tr>\n",
       "<tr><td><i style='opacity: 0.6'>3</i></td><td>noot</td><td style=\"text-align: right;\">  4</td><td style=\"text-align: right;\">144  </td><td>True </td></tr>\n",
       "<tr><td><i style='opacity: 0.6'>4</i></td><td>mies</td><td style=\"text-align: right;\">  5</td><td style=\"text-align: right;\">200.5</td><td>True </td></tr>\n",
       "</tbody>\n",
       "</table>"
      ],
      "text/plain": [
       "  #  c       x      y  z\n",
       "  0  aap     1    1.5  True\n",
       "  1  noot    2   42    False\n",
       "  2  aap     3   12    False\n",
       "  3  noot    4  144    True\n",
       "  4  mies    5  200.5  True"
      ]
     },
     "execution_count": 5,
     "metadata": {},
     "output_type": "execute_result"
    }
   ],
   "source": [
    "# Arrow dict!\n",
    "indices = pa.array([0, 1, 0, 1, 2])\n",
    "dictionary = pa.array(['aap', 'noot', 'mies'])\n",
    "c = pa.DictionaryArray.from_arrays(indices, dictionary)\n",
    "df2 = vaex.from_arrays(\n",
    "    c = c, \n",
    "    x = pa.array([1, 2, 3, 4, 5], type=pa.int32()),\n",
    "    y = pa.array([1.5, 42, 12, 144, 200.5], type=pa.float64()),\n",
    "    z = pa.array([True, False, False, True, True]))\n",
    "df2"
   ]
  },
  {
   "cell_type": "code",
   "execution_count": 6,
   "id": "07e9264b-111a-4a54-8af5-507aaa092abc",
   "metadata": {},
   "outputs": [
    {
     "data": {
      "text/html": [
       "<table>\n",
       "<thead>\n",
       "<tr><th>#                            </th><th>c   </th><th style=\"text-align: right;\">  x</th><th style=\"text-align: right;\">    y</th><th>z   </th></tr>\n",
       "</thead>\n",
       "<tbody>\n",
       "<tr><td><i style='opacity: 0.6'>0</i></td><td>aap </td><td style=\"text-align: right;\">  1</td><td style=\"text-align: right;\">  1.5</td><td>True</td></tr>\n",
       "<tr><td><i style='opacity: 0.6'>1</i></td><td>noot</td><td style=\"text-align: right;\">  2</td><td style=\"text-align: right;\"> 42  </td><td>True</td></tr>\n",
       "<tr><td><i style='opacity: 0.6'>2</i></td><td>aap </td><td style=\"text-align: right;\">  3</td><td style=\"text-align: right;\"> 12  </td><td>True</td></tr>\n",
       "<tr><td><i style='opacity: 0.6'>3</i></td><td>noot</td><td style=\"text-align: right;\">  4</td><td style=\"text-align: right;\">144  </td><td>True</td></tr>\n",
       "<tr><td><i style='opacity: 0.6'>4</i></td><td>mies</td><td style=\"text-align: right;\">  5</td><td style=\"text-align: right;\">200.5</td><td>True</td></tr>\n",
       "</tbody>\n",
       "</table>"
      ],
      "text/plain": [
       "  #  c       x      y  z\n",
       "  0  aap     1    1.5  True\n",
       "  1  noot    2   42    True\n",
       "  2  aap     3   12    True\n",
       "  3  noot    4  144    True\n",
       "  4  mies    5  200.5  True"
      ]
     },
     "execution_count": 6,
     "metadata": {},
     "output_type": "execute_result"
    },
    {
     "data": {
      "text/plain": [
       "{'vaex.cetagories_bool': {'c': True, 'x': False, 'y': False, 'z': False},\n",
       " 'vaex.cetagories': {'c': ['aap', 'noot', 'mies']}}"
      ]
     },
     "execution_count": 6,
     "metadata": {},
     "output_type": "execute_result"
    }
   ],
   "source": [
    "arrow_from = _from_dataframe_to_vaex(df2.__dataframe__())\n",
    "arrow_from\n",
    "df2.__dataframe__().metadata"
   ]
  },
  {
   "cell_type": "markdown",
   "id": "9fb17e17-693c-48aa-acb6-8ef89a91246c",
   "metadata": {},
   "source": [
    "# Test with Pandas"
   ]
  },
  {
   "cell_type": "code",
   "execution_count": 7,
   "id": "d457a929-4afe-44e0-8fd5-f108069f1468",
   "metadata": {},
   "outputs": [],
   "source": [
    "%run pandas_implementation.py"
   ]
  },
  {
   "cell_type": "code",
   "execution_count": 8,
   "id": "a99d55e5-94c5-4c5e-ae6e-7881a1c51943",
   "metadata": {},
   "outputs": [
    {
     "data": {
      "text/html": [
       "<div>\n",
       "<style scoped>\n",
       "    .dataframe tbody tr th:only-of-type {\n",
       "        vertical-align: middle;\n",
       "    }\n",
       "\n",
       "    .dataframe tbody tr th {\n",
       "        vertical-align: top;\n",
       "    }\n",
       "\n",
       "    .dataframe thead th {\n",
       "        text-align: right;\n",
       "    }\n",
       "</style>\n",
       "<table border=\"1\" class=\"dataframe\">\n",
       "  <thead>\n",
       "    <tr style=\"text-align: right;\">\n",
       "      <th></th>\n",
       "      <th>a</th>\n",
       "      <th>b</th>\n",
       "      <th>c</th>\n",
       "      <th>d</th>\n",
       "      <th>A</th>\n",
       "      <th>B</th>\n",
       "    </tr>\n",
       "  </thead>\n",
       "  <tbody>\n",
       "    <tr>\n",
       "      <th>0</th>\n",
       "      <td>1</td>\n",
       "      <td>3</td>\n",
       "      <td>1.5</td>\n",
       "      <td>9</td>\n",
       "      <td>1</td>\n",
       "      <td>1</td>\n",
       "    </tr>\n",
       "    <tr>\n",
       "      <th>1</th>\n",
       "      <td>2</td>\n",
       "      <td>4</td>\n",
       "      <td>2.5</td>\n",
       "      <td>10</td>\n",
       "      <td>2</td>\n",
       "      <td>2</td>\n",
       "    </tr>\n",
       "    <tr>\n",
       "      <th>2</th>\n",
       "      <td>3</td>\n",
       "      <td>5</td>\n",
       "      <td>3.5</td>\n",
       "      <td>11</td>\n",
       "      <td>5</td>\n",
       "      <td>5</td>\n",
       "    </tr>\n",
       "  </tbody>\n",
       "</table>\n",
       "</div>"
      ],
      "text/plain": [
       "   a  b    c   d  A  B\n",
       "0  1  3  1.5   9  1  1\n",
       "1  2  4  2.5  10  2  2\n",
       "2  3  5  3.5  11  5  5"
      ]
     },
     "execution_count": 8,
     "metadata": {},
     "output_type": "execute_result"
    }
   ],
   "source": [
    "dfp = pd.DataFrame(data=dict(a=[1, 2, 3], b=[3, 4, 5],c=[1.5, 2.5, 3.5], d=[9, 10, 11]))\n",
    "dfp[\"A\"] = pd.DataFrame({\"A\": [1, 2, 5, 1]})\n",
    "dfp[\"B\"] = dfp[\"A\"].astype(\"category\") # Not working yet\n",
    "dfp"
   ]
  },
  {
   "cell_type": "code",
   "execution_count": 9,
   "id": "69148ae0-521c-4531-9a65-34f6216e7f5c",
   "metadata": {},
   "outputs": [
    {
     "data": {
      "text/html": [
       "<div>\n",
       "<style scoped>\n",
       "    .dataframe tbody tr th:only-of-type {\n",
       "        vertical-align: middle;\n",
       "    }\n",
       "\n",
       "    .dataframe tbody tr th {\n",
       "        vertical-align: top;\n",
       "    }\n",
       "\n",
       "    .dataframe thead th {\n",
       "        text-align: right;\n",
       "    }\n",
       "</style>\n",
       "<table border=\"1\" class=\"dataframe\">\n",
       "  <thead>\n",
       "    <tr style=\"text-align: right;\">\n",
       "      <th></th>\n",
       "      <th>a</th>\n",
       "      <th>b</th>\n",
       "      <th>c</th>\n",
       "      <th>d</th>\n",
       "      <th>A</th>\n",
       "      <th>B</th>\n",
       "    </tr>\n",
       "  </thead>\n",
       "  <tbody>\n",
       "    <tr>\n",
       "      <th>0</th>\n",
       "      <td>1</td>\n",
       "      <td>3</td>\n",
       "      <td>1.5</td>\n",
       "      <td>9</td>\n",
       "      <td>1</td>\n",
       "      <td>1</td>\n",
       "    </tr>\n",
       "    <tr>\n",
       "      <th>1</th>\n",
       "      <td>2</td>\n",
       "      <td>4</td>\n",
       "      <td>2.5</td>\n",
       "      <td>10</td>\n",
       "      <td>2</td>\n",
       "      <td>2</td>\n",
       "    </tr>\n",
       "    <tr>\n",
       "      <th>2</th>\n",
       "      <td>3</td>\n",
       "      <td>5</td>\n",
       "      <td>3.5</td>\n",
       "      <td>11</td>\n",
       "      <td>5</td>\n",
       "      <td>5</td>\n",
       "    </tr>\n",
       "  </tbody>\n",
       "</table>\n",
       "</div>"
      ],
      "text/plain": [
       "   a  b    c   d  A  B\n",
       "0  1  3  1.5   9  1  1\n",
       "1  2  4  2.5  10  2  2\n",
       "2  3  5  3.5  11  5  5"
      ]
     },
     "execution_count": 9,
     "metadata": {},
     "output_type": "execute_result"
    }
   ],
   "source": [
    "from_dataframe(dfp)"
   ]
  },
  {
   "cell_type": "code",
   "execution_count": 10,
   "id": "e451aa4e-f621-42cb-9ed5-d9307c1c3c21",
   "metadata": {},
   "outputs": [
    {
     "data": {
      "text/html": [
       "<table>\n",
       "<thead>\n",
       "<tr><th>#                            </th><th style=\"text-align: right;\">  a</th><th style=\"text-align: right;\">  b</th><th style=\"text-align: right;\">  c</th><th style=\"text-align: right;\">  d</th><th style=\"text-align: right;\">  A</th><th style=\"text-align: right;\">  B</th></tr>\n",
       "</thead>\n",
       "<tbody>\n",
       "<tr><td><i style='opacity: 0.6'>0</i></td><td style=\"text-align: right;\">  1</td><td style=\"text-align: right;\">  3</td><td style=\"text-align: right;\">1.5</td><td style=\"text-align: right;\">  9</td><td style=\"text-align: right;\">  1</td><td style=\"text-align: right;\">  1</td></tr>\n",
       "<tr><td><i style='opacity: 0.6'>1</i></td><td style=\"text-align: right;\">  2</td><td style=\"text-align: right;\">  4</td><td style=\"text-align: right;\">2.5</td><td style=\"text-align: right;\"> 10</td><td style=\"text-align: right;\">  2</td><td style=\"text-align: right;\">  2</td></tr>\n",
       "<tr><td><i style='opacity: 0.6'>2</i></td><td style=\"text-align: right;\">  3</td><td style=\"text-align: right;\">  5</td><td style=\"text-align: right;\">3.5</td><td style=\"text-align: right;\"> 11</td><td style=\"text-align: right;\">  5</td><td style=\"text-align: right;\">  5</td></tr>\n",
       "</tbody>\n",
       "</table>"
      ],
      "text/plain": [
       "  #    a    b    c    d    A    B\n",
       "  0    1    3  1.5    9    1    1\n",
       "  1    2    4  2.5   10    2    2\n",
       "  2    3    5  3.5   11    5    5"
      ]
     },
     "execution_count": 10,
     "metadata": {},
     "output_type": "execute_result"
    }
   ],
   "source": [
    "from_dataframe_to_vaex(dfp)"
   ]
  },
  {
   "cell_type": "code",
   "execution_count": 11,
   "id": "29412c6a-0959-41dc-a165-287ac915b77b",
   "metadata": {},
   "outputs": [
    {
     "data": {
      "text/html": [
       "<div>\n",
       "<style scoped>\n",
       "    .dataframe tbody tr th:only-of-type {\n",
       "        vertical-align: middle;\n",
       "    }\n",
       "\n",
       "    .dataframe tbody tr th {\n",
       "        vertical-align: top;\n",
       "    }\n",
       "\n",
       "    .dataframe thead th {\n",
       "        text-align: right;\n",
       "    }\n",
       "</style>\n",
       "<table border=\"1\" class=\"dataframe\">\n",
       "  <thead>\n",
       "    <tr style=\"text-align: right;\">\n",
       "      <th></th>\n",
       "      <th>a</th>\n",
       "      <th>b</th>\n",
       "      <th>c</th>\n",
       "      <th>d</th>\n",
       "      <th>A</th>\n",
       "      <th>B</th>\n",
       "    </tr>\n",
       "  </thead>\n",
       "  <tbody>\n",
       "    <tr>\n",
       "      <th>0</th>\n",
       "      <td>1</td>\n",
       "      <td>3</td>\n",
       "      <td>1.5</td>\n",
       "      <td>9</td>\n",
       "      <td>1</td>\n",
       "      <td>1</td>\n",
       "    </tr>\n",
       "    <tr>\n",
       "      <th>1</th>\n",
       "      <td>2</td>\n",
       "      <td>4</td>\n",
       "      <td>2.5</td>\n",
       "      <td>10</td>\n",
       "      <td>2</td>\n",
       "      <td>NaN</td>\n",
       "    </tr>\n",
       "    <tr>\n",
       "      <th>2</th>\n",
       "      <td>3</td>\n",
       "      <td>5</td>\n",
       "      <td>3.5</td>\n",
       "      <td>11</td>\n",
       "      <td>5</td>\n",
       "      <td>5</td>\n",
       "    </tr>\n",
       "  </tbody>\n",
       "</table>\n",
       "</div>"
      ],
      "text/plain": [
       "   a  b    c   d  A    B\n",
       "0  1  3  1.5   9  1    1\n",
       "1  2  4  2.5  10  2  NaN\n",
       "2  3  5  3.5  11  5    5"
      ]
     },
     "execution_count": 11,
     "metadata": {},
     "output_type": "execute_result"
    }
   ],
   "source": [
    "dfp.at[1, 'B'] = np.nan  # Set one item to null\n",
    "dfp"
   ]
  },
  {
   "cell_type": "code",
   "execution_count": 12,
   "id": "efee3a59-73a4-4109-8aca-7b466114642f",
   "metadata": {},
   "outputs": [
    {
     "data": {
      "text/html": [
       "<div>\n",
       "<style scoped>\n",
       "    .dataframe tbody tr th:only-of-type {\n",
       "        vertical-align: middle;\n",
       "    }\n",
       "\n",
       "    .dataframe tbody tr th {\n",
       "        vertical-align: top;\n",
       "    }\n",
       "\n",
       "    .dataframe thead th {\n",
       "        text-align: right;\n",
       "    }\n",
       "</style>\n",
       "<table border=\"1\" class=\"dataframe\">\n",
       "  <thead>\n",
       "    <tr style=\"text-align: right;\">\n",
       "      <th></th>\n",
       "      <th>a</th>\n",
       "      <th>b</th>\n",
       "      <th>c</th>\n",
       "      <th>d</th>\n",
       "      <th>A</th>\n",
       "      <th>B</th>\n",
       "    </tr>\n",
       "  </thead>\n",
       "  <tbody>\n",
       "    <tr>\n",
       "      <th>0</th>\n",
       "      <td>1</td>\n",
       "      <td>3</td>\n",
       "      <td>1.5</td>\n",
       "      <td>9</td>\n",
       "      <td>1</td>\n",
       "      <td>1</td>\n",
       "    </tr>\n",
       "    <tr>\n",
       "      <th>1</th>\n",
       "      <td>2</td>\n",
       "      <td>4</td>\n",
       "      <td>2.5</td>\n",
       "      <td>10</td>\n",
       "      <td>2</td>\n",
       "      <td>NaN</td>\n",
       "    </tr>\n",
       "    <tr>\n",
       "      <th>2</th>\n",
       "      <td>3</td>\n",
       "      <td>5</td>\n",
       "      <td>3.5</td>\n",
       "      <td>11</td>\n",
       "      <td>5</td>\n",
       "      <td>5</td>\n",
       "    </tr>\n",
       "  </tbody>\n",
       "</table>\n",
       "</div>"
      ],
      "text/plain": [
       "   a  b    c   d  A    B\n",
       "0  1  3  1.5   9  1    1\n",
       "1  2  4  2.5  10  2  NaN\n",
       "2  3  5  3.5  11  5    5"
      ]
     },
     "execution_count": 12,
     "metadata": {},
     "output_type": "execute_result"
    }
   ],
   "source": [
    "from_dataframe(dfp)"
   ]
  },
  {
   "cell_type": "code",
   "execution_count": 13,
   "id": "99c16c26-bda2-43e9-93c1-6072dbbf3a5e",
   "metadata": {},
   "outputs": [
    {
     "ename": "ValueError",
     "evalue": "Indices must be integer type",
     "output_type": "error",
     "traceback": [
      "\u001b[1;31m---------------------------------------------------------------------------\u001b[0m",
      "\u001b[1;31mValueError\u001b[0m                                Traceback (most recent call last)",
      "\u001b[1;32m<ipython-input-13-1773f16705c9>\u001b[0m in \u001b[0;36m<module>\u001b[1;34m\u001b[0m\n\u001b[1;32m----> 1\u001b[1;33m \u001b[0mfrom_dataframe_to_vaex\u001b[0m\u001b[1;33m(\u001b[0m\u001b[0mdfp\u001b[0m\u001b[1;33m)\u001b[0m \u001b[1;31m# errors - need to add support for sentinel values\u001b[0m\u001b[1;33m\u001b[0m\u001b[1;33m\u001b[0m\u001b[0m\n\u001b[0m",
      "\u001b[1;32m~\\Documents\\Python Scripts\\vaex_implementation_v7.py\u001b[0m in \u001b[0;36mfrom_dataframe_to_vaex\u001b[1;34m(df)\u001b[0m\n\u001b[0;32m     23\u001b[0m         \u001b[1;32mraise\u001b[0m \u001b[0mValueError\u001b[0m\u001b[1;33m(\u001b[0m\u001b[1;34m\"`df` does not support __dataframe__\"\u001b[0m\u001b[1;33m)\u001b[0m\u001b[1;33m\u001b[0m\u001b[1;33m\u001b[0m\u001b[0m\n\u001b[0;32m     24\u001b[0m \u001b[1;33m\u001b[0m\u001b[0m\n\u001b[1;32m---> 25\u001b[1;33m     \u001b[1;32mreturn\u001b[0m \u001b[0m_from_dataframe_to_vaex\u001b[0m\u001b[1;33m(\u001b[0m\u001b[0mdf\u001b[0m\u001b[1;33m.\u001b[0m\u001b[0m__dataframe__\u001b[0m\u001b[1;33m(\u001b[0m\u001b[1;33m)\u001b[0m\u001b[1;33m)\u001b[0m\u001b[1;33m\u001b[0m\u001b[1;33m\u001b[0m\u001b[0m\n\u001b[0m\u001b[0;32m     26\u001b[0m \u001b[1;33m\u001b[0m\u001b[0m\n\u001b[0;32m     27\u001b[0m \u001b[1;32mdef\u001b[0m \u001b[0m_from_dataframe_to_vaex\u001b[0m\u001b[1;33m(\u001b[0m\u001b[0mdf\u001b[0m \u001b[1;33m:\u001b[0m \u001b[0mDataFrameObject\u001b[0m\u001b[1;33m)\u001b[0m \u001b[1;33m->\u001b[0m \u001b[0mvaex\u001b[0m\u001b[1;33m.\u001b[0m\u001b[0mdataframe\u001b[0m\u001b[1;33m.\u001b[0m\u001b[0mDataFrame\u001b[0m\u001b[1;33m:\u001b[0m\u001b[1;33m\u001b[0m\u001b[1;33m\u001b[0m\u001b[0m\n",
      "\u001b[1;32m~\\Documents\\Python Scripts\\vaex_implementation_v7.py\u001b[0m in \u001b[0;36m_from_dataframe_to_vaex\u001b[1;34m(df)\u001b[0m\n\u001b[0;32m     50\u001b[0m             \u001b[0mcolumns\u001b[0m\u001b[1;33m[\u001b[0m\u001b[0mname\u001b[0m\u001b[1;33m]\u001b[0m \u001b[1;33m=\u001b[0m \u001b[0mconvert_column_to_ndarray\u001b[0m\u001b[1;33m(\u001b[0m\u001b[0mcol\u001b[0m\u001b[1;33m)\u001b[0m\u001b[1;33m\u001b[0m\u001b[1;33m\u001b[0m\u001b[0m\n\u001b[0;32m     51\u001b[0m         \u001b[1;32melif\u001b[0m \u001b[0mcol\u001b[0m\u001b[1;33m.\u001b[0m\u001b[0mdtype\u001b[0m\u001b[1;33m[\u001b[0m\u001b[1;36m0\u001b[0m\u001b[1;33m]\u001b[0m \u001b[1;33m==\u001b[0m \u001b[0m_k\u001b[0m\u001b[1;33m.\u001b[0m\u001b[0mCATEGORICAL\u001b[0m\u001b[1;33m:\u001b[0m\u001b[1;33m\u001b[0m\u001b[1;33m\u001b[0m\u001b[0m\n\u001b[1;32m---> 52\u001b[1;33m             \u001b[0mcolumns\u001b[0m\u001b[1;33m[\u001b[0m\u001b[0mname\u001b[0m\u001b[1;33m]\u001b[0m \u001b[1;33m=\u001b[0m \u001b[0mconvert_categorical_column\u001b[0m\u001b[1;33m(\u001b[0m\u001b[0mcol\u001b[0m\u001b[1;33m)\u001b[0m\u001b[1;33m\u001b[0m\u001b[1;33m\u001b[0m\u001b[0m\n\u001b[0m\u001b[0;32m     53\u001b[0m         \u001b[1;32melse\u001b[0m\u001b[1;33m:\u001b[0m\u001b[1;33m\u001b[0m\u001b[1;33m\u001b[0m\u001b[0m\n\u001b[0;32m     54\u001b[0m             \u001b[1;32mraise\u001b[0m \u001b[0mNotImplementedError\u001b[0m\u001b[1;33m(\u001b[0m\u001b[1;34mf\"Data type {col.dtype[0]} not handled yet\"\u001b[0m\u001b[1;33m)\u001b[0m\u001b[1;33m\u001b[0m\u001b[1;33m\u001b[0m\u001b[0m\n",
      "\u001b[1;32m~\\Documents\\Python Scripts\\vaex_implementation_v7.py\u001b[0m in \u001b[0;36mconvert_categorical_column\u001b[1;34m(col)\u001b[0m\n\u001b[0;32m    131\u001b[0m     \u001b[0mindices\u001b[0m \u001b[1;33m=\u001b[0m \u001b[0mpa\u001b[0m\u001b[1;33m.\u001b[0m\u001b[0marray\u001b[0m\u001b[1;33m(\u001b[0m\u001b[0mcodes\u001b[0m\u001b[1;33m)\u001b[0m\u001b[1;33m\u001b[0m\u001b[1;33m\u001b[0m\u001b[0m\n\u001b[0;32m    132\u001b[0m     \u001b[0mdictionary\u001b[0m \u001b[1;33m=\u001b[0m \u001b[0mpa\u001b[0m\u001b[1;33m.\u001b[0m\u001b[0marray\u001b[0m\u001b[1;33m(\u001b[0m\u001b[0mcategories\u001b[0m\u001b[1;33m)\u001b[0m\u001b[1;33m\u001b[0m\u001b[1;33m\u001b[0m\u001b[0m\n\u001b[1;32m--> 133\u001b[1;33m     \u001b[0mvalues\u001b[0m \u001b[1;33m=\u001b[0m \u001b[0mpa\u001b[0m\u001b[1;33m.\u001b[0m\u001b[0mDictionaryArray\u001b[0m\u001b[1;33m.\u001b[0m\u001b[0mfrom_arrays\u001b[0m\u001b[1;33m(\u001b[0m\u001b[0mindices\u001b[0m\u001b[1;33m,\u001b[0m \u001b[0mdictionary\u001b[0m\u001b[1;33m)\u001b[0m\u001b[1;33m\u001b[0m\u001b[1;33m\u001b[0m\u001b[0m\n\u001b[0m\u001b[0;32m    134\u001b[0m \u001b[1;33m\u001b[0m\u001b[0m\n\u001b[0;32m    135\u001b[0m     \u001b[1;32mreturn\u001b[0m \u001b[0mvalues\u001b[0m\u001b[1;33m\u001b[0m\u001b[1;33m\u001b[0m\u001b[0m\n",
      "\u001b[1;32m~\\anaconda3\\envs\\df_protocol\\lib\\site-packages\\pyarrow\\array.pxi\u001b[0m in \u001b[0;36mpyarrow.lib.DictionaryArray.from_arrays\u001b[1;34m()\u001b[0m\n",
      "\u001b[1;31mValueError\u001b[0m: Indices must be integer type"
     ]
    }
   ],
   "source": [
    "from_dataframe_to_vaex(dfp) # errors - need to add support for sentinel values"
   ]
  },
  {
   "cell_type": "code",
   "execution_count": null,
   "id": "c337184f-561d-4250-aae3-4e80c3887264",
   "metadata": {},
   "outputs": [],
   "source": []
  }
 ],
 "metadata": {
  "kernelspec": {
   "display_name": "Python 3",
   "language": "python",
   "name": "python3"
  },
  "language_info": {
   "codemirror_mode": {
    "name": "ipython",
    "version": 3
   },
   "file_extension": ".py",
   "mimetype": "text/x-python",
   "name": "python",
   "nbconvert_exporter": "python",
   "pygments_lexer": "ipython3",
   "version": "3.9.5"
  }
 },
 "nbformat": 4,
 "nbformat_minor": 5
}
