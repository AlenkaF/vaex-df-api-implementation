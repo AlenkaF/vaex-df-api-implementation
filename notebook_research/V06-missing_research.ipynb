{
 "cells": [
  {
   "cell_type": "code",
   "execution_count": 1,
   "id": "394bbdbd-859b-49c8-bdf9-b4dd3b7791d9",
   "metadata": {},
   "outputs": [],
   "source": [
    "from IPython.core.interactiveshell import InteractiveShell\n",
    "InteractiveShell.ast_node_interactivity = \"all\""
   ]
  },
  {
   "cell_type": "code",
   "execution_count": 2,
   "id": "4395b7e4-ed6d-4d52-8fdf-e353c3131ce4",
   "metadata": {},
   "outputs": [],
   "source": [
    "import vaex\n",
    "import numpy as np"
   ]
  },
  {
   "cell_type": "markdown",
   "id": "3077d54d-4684-41ac-9ec7-f85655cafb58",
   "metadata": {},
   "source": [
    "**2021/08/16-17**\n",
    "# Numeric missing\n",
    "## NaN/Null NumPy array"
   ]
  },
  {
   "cell_type": "code",
   "execution_count": 3,
   "id": "f34875b9-931a-4255-be3e-21a87a30dd6e",
   "metadata": {},
   "outputs": [
    {
     "data": {
      "text/html": [
       "<table>\n",
       "<thead>\n",
       "<tr><th>#                            </th><th style=\"text-align: right;\">    x</th><th>y   </th><th style=\"text-align: right;\">  z</th></tr>\n",
       "</thead>\n",
       "<tbody>\n",
       "<tr><td><i style='opacity: 0.6'>0</i></td><td style=\"text-align: right;\">nan  </td><td>9.2 </td><td style=\"text-align: right;\">  1</td></tr>\n",
       "<tr><td><i style='opacity: 0.6'>1</i></td><td style=\"text-align: right;\">  2.5</td><td>10.5</td><td style=\"text-align: right;\">nan</td></tr>\n",
       "<tr><td><i style='opacity: 0.6'>2</i></td><td style=\"text-align: right;\">  3.5</td><td>None</td><td style=\"text-align: right;\">  3</td></tr>\n",
       "</tbody>\n",
       "</table>"
      ],
      "text/plain": [
       "  #      x  y       z\n",
       "  0  nan    9.2     1\n",
       "  1    2.5  10.5  nan\n",
       "  2    3.5  None    3"
      ]
     },
     "execution_count": 3,
     "metadata": {},
     "output_type": "execute_result"
    }
   ],
   "source": [
    "x = np.array([np.nan, 2.5, 3.5])\n",
    "y = np.array([9.2, 10.5, None])\n",
    "z = np.array([1, np.nan, 3])\n",
    "df_num1 = vaex.from_arrays(x=x, y=y, z=z)\n",
    "df_num1"
   ]
  },
  {
   "cell_type": "code",
   "execution_count": 4,
   "id": "aaedc97d-aa31-4e3d-9068-55175f8906ba",
   "metadata": {},
   "outputs": [
    {
     "data": {
      "text/plain": [
       "False"
      ]
     },
     "execution_count": 4,
     "metadata": {},
     "output_type": "execute_result"
    },
    {
     "data": {
      "text/plain": [
       "float64"
      ]
     },
     "execution_count": 4,
     "metadata": {},
     "output_type": "execute_result"
    },
    {
     "data": {
      "text/plain": [
       "'f'"
      ]
     },
     "execution_count": 4,
     "metadata": {},
     "output_type": "execute_result"
    }
   ],
   "source": [
    "df_num1.x.is_masked\n",
    "df_num1.x.dtype\n",
    "df_num1.x.dtype.kind"
   ]
  },
  {
   "cell_type": "code",
   "execution_count": 5,
   "id": "1a181421-9e88-449f-9266-31cdd860876b",
   "metadata": {},
   "outputs": [
    {
     "data": {
      "text/plain": [
       "object"
      ]
     },
     "execution_count": 5,
     "metadata": {},
     "output_type": "execute_result"
    },
    {
     "data": {
      "text/plain": [
       "False"
      ]
     },
     "execution_count": 5,
     "metadata": {},
     "output_type": "execute_result"
    }
   ],
   "source": [
    "df_num1.y.dtype\n",
    "df_num1.y.is_masked"
   ]
  },
  {
   "cell_type": "code",
   "execution_count": 6,
   "id": "b7c16c10-923b-4a3a-81ec-8801fb169e84",
   "metadata": {},
   "outputs": [
    {
     "data": {
      "text/plain": [
       "float64"
      ]
     },
     "execution_count": 6,
     "metadata": {},
     "output_type": "execute_result"
    },
    {
     "data": {
      "text/plain": [
       "'f'"
      ]
     },
     "execution_count": 6,
     "metadata": {},
     "output_type": "execute_result"
    }
   ],
   "source": [
    "df_num1.z.dtype\n",
    "df_num1.z.dtype.kind"
   ]
  },
  {
   "cell_type": "markdown",
   "id": "50b6a96d-2515-4b84-8884-23cf1e33c4e0",
   "metadata": {},
   "source": [
    "## Virtual boolean test"
   ]
  },
  {
   "cell_type": "code",
   "execution_count": 7,
   "id": "9ea9a1f3-da5e-4f99-aac9-727e73acd8fc",
   "metadata": {},
   "outputs": [
    {
     "data": {
      "text/html": [
       "<table>\n",
       "<thead>\n",
       "<tr><th>#                            </th><th style=\"text-align: right;\">    x</th><th>y   </th><th style=\"text-align: right;\">  z</th><th style=\"text-align: right;\">  w</th></tr>\n",
       "</thead>\n",
       "<tbody>\n",
       "<tr><td><i style='opacity: 0.6'>0</i></td><td style=\"text-align: right;\">nan  </td><td>9.2 </td><td style=\"text-align: right;\">  1</td><td style=\"text-align: right;\">nan</td></tr>\n",
       "<tr><td><i style='opacity: 0.6'>1</i></td><td style=\"text-align: right;\">  2.5</td><td>10.5</td><td style=\"text-align: right;\">nan</td><td style=\"text-align: right;\">  1</td></tr>\n",
       "<tr><td><i style='opacity: 0.6'>2</i></td><td style=\"text-align: right;\">  3.5</td><td>None</td><td style=\"text-align: right;\">  3</td><td style=\"text-align: right;\">  0</td></tr>\n",
       "</tbody>\n",
       "</table>"
      ],
      "text/plain": [
       "  #      x  y       z    w\n",
       "  0  nan    9.2     1  nan\n",
       "  1    2.5  10.5  nan    1\n",
       "  2    3.5  None    3    0"
      ]
     },
     "execution_count": 7,
     "metadata": {},
     "output_type": "execute_result"
    }
   ],
   "source": [
    "df_num1['w'] = np.array([np.nan, True, False])\n",
    "df_num1"
   ]
  },
  {
   "cell_type": "code",
   "execution_count": 8,
   "id": "7d364b99-c0cf-470f-bbe0-1fbe024e1076",
   "metadata": {},
   "outputs": [
    {
     "data": {
      "text/plain": [
       "False"
      ]
     },
     "execution_count": 8,
     "metadata": {},
     "output_type": "execute_result"
    },
    {
     "data": {
      "text/plain": [
       "float64"
      ]
     },
     "execution_count": 8,
     "metadata": {},
     "output_type": "execute_result"
    },
    {
     "data": {
      "text/plain": [
       "'f'"
      ]
     },
     "execution_count": 8,
     "metadata": {},
     "output_type": "execute_result"
    }
   ],
   "source": [
    "df_num1.w.is_masked\n",
    "df_num1.w.dtype\n",
    "df_num1.w.dtype.kind"
   ]
  },
  {
   "cell_type": "code",
   "execution_count": 9,
   "id": "d380f86c-29b9-401a-8aea-5d5658bf5194",
   "metadata": {},
   "outputs": [
    {
     "data": {
      "text/html": [
       "<table>\n",
       "<thead>\n",
       "<tr><th>#                            </th><th style=\"text-align: right;\">    x</th><th>y   </th><th style=\"text-align: right;\">  z</th><th style=\"text-align: right;\">  w</th><th>q    </th></tr>\n",
       "</thead>\n",
       "<tbody>\n",
       "<tr><td><i style='opacity: 0.6'>0</i></td><td style=\"text-align: right;\">nan  </td><td>9.2 </td><td style=\"text-align: right;\">  1</td><td style=\"text-align: right;\">nan</td><td>True </td></tr>\n",
       "<tr><td><i style='opacity: 0.6'>1</i></td><td style=\"text-align: right;\">  2.5</td><td>10.5</td><td style=\"text-align: right;\">nan</td><td style=\"text-align: right;\">  1</td><td>True </td></tr>\n",
       "<tr><td><i style='opacity: 0.6'>2</i></td><td style=\"text-align: right;\">  3.5</td><td>None</td><td style=\"text-align: right;\">  3</td><td style=\"text-align: right;\">  0</td><td>False</td></tr>\n",
       "</tbody>\n",
       "</table>"
      ],
      "text/plain": [
       "  #      x  y       z    w  q\n",
       "  0  nan    9.2     1  nan  True\n",
       "  1    2.5  10.5  nan    1  True\n",
       "  2    3.5  None    3    0  False"
      ]
     },
     "execution_count": 9,
     "metadata": {},
     "output_type": "execute_result"
    }
   ],
   "source": [
    "df_num1['q'] = np.array([True, True, False])\n",
    "df_num1"
   ]
  },
  {
   "cell_type": "code",
   "execution_count": 10,
   "id": "44be35f3-0485-49a6-980d-5d82ea2ba97d",
   "metadata": {},
   "outputs": [
    {
     "data": {
      "text/plain": [
       "False"
      ]
     },
     "execution_count": 10,
     "metadata": {},
     "output_type": "execute_result"
    },
    {
     "data": {
      "text/plain": [
       "bool"
      ]
     },
     "execution_count": 10,
     "metadata": {},
     "output_type": "execute_result"
    },
    {
     "data": {
      "text/plain": [
       "'b'"
      ]
     },
     "execution_count": 10,
     "metadata": {},
     "output_type": "execute_result"
    }
   ],
   "source": [
    "df_num1.q.is_masked\n",
    "df_num1.q.dtype\n",
    "df_num1.q.dtype.kind"
   ]
  },
  {
   "cell_type": "code",
   "execution_count": 11,
   "id": "2abd14f3-1d5b-45ed-82c9-5d2894b2f500",
   "metadata": {},
   "outputs": [
    {
     "data": {
      "text/html": [
       "<table>\n",
       "<thead>\n",
       "<tr><th>#                            </th><th style=\"text-align: right;\">    x</th><th>y   </th><th style=\"text-align: right;\">  z</th><th style=\"text-align: right;\">  w</th><th>q    </th><th>p    </th></tr>\n",
       "</thead>\n",
       "<tbody>\n",
       "<tr><td><i style='opacity: 0.6'>0</i></td><td style=\"text-align: right;\">nan  </td><td>9.2 </td><td style=\"text-align: right;\">  1</td><td style=\"text-align: right;\">nan</td><td>True </td><td>None </td></tr>\n",
       "<tr><td><i style='opacity: 0.6'>1</i></td><td style=\"text-align: right;\">  2.5</td><td>10.5</td><td style=\"text-align: right;\">nan</td><td style=\"text-align: right;\">  1</td><td>True </td><td>True </td></tr>\n",
       "<tr><td><i style='opacity: 0.6'>2</i></td><td style=\"text-align: right;\">  3.5</td><td>None</td><td style=\"text-align: right;\">  3</td><td style=\"text-align: right;\">  0</td><td>False</td><td>False</td></tr>\n",
       "</tbody>\n",
       "</table>"
      ],
      "text/plain": [
       "  #      x  y       z    w  q      p\n",
       "  0  nan    9.2     1  nan  True   None\n",
       "  1    2.5  10.5  nan    1  True   True\n",
       "  2    3.5  None    3    0  False  False"
      ]
     },
     "execution_count": 11,
     "metadata": {},
     "output_type": "execute_result"
    }
   ],
   "source": [
    "df_num1['p'] = np.array([None, True, False])\n",
    "df_num1"
   ]
  },
  {
   "cell_type": "code",
   "execution_count": 12,
   "id": "239a017e-cdd8-4372-b8c0-dfee9ef99129",
   "metadata": {},
   "outputs": [
    {
     "data": {
      "text/plain": [
       "False"
      ]
     },
     "execution_count": 12,
     "metadata": {},
     "output_type": "execute_result"
    },
    {
     "data": {
      "text/plain": [
       "object"
      ]
     },
     "execution_count": 12,
     "metadata": {},
     "output_type": "execute_result"
    },
    {
     "data": {
      "text/plain": [
       "'O'"
      ]
     },
     "execution_count": 12,
     "metadata": {},
     "output_type": "execute_result"
    }
   ],
   "source": [
    "df_num1.p.is_masked\n",
    "df_num1.p.dtype\n",
    "df_num1.p.dtype.kind"
   ]
  },
  {
   "cell_type": "markdown",
   "id": "081ee2a0-6f9c-4d2b-9df2-f5849407947a",
   "metadata": {},
   "source": [
    "## Masked NumPy array"
   ]
  },
  {
   "cell_type": "code",
   "execution_count": 13,
   "id": "7f18e2d7-15e6-4e6c-88a4-e34fc354816b",
   "metadata": {},
   "outputs": [
    {
     "data": {
      "text/html": [
       "<table>\n",
       "<thead>\n",
       "<tr><th>#                            </th><th>int1  </th><th>float1  </th></tr>\n",
       "</thead>\n",
       "<tbody>\n",
       "<tr><td><i style='opacity: 0.6'>0</i></td><td>1     </td><td>3.14    </td></tr>\n",
       "<tr><td><i style='opacity: 0.6'>1</i></td><td>--    </td><td>--      </td></tr>\n",
       "</tbody>\n",
       "</table>"
      ],
      "text/plain": [
       "  #  int1    float1\n",
       "  0  1       3.14\n",
       "  1  --      --"
      ]
     },
     "execution_count": 13,
     "metadata": {},
     "output_type": "execute_result"
    }
   ],
   "source": [
    "df_num2 = vaex.from_arrays(\n",
    "    int1=np.ma.array([1, 0], mask=[0, 1], dtype=int),\n",
    "    float1=np.ma.array([3.14, 0], mask=[False, True], dtype=float),\n",
    ")\n",
    "df_num2"
   ]
  },
  {
   "cell_type": "code",
   "execution_count": 14,
   "id": "2bff8cc7-e87c-49a6-8ccc-ed81343b4cb1",
   "metadata": {},
   "outputs": [
    {
     "data": {
      "text/plain": [
       "int32"
      ]
     },
     "execution_count": 14,
     "metadata": {},
     "output_type": "execute_result"
    },
    {
     "data": {
      "text/plain": [
       "'i'"
      ]
     },
     "execution_count": 14,
     "metadata": {},
     "output_type": "execute_result"
    },
    {
     "data": {
      "text/plain": [
       "True"
      ]
     },
     "execution_count": 14,
     "metadata": {},
     "output_type": "execute_result"
    },
    {
     "data": {
      "text/plain": [
       "array([False,  True])"
      ]
     },
     "execution_count": 14,
     "metadata": {},
     "output_type": "execute_result"
    }
   ],
   "source": [
    "df_num2.int1.dtype\n",
    "df_num2.int1.dtype.kind\n",
    "df_num2.int1.is_masked\n",
    "df_num2.int1.values.mask"
   ]
  },
  {
   "cell_type": "code",
   "execution_count": 15,
   "id": "d1378ecf-692f-4e57-8adc-d2b8465941e2",
   "metadata": {},
   "outputs": [
    {
     "data": {
      "text/plain": [
       "float64"
      ]
     },
     "execution_count": 15,
     "metadata": {},
     "output_type": "execute_result"
    },
    {
     "data": {
      "text/plain": [
       "'f'"
      ]
     },
     "execution_count": 15,
     "metadata": {},
     "output_type": "execute_result"
    },
    {
     "data": {
      "text/plain": [
       "True"
      ]
     },
     "execution_count": 15,
     "metadata": {},
     "output_type": "execute_result"
    },
    {
     "data": {
      "text/plain": [
       "array([False,  True])"
      ]
     },
     "execution_count": 15,
     "metadata": {},
     "output_type": "execute_result"
    },
    {
     "data": {
      "text/plain": [
       "array([1, 0])"
      ]
     },
     "execution_count": 15,
     "metadata": {},
     "output_type": "execute_result"
    }
   ],
   "source": [
    "df_num2.float1.dtype\n",
    "df_num2.float1.dtype.kind\n",
    "df_num2.float1.is_masked\n",
    "df_num2.float1.values.mask\n",
    "df_num2.int1.values.data"
   ]
  },
  {
   "cell_type": "markdown",
   "id": "bd980842-efcf-4d64-900f-0b8d5f4f65cf",
   "metadata": {},
   "source": [
    "## Masked arrow array"
   ]
  },
  {
   "cell_type": "code",
   "execution_count": 16,
   "id": "593bfdf2-098f-4a48-960d-e2a4a6d036f2",
   "metadata": {},
   "outputs": [
    {
     "data": {
      "text/html": [
       "<table>\n",
       "<thead>\n",
       "<tr><th>#                            </th><th>n  </th></tr>\n",
       "</thead>\n",
       "<tbody>\n",
       "<tr><td><i style='opacity: 0.6'>0</i></td><td>0  </td></tr>\n",
       "<tr><td><i style='opacity: 0.6'>1</i></td><td>1  </td></tr>\n",
       "<tr><td><i style='opacity: 0.6'>2</i></td><td>2  </td></tr>\n",
       "<tr><td><i style='opacity: 0.6'>3</i></td><td>-- </td></tr>\n",
       "<tr><td><i style='opacity: 0.6'>4</i></td><td>0  </td></tr>\n",
       "</tbody>\n",
       "</table>"
      ],
      "text/plain": [
       "  #  n\n",
       "  0  0\n",
       "  1  1\n",
       "  2  2\n",
       "  3  --\n",
       "  4  0"
      ]
     },
     "execution_count": 16,
     "metadata": {},
     "output_type": "execute_result"
    }
   ],
   "source": [
    "import pyarrow as pa\n",
    "\n",
    "numpa = pa.array([0, 1, 2, None, 0], mask=np.array([0, 0, 0, 1, 0], dtype=bool))\n",
    "df_num3 = vaex.from_arrays(n=numpa)\n",
    "df_num3"
   ]
  },
  {
   "cell_type": "code",
   "execution_count": 17,
   "id": "8f308140-f1b1-4aa2-8ddd-2be8a39bb899",
   "metadata": {},
   "outputs": [
    {
     "data": {
      "text/plain": [
       "False"
      ]
     },
     "execution_count": 17,
     "metadata": {},
     "output_type": "execute_result"
    },
    {
     "data": {
      "text/plain": [
       "int64"
      ]
     },
     "execution_count": 17,
     "metadata": {},
     "output_type": "execute_result"
    },
    {
     "data": {
      "text/plain": [
       "'i'"
      ]
     },
     "execution_count": 17,
     "metadata": {},
     "output_type": "execute_result"
    },
    {
     "data": {
      "text/plain": [
       "Expression = n\n",
       "Length: 5 dtype: int64 (column)\n",
       "-------------------------------\n",
       "0   0\n",
       "1   1\n",
       "2   2\n",
       "3  --\n",
       "4   0"
      ]
     },
     "execution_count": 17,
     "metadata": {},
     "output_type": "execute_result"
    }
   ],
   "source": [
    "df_num3.n.is_masked # it should be masked!!\n",
    "df_num3.n.dtype\n",
    "df_num3.n.dtype.kind\n",
    "\n",
    "df_num3.n"
   ]
  },
  {
   "cell_type": "markdown",
   "id": "74cd6ebc-0ef7-4065-a80b-efddc3409147",
   "metadata": {},
   "source": [
    "## Nullable Arrow Array"
   ]
  },
  {
   "cell_type": "code",
   "execution_count": 18,
   "id": "40be412b-2dc3-4891-9db6-851e402a917f",
   "metadata": {},
   "outputs": [
    {
     "data": {
      "text/html": [
       "<table>\n",
       "<thead>\n",
       "<tr><th>#                            </th><th>m  </th></tr>\n",
       "</thead>\n",
       "<tbody>\n",
       "<tr><td><i style='opacity: 0.6'>0</i></td><td>0  </td></tr>\n",
       "<tr><td><i style='opacity: 0.6'>1</i></td><td>1  </td></tr>\n",
       "<tr><td><i style='opacity: 0.6'>2</i></td><td>2  </td></tr>\n",
       "<tr><td><i style='opacity: 0.6'>3</i></td><td>-- </td></tr>\n",
       "<tr><td><i style='opacity: 0.6'>4</i></td><td>0  </td></tr>\n",
       "</tbody>\n",
       "</table>"
      ],
      "text/plain": [
       "  #  m\n",
       "  0  0\n",
       "  1  1\n",
       "  2  2\n",
       "  3  --\n",
       "  4  0"
      ]
     },
     "execution_count": 18,
     "metadata": {},
     "output_type": "execute_result"
    }
   ],
   "source": [
    "m = pa.array([0, 1, 2, None, 0])\n",
    "df_num4 = vaex.from_arrays(m=m)\n",
    "df_num4"
   ]
  },
  {
   "cell_type": "code",
   "execution_count": 19,
   "id": "d91d3a39-3f57-4959-a5fc-2f2c5a90c5a7",
   "metadata": {},
   "outputs": [
    {
     "data": {
      "text/plain": [
       "False"
      ]
     },
     "execution_count": 19,
     "metadata": {},
     "output_type": "execute_result"
    },
    {
     "data": {
      "text/plain": [
       "int64"
      ]
     },
     "execution_count": 19,
     "metadata": {},
     "output_type": "execute_result"
    },
    {
     "data": {
      "text/plain": [
       "'i'"
      ]
     },
     "execution_count": 19,
     "metadata": {},
     "output_type": "execute_result"
    },
    {
     "data": {
      "text/plain": [
       "Expression = m\n",
       "Length: 5 dtype: int64 (column)\n",
       "-------------------------------\n",
       "0   0\n",
       "1   1\n",
       "2   2\n",
       "3  --\n",
       "4   0"
      ]
     },
     "execution_count": 19,
     "metadata": {},
     "output_type": "execute_result"
    }
   ],
   "source": [
    "df_num4.m.is_masked\n",
    "df_num4.m.dtype\n",
    "df_num4.m.dtype.kind\n",
    "\n",
    "df_num4.m"
   ]
  },
  {
   "cell_type": "markdown",
   "id": "ff2c53ef-4171-4a70-9c5b-5ee7fe5059dc",
   "metadata": {},
   "source": [
    "# Categorical missing"
   ]
  },
  {
   "cell_type": "code",
   "execution_count": 20,
   "id": "87e808da-4e0e-4fd2-9b41-ade4a63e600b",
   "metadata": {},
   "outputs": [
    {
     "data": {
      "text/html": [
       "<table>\n",
       "<thead>\n",
       "<tr><th>#                            </th><th style=\"text-align: right;\">  year</th><th style=\"text-align: right;\">  weekday</th></tr>\n",
       "</thead>\n",
       "<tbody>\n",
       "<tr><td><i style='opacity: 0.6'>0</i></td><td style=\"text-align: right;\">  2012</td><td style=\"text-align: right;\">        0</td></tr>\n",
       "<tr><td><i style='opacity: 0.6'>1</i></td><td style=\"text-align: right;\">  2013</td><td style=\"text-align: right;\">        4</td></tr>\n",
       "<tr><td><i style='opacity: 0.6'>2</i></td><td style=\"text-align: right;\">  2019</td><td style=\"text-align: right;\">        6</td></tr>\n",
       "</tbody>\n",
       "</table>"
      ],
      "text/plain": [
       "  #    year    weekday\n",
       "  0    2012          0\n",
       "  1    2013          4\n",
       "  2    2019          6"
      ]
     },
     "execution_count": 20,
     "metadata": {},
     "output_type": "execute_result"
    },
    {
     "data": {
      "text/plain": [
       "int32"
      ]
     },
     "execution_count": 20,
     "metadata": {},
     "output_type": "execute_result"
    },
    {
     "data": {
      "text/plain": [
       "int32"
      ]
     },
     "execution_count": 20,
     "metadata": {},
     "output_type": "execute_result"
    },
    {
     "data": {
      "text/plain": [
       "True"
      ]
     },
     "execution_count": 20,
     "metadata": {},
     "output_type": "execute_result"
    },
    {
     "data": {
      "text/plain": [
       "True"
      ]
     },
     "execution_count": 20,
     "metadata": {},
     "output_type": "execute_result"
    }
   ],
   "source": [
    "# categorize\n",
    "# cant call the function on column with missing values!\n",
    "df1 = vaex.from_arrays(year=[2012, 2013, 2019], weekday=[0, 4, 6])\n",
    "df1 = df1.categorize('year', min_value=2012, max_value=2019)\n",
    "df1 = df1.categorize('weekday', labels=['Mon', 'Tue', 'Wed', 'Thu', 'Fri', 'Sat', 'Sun'])\n",
    "\n",
    "df1\n",
    "df1.year.dtype\n",
    "df1.weekday.dtype\n",
    "df1.is_category('year')\n",
    "df1.is_category('weekday')"
   ]
  },
  {
   "cell_type": "code",
   "execution_count": 21,
   "id": "18bda607-54e2-4dc1-883d-86080e4b006a",
   "metadata": {},
   "outputs": [
    {
     "data": {
      "text/html": [
       "<table>\n",
       "<thead>\n",
       "<tr><th>#                            </th><th>colors  </th></tr>\n",
       "</thead>\n",
       "<tbody>\n",
       "<tr><td><i style='opacity: 0.6'>0</i></td><td>0       </td></tr>\n",
       "<tr><td><i style='opacity: 0.6'>1</i></td><td>1       </td></tr>\n",
       "<tr><td><i style='opacity: 0.6'>2</i></td><td>2       </td></tr>\n",
       "<tr><td><i style='opacity: 0.6'>3</i></td><td>1       </td></tr>\n",
       "<tr><td><i style='opacity: 0.6'>4</i></td><td>--      </td></tr>\n",
       "</tbody>\n",
       "</table>"
      ],
      "text/plain": [
       "  #  colors\n",
       "  0  0\n",
       "  1  1\n",
       "  2  2\n",
       "  3  1\n",
       "  4  --"
      ]
     },
     "execution_count": 21,
     "metadata": {},
     "output_type": "execute_result"
    },
    {
     "data": {
      "text/plain": [
       "True"
      ]
     },
     "execution_count": 21,
     "metadata": {},
     "output_type": "execute_result"
    },
    {
     "data": {
      "text/plain": [
       "array([0, 1, 2, 1, 4], dtype=uint64)"
      ]
     },
     "execution_count": 21,
     "metadata": {},
     "output_type": "execute_result"
    },
    {
     "data": {
      "text/plain": [
       "array([False, False, False, False,  True])"
      ]
     },
     "execution_count": 21,
     "metadata": {},
     "output_type": "execute_result"
    },
    {
     "data": {
      "text/plain": [
       "uint64"
      ]
     },
     "execution_count": 21,
     "metadata": {},
     "output_type": "execute_result"
    },
    {
     "data": {
      "text/plain": [
       "'u'"
      ]
     },
     "execution_count": 21,
     "metadata": {},
     "output_type": "execute_result"
    },
    {
     "data": {
      "text/plain": [
       "True"
      ]
     },
     "execution_count": 21,
     "metadata": {},
     "output_type": "execute_result"
    }
   ],
   "source": [
    "# ordinal_encode!\n",
    "colors = ['red', 'green', 'blue', 'green', 'MISSING']\n",
    "mask   = [False, False,   False,   False,  True]\n",
    "colors = np.ma.array(colors, mask=mask)\n",
    "ds = vaex.from_arrays(colors=colors)\n",
    "df2 = ds.ordinal_encode('colors', ['red', 'green', 'blue'])\n",
    "\n",
    "df2\n",
    "df2.colors.is_masked\n",
    "df2.colors.values.data\n",
    "df2.colors.values.mask\n",
    "df2.colors.dtype\n",
    "df2.colors.dtype.kind\n",
    "df2.is_category('colors')"
   ]
  },
  {
   "cell_type": "code",
   "execution_count": 22,
   "id": "14a4fc38-4ca0-40bf-b8c4-79577762ec55",
   "metadata": {},
   "outputs": [
    {
     "data": {
      "text/html": [
       "<table>\n",
       "<thead>\n",
       "<tr><th>#                            </th><th>c   </th></tr>\n",
       "</thead>\n",
       "<tbody>\n",
       "<tr><td><i style='opacity: 0.6'>0</i></td><td>aap </td></tr>\n",
       "<tr><td><i style='opacity: 0.6'>1</i></td><td>noot</td></tr>\n",
       "<tr><td><i style='opacity: 0.6'>2</i></td><td>aap </td></tr>\n",
       "<tr><td><i style='opacity: 0.6'>3</i></td><td>noot</td></tr>\n",
       "<tr><td><i style='opacity: 0.6'>4</i></td><td>mies</td></tr>\n",
       "<tr><td><i style='opacity: 0.6'>5</i></td><td>aap </td></tr>\n",
       "<tr><td><i style='opacity: 0.6'>6</i></td><td>--  </td></tr>\n",
       "<tr><td><i style='opacity: 0.6'>7</i></td><td>mies</td></tr>\n",
       "</tbody>\n",
       "</table>"
      ],
      "text/plain": [
       "  #  c\n",
       "  0  aap\n",
       "  1  noot\n",
       "  2  aap\n",
       "  3  noot\n",
       "  4  mies\n",
       "  5  aap\n",
       "  6  --\n",
       "  7  mies"
      ]
     },
     "execution_count": 22,
     "metadata": {},
     "output_type": "execute_result"
    },
    {
     "data": {
      "text/plain": [
       "False"
      ]
     },
     "execution_count": 22,
     "metadata": {},
     "output_type": "execute_result"
    },
    {
     "data": {
      "text/plain": [
       "dictionary<values=string, indices=int64, ordered=0>"
      ]
     },
     "execution_count": 22,
     "metadata": {},
     "output_type": "execute_result"
    },
    {
     "data": {
      "text/plain": [
       "'O'"
      ]
     },
     "execution_count": 22,
     "metadata": {},
     "output_type": "execute_result"
    },
    {
     "data": {
      "text/plain": [
       "True"
      ]
     },
     "execution_count": 22,
     "metadata": {},
     "output_type": "execute_result"
    }
   ],
   "source": [
    "# arrow dic\n",
    "indices = pa.array([0, 1, 0, 1, 2, 0, None, 2])\n",
    "dictionary = pa.array(['aap', 'noot', 'mies'])\n",
    "c = pa.DictionaryArray.from_arrays(indices, dictionary)\n",
    "df3 = vaex.from_arrays(c = c)\n",
    "\n",
    "df3\n",
    "df3.c.is_masked\n",
    "df3.c.dtype\n",
    "df3.c.dtype.kind\n",
    "df3.is_category('c')"
   ]
  },
  {
   "cell_type": "code",
   "execution_count": null,
   "id": "137186ec-a451-4209-bb0d-93197bdf1edb",
   "metadata": {},
   "outputs": [],
   "source": []
  }
 ],
 "metadata": {
  "kernelspec": {
   "display_name": "Python 3",
   "language": "python",
   "name": "python3"
  },
  "language_info": {
   "codemirror_mode": {
    "name": "ipython",
    "version": 3
   },
   "file_extension": ".py",
   "mimetype": "text/x-python",
   "name": "python",
   "nbconvert_exporter": "python",
   "pygments_lexer": "ipython3",
   "version": "3.9.5"
  }
 },
 "nbformat": 4,
 "nbformat_minor": 5
}
