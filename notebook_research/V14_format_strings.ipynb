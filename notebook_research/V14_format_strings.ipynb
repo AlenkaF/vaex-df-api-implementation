{
 "cells": [
  {
   "cell_type": "code",
   "execution_count": 1,
   "id": "60630919-3d88-4873-acae-dbf9db22abf7",
   "metadata": {},
   "outputs": [],
   "source": [
    "import numpy as np\n",
    "import pyarrow as pa\n",
    "import vaex\n",
    "\n",
    "%run vaex_implementation_v13.py\n",
    "%run pandas_implementation.py"
   ]
  },
  {
   "cell_type": "code",
   "execution_count": 2,
   "id": "c79b835f-7541-45b9-a227-dee7877ad5fb",
   "metadata": {},
   "outputs": [],
   "source": [
    "from IPython.core.interactiveshell import InteractiveShell\n",
    "InteractiveShell.ast_node_interactivity = \"all\""
   ]
  },
  {
   "cell_type": "markdown",
   "id": "c6780ecc-1e2f-445b-a6ba-32f9e1a4527b",
   "metadata": {},
   "source": [
    "# Numpy format string research"
   ]
  },
  {
   "cell_type": "code",
   "execution_count": 3,
   "id": "fecf9f36-0407-40b0-a994-09ce3e2510eb",
   "metadata": {},
   "outputs": [
    {
     "data": {
      "text/plain": [
       "dtype('int8')"
      ]
     },
     "execution_count": 3,
     "metadata": {},
     "output_type": "execute_result"
    }
   ],
   "source": [
    "dt1 = np.dtype(np.int8) \n",
    "dt1"
   ]
  },
  {
   "cell_type": "code",
   "execution_count": 4,
   "id": "af6f36df-8a39-413c-a7b4-f372925cb304",
   "metadata": {},
   "outputs": [
    {
     "data": {
      "text/plain": [
       "'|'"
      ]
     },
     "execution_count": 4,
     "metadata": {},
     "output_type": "execute_result"
    },
    {
     "data": {
      "text/plain": [
       "1"
      ]
     },
     "execution_count": 4,
     "metadata": {},
     "output_type": "execute_result"
    },
    {
     "data": {
      "text/plain": [
       "'int8'"
      ]
     },
     "execution_count": 4,
     "metadata": {},
     "output_type": "execute_result"
    },
    {
     "data": {
      "text/plain": [
       "'i'"
      ]
     },
     "execution_count": 4,
     "metadata": {},
     "output_type": "execute_result"
    },
    {
     "data": {
      "text/plain": [
       "True"
      ]
     },
     "execution_count": 4,
     "metadata": {},
     "output_type": "execute_result"
    }
   ],
   "source": [
    "dt1.byteorder\n",
    "dt1.itemsize\n",
    "dt1.name\n",
    "dt1.kind\n",
    "dt1.type is np.int8"
   ]
  },
  {
   "cell_type": "code",
   "execution_count": 5,
   "id": "fc5c5b5d-5c01-4e72-9ca2-53fb65fb2fee",
   "metadata": {},
   "outputs": [
    {
     "data": {
      "text/plain": [
       "dtype('>i4')"
      ]
     },
     "execution_count": 5,
     "metadata": {},
     "output_type": "execute_result"
    }
   ],
   "source": [
    "dt2 = np.dtype('>i4')\n",
    "dt2"
   ]
  },
  {
   "cell_type": "code",
   "execution_count": 6,
   "id": "d314cdca-4e3a-4dca-a37d-fe2e1cc59a8f",
   "metadata": {},
   "outputs": [
    {
     "data": {
      "text/plain": [
       "'>'"
      ]
     },
     "execution_count": 6,
     "metadata": {},
     "output_type": "execute_result"
    },
    {
     "data": {
      "text/plain": [
       "4"
      ]
     },
     "execution_count": 6,
     "metadata": {},
     "output_type": "execute_result"
    },
    {
     "data": {
      "text/plain": [
       "'int32'"
      ]
     },
     "execution_count": 6,
     "metadata": {},
     "output_type": "execute_result"
    },
    {
     "data": {
      "text/plain": [
       "'i'"
      ]
     },
     "execution_count": 6,
     "metadata": {},
     "output_type": "execute_result"
    },
    {
     "data": {
      "text/plain": [
       "True"
      ]
     },
     "execution_count": 6,
     "metadata": {},
     "output_type": "execute_result"
    }
   ],
   "source": [
    "dt2.byteorder\n",
    "dt2.itemsize\n",
    "dt2.name\n",
    "dt2.kind\n",
    "dt2.type is np.int32"
   ]
  },
  {
   "cell_type": "code",
   "execution_count": 7,
   "id": "a05295b4-3974-4e65-a073-c3a126b0d0b1",
   "metadata": {},
   "outputs": [
    {
     "data": {
      "text/plain": [
       "dtype('bool')"
      ]
     },
     "execution_count": 7,
     "metadata": {},
     "output_type": "execute_result"
    }
   ],
   "source": [
    "dt3 = np.dtype('|b1')\n",
    "dt3"
   ]
  },
  {
   "cell_type": "code",
   "execution_count": 8,
   "id": "87bd2cbe-4394-474c-9271-242518c6280e",
   "metadata": {},
   "outputs": [
    {
     "data": {
      "text/plain": [
       "'|'"
      ]
     },
     "execution_count": 8,
     "metadata": {},
     "output_type": "execute_result"
    },
    {
     "data": {
      "text/plain": [
       "1"
      ]
     },
     "execution_count": 8,
     "metadata": {},
     "output_type": "execute_result"
    },
    {
     "data": {
      "text/plain": [
       "'bool'"
      ]
     },
     "execution_count": 8,
     "metadata": {},
     "output_type": "execute_result"
    },
    {
     "data": {
      "text/plain": [
       "'b'"
      ]
     },
     "execution_count": 8,
     "metadata": {},
     "output_type": "execute_result"
    },
    {
     "data": {
      "text/plain": [
       "True"
      ]
     },
     "execution_count": 8,
     "metadata": {},
     "output_type": "execute_result"
    }
   ],
   "source": [
    "dt3.byteorder\n",
    "dt3.itemsize\n",
    "dt3.name\n",
    "dt3.kind\n",
    "dt3.type is np.bool_"
   ]
  },
  {
   "cell_type": "markdown",
   "id": "39868cf1-33a0-4752-9329-d6661aae2b63",
   "metadata": {},
   "source": [
    "# Vaex"
   ]
  },
  {
   "cell_type": "code",
   "execution_count": 9,
   "id": "3e8b8979-db0b-4c96-bfcf-3329b93ffbb0",
   "metadata": {},
   "outputs": [
    {
     "data": {
      "text/html": [
       "<table>\n",
       "<thead>\n",
       "<tr><th>#                            </th><th style=\"text-align: right;\">  numpy_int</th><th style=\"text-align: right;\">  numpy_float</th><th>numpy_bool  </th><th>numpy_int_m  </th><th>numpy_float_m  </th><th>numpy_bool_m  </th><th style=\"text-align: right;\">  arrow_int</th><th style=\"text-align: right;\">  arrow_float</th><th>arrow_bool  </th><th>arrow_int_m  </th><th>arrow_float_m  </th><th>arrow_bool_m  </th><th>arrow_dict  </th><th>arrow_dict_m  </th></tr>\n",
       "</thead>\n",
       "<tbody>\n",
       "<tr><td><i style='opacity: 0.6'>0</i></td><td style=\"text-align: right;\">          1</td><td style=\"text-align: right;\">          1.5</td><td>True        </td><td>1            </td><td>1.5            </td><td>--            </td><td style=\"text-align: right;\">          0</td><td style=\"text-align: right;\">          0.5</td><td>True        </td><td>0            </td><td>0.5            </td><td>True          </td><td>aap         </td><td>aap           </td></tr>\n",
       "<tr><td><i style='opacity: 0.6'>1</i></td><td style=\"text-align: right;\">          2</td><td style=\"text-align: right;\">          2.5</td><td>False       </td><td>2            </td><td>--             </td><td>False         </td><td style=\"text-align: right;\">          1</td><td style=\"text-align: right;\">          1.5</td><td>False       </td><td>1            </td><td>1.5            </td><td>False         </td><td>noot        </td><td>--            </td></tr>\n",
       "<tr><td><i style='opacity: 0.6'>2</i></td><td style=\"text-align: right;\">          3</td><td style=\"text-align: right;\">          3.5</td><td>True        </td><td>3            </td><td>--             </td><td>True          </td><td style=\"text-align: right;\">          2</td><td style=\"text-align: right;\">          2.5</td><td>True        </td><td>2            </td><td>2.5            </td><td>--            </td><td>mies        </td><td>--            </td></tr>\n",
       "<tr><td><i style='opacity: 0.6'>3</i></td><td style=\"text-align: right;\">          4</td><td style=\"text-align: right;\">          4.5</td><td>True        </td><td>--           </td><td>--             </td><td>--            </td><td style=\"text-align: right;\">          3</td><td style=\"text-align: right;\">          3.5</td><td>False       </td><td>--           </td><td>--             </td><td>--            </td><td>aap         </td><td>aap           </td></tr>\n",
       "<tr><td><i style='opacity: 0.6'>4</i></td><td style=\"text-align: right;\">          0</td><td style=\"text-align: right;\">          0  </td><td>True        </td><td>--           </td><td>0.0            </td><td>True          </td><td style=\"text-align: right;\">          0</td><td style=\"text-align: right;\">          0.5</td><td>True        </td><td>--           </td><td>0.5            </td><td>True          </td><td>noot        </td><td>noot          </td></tr>\n",
       "</tbody>\n",
       "</table>"
      ],
      "text/plain": [
       "  #    numpy_int    numpy_float  numpy_bool    numpy_int_m    numpy_float_m    numpy_bool_m      arrow_int    arrow_float  arrow_bool    arrow_int_m    arrow_float_m    arrow_bool_m    arrow_dict    arrow_dict_m\n",
       "  0            1            1.5  True          1              1.5              --                        0            0.5  True          0              0.5              True            aap           aap\n",
       "  1            2            2.5  False         2              --               False                     1            1.5  False         1              1.5              False           noot          --\n",
       "  2            3            3.5  True          3              --               True                      2            2.5  True          2              2.5              --              mies          --\n",
       "  3            4            4.5  True          --             --               --                        3            3.5  False         --             --               --              aap           aap\n",
       "  4            0            0    True          --             0.0              True                      0            0.5  True          --             0.5              True            noot          noot"
      ]
     },
     "execution_count": 9,
     "metadata": {},
     "output_type": "execute_result"
    }
   ],
   "source": [
    "indices = pa.array([0, 1, 2, 1, 2])\n",
    "dictionary = pa.array(['foo', 'bar', 'baz'])\n",
    "dict_array = pa.DictionaryArray.from_arrays(indices, dictionary)\n",
    "\n",
    "the_df = vaex.from_arrays(\n",
    "    numpy_int=np.array([1, 2, 3, 4, 0]), # Numpy int\n",
    "    numpy_float=np.array([1.5, 2.5, 3.5, 4.5, 0]), # Numpy float\n",
    "    numpy_bool=np.array([True, False, True, True, True]), # Numpy bool\n",
    "    \n",
    "    numpy_int_m=np.ma.array([1, 2, 3, 4, 0], mask=[0, 0, 0, 1, 1], dtype=int), # Numpy masked int\n",
    "    numpy_float_m=np.ma.array([1.5, 2.5, 3.5, 4.5, 0], mask=[False, True, True, True, False], dtype=float), # Numpy masked float\n",
    "    numpy_bool_m=np.ma.array([True, False, True, True, True], mask=[1, 0, 0, 1, 0], dtype=bool), # Numpy masked bool\n",
    "    \n",
    "    arrow_int = pa.array([0, 1, 2, 3, 0]), # Arrow integer\n",
    "    arrow_float = pa.array([0.5, 1.5, 2.5, 3.5, 0.5]), # Arrow integer\n",
    "    arrow_bool = pa.array([True, False, True, False, True]), # Arrow integer\n",
    "    \n",
    "    arrow_int_m = pa.array([0, 1, 2, None, 0], mask=np.array([0, 0, 0, 1, 1], dtype=bool)), # Arrow masked integer\n",
    "    arrow_float_m = pa.array([0.5, 1.5, 2.5, None, 0.5], mask=np.array([0, 0, 0, 1, 0], dtype=bool)), # Arrow masked integer\n",
    "    arrow_bool_m = pa.array([True, False, True, None, True], mask=np.array([0, 0, 1, 1, 0], dtype=bool)), # Arrow masked integer\n",
    "    \n",
    "    arrow_dict = pa.DictionaryArray.from_arrays(pa.array([0, 1, 2, 0, 1]), pa.array(['aap', 'noot', 'mies'])), # arrow dictionary\n",
    "    arrow_dict_m = pa.DictionaryArray.from_arrays(pa.array([0, 1, 2, 0, 1], mask=np.array([0, 1, 1, 0, 0], dtype=bool)), pa.array(['aap', 'noot', 'mies'])) # arrow dictionary masked\n",
    ")\n",
    "add_df = vaex.from_arrays(\n",
    "    vaex_cat = np.ma.array(['red', 'green', 'blue', 'green', 'MISSING'], mask=[False, False, True, False, False]) # Vaex dictionary\n",
    ")\n",
    "add_df = add_df.ordinal_encode('vaex_cat', ['red', 'green', 'blue'])\n",
    "the_df"
   ]
  },
  {
   "cell_type": "code",
   "execution_count": 10,
   "id": "49c8b211-dc5d-4721-8c1a-1cb3eb683157",
   "metadata": {},
   "outputs": [
    {
     "name": "stdout",
     "output_type": "stream",
     "text": [
      "(<_DtypeKind.INT: 0>, 32, '<i4', '=')\n",
      "(<_DtypeKind.FLOAT: 2>, 64, '<f8', '=')\n",
      "(<_DtypeKind.BOOL: 20>, 8, '|b1', '|')\n",
      "(<_DtypeKind.INT: 0>, 32, '<i4', '=')\n",
      "(<_DtypeKind.FLOAT: 2>, 64, '<f8', '=')\n",
      "(<_DtypeKind.BOOL: 20>, 8, '|b1', '|')\n",
      "(<_DtypeKind.INT: 0>, 64, '<i8', '=')\n",
      "(<_DtypeKind.FLOAT: 2>, 64, '<f8', '=')\n",
      "(<_DtypeKind.BOOL: 20>, 8, '|b1', '|')\n",
      "(<_DtypeKind.INT: 0>, 64, '<i8', '=')\n",
      "(<_DtypeKind.FLOAT: 2>, 64, '<f8', '=')\n",
      "(<_DtypeKind.BOOL: 20>, 8, '|b1', '|')\n",
      "(<_DtypeKind.CATEGORICAL: 23>, 64, 'u', '=')\n",
      "(<_DtypeKind.CATEGORICAL: 23>, 64, 'u', '=')\n"
     ]
    }
   ],
   "source": [
    "for col in the_df.get_column_names():\n",
    "    column = _VaexColumn(the_df[col])\n",
    "    print(column.dtype)"
   ]
  },
  {
   "cell_type": "code",
   "execution_count": 11,
   "id": "e3758006-4fad-4d89-bdb7-6816a4def732",
   "metadata": {},
   "outputs": [],
   "source": [
    "%run vaex_implementation_v14.py"
   ]
  },
  {
   "cell_type": "code",
   "execution_count": 12,
   "id": "a44b3653-6ff5-46a1-b261-72d578565438",
   "metadata": {},
   "outputs": [
    {
     "name": "stdout",
     "output_type": "stream",
     "text": [
      "(<_DtypeKind.INT: 0>, 32, 'i', '=')\n",
      "(<_DtypeKind.FLOAT: 2>, 64, 'g', '=')\n",
      "(<_DtypeKind.BOOL: 20>, 8, 'b', '|')\n",
      "(<_DtypeKind.INT: 0>, 32, 'i', '=')\n",
      "(<_DtypeKind.FLOAT: 2>, 64, 'g', '=')\n",
      "(<_DtypeKind.BOOL: 20>, 8, 'b', '|')\n",
      "(<_DtypeKind.INT: 0>, 64, 'l', '=')\n",
      "(<_DtypeKind.FLOAT: 2>, 64, 'g', '=')\n",
      "(<_DtypeKind.BOOL: 20>, 8, 'b', '|')\n",
      "(<_DtypeKind.INT: 0>, 64, 'l', '=')\n",
      "(<_DtypeKind.FLOAT: 2>, 64, 'g', '=')\n",
      "(<_DtypeKind.BOOL: 20>, 8, 'b', '|')\n",
      "(<_DtypeKind.CATEGORICAL: 23>, 64, 'u', '=')\n",
      "(<_DtypeKind.CATEGORICAL: 23>, 64, 'u', '=')\n"
     ]
    }
   ],
   "source": [
    "for col in the_df.get_column_names():\n",
    "    column = _VaexColumn(the_df[col])\n",
    "    print(column.dtype)"
   ]
  },
  {
   "cell_type": "code",
   "execution_count": 13,
   "id": "193484d0-a373-4321-a831-274e95568232",
   "metadata": {},
   "outputs": [
    {
     "data": {
      "text/html": [
       "<table>\n",
       "<thead>\n",
       "<tr><th>#                            </th><th style=\"text-align: right;\">  numpy_int</th><th style=\"text-align: right;\">  numpy_float</th><th>numpy_bool  </th><th>numpy_int_m  </th><th>numpy_float_m  </th><th>numpy_bool_m  </th><th style=\"text-align: right;\">  arrow_int</th><th style=\"text-align: right;\">  arrow_float</th><th>arrow_bool  </th><th>arrow_int_m  </th><th>arrow_float_m  </th><th>arrow_bool_m  </th><th>arrow_dict  </th><th>arrow_dict_m  </th></tr>\n",
       "</thead>\n",
       "<tbody>\n",
       "<tr><td><i style='opacity: 0.6'>0</i></td><td style=\"text-align: right;\">          1</td><td style=\"text-align: right;\">          1.5</td><td>True        </td><td>1            </td><td>1.5            </td><td>--            </td><td style=\"text-align: right;\">          0</td><td style=\"text-align: right;\">          0.5</td><td>True        </td><td>0            </td><td>0.5            </td><td>True          </td><td>aap         </td><td>aap           </td></tr>\n",
       "<tr><td><i style='opacity: 0.6'>1</i></td><td style=\"text-align: right;\">          2</td><td style=\"text-align: right;\">          2.5</td><td>False       </td><td>2            </td><td>--             </td><td>False         </td><td style=\"text-align: right;\">          1</td><td style=\"text-align: right;\">          1.5</td><td>False       </td><td>1            </td><td>1.5            </td><td>False         </td><td>noot        </td><td>--            </td></tr>\n",
       "<tr><td><i style='opacity: 0.6'>2</i></td><td style=\"text-align: right;\">          3</td><td style=\"text-align: right;\">          3.5</td><td>True        </td><td>3            </td><td>--             </td><td>True          </td><td style=\"text-align: right;\">          2</td><td style=\"text-align: right;\">          2.5</td><td>True        </td><td>2            </td><td>2.5            </td><td>--            </td><td>mies        </td><td>--            </td></tr>\n",
       "<tr><td><i style='opacity: 0.6'>3</i></td><td style=\"text-align: right;\">          4</td><td style=\"text-align: right;\">          4.5</td><td>True        </td><td>--           </td><td>--             </td><td>--            </td><td style=\"text-align: right;\">          3</td><td style=\"text-align: right;\">          3.5</td><td>False       </td><td>--           </td><td>--             </td><td>--            </td><td>aap         </td><td>aap           </td></tr>\n",
       "<tr><td><i style='opacity: 0.6'>4</i></td><td style=\"text-align: right;\">          0</td><td style=\"text-align: right;\">          0  </td><td>True        </td><td>--           </td><td>0.0            </td><td>True          </td><td style=\"text-align: right;\">          0</td><td style=\"text-align: right;\">          0.5</td><td>True        </td><td>--           </td><td>0.5            </td><td>True          </td><td>noot        </td><td>noot          </td></tr>\n",
       "</tbody>\n",
       "</table>"
      ],
      "text/plain": [
       "  #    numpy_int    numpy_float  numpy_bool    numpy_int_m    numpy_float_m    numpy_bool_m      arrow_int    arrow_float  arrow_bool    arrow_int_m    arrow_float_m    arrow_bool_m    arrow_dict    arrow_dict_m\n",
       "  0            1            1.5  True          1              1.5              --                        0            0.5  True          0              0.5              True            aap           aap\n",
       "  1            2            2.5  False         2              --               False                     1            1.5  False         1              1.5              False           noot          --\n",
       "  2            3            3.5  True          3              --               True                      2            2.5  True          2              2.5              --              mies          --\n",
       "  3            4            4.5  True          --             --               --                        3            3.5  False         --             --               --              aap           aap\n",
       "  4            0            0    True          --             0.0              True                      0            0.5  True          --             0.5              True            noot          noot"
      ]
     },
     "execution_count": 13,
     "metadata": {},
     "output_type": "execute_result"
    }
   ],
   "source": [
    "_from_dataframe_to_vaex(the_df.__dataframe__())"
   ]
  },
  {
   "cell_type": "code",
   "execution_count": 14,
   "id": "19d580f0-ebb0-4c92-b271-d01333af7985",
   "metadata": {},
   "outputs": [
    {
     "data": {
      "text/html": [
       "<table>\n",
       "<thead>\n",
       "<tr><th>#                            </th><th style=\"text-align: right;\">  numpy_int</th><th style=\"text-align: right;\">  numpy_float</th><th>numpy_bool  </th><th>numpy_int_m  </th><th>numpy_float_m  </th><th>numpy_bool_m  </th><th style=\"text-align: right;\">  arrow_int</th><th style=\"text-align: right;\">  arrow_float</th><th>arrow_bool  </th><th>arrow_int_m  </th><th>arrow_float_m  </th><th>arrow_bool_m  </th><th>arrow_dict  </th><th>arrow_dict_m  </th></tr>\n",
       "</thead>\n",
       "<tbody>\n",
       "<tr><td><i style='opacity: 0.6'>0</i></td><td style=\"text-align: right;\">          1</td><td style=\"text-align: right;\">          1.5</td><td>True        </td><td>1            </td><td>1.5            </td><td>--            </td><td style=\"text-align: right;\">          0</td><td style=\"text-align: right;\">          0.5</td><td>True        </td><td>0            </td><td>0.5            </td><td>True          </td><td>aap         </td><td>aap           </td></tr>\n",
       "<tr><td><i style='opacity: 0.6'>1</i></td><td style=\"text-align: right;\">          2</td><td style=\"text-align: right;\">          2.5</td><td>False       </td><td>2            </td><td>--             </td><td>False         </td><td style=\"text-align: right;\">          1</td><td style=\"text-align: right;\">          1.5</td><td>False       </td><td>1            </td><td>1.5            </td><td>False         </td><td>noot        </td><td>--            </td></tr>\n",
       "<tr><td><i style='opacity: 0.6'>2</i></td><td style=\"text-align: right;\">          3</td><td style=\"text-align: right;\">          3.5</td><td>True        </td><td>3            </td><td>--             </td><td>True          </td><td style=\"text-align: right;\">          2</td><td style=\"text-align: right;\">          2.5</td><td>True        </td><td>2            </td><td>2.5            </td><td>--            </td><td>mies        </td><td>--            </td></tr>\n",
       "<tr><td><i style='opacity: 0.6'>3</i></td><td style=\"text-align: right;\">          4</td><td style=\"text-align: right;\">          4.5</td><td>True        </td><td>--           </td><td>--             </td><td>--            </td><td style=\"text-align: right;\">          3</td><td style=\"text-align: right;\">          3.5</td><td>False       </td><td>--           </td><td>--             </td><td>--            </td><td>aap         </td><td>aap           </td></tr>\n",
       "<tr><td><i style='opacity: 0.6'>4</i></td><td style=\"text-align: right;\">          0</td><td style=\"text-align: right;\">          0  </td><td>True        </td><td>--           </td><td>0.0            </td><td>True          </td><td style=\"text-align: right;\">          0</td><td style=\"text-align: right;\">          0.5</td><td>True        </td><td>--           </td><td>0.5            </td><td>True          </td><td>noot        </td><td>noot          </td></tr>\n",
       "</tbody>\n",
       "</table>"
      ],
      "text/plain": [
       "  #    numpy_int    numpy_float  numpy_bool    numpy_int_m    numpy_float_m    numpy_bool_m      arrow_int    arrow_float  arrow_bool    arrow_int_m    arrow_float_m    arrow_bool_m    arrow_dict    arrow_dict_m\n",
       "  0            1            1.5  True          1              1.5              --                        0            0.5  True          0              0.5              True            aap           aap\n",
       "  1            2            2.5  False         2              --               False                     1            1.5  False         1              1.5              False           noot          --\n",
       "  2            3            3.5  True          3              --               True                      2            2.5  True          2              2.5              --              mies          --\n",
       "  3            4            4.5  True          --             --               --                        3            3.5  False         --             --               --              aap           aap\n",
       "  4            0            0    True          --             0.0              True                      0            0.5  True          --             0.5              True            noot          noot"
      ]
     },
     "execution_count": 14,
     "metadata": {},
     "output_type": "execute_result"
    }
   ],
   "source": [
    "the_df"
   ]
  },
  {
   "cell_type": "markdown",
   "id": "14e1681a-efff-4990-beac-9437c56d1a3d",
   "metadata": {},
   "source": [
    "# Pandas"
   ]
  },
  {
   "cell_type": "code",
   "execution_count": 15,
   "id": "99269570-7cd2-4f5f-a782-6e387bb9ccc0",
   "metadata": {},
   "outputs": [
    {
     "data": {
      "text/html": [
       "<div>\n",
       "<style scoped>\n",
       "    .dataframe tbody tr th:only-of-type {\n",
       "        vertical-align: middle;\n",
       "    }\n",
       "\n",
       "    .dataframe tbody tr th {\n",
       "        vertical-align: top;\n",
       "    }\n",
       "\n",
       "    .dataframe thead th {\n",
       "        text-align: right;\n",
       "    }\n",
       "</style>\n",
       "<table border=\"1\" class=\"dataframe\">\n",
       "  <thead>\n",
       "    <tr style=\"text-align: right;\">\n",
       "      <th></th>\n",
       "      <th>a</th>\n",
       "      <th>B</th>\n",
       "      <th>c</th>\n",
       "      <th>D</th>\n",
       "    </tr>\n",
       "  </thead>\n",
       "  <tbody>\n",
       "    <tr>\n",
       "      <th>0</th>\n",
       "      <td>1</td>\n",
       "      <td>3</td>\n",
       "      <td>1.5</td>\n",
       "      <td>a</td>\n",
       "    </tr>\n",
       "    <tr>\n",
       "      <th>1</th>\n",
       "      <td>2</td>\n",
       "      <td>4</td>\n",
       "      <td>2.5</td>\n",
       "      <td>b</td>\n",
       "    </tr>\n",
       "    <tr>\n",
       "      <th>2</th>\n",
       "      <td>3</td>\n",
       "      <td>5</td>\n",
       "      <td>3.5</td>\n",
       "      <td>cdef</td>\n",
       "    </tr>\n",
       "  </tbody>\n",
       "</table>\n",
       "</div>"
      ],
      "text/plain": [
       "   a  B    c     D\n",
       "0  1  3  1.5     a\n",
       "1  2  4  2.5     b\n",
       "2  3  5  3.5  cdef"
      ]
     },
     "execution_count": 15,
     "metadata": {},
     "output_type": "execute_result"
    }
   ],
   "source": [
    "dfp = pd.DataFrame(data=dict(a=[1, 2, 3], B=[3, 4, 5],\n",
    "                            c=[1.5, 2.5, 3.5], D=[\"a\", \"b\", \"cdef\"]))\n",
    "dfp[\"B\"] = dfp[\"B\"].astype(\"category\")\n",
    "dfp[\"D\"] = dfp[\"D\"].astype(\"object\")\n",
    "from_dataframe(dfp)"
   ]
  },
  {
   "cell_type": "code",
   "execution_count": 17,
   "id": "0b233f67-84a7-4e38-bbb0-1d307a220daf",
   "metadata": {},
   "outputs": [
    {
     "name": "stdout",
     "output_type": "stream",
     "text": [
      "(<_DtypeKind.INT: 0>, 64, 'l', '=')\n",
      "(23, 64, 'U', '=')\n",
      "(<_DtypeKind.FLOAT: 2>, 64, 'g', '=')\n",
      "(<_DtypeKind.STRING: 21>, 8, 'u', '=')\n"
     ]
    }
   ],
   "source": [
    "format_strings = {'a': 'l', 'B': 'U', 'c': 'g', 'D': 'u'}\n",
    "for col in dfp.columns.tolist():\n",
    "    column = _PandasColumn(dfp[col])\n",
    "    print(column.dtype)\n",
    "    assert column.dtype[2] == format_strings[col]"
   ]
  },
  {
   "cell_type": "code",
   "execution_count": null,
   "id": "a26b87ff-93d0-40d3-89ba-66db84677df7",
   "metadata": {},
   "outputs": [],
   "source": []
  }
 ],
 "metadata": {
  "kernelspec": {
   "display_name": "Python 3",
   "language": "python",
   "name": "python3"
  },
  "language_info": {
   "codemirror_mode": {
    "name": "ipython",
    "version": 3
   },
   "file_extension": ".py",
   "mimetype": "text/x-python",
   "name": "python",
   "nbconvert_exporter": "python",
   "pygments_lexer": "ipython3",
   "version": "3.9.5"
  }
 },
 "nbformat": 4,
 "nbformat_minor": 5
}
