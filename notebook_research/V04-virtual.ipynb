{
 "cells": [
  {
   "cell_type": "markdown",
   "id": "0fa1d758-e943-4160-a651-08f0a062dd6a",
   "metadata": {},
   "source": [
    "## Testing virtual column and datetime dtype\n",
    "**2021/08/12**"
   ]
  },
  {
   "cell_type": "code",
   "execution_count": 1,
   "id": "4e2c40b9-7d95-42de-bee6-338936c85e13",
   "metadata": {},
   "outputs": [],
   "source": [
    "%run vaex_implementation_v4.py"
   ]
  },
  {
   "cell_type": "code",
   "execution_count": 2,
   "id": "650424c9-207b-467d-b03f-dd71e3b414de",
   "metadata": {},
   "outputs": [
    {
     "data": {
      "text/html": [
       "<table>\n",
       "<thead>\n",
       "<tr><th>#                            </th><th style=\"text-align: right;\">  x</th><th style=\"text-align: right;\">   y</th></tr>\n",
       "</thead>\n",
       "<tbody>\n",
       "<tr><td><i style='opacity: 0.6'>0</i></td><td style=\"text-align: right;\">1.5</td><td style=\"text-align: right;\"> 9.2</td></tr>\n",
       "<tr><td><i style='opacity: 0.6'>1</i></td><td style=\"text-align: right;\">2.5</td><td style=\"text-align: right;\">10.5</td></tr>\n",
       "<tr><td><i style='opacity: 0.6'>2</i></td><td style=\"text-align: right;\">3.5</td><td style=\"text-align: right;\">11.8</td></tr>\n",
       "</tbody>\n",
       "</table>"
      ],
      "text/plain": [
       "  #    x     y\n",
       "  0  1.5   9.2\n",
       "  1  2.5  10.5\n",
       "  2  3.5  11.8"
      ]
     },
     "execution_count": 2,
     "metadata": {},
     "output_type": "execute_result"
    }
   ],
   "source": [
    "x = np.array([1.5, 2.5, 3.5])\n",
    "y = np.array([9.2, 10.5, 11.8])\n",
    "df = vaex.from_arrays(x=x, y=y)\n",
    "df"
   ]
  },
  {
   "cell_type": "code",
   "execution_count": 3,
   "id": "80eed476-f547-4bfa-bf9b-7744a49b85d4",
   "metadata": {},
   "outputs": [],
   "source": [
    "# Constructing a virtual column\n",
    "df['v'] = df.x + df.y*10"
   ]
  },
  {
   "cell_type": "code",
   "execution_count": 4,
   "id": "71c15a02-083b-4dd6-b4a3-e8d7ee031403",
   "metadata": {},
   "outputs": [
    {
     "data": {
      "text/html": [
       "<table>\n",
       "<thead>\n",
       "<tr><th>#                            </th><th style=\"text-align: right;\">  x</th><th style=\"text-align: right;\">   y</th><th style=\"text-align: right;\">    v</th></tr>\n",
       "</thead>\n",
       "<tbody>\n",
       "<tr><td><i style='opacity: 0.6'>0</i></td><td style=\"text-align: right;\">1.5</td><td style=\"text-align: right;\"> 9.2</td><td style=\"text-align: right;\"> 93.5</td></tr>\n",
       "<tr><td><i style='opacity: 0.6'>1</i></td><td style=\"text-align: right;\">2.5</td><td style=\"text-align: right;\">10.5</td><td style=\"text-align: right;\">107.5</td></tr>\n",
       "<tr><td><i style='opacity: 0.6'>2</i></td><td style=\"text-align: right;\">3.5</td><td style=\"text-align: right;\">11.8</td><td style=\"text-align: right;\">121.5</td></tr>\n",
       "</tbody>\n",
       "</table>"
      ],
      "text/plain": [
       "  #    x     y      v\n",
       "  0  1.5   9.2   93.5\n",
       "  1  2.5  10.5  107.5\n",
       "  2  3.5  11.8  121.5"
      ]
     },
     "execution_count": 4,
     "metadata": {},
     "output_type": "execute_result"
    }
   ],
   "source": [
    "df"
   ]
  },
  {
   "cell_type": "code",
   "execution_count": 5,
   "id": "a9c84622-a091-47a4-92e8-dd5d3db53f3e",
   "metadata": {},
   "outputs": [
    {
     "data": {
      "text/plain": [
       "Expression = v\n",
       "Length: 3 dtype: float64 (column)\n",
       "---------------------------------\n",
       "0   93.5\n",
       "1  107.5\n",
       "2  121.5"
      ]
     },
     "execution_count": 5,
     "metadata": {},
     "output_type": "execute_result"
    }
   ],
   "source": [
    "df.v"
   ]
  },
  {
   "cell_type": "code",
   "execution_count": 6,
   "id": "fb30e30e-b7ba-4b49-8672-12cae3bde338",
   "metadata": {},
   "outputs": [
    {
     "data": {
      "text/plain": [
       "Expression = x\n",
       "Length: 3 dtype: float64 (column)\n",
       "---------------------------------\n",
       "0  1.5\n",
       "1  2.5\n",
       "2  3.5"
      ]
     },
     "execution_count": 6,
     "metadata": {},
     "output_type": "execute_result"
    }
   ],
   "source": [
    "df.x"
   ]
  },
  {
   "cell_type": "code",
   "execution_count": 8,
   "id": "3a080aea-d351-439b-93c5-615ec7a727c7",
   "metadata": {},
   "outputs": [],
   "source": [
    "df.add_virtual_column(\"r\", \"sqrt(x**2 + y**2)\")"
   ]
  },
  {
   "cell_type": "code",
   "execution_count": 13,
   "id": "1aa4bea3-89fc-4b89-972e-ffb9048f461f",
   "metadata": {},
   "outputs": [
    {
     "data": {
      "text/html": [
       "<div>\n",
       "<style scoped>\n",
       "    .dataframe tbody tr th:only-of-type {\n",
       "        vertical-align: middle;\n",
       "    }\n",
       "\n",
       "    .dataframe tbody tr th {\n",
       "        vertical-align: top;\n",
       "    }\n",
       "\n",
       "    .dataframe thead th {\n",
       "        text-align: right;\n",
       "    }\n",
       "</style>\n",
       "<table border=\"1\" class=\"dataframe\">\n",
       "  <thead>\n",
       "    <tr style=\"text-align: right;\">\n",
       "      <th></th>\n",
       "      <th>x</th>\n",
       "      <th>y</th>\n",
       "      <th>v</th>\n",
       "      <th>r</th>\n",
       "    </tr>\n",
       "  </thead>\n",
       "  <tbody>\n",
       "    <tr>\n",
       "      <th>data_type</th>\n",
       "      <td>float64</td>\n",
       "      <td>float64</td>\n",
       "      <td>float64</td>\n",
       "      <td>float64</td>\n",
       "    </tr>\n",
       "    <tr>\n",
       "      <th>count</th>\n",
       "      <td>3</td>\n",
       "      <td>3</td>\n",
       "      <td>3</td>\n",
       "      <td>3</td>\n",
       "    </tr>\n",
       "    <tr>\n",
       "      <th>NA</th>\n",
       "      <td>0</td>\n",
       "      <td>0</td>\n",
       "      <td>0</td>\n",
       "      <td>0</td>\n",
       "    </tr>\n",
       "    <tr>\n",
       "      <th>mean</th>\n",
       "      <td>2.5</td>\n",
       "      <td>10.5</td>\n",
       "      <td>107.5</td>\n",
       "      <td>10.807708179237125</td>\n",
       "    </tr>\n",
       "    <tr>\n",
       "      <th>std</th>\n",
       "      <td>0.816497</td>\n",
       "      <td>1.061446</td>\n",
       "      <td>11.430952</td>\n",
       "      <td>1.219335</td>\n",
       "    </tr>\n",
       "    <tr>\n",
       "      <th>min</th>\n",
       "      <td>1.5</td>\n",
       "      <td>9.2</td>\n",
       "      <td>93.5</td>\n",
       "      <td>9.321481</td>\n",
       "    </tr>\n",
       "    <tr>\n",
       "      <th>max</th>\n",
       "      <td>3.5</td>\n",
       "      <td>11.8</td>\n",
       "      <td>121.5</td>\n",
       "      <td>12.308127</td>\n",
       "    </tr>\n",
       "  </tbody>\n",
       "</table>\n",
       "</div>"
      ],
      "text/plain": [
       "                  x         y          v                   r\n",
       "data_type   float64   float64    float64             float64\n",
       "count             3         3          3                   3\n",
       "NA                0         0          0                   0\n",
       "mean            2.5      10.5      107.5  10.807708179237125\n",
       "std        0.816497  1.061446  11.430952            1.219335\n",
       "min             1.5       9.2       93.5            9.321481\n",
       "max             3.5      11.8      121.5           12.308127"
      ]
     },
     "execution_count": 13,
     "metadata": {},
     "output_type": "execute_result"
    }
   ],
   "source": [
    "df.describe()"
   ]
  },
  {
   "cell_type": "code",
   "execution_count": 14,
   "id": "c6175ace-8bf8-458a-ae07-2f1896a255aa",
   "metadata": {},
   "outputs": [
    {
     "data": {
      "text/html": [
       "<div>\n",
       "<style scoped>\n",
       "    .dataframe tbody tr th:only-of-type {\n",
       "        vertical-align: middle;\n",
       "    }\n",
       "\n",
       "    .dataframe tbody tr th {\n",
       "        vertical-align: top;\n",
       "    }\n",
       "\n",
       "    .dataframe thead th {\n",
       "        text-align: right;\n",
       "    }\n",
       "</style>\n",
       "<table border=\"1\" class=\"dataframe\">\n",
       "  <thead>\n",
       "    <tr style=\"text-align: right;\">\n",
       "      <th></th>\n",
       "      <th>x</th>\n",
       "      <th>y</th>\n",
       "    </tr>\n",
       "  </thead>\n",
       "  <tbody>\n",
       "    <tr>\n",
       "      <th>data_type</th>\n",
       "      <td>float64</td>\n",
       "      <td>float64</td>\n",
       "    </tr>\n",
       "    <tr>\n",
       "      <th>count</th>\n",
       "      <td>3</td>\n",
       "      <td>3</td>\n",
       "    </tr>\n",
       "    <tr>\n",
       "      <th>NA</th>\n",
       "      <td>0</td>\n",
       "      <td>0</td>\n",
       "    </tr>\n",
       "    <tr>\n",
       "      <th>mean</th>\n",
       "      <td>2.5</td>\n",
       "      <td>10.5</td>\n",
       "    </tr>\n",
       "    <tr>\n",
       "      <th>std</th>\n",
       "      <td>0.816497</td>\n",
       "      <td>1.061446</td>\n",
       "    </tr>\n",
       "    <tr>\n",
       "      <th>min</th>\n",
       "      <td>1.5</td>\n",
       "      <td>9.2</td>\n",
       "    </tr>\n",
       "    <tr>\n",
       "      <th>max</th>\n",
       "      <td>3.5</td>\n",
       "      <td>11.8</td>\n",
       "    </tr>\n",
       "  </tbody>\n",
       "</table>\n",
       "</div>"
      ],
      "text/plain": [
       "                  x         y\n",
       "data_type   float64   float64\n",
       "count             3         3\n",
       "NA                0         0\n",
       "mean            2.5      10.5\n",
       "std        0.816497  1.061446\n",
       "min             1.5       9.2\n",
       "max             3.5      11.8"
      ]
     },
     "execution_count": 14,
     "metadata": {},
     "output_type": "execute_result"
    }
   ],
   "source": [
    "df.describe(virtual = False)"
   ]
  },
  {
   "cell_type": "code",
   "execution_count": 15,
   "id": "33ffb812-00d2-46b7-aae5-808f0b6ebc53",
   "metadata": {},
   "outputs": [
    {
     "data": {
      "text/plain": [
       "Expression = r\n",
       "Length: 3 dtype: float64 (column)\n",
       "---------------------------------\n",
       "0  9.32148\n",
       "1  10.7935\n",
       "2  12.3081"
      ]
     },
     "execution_count": 15,
     "metadata": {},
     "output_type": "execute_result"
    }
   ],
   "source": [
    "df.r"
   ]
  },
  {
   "cell_type": "code",
   "execution_count": 16,
   "id": "5167649d-2400-4ecb-8afc-84a49ff2cf57",
   "metadata": {},
   "outputs": [
    {
     "data": {
      "text/html": [
       "<table>\n",
       "<thead>\n",
       "<tr><th>#                            </th><th style=\"text-align: right;\">  x</th><th style=\"text-align: right;\">   y</th><th style=\"text-align: right;\">    v</th><th style=\"text-align: right;\">       r</th></tr>\n",
       "</thead>\n",
       "<tbody>\n",
       "<tr><td><i style='opacity: 0.6'>0</i></td><td style=\"text-align: right;\">1.5</td><td style=\"text-align: right;\"> 9.2</td><td style=\"text-align: right;\"> 93.5</td><td style=\"text-align: right;\"> 9.32148</td></tr>\n",
       "<tr><td><i style='opacity: 0.6'>1</i></td><td style=\"text-align: right;\">2.5</td><td style=\"text-align: right;\">10.5</td><td style=\"text-align: right;\">107.5</td><td style=\"text-align: right;\">10.7935 </td></tr>\n",
       "<tr><td><i style='opacity: 0.6'>2</i></td><td style=\"text-align: right;\">3.5</td><td style=\"text-align: right;\">11.8</td><td style=\"text-align: right;\">121.5</td><td style=\"text-align: right;\">12.3081 </td></tr>\n",
       "</tbody>\n",
       "</table>"
      ],
      "text/plain": [
       "  #    x     y      v         r\n",
       "  0  1.5   9.2   93.5   9.32148\n",
       "  1  2.5  10.5  107.5  10.7935\n",
       "  2  3.5  11.8  121.5  12.3081"
      ]
     },
     "execution_count": 16,
     "metadata": {},
     "output_type": "execute_result"
    }
   ],
   "source": [
    "# Try to call method from_datagrame on the dataframe with virtual column\n",
    "from_dataframe_to_vaex(df)"
   ]
  },
  {
   "cell_type": "code",
   "execution_count": 17,
   "id": "e5982dbe-6222-4e76-858e-50d816b444b2",
   "metadata": {},
   "outputs": [
    {
     "data": {
      "text/html": [
       "<div>\n",
       "<style scoped>\n",
       "    .dataframe tbody tr th:only-of-type {\n",
       "        vertical-align: middle;\n",
       "    }\n",
       "\n",
       "    .dataframe tbody tr th {\n",
       "        vertical-align: top;\n",
       "    }\n",
       "\n",
       "    .dataframe thead th {\n",
       "        text-align: right;\n",
       "    }\n",
       "</style>\n",
       "<table border=\"1\" class=\"dataframe\">\n",
       "  <thead>\n",
       "    <tr style=\"text-align: right;\">\n",
       "      <th></th>\n",
       "      <th>x</th>\n",
       "      <th>y</th>\n",
       "      <th>v</th>\n",
       "      <th>r</th>\n",
       "    </tr>\n",
       "  </thead>\n",
       "  <tbody>\n",
       "    <tr>\n",
       "      <th>data_type</th>\n",
       "      <td>float64</td>\n",
       "      <td>float64</td>\n",
       "      <td>float64</td>\n",
       "      <td>float64</td>\n",
       "    </tr>\n",
       "    <tr>\n",
       "      <th>count</th>\n",
       "      <td>3</td>\n",
       "      <td>3</td>\n",
       "      <td>3</td>\n",
       "      <td>3</td>\n",
       "    </tr>\n",
       "    <tr>\n",
       "      <th>NA</th>\n",
       "      <td>0</td>\n",
       "      <td>0</td>\n",
       "      <td>0</td>\n",
       "      <td>0</td>\n",
       "    </tr>\n",
       "    <tr>\n",
       "      <th>mean</th>\n",
       "      <td>2.5</td>\n",
       "      <td>10.5</td>\n",
       "      <td>107.5</td>\n",
       "      <td>107.5</td>\n",
       "    </tr>\n",
       "    <tr>\n",
       "      <th>std</th>\n",
       "      <td>0.816497</td>\n",
       "      <td>1.061446</td>\n",
       "      <td>11.430952</td>\n",
       "      <td>11.430952</td>\n",
       "    </tr>\n",
       "    <tr>\n",
       "      <th>min</th>\n",
       "      <td>1.5</td>\n",
       "      <td>9.2</td>\n",
       "      <td>93.5</td>\n",
       "      <td>93.5</td>\n",
       "    </tr>\n",
       "    <tr>\n",
       "      <th>max</th>\n",
       "      <td>3.5</td>\n",
       "      <td>11.8</td>\n",
       "      <td>121.5</td>\n",
       "      <td>121.5</td>\n",
       "    </tr>\n",
       "  </tbody>\n",
       "</table>\n",
       "</div>"
      ],
      "text/plain": [
       "                  x         y          v          r\n",
       "data_type   float64   float64    float64    float64\n",
       "count             3         3          3          3\n",
       "NA                0         0          0          0\n",
       "mean            2.5      10.5      107.5      107.5\n",
       "std        0.816497  1.061446  11.430952  11.430952\n",
       "min             1.5       9.2       93.5       93.5\n",
       "max             3.5      11.8      121.5      121.5"
      ]
     },
     "execution_count": 17,
     "metadata": {},
     "output_type": "execute_result"
    }
   ],
   "source": [
    "from_dataframe_to_vaex(df).describe(virtual = False)"
   ]
  },
  {
   "cell_type": "code",
   "execution_count": 18,
   "id": "2dd51778-9a7f-4d66-a5a1-306f8126e635",
   "metadata": {},
   "outputs": [
    {
     "data": {
      "text/plain": [
       "Expression = r\n",
       "Length: 3 dtype: float64 (column)\n",
       "---------------------------------\n",
       "0  9.32148\n",
       "1  10.7935\n",
       "2  12.3081"
      ]
     },
     "execution_count": 18,
     "metadata": {},
     "output_type": "execute_result"
    }
   ],
   "source": [
    "from_dataframe_to_vaex(df).r"
   ]
  },
  {
   "cell_type": "code",
   "execution_count": 19,
   "id": "5c4a3ba2-d8cf-452e-948c-e8adb28266c8",
   "metadata": {},
   "outputs": [],
   "source": [
    "# Looks like it works!"
   ]
  },
  {
   "cell_type": "code",
   "execution_count": 20,
   "id": "9f3cbbc9-7518-4228-8d79-f4fe2cd66791",
   "metadata": {},
   "outputs": [],
   "source": [
    "# Lets play around with datetime (not implemented yet!)"
   ]
  },
  {
   "cell_type": "code",
   "execution_count": 21,
   "id": "7cf0d2c7-1a23-498e-bcf3-b2e992344c6c",
   "metadata": {},
   "outputs": [
    {
     "data": {
      "text/html": [
       "<table>\n",
       "<thead>\n",
       "<tr><th>#                             </th><th>t         </th><th>y  </th></tr>\n",
       "</thead>\n",
       "<tbody>\n",
       "<tr><td><i style='opacity: 0.6'>0</i> </td><td>2015-01-01</td><td>0  </td></tr>\n",
       "<tr><td><i style='opacity: 0.6'>1</i> </td><td>2015-01-02</td><td>1  </td></tr>\n",
       "<tr><td><i style='opacity: 0.6'>2</i> </td><td>2015-01-03</td><td>2  </td></tr>\n",
       "<tr><td><i style='opacity: 0.6'>3</i> </td><td>2015-01-04</td><td>3  </td></tr>\n",
       "<tr><td><i style='opacity: 0.6'>4</i> </td><td>2015-01-05</td><td>4  </td></tr>\n",
       "<tr><td>...                           </td><td>...       </td><td>...</td></tr>\n",
       "<tr><td><i style='opacity: 0.6'>26</i></td><td>2015-01-27</td><td>26 </td></tr>\n",
       "<tr><td><i style='opacity: 0.6'>27</i></td><td>2015-01-28</td><td>27 </td></tr>\n",
       "<tr><td><i style='opacity: 0.6'>28</i></td><td>2015-01-29</td><td>28 </td></tr>\n",
       "<tr><td><i style='opacity: 0.6'>29</i></td><td>2015-01-30</td><td>29 </td></tr>\n",
       "<tr><td><i style='opacity: 0.6'>30</i></td><td>2015-01-31</td><td>30 </td></tr>\n",
       "</tbody>\n",
       "</table>"
      ],
      "text/plain": [
       "#    t           y\n",
       "0    2015-01-01  0\n",
       "1    2015-01-02  1\n",
       "2    2015-01-03  2\n",
       "3    2015-01-04  3\n",
       "4    2015-01-05  4\n",
       "...  ...         ...\n",
       "26   2015-01-27  26\n",
       "27   2015-01-28  27\n",
       "28   2015-01-29  28\n",
       "29   2015-01-30  29\n",
       "30   2015-01-31  30"
      ]
     },
     "execution_count": 21,
     "metadata": {},
     "output_type": "execute_result"
    }
   ],
   "source": [
    "import vaex\n",
    "import numpy as np\n",
    "t = np.arange('2015-01-01', '2015-02-01', dtype=np.datetime64)\n",
    "y = np.arange(len(t))\n",
    "df2 = vaex.from_arrays(t=t, y=y)\n",
    "df2"
   ]
  },
  {
   "cell_type": "code",
   "execution_count": 22,
   "id": "70eeacfe-dfe1-4bbf-acbe-44ca918dfb0d",
   "metadata": {},
   "outputs": [
    {
     "ename": "NotImplementedError",
     "evalue": "Data type datetime64[D] not handled yet",
     "output_type": "error",
     "traceback": [
      "\u001b[1;31m---------------------------------------------------------------------------\u001b[0m",
      "\u001b[1;31mNotImplementedError\u001b[0m                       Traceback (most recent call last)",
      "\u001b[1;32m<ipython-input-22-9bf58311d644>\u001b[0m in \u001b[0;36m<module>\u001b[1;34m\u001b[0m\n\u001b[1;32m----> 1\u001b[1;33m \u001b[0mfrom_dataframe_to_vaex\u001b[0m\u001b[1;33m(\u001b[0m\u001b[0mdf2\u001b[0m\u001b[1;33m)\u001b[0m\u001b[1;33m\u001b[0m\u001b[1;33m\u001b[0m\u001b[0m\n\u001b[0m",
      "\u001b[1;32m~\\Documents\\Python Scripts\\vaex_implementation_v4.py\u001b[0m in \u001b[0;36mfrom_dataframe_to_vaex\u001b[1;34m(df)\u001b[0m\n\u001b[0;32m     23\u001b[0m         \u001b[1;32mraise\u001b[0m \u001b[0mValueError\u001b[0m\u001b[1;33m(\u001b[0m\u001b[1;34m\"`df` does not support __dataframe__\"\u001b[0m\u001b[1;33m)\u001b[0m\u001b[1;33m\u001b[0m\u001b[1;33m\u001b[0m\u001b[0m\n\u001b[0;32m     24\u001b[0m \u001b[1;33m\u001b[0m\u001b[0m\n\u001b[1;32m---> 25\u001b[1;33m     \u001b[1;32mreturn\u001b[0m \u001b[0m_from_dataframe_to_vaex\u001b[0m\u001b[1;33m(\u001b[0m\u001b[0mdf\u001b[0m\u001b[1;33m.\u001b[0m\u001b[0m__dataframe__\u001b[0m\u001b[1;33m(\u001b[0m\u001b[1;33m)\u001b[0m\u001b[1;33m)\u001b[0m\u001b[1;33m\u001b[0m\u001b[1;33m\u001b[0m\u001b[0m\n\u001b[0m\u001b[0;32m     26\u001b[0m \u001b[1;33m\u001b[0m\u001b[0m\n\u001b[0;32m     27\u001b[0m \u001b[1;32mdef\u001b[0m \u001b[0m_from_dataframe_to_vaex\u001b[0m\u001b[1;33m(\u001b[0m\u001b[0mdf\u001b[0m\u001b[1;33m)\u001b[0m\u001b[1;33m:\u001b[0m\u001b[1;33m\u001b[0m\u001b[1;33m\u001b[0m\u001b[0m\n",
      "\u001b[1;32m~\\Documents\\Python Scripts\\vaex_implementation_v4.py\u001b[0m in \u001b[0;36m_from_dataframe_to_vaex\u001b[1;34m(df)\u001b[0m\n\u001b[0;32m     46\u001b[0m             \u001b[1;32mraise\u001b[0m \u001b[0mNotImplementedError\u001b[0m\u001b[1;33m(\u001b[0m\u001b[1;34mf\"Column names must be string (not {name}).\"\u001b[0m\u001b[1;33m)\u001b[0m\u001b[1;33m\u001b[0m\u001b[1;33m\u001b[0m\u001b[0m\n\u001b[0;32m     47\u001b[0m \u001b[1;33m\u001b[0m\u001b[0m\n\u001b[1;32m---> 48\u001b[1;33m         \u001b[1;32mif\u001b[0m \u001b[0mcol\u001b[0m\u001b[1;33m.\u001b[0m\u001b[0mdtype\u001b[0m\u001b[1;33m[\u001b[0m\u001b[1;36m0\u001b[0m\u001b[1;33m]\u001b[0m \u001b[1;32min\u001b[0m \u001b[1;33m(\u001b[0m\u001b[0m_k\u001b[0m\u001b[1;33m.\u001b[0m\u001b[0mINT\u001b[0m\u001b[1;33m,\u001b[0m \u001b[0m_k\u001b[0m\u001b[1;33m.\u001b[0m\u001b[0mUINT\u001b[0m\u001b[1;33m,\u001b[0m \u001b[0m_k\u001b[0m\u001b[1;33m.\u001b[0m\u001b[0mFLOAT\u001b[0m\u001b[1;33m,\u001b[0m \u001b[0m_k\u001b[0m\u001b[1;33m.\u001b[0m\u001b[0mBOOL\u001b[0m\u001b[1;33m)\u001b[0m\u001b[1;33m:\u001b[0m\u001b[1;33m\u001b[0m\u001b[1;33m\u001b[0m\u001b[0m\n\u001b[0m\u001b[0;32m     49\u001b[0m             \u001b[1;31m# Simple numerical or bool dtype, turn into numpy array\u001b[0m\u001b[1;33m\u001b[0m\u001b[1;33m\u001b[0m\u001b[1;33m\u001b[0m\u001b[0m\n\u001b[0;32m     50\u001b[0m             \u001b[0mcolumns\u001b[0m\u001b[1;33m[\u001b[0m\u001b[0mname\u001b[0m\u001b[1;33m]\u001b[0m \u001b[1;33m=\u001b[0m \u001b[0mconvert_column_to_ndarray\u001b[0m\u001b[1;33m(\u001b[0m\u001b[0mcol\u001b[0m\u001b[1;33m)\u001b[0m\u001b[1;33m\u001b[0m\u001b[1;33m\u001b[0m\u001b[0m\n",
      "\u001b[1;32mc:\\users\\alenka\\vaex\\packages\\vaex-core\\vaex\\dataframe_protocol.py\u001b[0m in \u001b[0;36mdtype\u001b[1;34m(self)\u001b[0m\n\u001b[0;32m    269\u001b[0m         \u001b[0mdtype\u001b[0m \u001b[1;33m=\u001b[0m \u001b[0mself\u001b[0m\u001b[1;33m.\u001b[0m\u001b[0m_col\u001b[0m\u001b[1;33m.\u001b[0m\u001b[0mdtype\u001b[0m\u001b[1;33m\u001b[0m\u001b[1;33m\u001b[0m\u001b[0m\n\u001b[0;32m    270\u001b[0m \u001b[1;33m\u001b[0m\u001b[0m\n\u001b[1;32m--> 271\u001b[1;33m         \u001b[1;32mreturn\u001b[0m \u001b[0mself\u001b[0m\u001b[1;33m.\u001b[0m\u001b[0m_dtype_from_vaexdtype\u001b[0m\u001b[1;33m(\u001b[0m\u001b[0mdtype\u001b[0m\u001b[1;33m,\u001b[0m \u001b[0mbool_c\u001b[0m\u001b[1;33m)\u001b[0m\u001b[1;33m\u001b[0m\u001b[1;33m\u001b[0m\u001b[0m\n\u001b[0m\u001b[0;32m    272\u001b[0m \u001b[1;33m\u001b[0m\u001b[0m\n\u001b[0;32m    273\u001b[0m     \u001b[1;32mdef\u001b[0m \u001b[0m_dtype_from_vaexdtype\u001b[0m\u001b[1;33m(\u001b[0m\u001b[0mself\u001b[0m\u001b[1;33m,\u001b[0m \u001b[0mdtype\u001b[0m\u001b[1;33m,\u001b[0m \u001b[0mbool_c\u001b[0m\u001b[1;33m)\u001b[0m \u001b[1;33m->\u001b[0m \u001b[0mTuple\u001b[0m\u001b[1;33m[\u001b[0m\u001b[0menum\u001b[0m\u001b[1;33m.\u001b[0m\u001b[0mIntEnum\u001b[0m\u001b[1;33m,\u001b[0m \u001b[0mint\u001b[0m\u001b[1;33m,\u001b[0m \u001b[0mstr\u001b[0m\u001b[1;33m,\u001b[0m \u001b[0mstr\u001b[0m\u001b[1;33m]\u001b[0m\u001b[1;33m:\u001b[0m\u001b[1;33m\u001b[0m\u001b[1;33m\u001b[0m\u001b[0m\n",
      "\u001b[1;32mc:\\users\\alenka\\vaex\\packages\\vaex-core\\vaex\\dataframe_protocol.py\u001b[0m in \u001b[0;36m_dtype_from_vaexdtype\u001b[1;34m(self, dtype, bool_c)\u001b[0m\n\u001b[0;32m    295\u001b[0m \u001b[1;33m\u001b[0m\u001b[0m\n\u001b[0;32m    296\u001b[0m         \u001b[1;32mif\u001b[0m \u001b[0mkind\u001b[0m \u001b[1;32mnot\u001b[0m \u001b[1;32min\u001b[0m \u001b[1;33m(\u001b[0m\u001b[0m_k\u001b[0m\u001b[1;33m.\u001b[0m\u001b[0mINT\u001b[0m\u001b[1;33m,\u001b[0m \u001b[0m_k\u001b[0m\u001b[1;33m.\u001b[0m\u001b[0mUINT\u001b[0m\u001b[1;33m,\u001b[0m \u001b[0m_k\u001b[0m\u001b[1;33m.\u001b[0m\u001b[0mFLOAT\u001b[0m\u001b[1;33m,\u001b[0m \u001b[0m_k\u001b[0m\u001b[1;33m.\u001b[0m\u001b[0mBOOL\u001b[0m\u001b[1;33m,\u001b[0m \u001b[0m_k\u001b[0m\u001b[1;33m.\u001b[0m\u001b[0mCATEGORICAL\u001b[0m\u001b[1;33m)\u001b[0m\u001b[1;33m:\u001b[0m\u001b[1;33m\u001b[0m\u001b[1;33m\u001b[0m\u001b[0m\n\u001b[1;32m--> 297\u001b[1;33m             \u001b[1;32mraise\u001b[0m \u001b[0mNotImplementedError\u001b[0m\u001b[1;33m(\u001b[0m\u001b[1;34mf\"Data type {dtype} not handled yet\"\u001b[0m\u001b[1;33m)\u001b[0m\u001b[1;33m\u001b[0m\u001b[1;33m\u001b[0m\u001b[0m\n\u001b[0m\u001b[0;32m    298\u001b[0m \u001b[1;33m\u001b[0m\u001b[0m\n\u001b[0;32m    299\u001b[0m         \u001b[0mbitwidth\u001b[0m \u001b[1;33m=\u001b[0m \u001b[0mdtype\u001b[0m\u001b[1;33m.\u001b[0m\u001b[0mnumpy\u001b[0m\u001b[1;33m.\u001b[0m\u001b[0mitemsize\u001b[0m \u001b[1;33m*\u001b[0m \u001b[1;36m8\u001b[0m\u001b[1;33m\u001b[0m\u001b[1;33m\u001b[0m\u001b[0m\n",
      "\u001b[1;31mNotImplementedError\u001b[0m: Data type datetime64[D] not handled yet"
     ]
    }
   ],
   "source": [
    "from_dataframe_to_vaex(df2)"
   ]
  },
  {
   "cell_type": "code",
   "execution_count": 23,
   "id": "d0ef4bb3-04bd-47bc-b270-7e549457a29a",
   "metadata": {},
   "outputs": [
    {
     "data": {
      "text/html": [
       "<table>\n",
       "<thead>\n",
       "<tr><th>#                            </th><th>datetime  </th></tr>\n",
       "</thead>\n",
       "<tbody>\n",
       "<tr><td><i style='opacity: 0.6'>0</i></td><td>2019-10-01</td></tr>\n",
       "<tr><td><i style='opacity: 0.6'>1</i></td><td>2020-10-01</td></tr>\n",
       "<tr><td><i style='opacity: 0.6'>2</i></td><td>2022-10-01</td></tr>\n",
       "</tbody>\n",
       "</table>"
      ],
      "text/plain": [
       "  #  datetime\n",
       "  0  2019-10-01\n",
       "  1  2020-10-01\n",
       "  2  2022-10-01"
      ]
     },
     "execution_count": 23,
     "metadata": {},
     "output_type": "execute_result"
    }
   ],
   "source": [
    "datetime = np.array([np.datetime64('2019-10-01'), np.datetime64('2020-10-01'), np.datetime64('2022-10-01')])\n",
    "df3 = vaex.from_arrays(datetime=datetime)\n",
    "df3"
   ]
  },
  {
   "cell_type": "code",
   "execution_count": 24,
   "id": "dd0e539c-940d-465b-91ba-5407c77a6c5d",
   "metadata": {},
   "outputs": [
    {
     "ename": "NotImplementedError",
     "evalue": "Data type datetime64[D] not handled yet",
     "output_type": "error",
     "traceback": [
      "\u001b[1;31m---------------------------------------------------------------------------\u001b[0m",
      "\u001b[1;31mNotImplementedError\u001b[0m                       Traceback (most recent call last)",
      "\u001b[1;32m<ipython-input-24-3edbafc69af8>\u001b[0m in \u001b[0;36m<module>\u001b[1;34m\u001b[0m\n\u001b[1;32m----> 1\u001b[1;33m \u001b[0mfrom_dataframe_to_vaex\u001b[0m\u001b[1;33m(\u001b[0m\u001b[0mdf3\u001b[0m\u001b[1;33m)\u001b[0m\u001b[1;33m\u001b[0m\u001b[1;33m\u001b[0m\u001b[0m\n\u001b[0m",
      "\u001b[1;32m~\\Documents\\Python Scripts\\vaex_implementation_v4.py\u001b[0m in \u001b[0;36mfrom_dataframe_to_vaex\u001b[1;34m(df)\u001b[0m\n\u001b[0;32m     23\u001b[0m         \u001b[1;32mraise\u001b[0m \u001b[0mValueError\u001b[0m\u001b[1;33m(\u001b[0m\u001b[1;34m\"`df` does not support __dataframe__\"\u001b[0m\u001b[1;33m)\u001b[0m\u001b[1;33m\u001b[0m\u001b[1;33m\u001b[0m\u001b[0m\n\u001b[0;32m     24\u001b[0m \u001b[1;33m\u001b[0m\u001b[0m\n\u001b[1;32m---> 25\u001b[1;33m     \u001b[1;32mreturn\u001b[0m \u001b[0m_from_dataframe_to_vaex\u001b[0m\u001b[1;33m(\u001b[0m\u001b[0mdf\u001b[0m\u001b[1;33m.\u001b[0m\u001b[0m__dataframe__\u001b[0m\u001b[1;33m(\u001b[0m\u001b[1;33m)\u001b[0m\u001b[1;33m)\u001b[0m\u001b[1;33m\u001b[0m\u001b[1;33m\u001b[0m\u001b[0m\n\u001b[0m\u001b[0;32m     26\u001b[0m \u001b[1;33m\u001b[0m\u001b[0m\n\u001b[0;32m     27\u001b[0m \u001b[1;32mdef\u001b[0m \u001b[0m_from_dataframe_to_vaex\u001b[0m\u001b[1;33m(\u001b[0m\u001b[0mdf\u001b[0m\u001b[1;33m)\u001b[0m\u001b[1;33m:\u001b[0m\u001b[1;33m\u001b[0m\u001b[1;33m\u001b[0m\u001b[0m\n",
      "\u001b[1;32m~\\Documents\\Python Scripts\\vaex_implementation_v4.py\u001b[0m in \u001b[0;36m_from_dataframe_to_vaex\u001b[1;34m(df)\u001b[0m\n\u001b[0;32m     46\u001b[0m             \u001b[1;32mraise\u001b[0m \u001b[0mNotImplementedError\u001b[0m\u001b[1;33m(\u001b[0m\u001b[1;34mf\"Column names must be string (not {name}).\"\u001b[0m\u001b[1;33m)\u001b[0m\u001b[1;33m\u001b[0m\u001b[1;33m\u001b[0m\u001b[0m\n\u001b[0;32m     47\u001b[0m \u001b[1;33m\u001b[0m\u001b[0m\n\u001b[1;32m---> 48\u001b[1;33m         \u001b[1;32mif\u001b[0m \u001b[0mcol\u001b[0m\u001b[1;33m.\u001b[0m\u001b[0mdtype\u001b[0m\u001b[1;33m[\u001b[0m\u001b[1;36m0\u001b[0m\u001b[1;33m]\u001b[0m \u001b[1;32min\u001b[0m \u001b[1;33m(\u001b[0m\u001b[0m_k\u001b[0m\u001b[1;33m.\u001b[0m\u001b[0mINT\u001b[0m\u001b[1;33m,\u001b[0m \u001b[0m_k\u001b[0m\u001b[1;33m.\u001b[0m\u001b[0mUINT\u001b[0m\u001b[1;33m,\u001b[0m \u001b[0m_k\u001b[0m\u001b[1;33m.\u001b[0m\u001b[0mFLOAT\u001b[0m\u001b[1;33m,\u001b[0m \u001b[0m_k\u001b[0m\u001b[1;33m.\u001b[0m\u001b[0mBOOL\u001b[0m\u001b[1;33m)\u001b[0m\u001b[1;33m:\u001b[0m\u001b[1;33m\u001b[0m\u001b[1;33m\u001b[0m\u001b[0m\n\u001b[0m\u001b[0;32m     49\u001b[0m             \u001b[1;31m# Simple numerical or bool dtype, turn into numpy array\u001b[0m\u001b[1;33m\u001b[0m\u001b[1;33m\u001b[0m\u001b[1;33m\u001b[0m\u001b[0m\n\u001b[0;32m     50\u001b[0m             \u001b[0mcolumns\u001b[0m\u001b[1;33m[\u001b[0m\u001b[0mname\u001b[0m\u001b[1;33m]\u001b[0m \u001b[1;33m=\u001b[0m \u001b[0mconvert_column_to_ndarray\u001b[0m\u001b[1;33m(\u001b[0m\u001b[0mcol\u001b[0m\u001b[1;33m)\u001b[0m\u001b[1;33m\u001b[0m\u001b[1;33m\u001b[0m\u001b[0m\n",
      "\u001b[1;32mc:\\users\\alenka\\vaex\\packages\\vaex-core\\vaex\\dataframe_protocol.py\u001b[0m in \u001b[0;36mdtype\u001b[1;34m(self)\u001b[0m\n\u001b[0;32m    269\u001b[0m         \u001b[0mdtype\u001b[0m \u001b[1;33m=\u001b[0m \u001b[0mself\u001b[0m\u001b[1;33m.\u001b[0m\u001b[0m_col\u001b[0m\u001b[1;33m.\u001b[0m\u001b[0mdtype\u001b[0m\u001b[1;33m\u001b[0m\u001b[1;33m\u001b[0m\u001b[0m\n\u001b[0;32m    270\u001b[0m \u001b[1;33m\u001b[0m\u001b[0m\n\u001b[1;32m--> 271\u001b[1;33m         \u001b[1;32mreturn\u001b[0m \u001b[0mself\u001b[0m\u001b[1;33m.\u001b[0m\u001b[0m_dtype_from_vaexdtype\u001b[0m\u001b[1;33m(\u001b[0m\u001b[0mdtype\u001b[0m\u001b[1;33m,\u001b[0m \u001b[0mbool_c\u001b[0m\u001b[1;33m)\u001b[0m\u001b[1;33m\u001b[0m\u001b[1;33m\u001b[0m\u001b[0m\n\u001b[0m\u001b[0;32m    272\u001b[0m \u001b[1;33m\u001b[0m\u001b[0m\n\u001b[0;32m    273\u001b[0m     \u001b[1;32mdef\u001b[0m \u001b[0m_dtype_from_vaexdtype\u001b[0m\u001b[1;33m(\u001b[0m\u001b[0mself\u001b[0m\u001b[1;33m,\u001b[0m \u001b[0mdtype\u001b[0m\u001b[1;33m,\u001b[0m \u001b[0mbool_c\u001b[0m\u001b[1;33m)\u001b[0m \u001b[1;33m->\u001b[0m \u001b[0mTuple\u001b[0m\u001b[1;33m[\u001b[0m\u001b[0menum\u001b[0m\u001b[1;33m.\u001b[0m\u001b[0mIntEnum\u001b[0m\u001b[1;33m,\u001b[0m \u001b[0mint\u001b[0m\u001b[1;33m,\u001b[0m \u001b[0mstr\u001b[0m\u001b[1;33m,\u001b[0m \u001b[0mstr\u001b[0m\u001b[1;33m]\u001b[0m\u001b[1;33m:\u001b[0m\u001b[1;33m\u001b[0m\u001b[1;33m\u001b[0m\u001b[0m\n",
      "\u001b[1;32mc:\\users\\alenka\\vaex\\packages\\vaex-core\\vaex\\dataframe_protocol.py\u001b[0m in \u001b[0;36m_dtype_from_vaexdtype\u001b[1;34m(self, dtype, bool_c)\u001b[0m\n\u001b[0;32m    295\u001b[0m \u001b[1;33m\u001b[0m\u001b[0m\n\u001b[0;32m    296\u001b[0m         \u001b[1;32mif\u001b[0m \u001b[0mkind\u001b[0m \u001b[1;32mnot\u001b[0m \u001b[1;32min\u001b[0m \u001b[1;33m(\u001b[0m\u001b[0m_k\u001b[0m\u001b[1;33m.\u001b[0m\u001b[0mINT\u001b[0m\u001b[1;33m,\u001b[0m \u001b[0m_k\u001b[0m\u001b[1;33m.\u001b[0m\u001b[0mUINT\u001b[0m\u001b[1;33m,\u001b[0m \u001b[0m_k\u001b[0m\u001b[1;33m.\u001b[0m\u001b[0mFLOAT\u001b[0m\u001b[1;33m,\u001b[0m \u001b[0m_k\u001b[0m\u001b[1;33m.\u001b[0m\u001b[0mBOOL\u001b[0m\u001b[1;33m,\u001b[0m \u001b[0m_k\u001b[0m\u001b[1;33m.\u001b[0m\u001b[0mCATEGORICAL\u001b[0m\u001b[1;33m)\u001b[0m\u001b[1;33m:\u001b[0m\u001b[1;33m\u001b[0m\u001b[1;33m\u001b[0m\u001b[0m\n\u001b[1;32m--> 297\u001b[1;33m             \u001b[1;32mraise\u001b[0m \u001b[0mNotImplementedError\u001b[0m\u001b[1;33m(\u001b[0m\u001b[1;34mf\"Data type {dtype} not handled yet\"\u001b[0m\u001b[1;33m)\u001b[0m\u001b[1;33m\u001b[0m\u001b[1;33m\u001b[0m\u001b[0m\n\u001b[0m\u001b[0;32m    298\u001b[0m \u001b[1;33m\u001b[0m\u001b[0m\n\u001b[0;32m    299\u001b[0m         \u001b[0mbitwidth\u001b[0m \u001b[1;33m=\u001b[0m \u001b[0mdtype\u001b[0m\u001b[1;33m.\u001b[0m\u001b[0mnumpy\u001b[0m\u001b[1;33m.\u001b[0m\u001b[0mitemsize\u001b[0m \u001b[1;33m*\u001b[0m \u001b[1;36m8\u001b[0m\u001b[1;33m\u001b[0m\u001b[1;33m\u001b[0m\u001b[0m\n",
      "\u001b[1;31mNotImplementedError\u001b[0m: Data type datetime64[D] not handled yet"
     ]
    }
   ],
   "source": [
    "from_dataframe_to_vaex(df3)"
   ]
  },
  {
   "cell_type": "code",
   "execution_count": null,
   "id": "c23f8794-58e1-44d3-8edf-713fa264a675",
   "metadata": {},
   "outputs": [],
   "source": []
  }
 ],
 "metadata": {
  "kernelspec": {
   "display_name": "Python 3",
   "language": "python",
   "name": "python3"
  },
  "language_info": {
   "codemirror_mode": {
    "name": "ipython",
    "version": 3
   },
   "file_extension": ".py",
   "mimetype": "text/x-python",
   "name": "python",
   "nbconvert_exporter": "python",
   "pygments_lexer": "ipython3",
   "version": "3.9.5"
  }
 },
 "nbformat": 4,
 "nbformat_minor": 5
}
