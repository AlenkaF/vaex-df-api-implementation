{
 "cells": [
  {
   "cell_type": "code",
   "execution_count": 1,
   "id": "746b91a8-4183-450a-9e53-16077af3057d",
   "metadata": {},
   "outputs": [],
   "source": [
    "%run vaex_implementation_v6.py"
   ]
  },
  {
   "cell_type": "code",
   "execution_count": 2,
   "id": "394bbdbd-859b-49c8-bdf9-b4dd3b7791d9",
   "metadata": {},
   "outputs": [],
   "source": [
    "from IPython.core.interactiveshell import InteractiveShell\n",
    "InteractiveShell.ast_node_interactivity = \"all\""
   ]
  },
  {
   "cell_type": "code",
   "execution_count": 3,
   "id": "4395b7e4-ed6d-4d52-8fdf-e353c3131ce4",
   "metadata": {},
   "outputs": [],
   "source": [
    "import vaex\n",
    "import numpy as np\n",
    "import pandas as pd\n",
    "import pyarrow as pa"
   ]
  },
  {
   "cell_type": "markdown",
   "id": "3b2d3d25-8b64-4889-bae5-607cf29cd457",
   "metadata": {},
   "source": [
    "# Expression: NumPy - Arrow\n",
    "**2021/08/18** *Cleaning up the code*\n",
    "\n",
    "Expression can be NumPy or Arrow. We can check that in the values dtype."
   ]
  },
  {
   "cell_type": "code",
   "execution_count": 4,
   "id": "b3f97c52-7f6f-4802-a94a-1436360d22fb",
   "metadata": {},
   "outputs": [
    {
     "data": {
      "text/html": [
       "<table>\n",
       "<thead>\n",
       "<tr><th>#                            </th><th style=\"text-align: right;\">    x</th><th style=\"text-align: right;\">   y</th><th style=\"text-align: right;\">  z</th></tr>\n",
       "</thead>\n",
       "<tbody>\n",
       "<tr><td><i style='opacity: 0.6'>0</i></td><td style=\"text-align: right;\">nan  </td><td style=\"text-align: right;\"> 9.2</td><td style=\"text-align: right;\">  1</td></tr>\n",
       "<tr><td><i style='opacity: 0.6'>1</i></td><td style=\"text-align: right;\">  2.5</td><td style=\"text-align: right;\">10.5</td><td style=\"text-align: right;\">  2</td></tr>\n",
       "<tr><td><i style='opacity: 0.6'>2</i></td><td style=\"text-align: right;\">  3.5</td><td style=\"text-align: right;\">13.5</td><td style=\"text-align: right;\">  3</td></tr>\n",
       "</tbody>\n",
       "</table>"
      ],
      "text/plain": [
       "  #      x     y    z\n",
       "  0  nan     9.2    1\n",
       "  1    2.5  10.5    2\n",
       "  2    3.5  13.5    3"
      ]
     },
     "execution_count": 4,
     "metadata": {},
     "output_type": "execute_result"
    }
   ],
   "source": [
    "x = np.array([np.nan, 2.5, 3.5])\n",
    "y = np.array([9.2, 10.5, 13.5])\n",
    "z = np.array([1, 2, 3])\n",
    "df_num = vaex.from_arrays(x=x, y=y, z=z)\n",
    "df_num"
   ]
  },
  {
   "cell_type": "code",
   "execution_count": 5,
   "id": "d9f3d5e9-11a3-44e0-ae32-e2ab68122132",
   "metadata": {},
   "outputs": [
    {
     "data": {
      "text/html": [
       "<table>\n",
       "<thead>\n",
       "<tr><th>#                            </th><th>a  </th></tr>\n",
       "</thead>\n",
       "<tbody>\n",
       "<tr><td><i style='opacity: 0.6'>0</i></td><td>1  </td></tr>\n",
       "<tr><td><i style='opacity: 0.6'>1</i></td><td>-- </td></tr>\n",
       "</tbody>\n",
       "</table>"
      ],
      "text/plain": [
       "  #  a\n",
       "  0  1\n",
       "  1  --"
      ]
     },
     "execution_count": 5,
     "metadata": {},
     "output_type": "execute_result"
    }
   ],
   "source": [
    "a = pa.array(pd.Series([1, 2]), mask=np.array([0, 1], dtype=bool))\n",
    "df_arr = vaex.from_arrays(a=a)\n",
    "df_arr"
   ]
  },
  {
   "cell_type": "code",
   "execution_count": 6,
   "id": "bf3a19d5-1b08-4fd3-b715-dd50f8e0db06",
   "metadata": {},
   "outputs": [
    {
     "data": {
      "text/plain": [
       "True"
      ]
     },
     "execution_count": 6,
     "metadata": {},
     "output_type": "execute_result"
    },
    {
     "data": {
      "text/plain": [
       "<pyarrow.lib.Int64Array object at 0x000001D1C74BFB80>\n",
       "[\n",
       "  1,\n",
       "  null\n",
       "]"
      ]
     },
     "execution_count": 6,
     "metadata": {},
     "output_type": "execute_result"
    }
   ],
   "source": [
    "isinstance(df_arr.a.values, (pa.Array, pa.ChunkedArray))\n",
    "df_arr.a.values"
   ]
  },
  {
   "cell_type": "code",
   "execution_count": 7,
   "id": "88fdf05e-b0ae-415a-8c95-1e4745f9fdfe",
   "metadata": {},
   "outputs": [
    {
     "data": {
      "text/plain": [
       "True"
      ]
     },
     "execution_count": 7,
     "metadata": {},
     "output_type": "execute_result"
    },
    {
     "data": {
      "text/plain": [
       "array([1, 2, 3])"
      ]
     },
     "execution_count": 7,
     "metadata": {},
     "output_type": "execute_result"
    }
   ],
   "source": [
    "isinstance(df_num.z.values, np.ndarray)\n",
    "df_num.z.values"
   ]
  },
  {
   "cell_type": "code",
   "execution_count": 8,
   "id": "a88d0bbb-db2a-47f5-91de-39dfa567946e",
   "metadata": {},
   "outputs": [
    {
     "data": {
      "text/html": [
       "<table>\n",
       "<thead>\n",
       "<tr><th>#                            </th><th style=\"text-align: right;\">    x</th><th style=\"text-align: right;\">   y</th><th style=\"text-align: right;\">  z</th></tr>\n",
       "</thead>\n",
       "<tbody>\n",
       "<tr><td><i style='opacity: 0.6'>0</i></td><td style=\"text-align: right;\">nan  </td><td style=\"text-align: right;\"> 9.2</td><td style=\"text-align: right;\">  1</td></tr>\n",
       "<tr><td><i style='opacity: 0.6'>1</i></td><td style=\"text-align: right;\">  2.5</td><td style=\"text-align: right;\">10.5</td><td style=\"text-align: right;\">  2</td></tr>\n",
       "<tr><td><i style='opacity: 0.6'>2</i></td><td style=\"text-align: right;\">  3.5</td><td style=\"text-align: right;\">13.5</td><td style=\"text-align: right;\">  3</td></tr>\n",
       "</tbody>\n",
       "</table>"
      ],
      "text/plain": [
       "  #      x     y    z\n",
       "  0  nan     9.2    1\n",
       "  1    2.5  10.5    2\n",
       "  2    3.5  13.5    3"
      ]
     },
     "execution_count": 8,
     "metadata": {},
     "output_type": "execute_result"
    },
    {
     "ename": "NotImplementedError",
     "evalue": "Value of columns of type <class 'pyarrow.lib.Int64Array'> not handled yet",
     "output_type": "error",
     "traceback": [
      "\u001b[1;31m---------------------------------------------------------------------------\u001b[0m",
      "\u001b[1;31mNotImplementedError\u001b[0m                       Traceback (most recent call last)",
      "\u001b[1;32m<ipython-input-8-4f6a8af0d113>\u001b[0m in \u001b[0;36m<module>\u001b[1;34m\u001b[0m\n\u001b[0;32m      1\u001b[0m \u001b[0m_from_dataframe_to_vaex\u001b[0m\u001b[1;33m(\u001b[0m\u001b[0mdf_num\u001b[0m\u001b[1;33m.\u001b[0m\u001b[0m__dataframe__\u001b[0m\u001b[1;33m(\u001b[0m\u001b[1;33m)\u001b[0m\u001b[1;33m)\u001b[0m\u001b[1;33m\u001b[0m\u001b[1;33m\u001b[0m\u001b[0m\n\u001b[1;32m----> 2\u001b[1;33m \u001b[0m_from_dataframe_to_vaex\u001b[0m\u001b[1;33m(\u001b[0m\u001b[0mdf_arr\u001b[0m\u001b[1;33m.\u001b[0m\u001b[0m__dataframe__\u001b[0m\u001b[1;33m(\u001b[0m\u001b[1;33m)\u001b[0m\u001b[1;33m)\u001b[0m \u001b[1;31m# In v6 arrow not supported yet\u001b[0m\u001b[1;33m\u001b[0m\u001b[1;33m\u001b[0m\u001b[0m\n\u001b[0m",
      "\u001b[1;32m~\\Documents\\Python Scripts\\vaex_implementation_v6.py\u001b[0m in \u001b[0;36m_from_dataframe_to_vaex\u001b[1;34m(df)\u001b[0m\n\u001b[0;32m     42\u001b[0m     \u001b[0m_k\u001b[0m \u001b[1;33m=\u001b[0m \u001b[0m_DtypeKind\u001b[0m\u001b[1;33m\u001b[0m\u001b[1;33m\u001b[0m\u001b[0m\n\u001b[0;32m     43\u001b[0m     \u001b[1;32mfor\u001b[0m \u001b[0mname\u001b[0m \u001b[1;32min\u001b[0m \u001b[0mdf\u001b[0m\u001b[1;33m.\u001b[0m\u001b[0mcolumn_names\u001b[0m\u001b[1;33m(\u001b[0m\u001b[1;33m)\u001b[0m\u001b[1;33m:\u001b[0m\u001b[1;33m\u001b[0m\u001b[1;33m\u001b[0m\u001b[0m\n\u001b[1;32m---> 44\u001b[1;33m         \u001b[0mcol\u001b[0m \u001b[1;33m=\u001b[0m \u001b[0mdf\u001b[0m\u001b[1;33m.\u001b[0m\u001b[0mget_column_by_name\u001b[0m\u001b[1;33m(\u001b[0m\u001b[0mname\u001b[0m\u001b[1;33m)\u001b[0m\u001b[1;33m\u001b[0m\u001b[1;33m\u001b[0m\u001b[0m\n\u001b[0m\u001b[0;32m     45\u001b[0m \u001b[1;33m\u001b[0m\u001b[0m\n\u001b[0;32m     46\u001b[0m         \u001b[1;31m# Warning if variable name is not a string\u001b[0m\u001b[1;33m\u001b[0m\u001b[1;33m\u001b[0m\u001b[1;33m\u001b[0m\u001b[0m\n",
      "\u001b[1;32m~\\Documents\\Python Scripts\\vaex_implementation_v6.py\u001b[0m in \u001b[0;36mget_column_by_name\u001b[1;34m(self, name)\u001b[0m\n\u001b[0;32m    528\u001b[0m \u001b[1;33m\u001b[0m\u001b[0m\n\u001b[0;32m    529\u001b[0m     \u001b[1;32mdef\u001b[0m \u001b[0mget_column_by_name\u001b[0m\u001b[1;33m(\u001b[0m\u001b[0mself\u001b[0m\u001b[1;33m,\u001b[0m \u001b[0mname\u001b[0m\u001b[1;33m:\u001b[0m \u001b[0mstr\u001b[0m\u001b[1;33m)\u001b[0m \u001b[1;33m->\u001b[0m \u001b[0m_VaexColumn\u001b[0m\u001b[1;33m:\u001b[0m\u001b[1;33m\u001b[0m\u001b[1;33m\u001b[0m\u001b[0m\n\u001b[1;32m--> 530\u001b[1;33m         \u001b[1;32mreturn\u001b[0m \u001b[0m_VaexColumn\u001b[0m\u001b[1;33m(\u001b[0m\u001b[0mself\u001b[0m\u001b[1;33m.\u001b[0m\u001b[0m_df\u001b[0m\u001b[1;33m[\u001b[0m\u001b[0mname\u001b[0m\u001b[1;33m]\u001b[0m\u001b[1;33m,\u001b[0m \u001b[0mself\u001b[0m\u001b[1;33m.\u001b[0m\u001b[0mmetadata\u001b[0m\u001b[1;33m)\u001b[0m\u001b[1;33m\u001b[0m\u001b[1;33m\u001b[0m\u001b[0m\n\u001b[0m\u001b[0;32m    531\u001b[0m \u001b[1;33m\u001b[0m\u001b[0m\n\u001b[0;32m    532\u001b[0m     \u001b[1;32mdef\u001b[0m \u001b[0mget_columns\u001b[0m\u001b[1;33m(\u001b[0m\u001b[0mself\u001b[0m\u001b[1;33m)\u001b[0m \u001b[1;33m->\u001b[0m \u001b[0mIterable\u001b[0m\u001b[1;33m[\u001b[0m\u001b[0m_VaexColumn\u001b[0m\u001b[1;33m]\u001b[0m\u001b[1;33m:\u001b[0m\u001b[1;33m\u001b[0m\u001b[1;33m\u001b[0m\u001b[0m\n",
      "\u001b[1;32m~\\Documents\\Python Scripts\\vaex_implementation_v6.py\u001b[0m in \u001b[0;36m__init__\u001b[1;34m(self, column, metadata)\u001b[0m\n\u001b[0;32m    242\u001b[0m \u001b[1;33m\u001b[0m\u001b[0m\n\u001b[0;32m    243\u001b[0m         \u001b[1;32mif\u001b[0m \u001b[0misinstance\u001b[0m\u001b[1;33m(\u001b[0m\u001b[0mcolumn\u001b[0m\u001b[1;33m.\u001b[0m\u001b[0mvalues\u001b[0m\u001b[1;33m,\u001b[0m \u001b[1;33m(\u001b[0m\u001b[0mpa\u001b[0m\u001b[1;33m.\u001b[0m\u001b[0mArray\u001b[0m\u001b[1;33m,\u001b[0m \u001b[0mpa\u001b[0m\u001b[1;33m.\u001b[0m\u001b[0mChunkedArray\u001b[0m\u001b[1;33m)\u001b[0m\u001b[1;33m)\u001b[0m\u001b[1;33m:\u001b[0m\u001b[1;33m\u001b[0m\u001b[1;33m\u001b[0m\u001b[0m\n\u001b[1;32m--> 244\u001b[1;33m             raise NotImplementedError(\"Value of columns of type {} not handled \"\n\u001b[0m\u001b[0;32m    245\u001b[0m                                       \"yet\".format(type(column.values)))\n\u001b[0;32m    246\u001b[0m \u001b[1;33m\u001b[0m\u001b[0m\n",
      "\u001b[1;31mNotImplementedError\u001b[0m: Value of columns of type <class 'pyarrow.lib.Int64Array'> not handled yet"
     ]
    }
   ],
   "source": [
    "_from_dataframe_to_vaex(df_num.__dataframe__())\n",
    "_from_dataframe_to_vaex(df_arr.__dataframe__()) # In v6 arrow not supported yet"
   ]
  },
  {
   "cell_type": "code",
   "execution_count": null,
   "id": "1021c22f-268b-4d85-892e-1c93b3dafaa2",
   "metadata": {},
   "outputs": [],
   "source": []
  }
 ],
 "metadata": {
  "kernelspec": {
   "display_name": "Python 3",
   "language": "python",
   "name": "python3"
  },
  "language_info": {
   "codemirror_mode": {
    "name": "ipython",
    "version": 3
   },
   "file_extension": ".py",
   "mimetype": "text/x-python",
   "name": "python",
   "nbconvert_exporter": "python",
   "pygments_lexer": "ipython3",
   "version": "3.9.5"
  }
 },
 "nbformat": 4,
 "nbformat_minor": 5
}
