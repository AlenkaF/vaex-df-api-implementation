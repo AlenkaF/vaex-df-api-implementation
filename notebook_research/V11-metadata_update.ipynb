{
 "cells": [
  {
   "cell_type": "markdown",
   "id": "193dbb64-8ed1-4662-801e-b6a786a0a0b7",
   "metadata": {},
   "source": [
    "# Version 11\n",
    "**2021/08/31** *Metadata*\n",
    "- deleted all usage of metadata and set metadata atribute (used for categories) for _Column and _DataFrame\n",
    "- updated code with the usage of `self._col.df.some_function()` instead of metadata\n",
    "- needet to correct how categorials and Arrow Dictionaries are handled in `dtype` and `dtype_from_vaexdytpe()` method"
   ]
  },
  {
   "cell_type": "code",
   "execution_count": 1,
   "id": "86850ba6-b11c-49e2-bf23-321137d08faa",
   "metadata": {},
   "outputs": [],
   "source": [
    "from IPython.core.interactiveshell import InteractiveShell\n",
    "InteractiveShell.ast_node_interactivity = \"all\""
   ]
  },
  {
   "cell_type": "code",
   "execution_count": 2,
   "id": "e1fc880d-1607-42b8-b6d5-ad9c09428575",
   "metadata": {},
   "outputs": [],
   "source": [
    "%run vaex_implementation_v11.py"
   ]
  },
  {
   "cell_type": "markdown",
   "id": "c7577a2c-aba1-409f-a336-9f6b05ab970e",
   "metadata": {},
   "source": [
    "### Test data"
   ]
  },
  {
   "cell_type": "code",
   "execution_count": 3,
   "id": "25c4d340-8652-46ef-bee3-b21677306568",
   "metadata": {},
   "outputs": [
    {
     "data": {
      "text/html": [
       "<table>\n",
       "<thead>\n",
       "<tr><th>#                            </th><th>x    </th><th style=\"text-align: right;\">  y</th><th style=\"text-align: right;\">   z</th></tr>\n",
       "</thead>\n",
       "<tbody>\n",
       "<tr><td><i style='opacity: 0.6'>0</i></td><td>True </td><td style=\"text-align: right;\">  1</td><td style=\"text-align: right;\"> 9.2</td></tr>\n",
       "<tr><td><i style='opacity: 0.6'>1</i></td><td>True </td><td style=\"text-align: right;\">  2</td><td style=\"text-align: right;\">10.5</td></tr>\n",
       "<tr><td><i style='opacity: 0.6'>2</i></td><td>False</td><td style=\"text-align: right;\">  0</td><td style=\"text-align: right;\">11.8</td></tr>\n",
       "</tbody>\n",
       "</table>"
      ],
      "text/plain": [
       "  #  x        y     z\n",
       "  0  True     1   9.2\n",
       "  1  True     2  10.5\n",
       "  2  False    0  11.8"
      ]
     },
     "execution_count": 3,
     "metadata": {},
     "output_type": "execute_result"
    }
   ],
   "source": [
    "x1 = np.array([True, True, False])\n",
    "y1 = np.array([1, 2, 0])\n",
    "z1 = np.array([9.2, 10.5, 11.8])\n",
    "df1 = vaex.from_arrays(x=x1, y=y1, z=z1)\n",
    "df1"
   ]
  },
  {
   "cell_type": "code",
   "execution_count": 4,
   "id": "c5cb744f-2bab-44af-8a30-d12af1103791",
   "metadata": {},
   "outputs": [
    {
     "data": {
      "text/plain": [
       "{}"
      ]
     },
     "execution_count": 4,
     "metadata": {},
     "output_type": "execute_result"
    },
    {
     "data": {
      "text/plain": [
       "bool"
      ]
     },
     "execution_count": 4,
     "metadata": {},
     "output_type": "execute_result"
    },
    {
     "data": {
      "text/plain": [
       "(<_DtypeKind.BOOL: 20>, 8, '|b1', '|')"
      ]
     },
     "execution_count": 4,
     "metadata": {},
     "output_type": "execute_result"
    },
    {
     "data": {
      "text/plain": [
       "(VaexBuffer({'bufsize': 3, 'ptr': 2354358347488, 'device': 'CPU'}),\n",
       " (<_DtypeKind.BOOL: 20>, 8, '|b1', '|'))"
      ]
     },
     "execution_count": 4,
     "metadata": {},
     "output_type": "execute_result"
    }
   ],
   "source": [
    "df1.__dataframe__().metadata\n",
    "df1.__dataframe__().get_column_by_name('x')._col.dtype\n",
    "df1.__dataframe__().get_column_by_name('x').dtype\n",
    "df1.__dataframe__().get_column_by_name('x').get_data_buffer()"
   ]
  },
  {
   "cell_type": "code",
   "execution_count": 5,
   "id": "979df6b7-8f70-493a-a3a1-1974a6006ba1",
   "metadata": {},
   "outputs": [
    {
     "data": {
      "text/html": [
       "<table>\n",
       "<thead>\n",
       "<tr><th>#                            </th><th>x    </th><th style=\"text-align: right;\">  y</th><th style=\"text-align: right;\">   z</th></tr>\n",
       "</thead>\n",
       "<tbody>\n",
       "<tr><td><i style='opacity: 0.6'>0</i></td><td>True </td><td style=\"text-align: right;\">  1</td><td style=\"text-align: right;\"> 9.2</td></tr>\n",
       "<tr><td><i style='opacity: 0.6'>1</i></td><td>True </td><td style=\"text-align: right;\">  2</td><td style=\"text-align: right;\">10.5</td></tr>\n",
       "<tr><td><i style='opacity: 0.6'>2</i></td><td>False</td><td style=\"text-align: right;\">  0</td><td style=\"text-align: right;\">11.8</td></tr>\n",
       "</tbody>\n",
       "</table>"
      ],
      "text/plain": [
       "  #  x        y     z\n",
       "  0  True     1   9.2\n",
       "  1  True     2  10.5\n",
       "  2  False    0  11.8"
      ]
     },
     "execution_count": 5,
     "metadata": {},
     "output_type": "execute_result"
    }
   ],
   "source": [
    "_from_dataframe_to_vaex(df1.__dataframe__())"
   ]
  },
  {
   "cell_type": "markdown",
   "id": "bccd521c-9a11-42fe-9530-f4cd013c17b5",
   "metadata": {},
   "source": [
    "### Test data 2"
   ]
  },
  {
   "cell_type": "code",
   "execution_count": 6,
   "id": "4abb0dd1-c17a-4478-a1e1-628c00effeaf",
   "metadata": {},
   "outputs": [],
   "source": [
    "indices = pa.array([0, 1, 2, 1, 2])\n",
    "dictionary = pa.array(['foo', 'bar', 'baz'])\n",
    "dict_array = pa.DictionaryArray.from_arrays(indices, dictionary)\n",
    "\n",
    "the_df = vaex.from_arrays(\n",
    "    numpy_int=np.array([1, 2, 3, 4, 0]), # Numpy int\n",
    "    numpy_float=np.array([1.5, 2.5, 3.5, 4.5, 0]), # Numpy float\n",
    "    numpy_bool=np.array([True, False, True, True, True]), # Numpy bool\n",
    "    \n",
    "    numpy_int_m=np.ma.array([1, 2, 3, 4, 0], mask=[0, 0, 0, 1, 1], dtype=int), # Numpy masked int\n",
    "    numpy_float_m=np.ma.array([1.5, 2.5, 3.5, 4.5, 0], mask=[False, True, True, True, False], dtype=float), # Numpy masked float\n",
    "    numpy_bool_m=np.ma.array([True, False, True, True, True], mask=[1, 0, 0, 1, 0], dtype=bool), # Numpy masked bool\n",
    "    \n",
    "    arrow_int = pa.array([0, 1, 2, 3, 0]), # Arrow integer\n",
    "    arrow_float = pa.array([0.5, 1.5, 2.5, 3.5, 0.5]), # Arrow integer\n",
    "    arrow_bool = pa.array([True, False, True, False, True]), # Arrow integer\n",
    "    \n",
    "    arrow_int_m = pa.array([0, 1, 2, None, 0], mask=np.array([0, 0, 0, 1, 1], dtype=bool)), # Arrow masked integer\n",
    "    arrow_float_m = pa.array([0.5, 1.5, 2.5, None, 0.5], mask=np.array([0, 0, 0, 1, 0], dtype=bool)), # Arrow masked integer\n",
    "    arrow_bool_m = pa.array([True, False, True, None, True], mask=np.array([0, 0, 1, 1, 0], dtype=bool)), # Arrow masked integer\n",
    "    \n",
    "    arrow_dict = pa.DictionaryArray.from_arrays(pa.array([0, 1, 2, 0, 1]), pa.array(['aap', 'noot', 'mies'])), # arrow dictionary\n",
    "    arrow_dict_m = pa.DictionaryArray.from_arrays(pa.array([0, 1, 2, 0, 1], mask=np.array([0, 1, 1, 0, 0], dtype=bool)), pa.array(['aap', 'noot', 'mies'])) # arrow dictionary masked\n",
    ")"
   ]
  },
  {
   "cell_type": "code",
   "execution_count": 7,
   "id": "a0b0c148-2273-431f-b4f0-078e94521aeb",
   "metadata": {},
   "outputs": [
    {
     "data": {
      "text/html": [
       "<table>\n",
       "<thead>\n",
       "<tr><th>#                            </th><th style=\"text-align: right;\">  numpy_int</th><th style=\"text-align: right;\">  numpy_float</th><th>numpy_bool  </th><th>numpy_int_m  </th><th>numpy_float_m  </th><th>numpy_bool_m  </th><th style=\"text-align: right;\">  arrow_int</th><th style=\"text-align: right;\">  arrow_float</th><th>arrow_bool  </th><th>arrow_int_m  </th><th>arrow_float_m  </th><th>arrow_bool_m  </th><th>arrow_dict  </th><th>arrow_dict_m  </th></tr>\n",
       "</thead>\n",
       "<tbody>\n",
       "<tr><td><i style='opacity: 0.6'>0</i></td><td style=\"text-align: right;\">          1</td><td style=\"text-align: right;\">          1.5</td><td>True        </td><td>1            </td><td>1.5            </td><td>--            </td><td style=\"text-align: right;\">          0</td><td style=\"text-align: right;\">          0.5</td><td>True        </td><td>0            </td><td>0.5            </td><td>True          </td><td>aap         </td><td>aap           </td></tr>\n",
       "<tr><td><i style='opacity: 0.6'>1</i></td><td style=\"text-align: right;\">          2</td><td style=\"text-align: right;\">          2.5</td><td>False       </td><td>2            </td><td>--             </td><td>False         </td><td style=\"text-align: right;\">          1</td><td style=\"text-align: right;\">          1.5</td><td>False       </td><td>1            </td><td>1.5            </td><td>False         </td><td>noot        </td><td>--            </td></tr>\n",
       "<tr><td><i style='opacity: 0.6'>2</i></td><td style=\"text-align: right;\">          3</td><td style=\"text-align: right;\">          3.5</td><td>True        </td><td>3            </td><td>--             </td><td>True          </td><td style=\"text-align: right;\">          2</td><td style=\"text-align: right;\">          2.5</td><td>True        </td><td>2            </td><td>2.5            </td><td>--            </td><td>mies        </td><td>--            </td></tr>\n",
       "<tr><td><i style='opacity: 0.6'>3</i></td><td style=\"text-align: right;\">          4</td><td style=\"text-align: right;\">          4.5</td><td>True        </td><td>--           </td><td>--             </td><td>--            </td><td style=\"text-align: right;\">          3</td><td style=\"text-align: right;\">          3.5</td><td>False       </td><td>--           </td><td>--             </td><td>--            </td><td>aap         </td><td>aap           </td></tr>\n",
       "<tr><td><i style='opacity: 0.6'>4</i></td><td style=\"text-align: right;\">          0</td><td style=\"text-align: right;\">          0  </td><td>True        </td><td>--           </td><td>0.0            </td><td>True          </td><td style=\"text-align: right;\">          0</td><td style=\"text-align: right;\">          0.5</td><td>True        </td><td>--           </td><td>0.5            </td><td>True          </td><td>noot        </td><td>noot          </td></tr>\n",
       "</tbody>\n",
       "</table>"
      ],
      "text/plain": [
       "  #    numpy_int    numpy_float  numpy_bool    numpy_int_m    numpy_float_m    numpy_bool_m      arrow_int    arrow_float  arrow_bool    arrow_int_m    arrow_float_m    arrow_bool_m    arrow_dict    arrow_dict_m\n",
       "  0            1            1.5  True          1              1.5              --                        0            0.5  True          0              0.5              True            aap           aap\n",
       "  1            2            2.5  False         2              --               False                     1            1.5  False         1              1.5              False           noot          --\n",
       "  2            3            3.5  True          3              --               True                      2            2.5  True          2              2.5              --              mies          --\n",
       "  3            4            4.5  True          --             --               --                        3            3.5  False         --             --               --              aap           aap\n",
       "  4            0            0    True          --             0.0              True                      0            0.5  True          --             0.5              True            noot          noot"
      ]
     },
     "execution_count": 7,
     "metadata": {},
     "output_type": "execute_result"
    }
   ],
   "source": [
    "the_df"
   ]
  },
  {
   "cell_type": "code",
   "execution_count": 8,
   "id": "02c5957f-fd6f-453f-9c3a-0131ce310d66",
   "metadata": {},
   "outputs": [
    {
     "data": {
      "text/html": [
       "<table>\n",
       "<thead>\n",
       "<tr><th>#                            </th><th style=\"text-align: right;\">  numpy_int</th><th style=\"text-align: right;\">  numpy_float</th><th>numpy_bool  </th><th>numpy_int_m  </th><th>numpy_float_m  </th><th>numpy_bool_m  </th><th style=\"text-align: right;\">  arrow_int</th><th style=\"text-align: right;\">  arrow_float</th><th>arrow_bool  </th><th>arrow_int_m  </th><th>arrow_float_m  </th><th>arrow_bool_m  </th><th>arrow_dict  </th><th>arrow_dict_m  </th></tr>\n",
       "</thead>\n",
       "<tbody>\n",
       "<tr><td><i style='opacity: 0.6'>0</i></td><td style=\"text-align: right;\">          1</td><td style=\"text-align: right;\">          1.5</td><td>True        </td><td>1            </td><td>1.5            </td><td>--            </td><td style=\"text-align: right;\">          0</td><td style=\"text-align: right;\">          0.5</td><td>True        </td><td>0            </td><td>0.5            </td><td>True          </td><td>aap         </td><td>aap           </td></tr>\n",
       "<tr><td><i style='opacity: 0.6'>1</i></td><td style=\"text-align: right;\">          2</td><td style=\"text-align: right;\">          2.5</td><td>False       </td><td>2            </td><td>--             </td><td>False         </td><td style=\"text-align: right;\">          1</td><td style=\"text-align: right;\">          1.5</td><td>False       </td><td>1            </td><td>1.5            </td><td>False         </td><td>noot        </td><td>--            </td></tr>\n",
       "<tr><td><i style='opacity: 0.6'>2</i></td><td style=\"text-align: right;\">          3</td><td style=\"text-align: right;\">          3.5</td><td>True        </td><td>3            </td><td>--             </td><td>True          </td><td style=\"text-align: right;\">          2</td><td style=\"text-align: right;\">          2.5</td><td>True        </td><td>2            </td><td>2.5            </td><td>--            </td><td>mies        </td><td>--            </td></tr>\n",
       "<tr><td><i style='opacity: 0.6'>3</i></td><td style=\"text-align: right;\">          4</td><td style=\"text-align: right;\">          4.5</td><td>True        </td><td>--           </td><td>--             </td><td>--            </td><td style=\"text-align: right;\">          3</td><td style=\"text-align: right;\">          3.5</td><td>False       </td><td>--           </td><td>--             </td><td>--            </td><td>aap         </td><td>aap           </td></tr>\n",
       "<tr><td><i style='opacity: 0.6'>4</i></td><td style=\"text-align: right;\">          0</td><td style=\"text-align: right;\">          0  </td><td>True        </td><td>--           </td><td>0.0            </td><td>True          </td><td style=\"text-align: right;\">          0</td><td style=\"text-align: right;\">          0.5</td><td>True        </td><td>--           </td><td>0.5            </td><td>True          </td><td>noot        </td><td>noot          </td></tr>\n",
       "</tbody>\n",
       "</table>"
      ],
      "text/plain": [
       "  #    numpy_int    numpy_float  numpy_bool    numpy_int_m    numpy_float_m    numpy_bool_m      arrow_int    arrow_float  arrow_bool    arrow_int_m    arrow_float_m    arrow_bool_m    arrow_dict    arrow_dict_m\n",
       "  0            1            1.5  True          1              1.5              --                        0            0.5  True          0              0.5              True            aap           aap\n",
       "  1            2            2.5  False         2              --               False                     1            1.5  False         1              1.5              False           noot          --\n",
       "  2            3            3.5  True          3              --               True                      2            2.5  True          2              2.5              --              mies          --\n",
       "  3            4            4.5  True          --             --               --                        3            3.5  False         --             --               --              aap           aap\n",
       "  4            0            0    True          --             0.0              True                      0            0.5  True          --             0.5              True            noot          noot"
      ]
     },
     "execution_count": 8,
     "metadata": {},
     "output_type": "execute_result"
    }
   ],
   "source": [
    "_from_dataframe_to_vaex(the_df.__dataframe__())"
   ]
  },
  {
   "cell_type": "code",
   "execution_count": 9,
   "id": "b2472db1-d0bd-4294-adc2-394eb8ce663c",
   "metadata": {},
   "outputs": [
    {
     "data": {
      "text/plain": [
       "{}"
      ]
     },
     "execution_count": 9,
     "metadata": {},
     "output_type": "execute_result"
    },
    {
     "data": {
      "text/plain": [
       "(<_DtypeKind.CATEGORICAL: 23>, 64, 'u', '=')"
      ]
     },
     "execution_count": 9,
     "metadata": {},
     "output_type": "execute_result"
    },
    {
     "data": {
      "text/plain": [
       "dictionary<values=string, indices=int64, ordered=0>"
      ]
     },
     "execution_count": 9,
     "metadata": {},
     "output_type": "execute_result"
    },
    {
     "data": {
      "text/plain": [
       "(<_DtypeKind.CATEGORICAL: 23>, 64, 'u', '=')"
      ]
     },
     "execution_count": 9,
     "metadata": {},
     "output_type": "execute_result"
    },
    {
     "data": {
      "text/plain": [
       "dictionary<values=string, indices=int64, ordered=0>"
      ]
     },
     "execution_count": 9,
     "metadata": {},
     "output_type": "execute_result"
    },
    {
     "data": {
      "text/plain": [
       "(<_DtypeKind.INT: 0>, 32, '<i4', '=')"
      ]
     },
     "execution_count": 9,
     "metadata": {},
     "output_type": "execute_result"
    },
    {
     "data": {
      "text/plain": [
       "int32"
      ]
     },
     "execution_count": 9,
     "metadata": {},
     "output_type": "execute_result"
    }
   ],
   "source": [
    "the_df.__dataframe__().metadata\n",
    "the_df.__dataframe__().get_column_by_name('arrow_dict').dtype\n",
    "the_df.__dataframe__().get_column_by_name('arrow_dict')._col.dtype\n",
    "the_df.__dataframe__().get_column_by_name('arrow_dict_m').dtype\n",
    "the_df.__dataframe__().get_column_by_name('arrow_dict_m')._col.dtype\n",
    "the_df.__dataframe__().get_column_by_name('numpy_int').dtype\n",
    "the_df.__dataframe__().get_column_by_name('numpy_int')._col.dtype"
   ]
  },
  {
   "cell_type": "code",
   "execution_count": 10,
   "id": "0243fdfb-fab8-42ee-bb96-67ff1a3b5b66",
   "metadata": {},
   "outputs": [
    {
     "data": {
      "text/plain": [
       "(VaexBuffer({'bufsize': 40, 'ptr': 7847446320576, 'device': 'CPU'}),\n",
       " (<_DtypeKind.INT: 0>, 64, '<i8', '='))"
      ]
     },
     "execution_count": 10,
     "metadata": {},
     "output_type": "execute_result"
    }
   ],
   "source": [
    "col = the_df.__dataframe__().get_column_by_name('arrow_dict')\n",
    "codes_buffer, codes_dtype = col.get_data_buffer()\n",
    "codes_buffer, codes_dtype"
   ]
  },
  {
   "cell_type": "markdown",
   "id": "f9cb07d3-b73f-4b75-af60-401771736104",
   "metadata": {},
   "source": [
    "### Test data 3"
   ]
  },
  {
   "cell_type": "code",
   "execution_count": 11,
   "id": "35439f9d-f6a3-4f9b-b45f-8b27dfa475cb",
   "metadata": {},
   "outputs": [
    {
     "data": {
      "text/html": [
       "<table>\n",
       "<thead>\n",
       "<tr><th>#                            </th><th style=\"text-align: right;\">  year</th><th style=\"text-align: right;\">  weekday</th><th style=\"text-align: right;\">  x</th><th style=\"text-align: right;\">  y</th><th style=\"text-align: right;\">  colors</th></tr>\n",
       "</thead>\n",
       "<tbody>\n",
       "<tr><td><i style='opacity: 0.6'>0</i></td><td style=\"text-align: right;\">  2012</td><td style=\"text-align: right;\">        0</td><td style=\"text-align: right;\">  1</td><td style=\"text-align: right;\">1.5</td><td style=\"text-align: right;\">       0</td></tr>\n",
       "<tr><td><i style='opacity: 0.6'>1</i></td><td style=\"text-align: right;\">  2013</td><td style=\"text-align: right;\">        1</td><td style=\"text-align: right;\">  2</td><td style=\"text-align: right;\">2.5</td><td style=\"text-align: right;\">       2</td></tr>\n",
       "<tr><td><i style='opacity: 0.6'>2</i></td><td style=\"text-align: right;\">  2015</td><td style=\"text-align: right;\">        4</td><td style=\"text-align: right;\">  3</td><td style=\"text-align: right;\">3.5</td><td style=\"text-align: right;\">       1</td></tr>\n",
       "<tr><td><i style='opacity: 0.6'>3</i></td><td style=\"text-align: right;\">  2019</td><td style=\"text-align: right;\">        6</td><td style=\"text-align: right;\">  4</td><td style=\"text-align: right;\">4.5</td><td style=\"text-align: right;\">       2</td></tr>\n",
       "</tbody>\n",
       "</table>"
      ],
      "text/plain": [
       "  #    year    weekday    x    y    colors\n",
       "  0    2012          0    1  1.5         0\n",
       "  1    2013          1    2  2.5         2\n",
       "  2    2015          4    3  3.5         1\n",
       "  3    2019          6    4  4.5         2"
      ]
     },
     "execution_count": 11,
     "metadata": {},
     "output_type": "execute_result"
    }
   ],
   "source": [
    "# Numeric data with ordinal_encode and categorize test\n",
    "colors = ['red', 'blue', 'green', 'blue']\n",
    "ds = vaex.from_arrays(\n",
    "    colors=colors, \n",
    "    year=[2012, 2013, 2015, 2019], \n",
    "    weekday=[0, 1, 4, 6], \n",
    "    x = [1, 2, 3, 4], \n",
    "    y = [1.5, 2.5, 3.5, 4.5])\n",
    "df = ds.ordinal_encode('colors', ['red', 'green', 'blue'])\n",
    "df = df.categorize('year', min_value=2012, max_value=2019)\n",
    "df = df.categorize('weekday', labels=['Mon', 'Tue', 'Wed', 'Thu', 'Fri', 'Sat', 'Sun'])\n",
    "df"
   ]
  },
  {
   "cell_type": "code",
   "execution_count": 12,
   "id": "a6a9b516-f1ec-4428-8a41-0be484a0227c",
   "metadata": {},
   "outputs": [
    {
     "data": {
      "text/plain": [
       "(<_DtypeKind.CATEGORICAL: 23>, 64, 'u', '=')"
      ]
     },
     "execution_count": 12,
     "metadata": {},
     "output_type": "execute_result"
    },
    {
     "data": {
      "text/plain": [
       "uint64"
      ]
     },
     "execution_count": 12,
     "metadata": {},
     "output_type": "execute_result"
    },
    {
     "data": {
      "text/plain": [
       "(<_DtypeKind.CATEGORICAL: 23>, 64, 'u', '=')"
      ]
     },
     "execution_count": 12,
     "metadata": {},
     "output_type": "execute_result"
    },
    {
     "data": {
      "text/plain": [
       "int32"
      ]
     },
     "execution_count": 12,
     "metadata": {},
     "output_type": "execute_result"
    },
    {
     "data": {
      "text/plain": [
       "(<_DtypeKind.CATEGORICAL: 23>, 64, 'u', '=')"
      ]
     },
     "execution_count": 12,
     "metadata": {},
     "output_type": "execute_result"
    },
    {
     "data": {
      "text/plain": [
       "int32"
      ]
     },
     "execution_count": 12,
     "metadata": {},
     "output_type": "execute_result"
    }
   ],
   "source": [
    "df.__dataframe__().get_column_by_name('colors').dtype\n",
    "df.__dataframe__().get_column_by_name('colors')._col.dtype\n",
    "df.__dataframe__().get_column_by_name('year').dtype\n",
    "df.__dataframe__().get_column_by_name('year')._col.dtype\n",
    "df.__dataframe__().get_column_by_name('weekday').dtype\n",
    "df.__dataframe__().get_column_by_name('weekday')._col.dtype"
   ]
  },
  {
   "cell_type": "code",
   "execution_count": 13,
   "id": "020fd938-55e5-455b-9b35-7ce399dc2eab",
   "metadata": {},
   "outputs": [
    {
     "data": {
      "text/html": [
       "<table>\n",
       "<thead>\n",
       "<tr><th>#                            </th><th style=\"text-align: right;\">  year</th><th>weekday  </th><th style=\"text-align: right;\">  x</th><th style=\"text-align: right;\">  y</th><th>colors  </th></tr>\n",
       "</thead>\n",
       "<tbody>\n",
       "<tr><td><i style='opacity: 0.6'>0</i></td><td style=\"text-align: right;\">  2012</td><td>Mon      </td><td style=\"text-align: right;\">  1</td><td style=\"text-align: right;\">1.5</td><td>red     </td></tr>\n",
       "<tr><td><i style='opacity: 0.6'>1</i></td><td style=\"text-align: right;\">  2013</td><td>Tue      </td><td style=\"text-align: right;\">  2</td><td style=\"text-align: right;\">2.5</td><td>blue    </td></tr>\n",
       "<tr><td><i style='opacity: 0.6'>2</i></td><td style=\"text-align: right;\">  2015</td><td>Fri      </td><td style=\"text-align: right;\">  3</td><td style=\"text-align: right;\">3.5</td><td>green   </td></tr>\n",
       "<tr><td><i style='opacity: 0.6'>3</i></td><td style=\"text-align: right;\">  2019</td><td>Sun      </td><td style=\"text-align: right;\">  4</td><td style=\"text-align: right;\">4.5</td><td>blue    </td></tr>\n",
       "</tbody>\n",
       "</table>"
      ],
      "text/plain": [
       "  #    year  weekday      x    y  colors\n",
       "  0    2012  Mon          1  1.5  red\n",
       "  1    2013  Tue          2  2.5  blue\n",
       "  2    2015  Fri          3  3.5  green\n",
       "  3    2019  Sun          4  4.5  blue"
      ]
     },
     "execution_count": 13,
     "metadata": {},
     "output_type": "execute_result"
    }
   ],
   "source": [
    "_from_dataframe_to_vaex(df.__dataframe__())"
   ]
  },
  {
   "cell_type": "code",
   "execution_count": 14,
   "id": "d3b39a0d-ba9b-45f9-88fd-4947a2d4998b",
   "metadata": {},
   "outputs": [
    {
     "data": {
      "text/plain": [
       "(VaexBuffer({'bufsize': 32, 'ptr': 2354358341648, 'device': 'CPU'}),\n",
       " (<_DtypeKind.UINT: 1>, 64, '<u8', '='))"
      ]
     },
     "execution_count": 14,
     "metadata": {},
     "output_type": "execute_result"
    }
   ],
   "source": [
    "col1 = df.__dataframe__().get_column_by_name('colors')\n",
    "codes_buffer1, codes_dtype1 = col1.get_data_buffer()\n",
    "codes_buffer1, codes_dtype1"
   ]
  },
  {
   "cell_type": "markdown",
   "id": "85712ee2-1c1e-4b00-84c8-441f05d4459f",
   "metadata": {},
   "source": [
    "# Unit tests    "
   ]
  },
  {
   "cell_type": "code",
   "execution_count": 15,
   "id": "47f5b8df-0f5c-4efe-9a68-780c4a1c4344",
   "metadata": {},
   "outputs": [],
   "source": [
    "the_df2 = _from_dataframe_to_vaex(the_df.__dataframe__())\n",
    "\n",
    "assert the_df['numpy_float'].tolist() == the_df2['numpy_float'].tolist()\n",
    "assert the_df['arrow_int'].tolist() == the_df2['arrow_int'].tolist()\n",
    "assert the_df['arrow_dict_m'].tolist() == the_df2['arrow_dict_m'].tolist()\n",
    "assert the_df2.__dataframe__().get_column_by_name('numpy_float').null_count == 0\n",
    "assert the_df2.__dataframe__().get_column_by_name('arrow_int').null_count == 0\n",
    "assert the_df2.__dataframe__().get_column_by_name('arrow_dict_m').null_count == 2\n",
    "assert the_df['numpy_float'].dtype == the_df2['numpy_float'].dtype\n",
    "assert the_df['arrow_int'].dtype == the_df2['arrow_int'].dtype\n",
    "assert isinstance(the_df2.__dataframe__().get_column_by_name('arrow_dict_m')._col.values, (pa.DictionaryArray))\n",
    "assert the_df['arrow_dict_m'].values.type == the_df2['arrow_dict_m'].values.type\n",
    "\n",
    "assert the_df2.__dataframe__().num_chunks() == 1\n",
    "assert the_df2.__dataframe__().get_chunks()[0]._df.numpy_float.tolist() == the_df2.numpy_float.tolist()\n",
    "assert the_df2.__dataframe__().get_column_by_name('numpy_float').num_chunks() == 1\n",
    "assert the_df2.__dataframe__().get_column_by_name('numpy_float')._col.tolist() == the_df2.numpy_float.tolist()\n",
    "\n",
    "col2 = the_df2.__dataframe__().get_column_by_name('arrow_dict')\n",
    "assert col2.dtype[0] == 23\n",
    "\n",
    "\n",
    "\n",
    "df2 = _from_dataframe_to_vaex(df.__dataframe__())\n",
    "\n",
    "assert df2['year'].tolist() == [2012, 2013, 2015, 2019]\n",
    "assert df2['weekday'].tolist() == ['Mon', 'Tue', 'Fri', 'Sun']\n",
    "assert df2['colors'].tolist() == ['red', 'blue', 'green', 'blue']\n",
    "assert df2.__dataframe__().get_column_by_name('year').null_count == 0\n",
    "assert df2.__dataframe__().get_column_by_name('weekday').null_count == 0\n",
    "assert df2.__dataframe__().get_column_by_name('colors').null_count == 0\n",
    "assert df['year'].dtype == df2['year'].values.indices.type\n",
    "assert df['weekday'].dtype == df2['weekday'].values.indices.type\n",
    "assert df['colors'].dtype == df2['colors'].values.indices.type\n",
    "\n",
    "assert df2.__dataframe__().num_chunks() == 1\n",
    "assert df2.__dataframe__().get_column_by_name('year').num_chunks() == 1"
   ]
  },
  {
   "cell_type": "code",
   "execution_count": 16,
   "id": "645bdd6d-193c-4d7a-87c6-dbea6678898a",
   "metadata": {},
   "outputs": [
    {
     "data": {
      "text/plain": [
       "(23, 64, '|O', '=')"
      ]
     },
     "execution_count": 16,
     "metadata": {},
     "output_type": "execute_result"
    },
    {
     "data": {
      "text/plain": [
       "(23, 64, '|O', '=')"
      ]
     },
     "execution_count": 16,
     "metadata": {},
     "output_type": "execute_result"
    },
    {
     "data": {
      "text/plain": [
       "(23, 64, '|O', '=')"
      ]
     },
     "execution_count": 16,
     "metadata": {},
     "output_type": "execute_result"
    }
   ],
   "source": [
    "df2.__dataframe__().get_column_by_name('year').dtype\n",
    "df2.__dataframe__().get_column_by_name('weekday').dtype\n",
    "df2.__dataframe__().get_column_by_name('colors').dtype"
   ]
  },
  {
   "cell_type": "code",
   "execution_count": null,
   "id": "5f08856f-9b7e-4bd1-a7f0-fbeb78b1a760",
   "metadata": {},
   "outputs": [],
   "source": []
  },
  {
   "cell_type": "code",
   "execution_count": null,
   "id": "d7b9f9b4-3d01-405c-952b-f7fab9bba760",
   "metadata": {},
   "outputs": [],
   "source": []
  }
 ],
 "metadata": {
  "kernelspec": {
   "display_name": "Python 3",
   "language": "python",
   "name": "python3"
  },
  "language_info": {
   "codemirror_mode": {
    "name": "ipython",
    "version": 3
   },
   "file_extension": ".py",
   "mimetype": "text/x-python",
   "name": "python",
   "nbconvert_exporter": "python",
   "pygments_lexer": "ipython3",
   "version": "3.9.5"
  }
 },
 "nbformat": 4,
 "nbformat_minor": 5
}
