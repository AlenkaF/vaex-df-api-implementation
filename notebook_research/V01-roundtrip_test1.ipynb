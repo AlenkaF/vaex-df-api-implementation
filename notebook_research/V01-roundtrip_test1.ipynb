{
 "cells": [
  {
   "cell_type": "code",
   "execution_count": 1,
   "id": "b7ec8b49-2fd0-4096-adbf-bb8b788e51cb",
   "metadata": {},
   "outputs": [],
   "source": [
    "%run pandas_implementation"
   ]
  },
  {
   "cell_type": "code",
   "execution_count": 6,
   "id": "09200a47-86b3-479f-8bbb-dc0fb3339978",
   "metadata": {},
   "outputs": [],
   "source": [
    "%run vaex_implementation_v1"
   ]
  },
  {
   "cell_type": "code",
   "execution_count": 7,
   "id": "d710a2f5-fa03-4af2-a143-a4b441c43b48",
   "metadata": {},
   "outputs": [],
   "source": [
    "import ipytest\n",
    "ipytest.autoconfig()"
   ]
  },
  {
   "cell_type": "code",
   "execution_count": 9,
   "id": "8019a01a-2243-4b58-bb0e-db277ed34038",
   "metadata": {},
   "outputs": [
    {
     "name": "stdout",
     "output_type": "stream",
     "text": [
      "Data: Vaex and pointer\n",
      "Step 1: Vaex (from_dataframe_to_vaex) and pointer\n",
      "  #    x     y\n",
      "  0  1.5   9.2\n",
      "  1  2.5  10.5\n",
      "  2  3.5  11.8\n",
      "2042418436992\n",
      "Step 2: Pandas (from_dataframe) and pointer\n",
      "     x     y\n",
      "0  1.5   9.2\n",
      "1  2.5  10.5\n",
      "2  3.5  11.8\n",
      "2042418436992\n",
      "Step 3: Vaex (from_dataframe_to_vaex) and pointer\n",
      "  #    x     y\n",
      "  0  1.5   9.2\n",
      "  1  2.5  10.5\n",
      "  2  3.5  11.8\n",
      "2042418436992\n",
      ".\n",
      "1 passed in 0.01s\n"
     ]
    }
   ],
   "source": [
    "%%run_pytest[clean] -s\n",
    "# Testing roundtrip\n",
    "# data -> Vaex -> Vaex (from_dataframe_to_vaex) -> Pandas (from_dataframe) -> Vaex (from_dataframe_to_vaex)\n",
    "\n",
    "def test_roundtrip():\n",
    "    \n",
    "    # Test data\n",
    "    x = np.array([1.5, 2.5, 3.5])\n",
    "    y = np.array([9.2, 10.5, 11.8])\n",
    "    df = vaex.from_arrays(x=x, y=y)\n",
    "    \n",
    "    print(\"Data: Vaex and pointer\")\n",
    "    b0 = df.x.to_numpy().__array_interface__['data'][0]\n",
    "    \n",
    "    # Step 1\n",
    "    print(\"Step 1: Vaex (from_dataframe_to_vaex) and pointer\")\n",
    "    df1 = from_dataframe_to_vaex(df)\n",
    "    b1 = df1.x.to_numpy().__array_interface__['data'][0]\n",
    "    \n",
    "    print(df1)\n",
    "    print(b1)\n",
    "    \n",
    "    # Step 2\n",
    "    print(\"Step 2: Pandas (from_dataframe) and pointer\")\n",
    "    df2 = from_dataframe(df1)\n",
    "    b2 = df2.x.to_numpy().__array_interface__['data'][0]\n",
    "    \n",
    "    print(df2)\n",
    "    print(b2)\n",
    "    \n",
    "    # Step 3\n",
    "    print(\"Step 3: Vaex (from_dataframe_to_vaex) and pointer\")\n",
    "    df3 = from_dataframe_to_vaex(df2)\n",
    "    b3 = df3.x.to_numpy().__array_interface__['data'][0]\n",
    "    \n",
    "    print(df3)\n",
    "    print(b3)\n",
    "    \n",
    "    assert b0 == b3"
   ]
  },
  {
   "cell_type": "code",
   "execution_count": 11,
   "id": "26ff0e15-a4d8-4828-b715-205d5ce9d5d4",
   "metadata": {},
   "outputs": [
    {
     "name": "stdout",
     "output_type": "stream",
     "text": [
      "\n",
      "Dataframes before value change:\n",
      "\n",
      "  #    x     y\n",
      "  0  1.5   9.2\n",
      "  1  2.5  10.5\n",
      "  2  3.5  11.8\n",
      "  #    x     y\n",
      "  0  1.5   9.2\n",
      "  1  2.5  10.5\n",
      "  2  3.5  11.8\n",
      "\n",
      "After value change\n",
      "\n",
      "  #      x     y\n",
      "  0  333     9.2\n",
      "  1    2.5  10.5\n",
      "  2    3.5  11.8\n",
      "  #    x     y\n",
      "  0  1.5   9.2\n",
      "  1  2.5  10.5\n",
      "  2  3.5  11.8\n",
      "\n",
      "After another value change\n",
      "\n",
      "  #      x     y\n",
      "  0  333     9.2\n",
      "  1    2.5  10.5\n",
      "  2    3.5  11.8\n",
      "  #    x      y\n",
      "  0  1.5    9.2\n",
      "  1  2.5   10.5\n",
      "  2  3.5  777\n",
      ".\n",
      "================================================== warnings summary ===================================================\n",
      "tmp3gafiquy.py: 16 warnings\n",
      "  C:\\Users\\Alenka\\anaconda3\\envs\\df_protocol\\lib\\ast.py:407: DeprecationWarning: visit_Num is deprecated; add visit_Constant\n",
      "    return visitor(node)\n",
      "\n",
      "-- Docs: https://docs.pytest.org/en/stable/warnings.html\n",
      "1 passed, 16 warnings in 0.03s\n"
     ]
    }
   ],
   "source": [
    "%%run_pytest[clean] -s\n",
    "# Cheking value changes\n",
    "# See if it affects the other object also\n",
    "# (if the buffer is the same, data should be changed on both df and df2\n",
    "\n",
    "def test_value_change():\n",
    "    \n",
    "    # Test data\n",
    "    x = np.array([1.5, 2.5, 3.5])\n",
    "    y = np.array([9.2, 10.5, 11.8])\n",
    "    df = vaex.from_arrays(x=x, y=y)\n",
    "    \n",
    "    # Step 1\n",
    "    df1 = from_dataframe_to_vaex(df)\n",
    "    \n",
    "    # Step 2\n",
    "    df2 = from_dataframe(df1)\n",
    "    \n",
    "    # Step 3\n",
    "    df3 = from_dataframe_to_vaex(df2)\n",
    "    \n",
    "    print(\"\\nDataframes before value change:\\n\")\n",
    "    print(df)\n",
    "    print(df3)\n",
    "\n",
    "    print(\"\\nAfter value change\\n\")\n",
    "    df['x'] = df.func.where(df.x == 1.5, 333, df.x)\n",
    "    print(df)\n",
    "    print(df3)\n",
    "\n",
    "    print(\"\\nAfter another value change\\n\")\n",
    "    df3['y'] = df3.func.where(df3.y == 11.8, 777, df3.y)\n",
    "    print(df)\n",
    "    print(df3)"
   ]
  },
  {
   "cell_type": "code",
   "execution_count": null,
   "id": "b048fffb-34fa-4591-8225-686c3d6e0fb4",
   "metadata": {},
   "outputs": [],
   "source": []
  }
 ],
 "metadata": {
  "kernelspec": {
   "display_name": "Python 3",
   "language": "python",
   "name": "python3"
  },
  "language_info": {
   "codemirror_mode": {
    "name": "ipython",
    "version": 3
   },
   "file_extension": ".py",
   "mimetype": "text/x-python",
   "name": "python",
   "nbconvert_exporter": "python",
   "pygments_lexer": "ipython3",
   "version": "3.9.5"
  }
 },
 "nbformat": 4,
 "nbformat_minor": 5
}
